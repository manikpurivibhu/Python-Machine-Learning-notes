{
 "cells": [
  {
   "cell_type": "markdown",
   "metadata": {},
   "source": [
    "# Object Oriented programming with Python\n",
    "\n",
    "## Classes and Instances"
   ]
  },
  {
   "cell_type": "markdown",
   "metadata": {},
   "source": [
    "<p><b>Classes</b> allow us to logically group our data and functions in a way that's easy to reuse and also easy to build upon if need be.</p>\n",
    "<br>Syntax:\n",
    "\n",
    "``` \n",
    "class classname:\n",
    "   pass\n",
    "```"
   ]
  },
  {
   "cell_type": "markdown",
   "metadata": {},
   "source": [
    "<p>Data and functions associated with specific class are called <b>attributes</b> and <b>methods</b> \n",
    "    \n",
    "</p> <br>\n",
    "<ul>-> Class is basically a blueprint for instances.<br>\n",
    "-> Instance variable contains data that is unique to each instance.\n",
    "</ul><br>"
   ]
  },
  {
   "cell_type": "code",
   "execution_count": 2,
   "metadata": {},
   "outputs": [],
   "source": [
    "class Employee:\n",
    "    pass"
   ]
  },
  {
   "cell_type": "code",
   "execution_count": null,
   "metadata": {},
   "outputs": [],
   "source": []
  },
  {
   "cell_type": "markdown",
   "metadata": {},
   "source": [
    "### __init__\n",
    "\n",
    "<p>\n",
    "__init__ method (initiallize) in a class is python's other languages' equivivalent of <b>constructor</b> <\\p>\n",
    "    \n",
    "<p>\n",
    "-every method inside a class receives the instance (wh is created later) as the first arg by default and so does the init method <br> \n",
    "-the other passed arg.s would be the attributes of the class<br>\n",
    "-the std practice/convention is to call it 'self', though it is not necessary.<br>\n",
    "After self, you can specify the other arg.s that you want to accept.\n",
    "    \n",
    "<br>\n",
    "Syntax:\n",
    "\n",
    "``` \n",
    "class classname:\n",
    "            def.__init__(self, arg1, arg2, ...)\n",
    "            self.arg1 = arg1\n",
    "            self.arg2 = arg2\n",
    "            #could be\n",
    "            self.var = arg3\n",
    "            self.temp = 'do some' + arg1 + 'operation w them' *arg2\n",
    "``` "
   ]
  },
  {
   "cell_type": "code",
   "execution_count": 5,
   "metadata": {},
   "outputs": [],
   "source": [
    "class Employee:\n",
    "    \n",
    "    def __init__(self, first, last, pay):\n",
    "        self.first = first \n",
    "        self.lname = last\n",
    "        self.pay  = pay\n",
    "        self.email= first + '.' + last + '@company.com'"
   ]
  },
  {
   "cell_type": "markdown",
   "metadata": {},
   "source": [
    "After creation of class, the instances of class can be created by calling the class while passing values (arg.s) specified in the init method, except the 'self' bc it is called automatically when the instance is created (like a constructor per say)"
   ]
  },
  {
   "cell_type": "code",
   "execution_count": 6,
   "metadata": {},
   "outputs": [],
   "source": [
    "#Creating a Class\n",
    "class Employee:\n",
    "    \n",
    "    def __init__(self, first, last, pay):\n",
    "        self.first = first \n",
    "        self.lname = last\n",
    "        self.pay  = pay\n",
    "        self.email= first + '.' + last + '@company.com'\n",
    "        #above stmt is using arg passed into init and not instance var.s created in init\n",
    "        \n",
    "#Creating instances of class\n",
    "\n",
    "emp1 = Employee('Vibhu', 'Manikpuri', 150000)\n",
    "emp2 = Employee('User', 'Test', 60000)"
   ]
  },
  {
   "cell_type": "code",
   "execution_count": 7,
   "metadata": {},
   "outputs": [
    {
     "name": "stdout",
     "output_type": "stream",
     "text": [
      "Vibhu.Manikpuri@company.com\n",
      "User.Test@company.com\n"
     ]
    }
   ],
   "source": [
    "print(emp1.email)\n",
    "print(emp2.email)"
   ]
  },
  {
   "cell_type": "code",
   "execution_count": null,
   "metadata": {},
   "outputs": [],
   "source": [
    "\n"
   ]
  },
  {
   "cell_type": "markdown",
   "metadata": {},
   "source": [
    "### Attributes and Methods\n",
    "\n",
    "the passed arg.s are the <b>attributes</b> of the class<br>\n",
    "\n",
    "<p>to perform some action in our class, we create <b>methods</b> i.e. some functions within our class<br><br>\n",
    "-as said, <u>every method inside a class receives instance name(self) as the first arg by default automatically</u> and it always to be called self<br><br>\n",
    "-so if you don't pass in self as arg to a method within a class, this would cause Traceback as the method expected an arg(self) but none was passed<br>\n",
    "\n",
    "    \n",
    "Syntax:\n",
    "```\n",
    "    def methodname(self, arg_1_if_reqd, arg_2_if_reqd,..)\n",
    "        return 'some operation' + 'self.arg_1_if_reqd'\n",
    "```\n",
    "    \n",
    "<br><br>\n",
    "Notice that in operation within a method, the arguments are handled/called as 'self.arg' and not 'arg' or 'emp1.arg'     "
   ]
  },
  {
   "cell_type": "code",
   "execution_count": 14,
   "metadata": {},
   "outputs": [],
   "source": [
    "#Creating a Class\n",
    "class Employee:\n",
    "    \n",
    "    def __init__(self, first, last, pay):\n",
    "        self.first = first \n",
    "        self.lname = last\n",
    "        self.pay  = pay\n",
    "        self.email= first + '.' + last + '@company.com'\n",
    "     \n",
    "    def fullname(self):\n",
    "        return '{} {}'.format(self.first, self.lname)\n",
    "    \n",
    "    \n",
    "#Creating instances of class\n",
    "\n",
    "emp1 = Employee('Vibhu', 'Manikpuri', 150000)\n",
    "emp2 = Employee('User', 'Test', 60000)\n",
    "\n"
   ]
  },
  {
   "cell_type": "code",
   "execution_count": 16,
   "metadata": {},
   "outputs": [
    {
     "data": {
      "text/plain": [
       "'Vibhu Manikpuri'"
      ]
     },
     "execution_count": 16,
     "metadata": {},
     "output_type": "execute_result"
    }
   ],
   "source": [
    "emp1.fullname()"
   ]
  },
  {
   "cell_type": "code",
   "execution_count": 17,
   "metadata": {},
   "outputs": [
    {
     "data": {
      "text/plain": [
       "'Vibhu Manikpuri'"
      ]
     },
     "execution_count": 17,
     "metadata": {},
     "output_type": "execute_result"
    }
   ],
   "source": [
    "Employee.fullname(emp1)"
   ]
  },
  {
   "cell_type": "code",
   "execution_count": null,
   "metadata": {},
   "outputs": [],
   "source": []
  },
  {
   "cell_type": "markdown",
   "metadata": {},
   "source": [
    "## Instance Var.s and Class Var.s\n",
    "\n",
    "<p><b>Instance var.s</b> are unique to each instance \n",
    "\n",
    "    self.name = name    \n",
    "bc 'self' is unique for each instance wh makes the above var unique for each instance    <br></p>\n",
    "<br>\n",
    "<p><b>Class var.s</b> are var.s that are shared among all instances of a Class.\n",
    "<br>i.e. these var.s are the same(have the same val) for every instance in the class\n",
    "<br><br> Syntax:    \n",
    "    \n",
    "    \n",
    "``` \n",
    "class classname:\n",
    "        class_var = 1.05                #some val\n",
    "        def __init__(self): pass\n",
    "        def method(self):\n",
    "           return classname.class_var\n",
    "```    \n",
    "  \n",
    "<br>\n",
    "Class var.s are accessed through the class itself or an instance of class , <br>ie.\n",
    "\n",
    "` 'return classname.class_var'` \n",
    "or \n",
    "`'return self.class_var'` \n",
    "<br><br>but never \n",
    "`'return class_var'`\n",
    " "
   ]
  },
  {
   "cell_type": "code",
   "execution_count": 19,
   "metadata": {},
   "outputs": [],
   "source": [
    "class Employee:\n",
    "    \n",
    "    ##Class Variable:\n",
    "    raise_amount = 1.04\n",
    "    \n",
    "    def __init__(self, first, last, pay):\n",
    "        self.first = first \n",
    "        self.lname = last\n",
    "        self.pay  = pay\n",
    "        self.email= first + '.' + last + '@company.com'\n",
    "     \n",
    "    def fullname(self):\n",
    "        return '{} {}'.format(self.first, self.lname)\n",
    " \n",
    "emp1 = Employee('Vibhu', 'Manikpuri', 150000)\n",
    "emp2 = Employee('User', 'Test', 60000)\n"
   ]
  },
  {
   "cell_type": "code",
   "execution_count": 21,
   "metadata": {},
   "outputs": [
    {
     "name": "stdout",
     "output_type": "stream",
     "text": [
      "1.04\n",
      "1.04\n"
     ]
    }
   ],
   "source": [
    "print(Employee.raise_amount)\n",
    "print(emp1.raise_amount)"
   ]
  },
  {
   "cell_type": "code",
   "execution_count": null,
   "metadata": {},
   "outputs": [],
   "source": []
  },
  {
   "cell_type": "markdown",
   "metadata": {},
   "source": [
    "we see that class Employee has an attribute raise_amount but instance emp1 does not (in the following cell)\n",
    "<br><br>\n",
    "so when the class var is called using an instance (self.vlass_var), compiler looks for that attribute first in instance and if not found, then in class. \n",
    "<br><br>\n",
    "But if an operation is performed on a class var via instance, that creates a copy of that var/attr in that instance too. (in the cell below the next one)"
   ]
  },
  {
   "cell_type": "code",
   "execution_count": 32,
   "metadata": {},
   "outputs": [
    {
     "name": "stdout",
     "output_type": "stream",
     "text": [
      "{'__module__': '__main__', 'raise_amount': 1.04, '__init__': <function Employee.__init__ at 0x000001603383AD30>, 'fullname': <function Employee.fullname at 0x0000016033926310>, '__dict__': <attribute '__dict__' of 'Employee' objects>, '__weakref__': <attribute '__weakref__' of 'Employee' objects>, '__doc__': None} \n",
      "\n",
      "{'first': 'Vibhu', 'lname': 'Manikpuri', 'pay': 150000, 'email': 'Vibhu.Manikpuri@company.com', 'raise_amount': 1.05}\n"
     ]
    }
   ],
   "source": [
    "print(Employee.__dict__, '\\n')\n",
    "print(emp1.__dict__)"
   ]
  },
  {
   "cell_type": "code",
   "execution_count": 31,
   "metadata": {},
   "outputs": [
    {
     "name": "stdout",
     "output_type": "stream",
     "text": [
      "1.04\n",
      "1.05\n",
      "{'first': 'Vibhu', 'lname': 'Manikpuri', 'pay': 150000, 'email': 'Vibhu.Manikpuri@company.com', 'raise_amount': 1.05}\n"
     ]
    }
   ],
   "source": [
    "emp1.raise_amount = 1.05\n",
    "\n",
    "print(Employee.raise_amount)\n",
    "print(emp1.raise_amount)\n",
    "\n",
    "print(emp1.__dict__)"
   ]
  },
  {
   "cell_type": "code",
   "execution_count": null,
   "metadata": {},
   "outputs": [],
   "source": []
  },
  {
   "cell_type": "markdown",
   "metadata": {},
   "source": [
    "## classmethods (and regular methods)\n",
    "\n",
    "<p>a regular instance method is intended to operate on an instance of the class, as it takes the instance of class as default first arg, \n",
    "<br>    \n",
    "<br> \n",
    "a <b>classmethod</b>  is intended to operate on the class.</p><br>\n",
    "<ui> ->a classmethod takes _____ as the first arg  <br>  \n",
    "<ui> ->classmethod is best used to for functionality associated with the class<br>\n",
    "<ui> -><b>@classmethod</b> decorator is used to declare a classmethod <br>\n",
    "<ui> ->a classmethod is called using either the class name, or class object    <br>\n",
    "<ui> ->while calling a classmethod, you need not pass the default arg (cls) as it is automatically called, but only the other args (arg1, ..)<br>\n",
    "<br> \n",
    "    \n",
    "Syntax: \n",
    "```\n",
    "    class classname:\n",
    "        @classmethod\n",
    "        def method_name(cls, arg1, ...):\n",
    "            pass\n",
    "```    \n",
    "    \n",
    "just as a regular instance method takes in instance as first arg wh is written as 'self' by convention, a classmethod takes in class as the first arg wh is written as 'cls' by convention"
   ]
  },
  {
   "cell_type": "code",
   "execution_count": 4,
   "metadata": {},
   "outputs": [
    {
     "name": "stdout",
     "output_type": "stream",
     "text": [
      "1.04\n",
      "1.04\n"
     ]
    }
   ],
   "source": [
    "class Employee:\n",
    "    \n",
    "    ##Class Variable:\n",
    "    raise_amount = 1.04\n",
    "    \n",
    "    def __init__(self, first, last, pay):\n",
    "        self.first = first \n",
    "        self.lname = last\n",
    "        self.pay  = pay\n",
    "        self.email= first + '.' + last + '@company.com'\n",
    "     \n",
    "    def fullname(self):\n",
    "        return '{} {}'.format(self.first, self.lname)\n",
    " \n",
    "    @classmethod\n",
    "    def set_raise_amount(cls, amt):\n",
    "        cls.raise_amount = amt\n",
    "\n",
    "emp1 = Employee('Vibhu', 'Manikpuri', 150000)\n",
    "emp2 = Employee('User', 'Test', 60000)\n",
    "\n",
    "print(emp1.raise_amount)\n",
    "print(Employee.raise_amount)\n"
   ]
  },
  {
   "cell_type": "code",
   "execution_count": 12,
   "metadata": {},
   "outputs": [
    {
     "name": "stdout",
     "output_type": "stream",
     "text": [
      "1.06\n",
      "1.05\n"
     ]
    }
   ],
   "source": [
    "Employee.set_raise_amount(1.06)\n",
    "print(Employee.raise_amount)\n",
    "\n",
    "##running a classmethod via instance still operates on the whole class and not just _that_ instance\n",
    "emp1.set_raise_amount(1.05)\n",
    "print(emp1.raise_amount)\n"
   ]
  },
  {
   "cell_type": "markdown",
   "metadata": {},
   "source": [
    "classmethods can be used as alternate constructors\n",
    "```\n",
    "class class_name:\n",
    "    .\n",
    "    .\n",
    "    @classmethod\n",
    "    def fun(cls, arg1, ..):\n",
    "        .\n",
    "        .\n",
    "        return cls(arg, arg, ..)   #equiv to obj class_name(arg, arg, ..)\n",
    "```\n",
    "        \n",
    "i.e. by calling this classmethod, a new class obj is created or, <u>it acts as an alternate constructor</u>"
   ]
  },
  {
   "cell_type": "code",
   "execution_count": 24,
   "metadata": {},
   "outputs": [
    {
     "name": "stdout",
     "output_type": "stream",
     "text": [
      "5\n",
      "69\n"
     ]
    }
   ],
   "source": [
    "class temp:\n",
    "    def __init__(self, arg_var):\n",
    "        self.instance_var = arg_var\n",
    "        \n",
    "    @classmethod\n",
    "    def class_method(cls, temp_var):\n",
    "        return cls(temp_var)            #returns a new class instance w passed variable \n",
    "    \n",
    "class_obj = temp(5)\n",
    "print(class_obj.instance_var)\n",
    "\n",
    "obj2 = temp.class_method(69)\n",
    "print(obj2.instance_var)"
   ]
  },
  {
   "cell_type": "code",
   "execution_count": null,
   "metadata": {},
   "outputs": [],
   "source": []
  },
  {
   "cell_type": "markdown",
   "metadata": {},
   "source": [
    "## staticmethods\n",
    "\n",
    "\n",
    "<p><b>staticmethod</b> is just a regular fun that has some logical connectivity to the class<br><br>\n",
    "<ui>->regular methods automatically pass instance as the first arg and we call it 'self', classmethods automatically pass class as the first arg and we call it 'cls', <u>static methods don't  pass anything automatically</u>.\n",
    "<br><br>\n",
    "<ui>->A good way to decide whether a method should be staticmethod is check if the method uses the class obj or instance anywhere within it's body<br><br>\n",
    "Syntax:<br>\n",
    "    \n",
    "```\n",
    "class class_name:\n",
    "    .\n",
    "    .\n",
    "    @staticmethod\n",
    "    def fun_name(arg):                #notice we're directly passing arg not self or cls\n",
    "        .\n",
    "        .\n",
    "        "
   ]
  },
  {
   "cell_type": "code",
   "execution_count": 25,
   "metadata": {},
   "outputs": [
    {
     "name": "stdout",
     "output_type": "stream",
     "text": [
      "A simple fun that just has some logical connectivity to the class\n"
     ]
    }
   ],
   "source": [
    "class tem:\n",
    "    def __init__(self):\n",
    "        pass\n",
    "    @staticmethod\n",
    "    def fun(simple_var):\n",
    "        print(simple_var)\n",
    "\n",
    "obj = tem()\n",
    "obj.fun('A simple fun that just has some logical connectivity to the class')"
   ]
  },
  {
   "cell_type": "code",
   "execution_count": null,
   "metadata": {},
   "outputs": [],
   "source": []
  },
  {
   "cell_type": "markdown",
   "metadata": {},
   "source": [
    "# Inheritance\n",
    "\n",
    "\n",
    "<b>Inheritance</b> allows us to <i>inherit</i> attributes and methods from a parent class.<br><br>\n",
    "We can create sub-classes and add all functionalities from parent class and overwrite and remove functionalities w/o affecting the parent class<br><br>\n",
    "Syntax:\n",
    "``` \n",
    "    class parent_class:\n",
    "        pass\n",
    "        \n",
    "    class child_class(parent_class):\n",
    "        pass\n",
    "```\n",
    "\n",
    "<ui>->Upon calling the child class, the interpreter looks for the attributes/methods in the child class. If not found, it follows the chain of inheritance until it finds the attribute/method.<br><br>\n",
    "<ui>->This chain is called the <b>Method Reesoultion Order</b><br><br>\n",
    "<ui>->the <b>Method Resolution Order</b> (MRO) is the order in which Python looks for a method in a hierarchy of classes.<br><br>\n",
    "<ui>-> `help(child_class)`returns info about the child class including the Method Resolution Order, methods and attributes inheerited from parent class and more <br><br>\n",
    "\n",
    "    "
   ]
  },
  {
   "cell_type": "markdown",
   "metadata": {},
   "source": [
    "To inherit attr/methods from a parent class and add new/more attr/methods for the child class, set <i>init</i> as<br><br>\n",
    "\n",
    "```\n",
    "def __init__(self, args from parent class, arg_n1, arg_n2, ..):\n",
    "    super().__init__(args from parent class)          \n",
    "    # OR       \n",
    "    #parent_slass.__init__(self, args from parent class)\n",
    "    \n",
    "    self.arg_n1 = arg_n1\n",
    "    self.arg_n2 = arg_n2\n",
    "```\n",
    "<br>\n",
    "<ui>->The <b>super()</b> function is used to give access to methods and properties of a parent or sibling class.<br>\n",
    "    \n",
    "<ui>->The super() function returns an object that represents the parent class.\n",
    "\n",
    "    \n",
    "<p>Handy Python functions for Inheritance:\n",
    "    \n",
    "- ` isinstance(INStance, CLass)` returns True/False if said INStance is/not an instance of said CLass\n",
    "    \n",
    "- ` issubclass(SUB_class, PARENT_class)` returns True/False if said subclass is/not an child of said parent class."
   ]
  },
  {
   "cell_type": "code",
   "execution_count": 44,
   "metadata": {},
   "outputs": [],
   "source": [
    "##we will inherit class 'Employee' into 'Developer' and 'Manager'\n",
    "\n",
    "class Employee:\n",
    "    \n",
    "    ##Class Variable:\n",
    "    raise_amount = 1.04\n",
    "    \n",
    "    def __init__(self, first, last, pay):\n",
    "        self.first = first \n",
    "        self.lname = last\n",
    "        self.pay  = pay\n",
    "        self.email= first + '.' + last + '@company.com'\n",
    "     \n",
    "    def fullname(self):\n",
    "        return '{} {}'.format(self.first, self.lname)\n",
    " \n",
    "    @classmethod\n",
    "    def set_raise_amount(cls, amt):\n",
    "        cls.raise_amount = amt\n",
    "\n",
    "        \n",
    "class Developer(Employee):\n",
    "    raise_amount = 1.04\n",
    "    \n",
    "    def __init__(self, first, last, pay, prog_lang):\n",
    "        super().__init__(first, last, pay)\n",
    "        self.prog_lang = prog_lang\n",
    "        \n",
    "class Manager(Employee):\n",
    "    \n",
    "    def __init__(self, first, last, pay, employees = None):\n",
    "        super().__init__(first, last, pay)\n",
    "        if employees is None:\n",
    "            self.employees = []\n",
    "        else:\n",
    "            self.employees = employees\n",
    "    \n",
    "    def add_employee(self, employee):\n",
    "        if employee not in self.employees:\n",
    "            self.employees.append(employee)\n",
    "     \n",
    "    def remove_employee(self, employee):\n",
    "        if employee in self.employees:\n",
    "            self.employees.remove(employee)\n",
    "    \n",
    "    def print_emp(self):\n",
    "        for employee in self.employees:\n",
    "            print(employee.fullname())\n",
    "    \n",
    "\n",
    "dev1 = Developer('Vibhu', 'Manikpuri', 150000, 'Python')\n",
    "dev2 = Developer('Hritesh', 'Pramanik', 150000, 'Java')\n",
    "\n",
    "mngr1 = Manager('Boss', 'Man', 200000, [dev1, dev2])\n",
    "mngr2 = Manager('Man', 'Boss', 200000, [dev1])"
   ]
  },
  {
   "cell_type": "code",
   "execution_count": 47,
   "metadata": {},
   "outputs": [
    {
     "name": "stdout",
     "output_type": "stream",
     "text": [
      "Vibhu Manikpuri\n",
      "Hritesh Pramanik\n",
      "None\n",
      "Vibhu Manikpuri\n",
      "Hritesh Pramanik\n",
      "None\n"
     ]
    }
   ],
   "source": [
    "print(mngr2.print_emp())\n",
    "mngr2.add_employee(dev2)\n",
    "print(mngr2.print_emp())"
   ]
  },
  {
   "cell_type": "code",
   "execution_count": 49,
   "metadata": {},
   "outputs": [
    {
     "name": "stdout",
     "output_type": "stream",
     "text": [
      "True\n",
      "False\n",
      "True\n",
      "False\n"
     ]
    }
   ],
   "source": [
    "print(isinstance(dev1, Developer))\n",
    "print(isinstance(dev1, Manager))\n",
    "print(issubclass(Developer, Employee))\n",
    "print(isinstance(Developer, Manager))"
   ]
  },
  {
   "cell_type": "code",
   "execution_count": null,
   "metadata": {},
   "outputs": [],
   "source": []
  },
  {
   "cell_type": "markdown",
   "metadata": {},
   "source": [
    "## Special Methods (Magic Methods)\n",
    "\n",
    "<b>Magic methods</b> in Python are the special methods that start and end with the double underscores.<br><br> \n",
    "<ui>->They are also called <b>dunder</b> methods. ( ` __ __ ` ) is called dunder <br><br>\n",
    "    <ui>->these spcl methods allow us to emulater some <u>built in</u> behaviour within python<br><br>\n",
    "<ui>-> it's also how we implement operator overloading<br><br>\n",
    "\n",
    "ex:         ` __init__ `\n",
    "    \n",
    "<br>    \n",
    "we will be seeing 2 special methods namely: ` __repr__ ` and ` __str__`\n",
    "    \n",
    "<br><br>\n",
    "\n",
    "- `__repr__` : To get (implicitly) called by built-in repr() method to return a machine readable representation of a type. (return an unambiguous representation of an obj)<br>\n",
    "<ui>it should be used for debugging, logging and such heavy programming shit i.e. it's meant to be seen by other programmers <br>\n",
    "<ui>calling `__repr__` w/o `__str__` will use `__repr__` as a fallback. So it is minimal to have __repr__  <br>    \n",
    "    <ui><u>Rule of thumb for this</u> try to display something that you can copy and paste in the .py code that would recreate the obj<br>\n",
    "<ui> ex:\n",
    "    \n",
    "```\n",
    "    def __repr__(self):\n",
    "        return 'Class_name('{}', '{}', ...).format(self.arg1, self.arg2, ...)'\n",
    "#returns a str that would recreate the same obj on copy pasting in the script    \n",
    "```\n",
    "    \n",
    "<br>    \n",
    "    \n",
    "- `__str__` : To get (implicitly) called by built-in str() method to return a string representation of a type (return a more readable form of representation of obj).<br>\n",
    "<ui>to be used as a display to the end user<br>\n",
    "<ui> ex:\n",
    "    \n",
    "``` \n",
    "    def __str__(self):\n",
    "        return '{} - {}'.format(self.var, self.some_method())'\n",
    "```    \n",
    "     \n",
    "    \n",
    "    \n",
    "    \n",
    "    \n",
    "    \n",
    "    \n",
    "    "
   ]
  },
  {
   "cell_type": "code",
   "execution_count": 11,
   "metadata": {},
   "outputs": [],
   "source": [
    "##we will inherit class 'Employee' into 'Developer' and 'Manager'\n",
    "\n",
    "class Employee:\n",
    "    \n",
    "    ##Class Variable:\n",
    "    raise_amount = 1.04\n",
    "    \n",
    "    def __init__(self, first, last, pay):\n",
    "        self.first = first \n",
    "        self.lname = last\n",
    "        self.pay  = pay\n",
    "        self.email= first + '.' + last + '@company.com'\n",
    "     \n",
    "    def fullname(self):\n",
    "        return '{} {}'.format(self.first, self.lname)\n",
    "\n",
    "    def __repr__(self):\n",
    "        return \"Employee('{}', '{}', '{}').format(self.first, self.lname, self.pay)\"\n",
    "    \n",
    "    def __str__(self):\n",
    "        return '{} - {}'.format(self.fullname(), self.email) \n",
    "\n",
    "    \n",
    "    \n",
    "    @classmethod\n",
    "    def set_raise_amount(cls, amt):\n",
    "        cls.raise_amount = amt\n",
    "\n",
    "        \n",
    "class Developer(Employee):\n",
    "    raise_amount = 1.04\n",
    "    \n",
    "    def __init__(self, first, last, pay, prog_lang):\n",
    "        super().__init__(first, last, pay)\n",
    "        self.prog_lang = prog_lang\n",
    "        \n",
    "class Manager(Employee):\n",
    "    \n",
    "    def __init__(self, first, last, pay, employees = None):\n",
    "        super().__init__(first, last, pay)\n",
    "        if employees is None:\n",
    "            self.employees = []\n",
    "        else:\n",
    "            self.employees = employees\n",
    "    \n",
    "    def add_employee(self, employee):\n",
    "        if employee not in self.employees:\n",
    "            self.employees.append(employee)\n",
    "     \n",
    "    def remove_employee(self, employee):\n",
    "        if employee in self.employees:\n",
    "            self.employees.remove(employee)\n",
    "    \n",
    "    def print_emp(self):\n",
    "        for employee in self.employees:\n",
    "            print(employee.fullname())\n",
    "    \n",
    "emp1 = Employee('Sach keh raha hai', 'Deewana', 200)\n",
    "    \n",
    "dev1 = Developer('Vibhu', 'Manikpuri', 150000, 'Python')\n",
    "dev2 = Developer('Hritesh', 'Pramanik', 150000, 'Java')\n",
    "\n",
    "mngr1 = Manager('Boss', 'Man', 200000, [dev1, dev2])\n",
    "mngr2 = Manager('Man', 'Boss', 200000, [dev1])"
   ]
  },
  {
   "cell_type": "code",
   "execution_count": 20,
   "metadata": {},
   "outputs": [
    {
     "name": "stdout",
     "output_type": "stream",
     "text": [
      "Sach keh raha hai Deewana - Sach keh raha hai.Deewana@company.com\n",
      "Employee('{}', '{}', '{}').format(self.first, self.lname, self.pay)\n",
      "\n",
      "\n",
      "\n",
      "Vibhu Manikpuri - Vibhu.Manikpuri@company.com\n",
      "Employee('{}', '{}', '{}').format(self.first, self.lname, self.pay)\n"
     ]
    }
   ],
   "source": [
    "print(emp1.__str__())\n",
    "print(emp1.__repr__())\n",
    "print('\\n\\n')\n",
    "print(dev1.__str__())\n",
    "print(mngr1.__repr__())"
   ]
  },
  {
   "cell_type": "code",
   "execution_count": null,
   "metadata": {},
   "outputs": [],
   "source": []
  },
  {
   "cell_type": "markdown",
   "metadata": {},
   "source": [
    "## Property Decorators - Getters, Setters and Deleters\n",
    "\n",
    "A <b>decorator</b> feature in Python wraps in a function, appends several functionalities to existing code and then returns it. <br><br>\n",
    "Methods and functions are known to be callable as they can be called. <br><br>\n",
    "Therefore, a decorator is also a callable that returns callable. <br><br>\n",
    "This is also known as metaprogramming as at compile time a section of program alters another section of the program.\n",
    "\n",
    "<b> @property decorator </b>is a built-in decorator in Python which is helpful in defining the properties effortlessly without manually calling the inbuilt function property(). \n",
    "<br>Decorators allow us to <u>modify the behaviour of class</u>\n",
    "<br><b>setter</b> allows the decorated func to set new val.s for the var.s\n",
    "<br><b>deleter</b> deletes the func. It can be considered cleaning up the code<br><br>\n",
    "\n",
    "Syntax:\n",
    "```\n",
    "    class class_name:\n",
    "        def __init__(self, ..):\n",
    "            pass\n",
    "         \n",
    "        #property decorator:\n",
    "        @property\n",
    "        \n",
    "        #getter method:\n",
    "        def some_func(self):           #notice the fun name 'some_func' is same in property getter, setter and deleter\n",
    "            pass\n",
    "           \n",
    "        #setter method:\n",
    "        @some_func.setter(self, var):\n",
    "            self.class_var = var       #i.e. set val.s for var\n",
    "            \n",
    "        #delter method:\n",
    "        @some_func.deleter\n",
    "        def some_func(self)           #that's it    \n",
    "```\n",
    "\n",
    "\n",
    "<br>a function who is decorated can be called as the attr of the class it belongs to"
   ]
  },
  {
   "cell_type": "code",
   "execution_count": 30,
   "metadata": {},
   "outputs": [
    {
     "name": "stdout",
     "output_type": "stream",
     "text": [
      "Vibhu\n",
      "Vibhu.Manikpuri@email.com\n",
      "Vibhu.Manikpuri\n"
     ]
    }
   ],
   "source": [
    "class Employee:\n",
    "    def __init__(self, first, last):\n",
    "        self.first =first\n",
    "        self.last = last\n",
    "        \n",
    "    @property    \n",
    "    def email(self):\n",
    "        return '{}.{}@email.com'.format(self.first, self.last)\n",
    "    \n",
    "    @property\n",
    "    def fullname(self):\n",
    "        return '{}.{}'.format(self.first, self.last)\n",
    "    \n",
    "    @fullname.setter\n",
    "    def fullname(self, name):\n",
    "        first, last = name.split(' ')\n",
    "        self.first = first\n",
    "        self.last  = last\n",
    "        \n",
    "    @fullname.deleter\n",
    "    def fullname(self):\n",
    "        print('Deleted!')\n",
    "        self.first = None\n",
    "        self.last  = None\n",
    "        \n",
    "        \n",
    "emp1 = Employee('Vibhu', 'Manikpuri')\n",
    "print(emp1.first)\n",
    "print(emp1.email)\n",
    "print(emp1.fullname)\n",
    "\n",
    "emp1.fullname = 'Hritesh Pramanik'"
   ]
  },
  {
   "cell_type": "code",
   "execution_count": 32,
   "metadata": {},
   "outputs": [
    {
     "name": "stdout",
     "output_type": "stream",
     "text": [
      "None\n",
      "None.None@email.com\n",
      "None.None\n",
      "Deleted!\n",
      "None\n",
      "None.None@email.com\n",
      "None.None\n"
     ]
    }
   ],
   "source": [
    "print(emp1.first)\n",
    "print(emp1.email)\n",
    "print(emp1.fullname)"
   ]
  },
  {
   "cell_type": "code",
   "execution_count": 33,
   "metadata": {},
   "outputs": [
    {
     "name": "stdout",
     "output_type": "stream",
     "text": [
      "Deleted!\n",
      "None\n",
      "None.None@email.com\n",
      "None.None\n"
     ]
    }
   ],
   "source": [
    "del emp1.fullname\n",
    "print(emp1.first)\n",
    "print(emp1.email)\n",
    "print(emp1.fullname)\n"
   ]
  },
  {
   "cell_type": "code",
   "execution_count": null,
   "metadata": {},
   "outputs": [],
   "source": []
  },
  {
   "cell_type": "markdown",
   "metadata": {},
   "source": [
    "## Encapsulation \n",
    "\n",
    "Encapsulation describes the idea of wrapping data and the methods that work on data within one unit. <br><br>\n",
    "This puts restrictions on accessing variables and methods directly and can prevent the accidental modification of data.<br><br>\n",
    "<b>Private</b> members are those members which can be accessed and modified only through the object they belong to. <br>\n",
    "In python, functions and variables are declared as Private member by <b>double underscore '__'</b>.<br><br>\n",
    "Syntax:\n",
    "``` \n",
    "class class_name:\n",
    "        self.__var = 0\n",
    "```            \n",
    "            \n",
    "<b>Protected</b> members (in C++ and JAVA) are those members of the class that cannot be accessed outside the class but can be accessed from within the class and its subclasses. <br>To accomplish this in Python, just follow the convention by prefixing the name of the member by a <b>single underscore “_”</b>.<br><br>\n",
    "Syntax:\n",
    "``` \n",
    "class class_name:\n",
    "        self._var = 0\n",
    "```            \n",
    "A <u>class is an example of encapsulation</u> as it encapsulates all the data that is member functions, variables, etc.\n",
    " "
   ]
  },
  {
   "cell_type": "code",
   "execution_count": 65,
   "metadata": {},
   "outputs": [],
   "source": [
    "class base_class:\n",
    "    def __init__(self):\n",
    "        self.var0   = 0                               #Public Member     'var0'\n",
    "        self._var1  = 1                               # Protected Member '_var1'\n",
    "        self.__var2 = 2                               # Private Member   '__var2'\n",
    "        \n",
    "    def fun(self):   \n",
    "        print(self.var0)\n",
    "        print(self._var1)\n",
    "        print(self.__var2)\n",
    "     \n",
    "\n",
    "class child_class(base_class):\n",
    "    def __init__(self):\n",
    "        base_class.__init__(self)\n",
    "        print(self.__var2)\n",
    "        print(self._var1)\n",
    "        print(self.var0)\n",
    "        \n"
   ]
  },
  {
   "cell_type": "code",
   "execution_count": 63,
   "metadata": {},
   "outputs": [
    {
     "name": "stdout",
     "output_type": "stream",
     "text": [
      "0\n",
      "1\n",
      "2\n"
     ]
    }
   ],
   "source": [
    "obj1 = base_class()\n",
    "obj1.fun()"
   ]
  },
  {
   "cell_type": "code",
   "execution_count": 64,
   "metadata": {
    "collapsed": true
   },
   "outputs": [
    {
     "ename": "AttributeError",
     "evalue": "'child_class' object has no attribute '_child_class__var2'",
     "output_type": "error",
     "traceback": [
      "\u001b[1;31m---------------------------------------------------------------------------\u001b[0m",
      "\u001b[1;31mAttributeError\u001b[0m                            Traceback (most recent call last)",
      "\u001b[1;32m<ipython-input-64-2c31e0483238>\u001b[0m in \u001b[0;36m<module>\u001b[1;34m\u001b[0m\n\u001b[1;32m----> 1\u001b[1;33m \u001b[0mobj2\u001b[0m \u001b[1;33m=\u001b[0m \u001b[0mchild_class\u001b[0m\u001b[1;33m(\u001b[0m\u001b[1;33m)\u001b[0m\u001b[1;33m\u001b[0m\u001b[1;33m\u001b[0m\u001b[0m\n\u001b[0m\u001b[0;32m      2\u001b[0m \u001b[1;33m\u001b[0m\u001b[0m\n\u001b[0;32m      3\u001b[0m \u001b[1;31m#Traceback suggests that the child classwas unable to inherit private member from the ase class\u001b[0m\u001b[1;33m\u001b[0m\u001b[1;33m\u001b[0m\u001b[1;33m\u001b[0m\u001b[0m\n",
      "\u001b[1;32m<ipython-input-62-4ff40ebcf17a>\u001b[0m in \u001b[0;36m__init__\u001b[1;34m(self)\u001b[0m\n\u001b[0;32m     14\u001b[0m     \u001b[1;32mdef\u001b[0m \u001b[0m__init__\u001b[0m\u001b[1;33m(\u001b[0m\u001b[0mself\u001b[0m\u001b[1;33m)\u001b[0m\u001b[1;33m:\u001b[0m\u001b[1;33m\u001b[0m\u001b[1;33m\u001b[0m\u001b[0m\n\u001b[0;32m     15\u001b[0m         \u001b[0mbase_class\u001b[0m\u001b[1;33m.\u001b[0m\u001b[0m__init__\u001b[0m\u001b[1;33m(\u001b[0m\u001b[0mself\u001b[0m\u001b[1;33m)\u001b[0m\u001b[1;33m\u001b[0m\u001b[1;33m\u001b[0m\u001b[0m\n\u001b[1;32m---> 16\u001b[1;33m         \u001b[0mprint\u001b[0m\u001b[1;33m(\u001b[0m\u001b[0mself\u001b[0m\u001b[1;33m.\u001b[0m\u001b[0m__var2\u001b[0m\u001b[1;33m)\u001b[0m\u001b[1;33m\u001b[0m\u001b[1;33m\u001b[0m\u001b[0m\n\u001b[0m\u001b[0;32m     17\u001b[0m         \u001b[0mprint\u001b[0m\u001b[1;33m(\u001b[0m\u001b[0mself\u001b[0m\u001b[1;33m.\u001b[0m\u001b[0m_var1\u001b[0m\u001b[1;33m)\u001b[0m\u001b[1;33m\u001b[0m\u001b[1;33m\u001b[0m\u001b[0m\n\u001b[0;32m     18\u001b[0m         \u001b[0mprint\u001b[0m\u001b[1;33m(\u001b[0m\u001b[0mself\u001b[0m\u001b[1;33m.\u001b[0m\u001b[0mvar0\u001b[0m\u001b[1;33m)\u001b[0m\u001b[1;33m\u001b[0m\u001b[1;33m\u001b[0m\u001b[0m\n",
      "\u001b[1;31mAttributeError\u001b[0m: 'child_class' object has no attribute '_child_class__var2'"
     ]
    }
   ],
   "source": [
    "obj2 = child_class()\n",
    "\n",
    "#Traceback suggests that the child classwas unable to inherit private member from the ase class"
   ]
  },
  {
   "cell_type": "code",
   "execution_count": null,
   "metadata": {},
   "outputs": [],
   "source": []
  },
  {
   "cell_type": "markdown",
   "metadata": {},
   "source": [
    "## Polymorphism\n",
    "\n",
    "The word polymorphism means having many forms. <br>\n",
    "In programming, <b>polymorphism</b> means same function name (but different signatures) being used for different types.\n",
    "<br><br>\n",
    "\n",
    "### Polymorphism with Inheritance:\n",
    "\n",
    "\n",
    "In Python, Polymorphism lets us define <u>methods in the child class that have the same name as the methods in the parent class.</u> (Overloading / Overriding)<br><br>\n",
    "\n",
    "<ui>In Inheritance, the child class inherits the methods from the parent class. <br>\n",
    "<ui>However, it is possible to modify a method in a child class that it has inherited from the parent class.<br> \n",
    "This is particularly useful in cases where the method inherited from the parent class doesn’t quite fit the child class.<br><br>\n",
    "    <ui>For this, we <u>re-implement the method in the child class</u>. This process of re-implementing a method in the child class is known as <b>Method Overriding</b>. <br><br>\n",
    "        \n",
    "Syntax:\n",
    "```\n",
    "        class base:\n",
    "            def fun(self):\n",
    "                print(\"o/p of base class fun\")\n",
    "        class child(base):\n",
    "            def fun(self):\n",
    "                print(\"o/p of child class fun\")\n",
    "```        \n",
    "        \n",
    "\n",
    "### Polymorphism with a Function and objects:        \n",
    " \n",
    "It is also possible to create a function that can take any object, allowing for polymorphism.    "
   ]
  },
  {
   "cell_type": "code",
   "execution_count": 67,
   "metadata": {},
   "outputs": [
    {
     "name": "stdout",
     "output_type": "stream",
     "text": [
      "Birds can fly. proof: your car!\n",
      "Sparrows can be a dick. They may/not fly\n"
     ]
    }
   ],
   "source": [
    "##Polymorphism with Inheritance:\n",
    "\n",
    "class Bird:\n",
    "    def fly(self):\n",
    "        print(\"Birds can fly. proof: your car!\")\n",
    "\n",
    "class sparrow(Bird):\n",
    "    def fly(self):\n",
    "        print(\"Sparrows can be a dick. They may/not fly\")\n",
    "        \n",
    "        \n",
    "obj1 = Bird()\n",
    "obj2 = sparrow()\n",
    "\n",
    "obj1.fly()\n",
    "obj2.fly()"
   ]
  },
  {
   "cell_type": "code",
   "execution_count": null,
   "metadata": {},
   "outputs": [],
   "source": []
  },
  {
   "cell_type": "markdown",
   "metadata": {},
   "source": [
    "## Method Overloading\n",
    "\n",
    "Overloading is the ability of a function or an operator to <b>behave in different ways</b> based on the parameters that are passed to the function, or the operands that the operator acts on.<br><br>\n",
    "\n",
    "Method Overloading is an example of Compile time polymorphism.<br><br> \n",
    "In this, <u>more than one method of the same class shares the same method name having different signatures</u>.<br><br>\n",
    "Method overloading is used to add more to the behavior of methods and there is no need of more than one class for method overloading.\n",
    "<br><br><b>Note</b>: <u>Python does not support method overloading</u>. We may overload the methods but can only use the latest defined method."
   ]
  },
  {
   "cell_type": "code",
   "execution_count": 76,
   "metadata": {},
   "outputs": [
    {
     "name": "stdout",
     "output_type": "stream",
     "text": [
      "Hello\n",
      "Hello Vibhu\n"
     ]
    }
   ],
   "source": [
    "class A:\n",
    "    def func(self, name=None):\n",
    "        if name is not None:\n",
    "            print(\"Hello \" + name)\n",
    "        else:\n",
    "            print(\"Hello\")\n",
    "\n",
    "obj = A()\n",
    "\n",
    "obj.func()\n",
    "obj.func(\"Vibhu\")        #Overloading"
   ]
  },
  {
   "cell_type": "code",
   "execution_count": null,
   "metadata": {},
   "outputs": [],
   "source": []
  },
  {
   "cell_type": "markdown",
   "metadata": {},
   "source": [
    "## Method Overriding\n",
    "\n",
    "Method overriding allows us to <b>change the implementation of a function</b> in the child class that is defined in the parent class. <br><br>\n",
    "<ui>It is the ability of a child class to change the implementation of any method which is already provided by one of its parent class(ancestors).\n",
    "\n",
    "<ui>Following conditions must be met for overriding a function:\n",
    "\n",
    "- <u>Inheritance</u> should be there. Function overriding cannot be done within a class. We need to derive a child class from a parent class.<br><br>\n",
    "    \n",
    "- The function that is redefined in the child class should have the same signature as in the parent class i.e. same number of parameters.\n",
    "    "
   ]
  },
  {
   "cell_type": "code",
   "execution_count": 77,
   "metadata": {},
   "outputs": [
    {
     "name": "stdout",
     "output_type": "stream",
     "text": [
      "Birds can fly. proof: your car!\n",
      "Sparrows can be a dick. They may/not fly\n"
     ]
    }
   ],
   "source": [
    "##Polymorphism with Inheritance:\n",
    "\n",
    "class Bird:\n",
    "    def fly(self):\n",
    "        print(\"Birds can fly. proof: your car!\")\n",
    "\n",
    "class sparrow(Bird):\n",
    "    def fly(self):\n",
    "        print(\"Sparrows can be a dick. They may/not fly\")\n",
    "        \n",
    "        \n",
    "obj1 = Bird()\n",
    "obj2 = sparrow()\n",
    "\n",
    "obj1.fly()\n",
    "obj2.fly()"
   ]
  },
  {
   "cell_type": "code",
   "execution_count": null,
   "metadata": {},
   "outputs": [],
   "source": []
  },
  {
   "cell_type": "code",
   "execution_count": null,
   "metadata": {},
   "outputs": [],
   "source": []
  },
  {
   "cell_type": "code",
   "execution_count": null,
   "metadata": {},
   "outputs": [],
   "source": []
  },
  {
   "cell_type": "code",
   "execution_count": null,
   "metadata": {},
   "outputs": [],
   "source": []
  }
 ],
 "metadata": {
  "kernelspec": {
   "display_name": "Python 3",
   "language": "python",
   "name": "python3"
  },
  "language_info": {
   "codemirror_mode": {
    "name": "ipython",
    "version": 3
   },
   "file_extension": ".py",
   "mimetype": "text/x-python",
   "name": "python",
   "nbconvert_exporter": "python",
   "pygments_lexer": "ipython3",
   "version": "3.8.2"
  }
 },
 "nbformat": 4,
 "nbformat_minor": 4
}
