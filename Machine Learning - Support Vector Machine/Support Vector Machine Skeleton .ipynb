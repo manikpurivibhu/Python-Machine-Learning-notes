{
 "cells": [
  {
   "cell_type": "markdown",
   "id": "67d33842",
   "metadata": {},
   "source": [
    "# Support Vector Machine (SVM)\n",
    "\n",
    "**SVM** is a **Supervised Machine Learning algorithm** that classifies cases by finding a hyperplane <br>\n",
    "\n",
    "A **Support Vector Machine** is a **discriminative classifier** formally defined by a separating hyperplane"
   ]
  },
  {
   "attachments": {},
   "cell_type": "markdown",
   "id": "1ee65132",
   "metadata": {},
   "source": [
    "## 1. Theory\n",
    "\n",
    "At first approximation, what SVMs do is to find a separating line (or Hyperplane) between data of two classes. <br>\n",
    "SVM is an algorithm that takes the data as an input and outputs a line that separates those classes if possible.\n",
    "\n",
    "![2classes.png](images/2classes.png)"
   ]
  },
  {
   "attachments": {
    "2classesseparated.png": {
     "image/png": "[encoded data removed]"
    }
   },
   "cell_type": "markdown",
   "id": "e584ac9e",
   "metadata": {},
   "source": [
    "![2classesseparated.png](attachment:2classesseparated.png)"
   ]
  },
  {
   "attachments": {},
   "cell_type": "markdown",
   "id": "013654ef",
   "metadata": {},
   "source": [
    "### 1.1 How to find the best fitting line using SVM\n",
    "\n",
    "According to the SVM algorithm, we\n",
    "- find the points closest to the line from both the classes. These points are called **Support Vectors**<br>\n",
    "- compute the distance between the line and the support vectors. This distance is called the **Margin**<br>\n",
    "- **maximize the margin**. The hyperplane for which the margin is maximum is the **Optimal Hyperplane**\n",
    "\n",
    "![svm.png](images/svm.png)\n",
    "\n",
    "Thus, SVM tries to make a Decision Boundary in such a way that the separation between the two classes (margin) is as wide as possible."
   ]
  },
  {
   "attachments": {},
   "cell_type": "markdown",
   "id": "8b508925",
   "metadata": {},
   "source": [
    "### 1.2 Dealing with non-linear Decision Boundary\n",
    "\n",
    "Suppose our data is not linearly separable, it can not be separated into 2 classes using a straight line as shown below\n",
    "\n",
    "![nonlineardata.png](images/nonlineardata.png)"
   ]
  },
  {
   "attachments": {},
   "cell_type": "markdown",
   "id": "1d9a05f5",
   "metadata": {},
   "source": [
    "This data can be converted to linearly separable data in higher dimension.\n",
    "\n",
    "![nonlineardatainhigherdimenion.png](images/nonlineardatainhigherdimenion.png)\n",
    "\n",
    "If we can find a mapping from the 2D space into the 3D space where our observations are linearly separable, we can\n",
    "- Transform our data from 2D into 3D\n",
    "- Find a linear decision boundary by fitting a linear classifier (a plane separating the data) in the 3D space\n",
    "- Map the linear decision boundary back into 2D space. The result will be a non-linear decision boundary in 2D\n",
    "\n",
    "So we’ve essentially found a non-linear decision boundary while only doing the work of finding a linear classifier.<br>\n",
    "This requires us to visit higher dimensions (here, 3D plane). This is where Kernels kick in.<br><br>\n",
    "\n",
    "A **Kernel** refers to a method that allows us to apply Linear classifiers to Non-linear problems by mapping non-linear data into higher-dimension space without the need to visit or understand higher-dimension plane. <br>\n",
    "It is nothing but a mathematical function of lower-dimensin vectors that represents the dot product of these vectors when mapped to higher dimentions. <br>\n",
    "To summarize, Kernel methods use Kernel functions to map data(vectors) into  higher dimensions.<br>\n",
    "\n",
    "Some popular Kernels are \n",
    "- Linear Kernel (no-Kernel)\n",
    "- Polynomial Kernel\n",
    "- Sigmoid Kernel\n",
    "- Radial Basis Kernel (RBF)\n",
    "- Anova RBF Kernel\n",
    "\n",
    "#### NOTE: Most Kernel methods can be directly used using popular libraries, such as scikit-learn"
   ]
  },
  {
   "cell_type": "markdown",
   "id": "a81c08a0",
   "metadata": {},
   "source": [
    "### 1.3 Hyperplane\n",
    "\n",
    "A hyperplane in an n-dimensional Euclidean space is a flat n-1 dimensional subset of that space that divides the space into two disconnected parts.<br>\n",
    "For instance, in the above 2-Dimensional space, the Hyperplane is a 3-Dimensional plane that divides the 2-D space into 2 disconnected parts.<br><br>\n",
    "\n",
    "It is the Hyperplane that divides our data points i.e. classifies them. So, our **goal is to find the optimal and accurate Hyperplane in higher dimension and map it to lower (original dimension)**"
   ]
  },
  {
   "attachments": {},
   "cell_type": "markdown",
   "id": "2c91a73f",
   "metadata": {},
   "source": [
    "### 1.4 Tuning Parameters\n",
    "\n",
    "#### 1. C\n",
    "\n",
    "The effect of C can be considered as reciprocal of regularization parameter, λ. \n",
    "A single outlier, can make the model choose the decision boundary with smaller margin if the value of C is large. A small value of C ensures that the outliers are overlooked and best approximation of large margin boundary is determined.\n",
    "\n",
    "![parameterC.png](images/parameterC.png)\n",
    "\n",
    "Since C = 1/λ, <br>\n",
    "Large C: Low bias, High Variance<br>\n",
    "Small C: High bias, Low Variance\n",
    "\n",
    "#### 2. Gamma\n",
    "\n",
    "Gamma is used when we use the Gaussian RBF kernel. When using linear or polynomial kernel, only setting the C hypermeter is required.<br>\n",
    "$ Gaussian \\quad RBF(Kernel) = e(\\frac{- ||x-l||^2}{2\\sigma^2}) $ <br>\n",
    "where, $x$-> data points, $l$->landmarks, $\\sigma$->Gamma\n",
    "\n",
    "Gamma defines how far the influence of a single training example reaches. <br>\n",
    "If it has a low value it means that every point has a far reach i.e. even the far away points get considerable weight and we get a more linear curve, and high value of gamma means that every point has close reach and the decision boundary is just going to be dependent upon the points that are very close to the line which effectively results in ignoring some of the points that are very far from the decision boundary thus giving a wiggly curve as seen above\n",
    "\n",
    "#### 3. Landmarks \n",
    "\n",
    "Support Vector Machine tries to find different features (higher order, etc) from the dataset i.e. for $$ X = \\begin{bmatrix} x1 & x2 & x1*x2 & x2^{3} & .. \\end{bmatrix}$$ we find $$ F = \\begin{bmatrix} f1 & f2 & f3 & f4 & .. \\end{bmatrix}_{m*m}$$\n",
    "to predict $ y = \\theta^{T} F $ instead of $ y = \\theta^{T} X $ <br>\n",
    "\n",
    "To find better features $F$, SVM picks points in (lower dimesion) space called **landmarks** and use Kernel functions to find the optimal Hyperplane. Generally, landmarks are chosen at the point of the training examples, i.e. landmarks equal to the number of training examples are chosen, ending up in  $ l^{1} l^{2} l^{3} .. l^{m}$ for m training examples"
   ]
  },
  {
   "cell_type": "markdown",
   "id": "87265fa1",
   "metadata": {},
   "source": [
    " "
   ]
  },
  {
   "cell_type": "markdown",
   "id": "36bca4b4",
   "metadata": {},
   "source": [
    "## 1.5 Optimization Objective (Cost Function)\n",
    "\n",
    "The Support Vector Machine objective can be seen as a modification to the cost of logistic regression. Consider the sigmoid function, given as,\n",
    "\n",
    "$ h_\\theta(x) = \\frac{1}{1+e^{-z}}$ where z = $\\theta^T x $\n",
    "\n",
    "The Cost Function of **Logistic Regression model** is given by \n",
    "$$ J(\\theta) = \\frac{-1}{m} \\sum_{i=1}^{m} \\left[y^{(i)} \\log\\left(h_\\theta\\left( x^{(i)} \\right) \\right) + \\left( 1 - y^{(i)}\\right) \\log \\left( 1 - h_\\theta\\left( x^{(i)} \\right) \\right) \\right]$$\n",
    "\n",
    "Each traininng instance contributes to the cost function the following term\n",
    "\n",
    "$$ (-y \\log\\frac{1}{1+e^{-z}})  - ((1-y)\\log(1 - \\frac{1}{1+e^{-z}}))\n",
    "$$\n",
    "<br>\n",
    "\n",
    "When $ y = 1 $, the contributed term is $ - \\log(\\frac{1}{1+e^{-z}})$, and when $ y = 0 $, the contributed term is $- log(1 - \\frac{1}{1+e^{-z}})$,  which can be seen in the plots below.<br>\n",
    "The cost function of SVM, denoted as *cost <sub>1</sub>(z)* and *cost <sub>0</sub>(z)* respectively are a modification and a close approximation."
   ]
  },
  {
   "cell_type": "code",
   "execution_count": 1,
   "id": "e977afaa",
   "metadata": {},
   "outputs": [],
   "source": [
    "import numpy as np\n",
    "import matplotlib.pyplot as plt"
   ]
  },
  {
   "cell_type": "code",
   "execution_count": 5,
   "id": "a4a76bb5",
   "metadata": {
    "scrolled": true
   },
   "outputs": [
    {
     "data": {
      "image/png": "[encoded data removed]",
      "text/plain": [
       "<Figure size 432x288 with 1 Axes>"
      ]
     },
     "metadata": {
      "needs_background": "light"
     },
     "output_type": "display_data"
    }
   ],
   "source": [
    "def svm_cost_1(x):\n",
    "    return np.array([0 if _ >= 1 else -0.26*(_ - 1) for _ in x])\n",
    "\n",
    "x = np.linspace(-3, 3)\n",
    "plt.plot(x, -np.log10(1 / (1+np.exp(np.negative(x)))))\n",
    "plt.plot(x, svm_cost_1(x))\n",
    "plt.legend(['logistic regression cost function', 'modified SVM cost function'])\n",
    "plt.title('cost_1(z)')\n",
    "plt.show()"
   ]
  },
  {
   "cell_type": "code",
   "execution_count": 6,
   "id": "e8a119b3",
   "metadata": {},
   "outputs": [
    {
     "data": {
      "image/png": "[encoded data removed]",
      "text/plain": [
       "<Figure size 432x288 with 1 Axes>"
      ]
     },
     "metadata": {
      "needs_background": "light"
     },
     "output_type": "display_data"
    }
   ],
   "source": [
    "def svm_cost_0(x):\n",
    "    return np.array([0 if _ <= -1 else 0.26*(_ + 1) for _ in x])\n",
    "\n",
    "plt.plot(x, -np.log10(1-(1 / (1+np.exp(np.negative(x))))))\n",
    "plt.plot(x, svm_cost_0(x))\n",
    "plt.legend(['logistic regression cost function', 'modified SVM cost function'])\n",
    "plt.title('cost_0(z)')\n",
    "plt.show()"
   ]
  },
  {
   "attachments": {},
   "cell_type": "markdown",
   "id": "13e2f276",
   "metadata": {},
   "source": [
    "In order to come up with the cost function for the SVM, Cost Function of logistic Regression is modified by replacing the corresponding cost terms, which gives,\n",
    " \n",
    "$$ J(\\theta) = \\frac{1}{m} \\sum_{i=1}^{m} \n",
    "[y^{(i)} cost_1(z) + (1 - y^{(i)})cost_0(z)] + \\frac{\\lambda}{2m} \\sum_{j=1}^{n}\\theta_j^{2}$$\n",
    "\n",
    "![cost.png](images/cost.png)\n",
    "\n",
    "<br>\n",
    "\n",
    "Following the conventions of SVM the following modifications are made to the cost in \n",
    "- removing $\\frac{1}{m}$ does not affect the minimization logic at all as the minima of a function is not changed by the linear scaling\n",
    "- change the form of parameterization from $ A + \\lambda B$ to $ CA + B$ where it can be intuitively thought that $ C = \\frac{1}{\\lambda}$\n",
    "\n",
    "After applying the above changes, our **Optimization Objective (Cost Function)** becomes\n",
    "\n",
    "$$ J(\\theta) = C \\sum_{i=1}^{m} \n",
    "[y^{(i)} cost_1(\\theta^{T}x^{i}) + (1 - y^{(i)})cost_0(\\theta^{T}x^{i})] + \\frac{1}{2} \\sum_{j=1}^{n}\\theta_j^{2}$$\n",
    "\n",
    "<br>\n",
    "\n",
    "The SVM Hypothesis predicts class labels\n",
    "\n",
    "$$ h_\\theta(x) = \\begin{cases}\n",
    "1, & if \\quad  \\theta^{T}x \\geq 0 \\\\\n",
    "0, & otherwise\n",
    "\\end{cases} $$"
   ]
  },
  {
   "cell_type": "markdown",
   "id": "d4562fc4",
   "metadata": {},
   "source": [
    " "
   ]
  },
  {
   "cell_type": "markdown",
   "id": "0904c4b4",
   "metadata": {},
   "source": [
    "For **SVM training**, given training examples, $x$, features $f$ are computed, and $ y = 1 $ if $ \\theta^{T}f \\geq 0 $\n",
    "<br>\n",
    "\n",
    "So, the training objective (from Optimization objective) is modified as \n",
    "\n",
    "$$ min_\\theta \\quad C \\sum_{i=1}^{m} \n",
    "[y^{(i)} cost_1(\\theta^{T}f^{i}) + (1 - y^{(i)})cost_0(\\theta^{T}f^{i})] + \\frac{1}{2} \\sum_{j=1}^{m}\\theta_j^{2}$$\n"
   ]
  },
  {
   "cell_type": "markdown",
   "id": "c65194bb",
   "metadata": {},
   "source": [
    " "
   ]
  },
  {
   "cell_type": "markdown",
   "id": "a426eede",
   "metadata": {},
   "source": [
    "## 2. SVM implementation using scikit-learn"
   ]
  },
  {
   "cell_type": "markdown",
   "id": "d3790ef7",
   "metadata": {},
   "source": [
    "## 2.1 SVM for Regression"
   ]
  },
  {
   "cell_type": "markdown",
   "id": "99071d2c",
   "metadata": {},
   "source": [
    "#### import libraries"
   ]
  },
  {
   "cell_type": "code",
   "execution_count": 7,
   "id": "1420f188",
   "metadata": {},
   "outputs": [],
   "source": [
    "import numpy as np\n",
    "import pandas as pd\n",
    "import matplotlib.pyplot as plt\n",
    "%matplotlib inline"
   ]
  },
  {
   "cell_type": "markdown",
   "id": "e68e5676",
   "metadata": {},
   "source": [
    "####  import dataset"
   ]
  },
  {
   "cell_type": "code",
   "execution_count": 8,
   "id": "88c9239d",
   "metadata": {},
   "outputs": [],
   "source": [
    "path = 'https://s3-api.us-geo.objectstorage.softlayer.net/cf-courses-data/CognitiveClass/DA0101EN/automobileEDA.csv'\n",
    "df = pd.read_csv(path)"
   ]
  },
  {
   "cell_type": "code",
   "execution_count": 9,
   "id": "0436df11",
   "metadata": {},
   "outputs": [
    {
     "data": {
      "text/html": [
       "<div>\n",
       "<style scoped>\n",
       "    .dataframe tbody tr th:only-of-type {\n",
       "        vertical-align: middle;\n",
       "    }\n",
       "\n",
       "    .dataframe tbody tr th {\n",
       "        vertical-align: top;\n",
       "    }\n",
       "\n",
       "    .dataframe thead th {\n",
       "        text-align: right;\n",
       "    }\n",
       "</style>\n",
       "<table border=\"1\" class=\"dataframe\">\n",
       "  <thead>\n",
       "    <tr style=\"text-align: right;\">\n",
       "      <th></th>\n",
       "      <th>symboling</th>\n",
       "      <th>normalized-losses</th>\n",
       "      <th>make</th>\n",
       "      <th>aspiration</th>\n",
       "      <th>num-of-doors</th>\n",
       "      <th>body-style</th>\n",
       "      <th>drive-wheels</th>\n",
       "      <th>engine-location</th>\n",
       "      <th>wheel-base</th>\n",
       "      <th>length</th>\n",
       "      <th>...</th>\n",
       "      <th>compression-ratio</th>\n",
       "      <th>horsepower</th>\n",
       "      <th>peak-rpm</th>\n",
       "      <th>city-mpg</th>\n",
       "      <th>highway-mpg</th>\n",
       "      <th>price</th>\n",
       "      <th>city-L/100km</th>\n",
       "      <th>horsepower-binned</th>\n",
       "      <th>diesel</th>\n",
       "      <th>gas</th>\n",
       "    </tr>\n",
       "  </thead>\n",
       "  <tbody>\n",
       "    <tr>\n",
       "      <th>0</th>\n",
       "      <td>3</td>\n",
       "      <td>122</td>\n",
       "      <td>alfa-romero</td>\n",
       "      <td>std</td>\n",
       "      <td>two</td>\n",
       "      <td>convertible</td>\n",
       "      <td>rwd</td>\n",
       "      <td>front</td>\n",
       "      <td>88.6</td>\n",
       "      <td>0.811148</td>\n",
       "      <td>...</td>\n",
       "      <td>9.0</td>\n",
       "      <td>111.0</td>\n",
       "      <td>5000.0</td>\n",
       "      <td>21</td>\n",
       "      <td>27</td>\n",
       "      <td>13495.0</td>\n",
       "      <td>11.190476</td>\n",
       "      <td>Medium</td>\n",
       "      <td>0</td>\n",
       "      <td>1</td>\n",
       "    </tr>\n",
       "    <tr>\n",
       "      <th>1</th>\n",
       "      <td>3</td>\n",
       "      <td>122</td>\n",
       "      <td>alfa-romero</td>\n",
       "      <td>std</td>\n",
       "      <td>two</td>\n",
       "      <td>convertible</td>\n",
       "      <td>rwd</td>\n",
       "      <td>front</td>\n",
       "      <td>88.6</td>\n",
       "      <td>0.811148</td>\n",
       "      <td>...</td>\n",
       "      <td>9.0</td>\n",
       "      <td>111.0</td>\n",
       "      <td>5000.0</td>\n",
       "      <td>21</td>\n",
       "      <td>27</td>\n",
       "      <td>16500.0</td>\n",
       "      <td>11.190476</td>\n",
       "      <td>Medium</td>\n",
       "      <td>0</td>\n",
       "      <td>1</td>\n",
       "    </tr>\n",
       "    <tr>\n",
       "      <th>2</th>\n",
       "      <td>1</td>\n",
       "      <td>122</td>\n",
       "      <td>alfa-romero</td>\n",
       "      <td>std</td>\n",
       "      <td>two</td>\n",
       "      <td>hatchback</td>\n",
       "      <td>rwd</td>\n",
       "      <td>front</td>\n",
       "      <td>94.5</td>\n",
       "      <td>0.822681</td>\n",
       "      <td>...</td>\n",
       "      <td>9.0</td>\n",
       "      <td>154.0</td>\n",
       "      <td>5000.0</td>\n",
       "      <td>19</td>\n",
       "      <td>26</td>\n",
       "      <td>16500.0</td>\n",
       "      <td>12.368421</td>\n",
       "      <td>Medium</td>\n",
       "      <td>0</td>\n",
       "      <td>1</td>\n",
       "    </tr>\n",
       "    <tr>\n",
       "      <th>3</th>\n",
       "      <td>2</td>\n",
       "      <td>164</td>\n",
       "      <td>audi</td>\n",
       "      <td>std</td>\n",
       "      <td>four</td>\n",
       "      <td>sedan</td>\n",
       "      <td>fwd</td>\n",
       "      <td>front</td>\n",
       "      <td>99.8</td>\n",
       "      <td>0.848630</td>\n",
       "      <td>...</td>\n",
       "      <td>10.0</td>\n",
       "      <td>102.0</td>\n",
       "      <td>5500.0</td>\n",
       "      <td>24</td>\n",
       "      <td>30</td>\n",
       "      <td>13950.0</td>\n",
       "      <td>9.791667</td>\n",
       "      <td>Medium</td>\n",
       "      <td>0</td>\n",
       "      <td>1</td>\n",
       "    </tr>\n",
       "    <tr>\n",
       "      <th>4</th>\n",
       "      <td>2</td>\n",
       "      <td>164</td>\n",
       "      <td>audi</td>\n",
       "      <td>std</td>\n",
       "      <td>four</td>\n",
       "      <td>sedan</td>\n",
       "      <td>4wd</td>\n",
       "      <td>front</td>\n",
       "      <td>99.4</td>\n",
       "      <td>0.848630</td>\n",
       "      <td>...</td>\n",
       "      <td>8.0</td>\n",
       "      <td>115.0</td>\n",
       "      <td>5500.0</td>\n",
       "      <td>18</td>\n",
       "      <td>22</td>\n",
       "      <td>17450.0</td>\n",
       "      <td>13.055556</td>\n",
       "      <td>Medium</td>\n",
       "      <td>0</td>\n",
       "      <td>1</td>\n",
       "    </tr>\n",
       "  </tbody>\n",
       "</table>\n",
       "<p>5 rows × 29 columns</p>\n",
       "</div>"
      ],
      "text/plain": [
       "   symboling  normalized-losses         make aspiration num-of-doors  \\\n",
       "0          3                122  alfa-romero        std          two   \n",
       "1          3                122  alfa-romero        std          two   \n",
       "2          1                122  alfa-romero        std          two   \n",
       "3          2                164         audi        std         four   \n",
       "4          2                164         audi        std         four   \n",
       "\n",
       "    body-style drive-wheels engine-location  wheel-base    length  ...  \\\n",
       "0  convertible          rwd           front        88.6  0.811148  ...   \n",
       "1  convertible          rwd           front        88.6  0.811148  ...   \n",
       "2    hatchback          rwd           front        94.5  0.822681  ...   \n",
       "3        sedan          fwd           front        99.8  0.848630  ...   \n",
       "4        sedan          4wd           front        99.4  0.848630  ...   \n",
       "\n",
       "   compression-ratio  horsepower  peak-rpm city-mpg highway-mpg    price  \\\n",
       "0                9.0       111.0    5000.0       21          27  13495.0   \n",
       "1                9.0       111.0    5000.0       21          27  16500.0   \n",
       "2                9.0       154.0    5000.0       19          26  16500.0   \n",
       "3               10.0       102.0    5500.0       24          30  13950.0   \n",
       "4                8.0       115.0    5500.0       18          22  17450.0   \n",
       "\n",
       "  city-L/100km  horsepower-binned  diesel  gas  \n",
       "0    11.190476             Medium       0    1  \n",
       "1    11.190476             Medium       0    1  \n",
       "2    12.368421             Medium       0    1  \n",
       "3     9.791667             Medium       0    1  \n",
       "4    13.055556             Medium       0    1  \n",
       "\n",
       "[5 rows x 29 columns]"
      ]
     },
     "execution_count": 9,
     "metadata": {},
     "output_type": "execute_result"
    }
   ],
   "source": [
    "df.head()"
   ]
  },
  {
   "cell_type": "markdown",
   "id": "f2955d2a",
   "metadata": {},
   "source": [
    "#### perform Exploratory Data Analysis, Feature Engineering and other necessary operations to clean the data"
   ]
  },
  {
   "cell_type": "code",
   "execution_count": 11,
   "id": "8d094583",
   "metadata": {},
   "outputs": [
    {
     "data": {
      "text/html": [
       "<div>\n",
       "<style scoped>\n",
       "    .dataframe tbody tr th:only-of-type {\n",
       "        vertical-align: middle;\n",
       "    }\n",
       "\n",
       "    .dataframe tbody tr th {\n",
       "        vertical-align: top;\n",
       "    }\n",
       "\n",
       "    .dataframe thead th {\n",
       "        text-align: right;\n",
       "    }\n",
       "</style>\n",
       "<table border=\"1\" class=\"dataframe\">\n",
       "  <thead>\n",
       "    <tr style=\"text-align: right;\">\n",
       "      <th></th>\n",
       "      <th>symboling</th>\n",
       "      <th>normalized-losses</th>\n",
       "      <th>wheel-base</th>\n",
       "      <th>length</th>\n",
       "      <th>width</th>\n",
       "      <th>height</th>\n",
       "      <th>curb-weight</th>\n",
       "      <th>engine-size</th>\n",
       "      <th>bore</th>\n",
       "      <th>stroke</th>\n",
       "      <th>compression-ratio</th>\n",
       "      <th>horsepower</th>\n",
       "      <th>peak-rpm</th>\n",
       "      <th>city-mpg</th>\n",
       "      <th>highway-mpg</th>\n",
       "      <th>price</th>\n",
       "      <th>city-L/100km</th>\n",
       "      <th>diesel</th>\n",
       "      <th>gas</th>\n",
       "    </tr>\n",
       "  </thead>\n",
       "  <tbody>\n",
       "    <tr>\n",
       "      <th>count</th>\n",
       "      <td>201.000000</td>\n",
       "      <td>201.00000</td>\n",
       "      <td>201.000000</td>\n",
       "      <td>201.000000</td>\n",
       "      <td>201.000000</td>\n",
       "      <td>201.000000</td>\n",
       "      <td>201.000000</td>\n",
       "      <td>201.000000</td>\n",
       "      <td>201.000000</td>\n",
       "      <td>197.000000</td>\n",
       "      <td>201.000000</td>\n",
       "      <td>201.000000</td>\n",
       "      <td>201.000000</td>\n",
       "      <td>201.000000</td>\n",
       "      <td>201.000000</td>\n",
       "      <td>201.000000</td>\n",
       "      <td>201.000000</td>\n",
       "      <td>201.000000</td>\n",
       "      <td>201.000000</td>\n",
       "    </tr>\n",
       "    <tr>\n",
       "      <th>mean</th>\n",
       "      <td>0.840796</td>\n",
       "      <td>122.00000</td>\n",
       "      <td>98.797015</td>\n",
       "      <td>0.837102</td>\n",
       "      <td>0.915126</td>\n",
       "      <td>53.766667</td>\n",
       "      <td>2555.666667</td>\n",
       "      <td>126.875622</td>\n",
       "      <td>3.330692</td>\n",
       "      <td>3.256904</td>\n",
       "      <td>10.164279</td>\n",
       "      <td>103.405534</td>\n",
       "      <td>5117.665368</td>\n",
       "      <td>25.179104</td>\n",
       "      <td>30.686567</td>\n",
       "      <td>13207.129353</td>\n",
       "      <td>9.944145</td>\n",
       "      <td>0.099502</td>\n",
       "      <td>0.900498</td>\n",
       "    </tr>\n",
       "    <tr>\n",
       "      <th>std</th>\n",
       "      <td>1.254802</td>\n",
       "      <td>31.99625</td>\n",
       "      <td>6.066366</td>\n",
       "      <td>0.059213</td>\n",
       "      <td>0.029187</td>\n",
       "      <td>2.447822</td>\n",
       "      <td>517.296727</td>\n",
       "      <td>41.546834</td>\n",
       "      <td>0.268072</td>\n",
       "      <td>0.319256</td>\n",
       "      <td>4.004965</td>\n",
       "      <td>37.365700</td>\n",
       "      <td>478.113805</td>\n",
       "      <td>6.423220</td>\n",
       "      <td>6.815150</td>\n",
       "      <td>7947.066342</td>\n",
       "      <td>2.534599</td>\n",
       "      <td>0.300083</td>\n",
       "      <td>0.300083</td>\n",
       "    </tr>\n",
       "    <tr>\n",
       "      <th>min</th>\n",
       "      <td>-2.000000</td>\n",
       "      <td>65.00000</td>\n",
       "      <td>86.600000</td>\n",
       "      <td>0.678039</td>\n",
       "      <td>0.837500</td>\n",
       "      <td>47.800000</td>\n",
       "      <td>1488.000000</td>\n",
       "      <td>61.000000</td>\n",
       "      <td>2.540000</td>\n",
       "      <td>2.070000</td>\n",
       "      <td>7.000000</td>\n",
       "      <td>48.000000</td>\n",
       "      <td>4150.000000</td>\n",
       "      <td>13.000000</td>\n",
       "      <td>16.000000</td>\n",
       "      <td>5118.000000</td>\n",
       "      <td>4.795918</td>\n",
       "      <td>0.000000</td>\n",
       "      <td>0.000000</td>\n",
       "    </tr>\n",
       "    <tr>\n",
       "      <th>25%</th>\n",
       "      <td>0.000000</td>\n",
       "      <td>101.00000</td>\n",
       "      <td>94.500000</td>\n",
       "      <td>0.801538</td>\n",
       "      <td>0.890278</td>\n",
       "      <td>52.000000</td>\n",
       "      <td>2169.000000</td>\n",
       "      <td>98.000000</td>\n",
       "      <td>3.150000</td>\n",
       "      <td>3.110000</td>\n",
       "      <td>8.600000</td>\n",
       "      <td>70.000000</td>\n",
       "      <td>4800.000000</td>\n",
       "      <td>19.000000</td>\n",
       "      <td>25.000000</td>\n",
       "      <td>7775.000000</td>\n",
       "      <td>7.833333</td>\n",
       "      <td>0.000000</td>\n",
       "      <td>1.000000</td>\n",
       "    </tr>\n",
       "    <tr>\n",
       "      <th>50%</th>\n",
       "      <td>1.000000</td>\n",
       "      <td>122.00000</td>\n",
       "      <td>97.000000</td>\n",
       "      <td>0.832292</td>\n",
       "      <td>0.909722</td>\n",
       "      <td>54.100000</td>\n",
       "      <td>2414.000000</td>\n",
       "      <td>120.000000</td>\n",
       "      <td>3.310000</td>\n",
       "      <td>3.290000</td>\n",
       "      <td>9.000000</td>\n",
       "      <td>95.000000</td>\n",
       "      <td>5125.369458</td>\n",
       "      <td>24.000000</td>\n",
       "      <td>30.000000</td>\n",
       "      <td>10295.000000</td>\n",
       "      <td>9.791667</td>\n",
       "      <td>0.000000</td>\n",
       "      <td>1.000000</td>\n",
       "    </tr>\n",
       "    <tr>\n",
       "      <th>75%</th>\n",
       "      <td>2.000000</td>\n",
       "      <td>137.00000</td>\n",
       "      <td>102.400000</td>\n",
       "      <td>0.881788</td>\n",
       "      <td>0.925000</td>\n",
       "      <td>55.500000</td>\n",
       "      <td>2926.000000</td>\n",
       "      <td>141.000000</td>\n",
       "      <td>3.580000</td>\n",
       "      <td>3.410000</td>\n",
       "      <td>9.400000</td>\n",
       "      <td>116.000000</td>\n",
       "      <td>5500.000000</td>\n",
       "      <td>30.000000</td>\n",
       "      <td>34.000000</td>\n",
       "      <td>16500.000000</td>\n",
       "      <td>12.368421</td>\n",
       "      <td>0.000000</td>\n",
       "      <td>1.000000</td>\n",
       "    </tr>\n",
       "    <tr>\n",
       "      <th>max</th>\n",
       "      <td>3.000000</td>\n",
       "      <td>256.00000</td>\n",
       "      <td>120.900000</td>\n",
       "      <td>1.000000</td>\n",
       "      <td>1.000000</td>\n",
       "      <td>59.800000</td>\n",
       "      <td>4066.000000</td>\n",
       "      <td>326.000000</td>\n",
       "      <td>3.940000</td>\n",
       "      <td>4.170000</td>\n",
       "      <td>23.000000</td>\n",
       "      <td>262.000000</td>\n",
       "      <td>6600.000000</td>\n",
       "      <td>49.000000</td>\n",
       "      <td>54.000000</td>\n",
       "      <td>45400.000000</td>\n",
       "      <td>18.076923</td>\n",
       "      <td>1.000000</td>\n",
       "      <td>1.000000</td>\n",
       "    </tr>\n",
       "  </tbody>\n",
       "</table>\n",
       "</div>"
      ],
      "text/plain": [
       "        symboling  normalized-losses  wheel-base      length       width  \\\n",
       "count  201.000000          201.00000  201.000000  201.000000  201.000000   \n",
       "mean     0.840796          122.00000   98.797015    0.837102    0.915126   \n",
       "std      1.254802           31.99625    6.066366    0.059213    0.029187   \n",
       "min     -2.000000           65.00000   86.600000    0.678039    0.837500   \n",
       "25%      0.000000          101.00000   94.500000    0.801538    0.890278   \n",
       "50%      1.000000          122.00000   97.000000    0.832292    0.909722   \n",
       "75%      2.000000          137.00000  102.400000    0.881788    0.925000   \n",
       "max      3.000000          256.00000  120.900000    1.000000    1.000000   \n",
       "\n",
       "           height  curb-weight  engine-size        bore      stroke  \\\n",
       "count  201.000000   201.000000   201.000000  201.000000  197.000000   \n",
       "mean    53.766667  2555.666667   126.875622    3.330692    3.256904   \n",
       "std      2.447822   517.296727    41.546834    0.268072    0.319256   \n",
       "min     47.800000  1488.000000    61.000000    2.540000    2.070000   \n",
       "25%     52.000000  2169.000000    98.000000    3.150000    3.110000   \n",
       "50%     54.100000  2414.000000   120.000000    3.310000    3.290000   \n",
       "75%     55.500000  2926.000000   141.000000    3.580000    3.410000   \n",
       "max     59.800000  4066.000000   326.000000    3.940000    4.170000   \n",
       "\n",
       "       compression-ratio  horsepower     peak-rpm    city-mpg  highway-mpg  \\\n",
       "count         201.000000  201.000000   201.000000  201.000000   201.000000   \n",
       "mean           10.164279  103.405534  5117.665368   25.179104    30.686567   \n",
       "std             4.004965   37.365700   478.113805    6.423220     6.815150   \n",
       "min             7.000000   48.000000  4150.000000   13.000000    16.000000   \n",
       "25%             8.600000   70.000000  4800.000000   19.000000    25.000000   \n",
       "50%             9.000000   95.000000  5125.369458   24.000000    30.000000   \n",
       "75%             9.400000  116.000000  5500.000000   30.000000    34.000000   \n",
       "max            23.000000  262.000000  6600.000000   49.000000    54.000000   \n",
       "\n",
       "              price  city-L/100km      diesel         gas  \n",
       "count    201.000000    201.000000  201.000000  201.000000  \n",
       "mean   13207.129353      9.944145    0.099502    0.900498  \n",
       "std     7947.066342      2.534599    0.300083    0.300083  \n",
       "min     5118.000000      4.795918    0.000000    0.000000  \n",
       "25%     7775.000000      7.833333    0.000000    1.000000  \n",
       "50%    10295.000000      9.791667    0.000000    1.000000  \n",
       "75%    16500.000000     12.368421    0.000000    1.000000  \n",
       "max    45400.000000     18.076923    1.000000    1.000000  "
      ]
     },
     "execution_count": 11,
     "metadata": {},
     "output_type": "execute_result"
    }
   ],
   "source": [
    "df.describe()"
   ]
  },
  {
   "cell_type": "code",
   "execution_count": 12,
   "id": "474c935d",
   "metadata": {},
   "outputs": [
    {
     "name": "stdout",
     "output_type": "stream",
     "text": [
      "float64\n",
      "float64\n",
      "float64\n",
      "float64\n",
      "float64\n",
      "float64\n",
      "float64\n",
      "float64\n"
     ]
    }
   ],
   "source": [
    "df.dtypes\n",
    "for x in df:\n",
    "    if df[x].dtypes == \"int64\":\n",
    "        df[x] = df[x].astype(float)\n",
    "        print (df[x].dtypes)"
   ]
  },
  {
   "cell_type": "code",
   "execution_count": 13,
   "id": "8e94b93a",
   "metadata": {},
   "outputs": [],
   "source": [
    "df = df.select_dtypes(exclude=['object'])\n",
    "df=df.fillna(df.mean())\n",
    "X = df.drop('price',axis=1)\n",
    "y = df['price']"
   ]
  },
  {
   "cell_type": "markdown",
   "id": "f1143852",
   "metadata": {},
   "source": [
    "#### split data into training and test set"
   ]
  },
  {
   "cell_type": "code",
   "execution_count": 21,
   "id": "c147aaee",
   "metadata": {},
   "outputs": [],
   "source": [
    "from sklearn.model_selection import train_test_split"
   ]
  },
  {
   "cell_type": "code",
   "execution_count": 15,
   "id": "3ce4edf5",
   "metadata": {},
   "outputs": [],
   "source": [
    "X_train, X_test, y_train, y_test = train_test_split(X, y, test_size=0.2, random_state=0)"
   ]
  },
  {
   "cell_type": "markdown",
   "id": "c9375618",
   "metadata": {},
   "source": [
    "#### perform necessary Feature Engineering"
   ]
  },
  {
   "cell_type": "code",
   "execution_count": 24,
   "id": "6cf254b0",
   "metadata": {},
   "outputs": [
    {
     "data": {
      "text/plain": [
       "array([[-0.06009623, -0.78752479, -0.73700487, -1.46467724, -1.25067019,\n",
       "        -0.91706401, -1.40517397, -0.95916853, -1.0203247 , -0.44343127,\n",
       "        -0.28884465, -0.86330974,  0.59637698,  2.00307062,  1.90588277,\n",
       "        -1.46554666, -0.45374261,  0.45374261],\n",
       "       [-1.70272655, -1.99286534,  0.46559401,  0.0196638 ,  0.2260397 ,\n",
       "         0.30397643, -0.26901749, -0.48904409, -0.16729095,  0.19758908,\n",
       "         2.23627826, -0.79012773, -1.25289282,  0.80415244,  0.44529971,\n",
       "        -0.87396412,  2.20389266, -2.20389266],\n",
       "       [-0.88141139,  0.08908652,  2.26188095,  1.77525498,  1.19353928,\n",
       "         1.90396045,  1.5120859 ,  0.49821725,  1.36106119,  0.65164516,\n",
       "         1.94265932, -0.25345965, -1.9720533 ,  0.05482858, -0.72316673,\n",
       "        -0.31196071,  2.20389266, -2.20389266],\n",
       "       [-0.88141139,  0.30823934,  0.1611386 ,  0.47928209,  0.2260397 ,\n",
       "         0.38818611,  0.8840126 ,  1.17989769,  0.40139822, -0.01608437,\n",
       "        -0.40629223,  1.13699856,  0.18542814, -1.14408961, -1.16134165,\n",
       "         1.27487245, -0.45374261,  0.45374261],\n",
       "       [-1.70272655,  0.08908652,  0.78527219,  0.93890038,  0.2260397 ,\n",
       "        -0.03286232,  0.98900396,  0.70977325, -0.16729095,  0.19758908,\n",
       "        -0.36714304,  1.23457458,  0.18542814, -0.84436006, -0.86922504,\n",
       "         0.75288785, -0.45374261,  0.45374261],\n",
       "       [ 0.76121893, -0.93362668, -0.31076729, -0.27419052, -0.28317061,\n",
       "         0.64081517, -0.65336085, -0.51255031, -0.45163553,  0.33113499,\n",
       "        -0.40629223, -0.49739969,  0.28816535,  0.35455812,  0.59135802,\n",
       "        -0.56174   , -0.45374261,  0.45374261],\n",
       "       [ 0.76121893,  0.08908652,  0.06980197,  0.14775414,  0.12419764,\n",
       "        -0.45391074, -0.21839666,  0.12211769, -0.45163553,  0.33113499,\n",
       "        -0.50416521,  0.11245041,  0.80185141, -0.84436006, -0.72316673,\n",
       "         0.75288785, -0.45374261,  0.45374261],\n",
       "       [-0.06009623, -1.18930498, -0.55433162, -1.25370491, -1.25067019,\n",
       "         0.13555705, -1.1970661 , -0.91215609, -0.94923856, -0.65710472,\n",
       "        -0.40629223, -1.05846177, -0.63646955,  1.5534763 ,  1.32164955,\n",
       "        -1.27539513, -0.45374261,  0.45374261],\n",
       "       [-0.88141139,  2.49976761,  0.28292076,  0.11008051, -0.63961782,\n",
       "         0.05134737,  0.26531353,  0.78029191, -0.02511866, -0.22975782,\n",
       "        -0.40629223,  0.38078445, -1.76657888, -0.54463052, -0.28499182,\n",
       "         0.3303289 , -0.45374261,  0.45374261],\n",
       "       [-0.88141139, -1.04320309, -0.55433162, -0.68106573, -0.84330195,\n",
       "        -0.49601559, -1.01708091, -0.77111875, -0.45163553, -0.65710472,\n",
       "        -0.40629223, -0.86330974, -0.63646955,  0.80415244,  1.02953294,\n",
       "        -0.87396412, -0.45374261,  0.45374261],\n",
       "       [-0.88141139, -0.16659178, -0.08242573,  0.18542777,  0.2260397 ,\n",
       "         0.55660548, -0.372134  , -0.20696942,  0.25922593,  0.3044258 ,\n",
       "        -0.48459061, -0.52179369, -0.63646955,  0.20469335,  0.29924141,\n",
       "        -0.44165381, -0.45374261,  0.45374261],\n",
       "       [ 1.58253408,  0.08908652, -1.4981434 , -0.48516285, -0.53777576,\n",
       "        -1.08548338,  0.33093313,  1.48547858,  1.50323349, -1.00432407,\n",
       "        -0.30841925,  2.47866877,  1.6237491 , -1.14408961, -0.72316673,\n",
       "         1.27487245, -0.45374261,  0.45374261],\n",
       "       [ 0.76121893, -0.93362668, -0.31076729, -0.27419052, -0.28317061,\n",
       "         0.64081517, -0.67398416, -0.79462498, -1.09141085,  0.33113499,\n",
       "         2.33415125, -1.30240181, -0.63646955,  1.85320585,  2.34405769,\n",
       "        -1.40558897,  2.20389266, -2.20389266],\n",
       "       [-0.88141139, -1.04320309, -0.55433162, -0.68106573, -0.84330195,\n",
       "        -0.49601559, -0.65336085, -0.48904409, -0.16729095,  0.19758908,\n",
       "         2.23627826, -1.20482579, -1.25289282,  1.40361153,  0.88347463,\n",
       "        -1.20455436,  2.20389266, -2.20389266],\n",
       "       [ 1.58253408,  0.08908652, -0.52388608, -0.16116963,  0.12419764,\n",
       "        -1.67495118,  0.55778945,  0.59224214,  0.97008739,  1.55975732,\n",
       "        -0.79778415,  0.96624054, -0.22552071, -0.84436006, -0.86922504,\n",
       "         0.75288785, -0.45374261,  0.45374261],\n",
       "       [-0.06009623,  0.08908652,  0.98316821,  1.30810196,  2.7211702 ,\n",
       "         0.64081517,  0.61965936,  0.12211769, -0.45163553,  0.33113499,\n",
       "        -0.50416521,  0.11245041,  0.80185141, -0.84436006, -0.72316673,\n",
       "         0.75288785, -0.45374261,  0.45374261],\n",
       "       [-0.06009623, -0.67794838, -0.85878704, -1.90922608, -1.04698607,\n",
       "        -0.66443496, -1.25143662, -0.91215609, -1.44684158,  0.35784417,\n",
       "        -0.36714304, -0.71694572,  1.82922352,  0.80415244,  0.59135802,\n",
       "        -0.87396412, -0.45374261,  0.45374261],\n",
       "       [ 1.58253408,  1.11179971, -0.03675742,  0.84848367,  0.2260397 ,\n",
       "         0.80923454,  0.15657248, -0.23047564, -2.76193529, -3.22118611,\n",
       "        -0.34756844,  0.11245041,  0.28816535, -0.54463052, -0.28499182,\n",
       "         0.3303289 , -0.45374261,  0.45374261],\n",
       "       [-0.88141139, -0.49532102, -0.43254946, -0.59064902, -0.4359337 ,\n",
       "        -0.36970106, -0.62711301, -0.48904409, -0.59380783,  0.81190025,\n",
       "        -0.40629223, -0.47300568,  1.41827468,  0.35455812,  0.44529971,\n",
       "        -0.56174   , -0.45374261,  0.45374261],\n",
       "       [ 0.76121893,  1.51357989, -0.85878704, -1.35919108, -0.84330195,\n",
       "        -1.42232213, -1.27393477, -0.91215609, -1.23358314, -0.12292109,\n",
       "        -0.32799384, -0.91209775,  0.80185141,  0.95401721,  1.17559124,\n",
       "        -0.96460983, -0.45374261,  0.45374261],\n",
       "       [ 0.76121893, -0.93362668, -0.31076729, -0.27419052, -0.28317061,\n",
       "         0.64081517, -0.57086764, -0.79462498, -1.09141085,  0.33113499,\n",
       "         2.33415125, -0.91209775, -1.25289282,  1.85320585,  1.75982447,\n",
       "        -1.40558897,  2.20389266, -2.20389266],\n",
       "       [-0.88141139, -1.26235592, -0.37165838, -0.13103072, -0.33409164,\n",
       "         0.30397643,  0.04970627, -0.53605653,  1.07671661, -1.69876279,\n",
       "        -0.66076198,  0.13684441, -0.63646955, -0.24490097, -1.01528335,\n",
       "        -0.01874154, -0.45374261,  0.45374261],\n",
       "       [-0.88141139,  0.08908652,  2.0792077 ,  1.82799806,  1.80459165,\n",
       "        -0.58022527,  2.70448775,  2.98987681,  1.11225968,  2.38774194,\n",
       "        -0.5824636 ,  1.72245465, -0.73920677, -1.44381915, -1.59951657,\n",
       "         1.93605293, -0.45374261,  0.45374261],\n",
       "       [-0.06009623,  1.76925819, -0.73700487, -0.5002323 , -1.04698607,\n",
       "        -0.66443496, -0.85209449, -0.77111875, -0.45163553, -0.65710472,\n",
       "        -0.40629223, -0.86330974, -0.63646955,  0.65428767,  0.59135802,\n",
       "        -0.77706698, -0.45374261,  0.45374261],\n",
       "       [-0.88141139,  0.08908652, -0.08242573,  0.18542777,  0.2260397 ,\n",
       "         0.55660548, -0.33838678, -0.20696942,  0.25922593,  0.3044258 ,\n",
       "         2.27542746, -1.00967376, -0.94468119,  1.70334107,  1.75982447,\n",
       "        -1.3423003 ,  2.20389266, -2.20389266],\n",
       "       [ 1.58253408,  0.08908652, -1.4981434 , -0.48516285, -0.53777576,\n",
       "        -1.08548338,  0.24843992,  1.48547858,  1.50323349, -1.00432407,\n",
       "        -0.30841925,  2.47866877,  1.6237491 , -1.14408961, -0.72316673,\n",
       "         1.27487245, -0.45374261,  0.45374261],\n",
       "       [ 0.76121893,  0.08908652, -0.31076729, -0.27419052, -0.28317061,\n",
       "         0.64081517, -0.77710067, -0.51255031, -0.45163553,  0.33113499,\n",
       "        -0.40629223, -0.49739969,  0.28816535,  0.35455812,  0.59135802,\n",
       "        -0.56174   , -0.45374261,  0.45374261],\n",
       "       [ 1.58253408,  0.08908652, -0.73700487, -1.20849656, -0.94514401,\n",
       "         0.59871032, -0.69273261, -0.51255031, -0.45163553,  0.33113499,\n",
       "        -0.50416521, -0.37542967,  0.80185141, -0.0950362 , -0.13893351,\n",
       "        -0.17145986, -0.45374261,  0.45374261],\n",
       "       [ 1.58253408,  2.42671667, -0.73700487, -0.48516285,  1.14261825,\n",
       "        -1.67495118,  0.28968652,  0.47471102,  2.21409495, -0.44343127,\n",
       "        -0.30841925,  0.91745253,  0.80185141, -0.84436006, -0.43105012,\n",
       "         0.75288785, -0.45374261,  0.45374261],\n",
       "       [-0.88141139,  0.92917235,  2.0792077 ,  1.82799806,  1.80459165,\n",
       "        -0.58022527,  2.70448775,  2.98987681,  1.11225968,  2.38774194,\n",
       "        -0.5824636 ,  1.72245465, -0.73920677, -1.44381915, -1.59951657,\n",
       "         1.93605293, -0.45374261,  0.45374261],\n",
       "       [-0.88141139,  0.08908652,  1.62252458,  1.63209518,  2.46656505,\n",
       "         0.89344422,  1.65269932,  1.83807192,  1.07671661,  0.3044258 ,\n",
       "        -0.60203819,  1.86881868,  0.59637698, -1.44381915, -1.45345826,\n",
       "         1.93605293, -0.45374261,  0.45374261],\n",
       "       [ 1.58253408,  1.11179971, -0.61522271, -0.47762812, -0.18132855,\n",
       "        -1.92758024, -0.23152058, -1.19423075,  0.04508333, -0.05106391,\n",
       "        -0.32799384,  0.7223005 ,  1.82922352, -1.29395438, -1.01528335,\n",
       "         1.5848008 , -0.45374261,  0.45374261],\n",
       "       [-0.88141139, -1.4084578 , -0.55433162, -0.42488504, -1.25067019,\n",
       "         2.07237982, -0.62523817, -0.91215609, -0.94923856, -0.65710472,\n",
       "        -0.40629223, -1.05846177, -0.63646955,  0.35455812,  0.29924141,\n",
       "        -0.56174   , -0.45374261,  0.45374261],\n",
       "       [-0.88141139,  0.08908652,  2.26188095,  1.77525498,  1.19353928,\n",
       "         1.90396045,  1.61520241,  0.49821725,  1.36106119,  0.65164516,\n",
       "         1.94265932, -0.25345965, -1.9720533 ,  0.05482858, -0.72316673,\n",
       "        -0.31196071,  2.20389266, -2.20389266],\n",
       "       [-0.06009623, -0.05701537, -0.85878704, -1.35919108, -1.14882813,\n",
       "        -1.42232213, -0.92896317, -0.77111875, -1.0203247 ,  0.3044258 ,\n",
       "        -0.68033658, -0.08270162,  0.80185141, -0.0950362 ,  0.0071248 ,\n",
       "        -0.17145986, -0.45374261,  0.45374261],\n",
       "       [-0.88141139,  0.08908652,  0.1611386 ,  0.58476825,  0.42972382,\n",
       "         0.38818611, -0.1134053 , -0.51255031, -0.45163553,  0.33113499,\n",
       "        -0.40629223, -0.42421767,  0.80185141,  0.05482858,  0.1531831 ,\n",
       "        -0.31196071, -0.45374261,  0.45374261],\n",
       "       [ 0.76121893, -0.56837197, -0.03675742,  0.84848367,  0.2260397 ,\n",
       "         0.80923454,  0.13407433, -0.23047564,  0.79237202, -0.55026799,\n",
       "        -0.34756844,  0.11245041,  0.28816535, -0.54463052, -0.28499182,\n",
       "         0.3303289 , -0.45374261,  0.45374261],\n",
       "       [ 0.76121893,  1.6231563 ,  0.00891089,  0.09501106,  0.17511867,\n",
       "         0.05134737,  0.37592942,  0.12211769, -0.45163553,  0.33113499,\n",
       "        -0.60203819,  0.23442043,  0.80185141, -0.99422483, -1.16134165,\n",
       "         0.99938058, -0.45374261,  0.45374261],\n",
       "       [-0.06009623,  0.19866293, -0.462995  , -0.22144744, -0.33409164,\n",
       "        -1.08548338, -0.40963092, -0.20696942,  0.11705363,  0.49139007,\n",
       "        -0.50416521, -0.42421767, -0.22552071,  0.05482858,  0.29924141,\n",
       "        -0.31196071, -0.45374261,  0.45374261],\n",
       "       [-0.88141139,  0.08908652,  2.26188095,  1.77525498,  1.19353928,\n",
       "         1.90396045,  1.13711676, -0.25398186,  0.50802744, -0.22975782,\n",
       "        -0.52373981, -0.20467164, -0.22552071, -0.84436006, -0.86922504,\n",
       "         0.75288785, -0.45374261,  0.45374261],\n",
       "       [ 0.76121893, -1.33540686, -0.85878704, -1.38932998, -1.35251225,\n",
       "        -0.20128169, -1.07520113, -0.79462498,  1.07671661, -2.44661986,\n",
       "        -0.40629223, -0.88770375, -0.43099513,  0.95401721,  0.88347463,\n",
       "        -0.96460983, -0.45374261,  0.45374261]])"
      ]
     },
     "execution_count": 24,
     "metadata": {},
     "output_type": "execute_result"
    }
   ],
   "source": [
    "from sklearn.preprocessing import StandardScaler\n",
    "\n",
    "scaler = StandardScaler()\n",
    "X_train_std = scaler.fit_transform(X_train)\n",
    "X_test_std = scaler.fit_transform(X_test)\n",
    "X_test_std"
   ]
  },
  {
   "cell_type": "markdown",
   "id": "d585daea",
   "metadata": {},
   "source": [
    "#### train Support Vector Regression model"
   ]
  },
  {
   "cell_type": "code",
   "execution_count": 25,
   "id": "d2dba294",
   "metadata": {},
   "outputs": [],
   "source": [
    "from sklearn.svm import SVR\n",
    "\n",
    "svr = SVR(kernel = 'linear',C = 1000)"
   ]
  },
  {
   "cell_type": "code",
   "execution_count": 26,
   "id": "fd3cbb0e",
   "metadata": {},
   "outputs": [],
   "source": [
    "svr.fit(X_train_std,y_train)\n",
    "y_test_pred = svr.predict(X_test_std)\n",
    "y_train_pred = svr.predict(X_train_std)"
   ]
  },
  {
   "cell_type": "code",
   "execution_count": 27,
   "id": "1b237f42",
   "metadata": {
    "scrolled": true
   },
   "outputs": [
    {
     "data": {
      "text/plain": [
       "array([ 5305.86061521, 12114.59097698, 17671.93134975, 19364.03013048,\n",
       "       18166.2200584 ,  8194.23144957, 14229.53994158,  5283.8724381 ,\n",
       "       14328.02705201,  6374.62029218,  8839.35456637, 18500.46042267,\n",
       "       10352.96966874,  9068.63832504, 12413.24809041, 17521.81134453,\n",
       "        5872.64763231, 17739.58357284,  8029.7092699 ,  5681.25319283,\n",
       "       10069.70659647,  9067.32298262, 28239.41068045,  5794.90238524,\n",
       "       11297.49173925, 18449.43020919,  7978.48167967,  7613.61632934,\n",
       "       13324.20956411, 28125.06416822, 26384.64022725, 12067.68134132,\n",
       "        6792.1782905 , 17735.71911661,  7097.57891984, 10249.63443001,\n",
       "       12163.59282125, 14756.68282295,  8387.79148655, 16739.56589111,\n",
       "        5335.94946672])"
      ]
     },
     "execution_count": 27,
     "metadata": {},
     "output_type": "execute_result"
    }
   ],
   "source": [
    "y_test_pred"
   ]
  },
  {
   "cell_type": "markdown",
   "id": "0f837425",
   "metadata": {},
   "source": [
    "#### evaluate model performance"
   ]
  },
  {
   "cell_type": "code",
   "execution_count": 31,
   "id": "f95cae5b",
   "metadata": {},
   "outputs": [
    {
     "name": "stdout",
     "output_type": "stream",
     "text": [
      "R2 score : 0.8510467833352213\n",
      "Mean Squared Error : 8806043.280937098\n"
     ]
    }
   ],
   "source": [
    "from sklearn.metrics import r2_score, mean_squared_error\n",
    "\n",
    "print('R2 score :', r2_score(y_train,y_train_pred))\n",
    "print('Mean Squared Error :', mean_squared_error(y_train,y_train_pred))\n"
   ]
  },
  {
   "cell_type": "markdown",
   "id": "573bf125",
   "metadata": {},
   "source": [
    "#### plot performance of model"
   ]
  },
  {
   "cell_type": "code",
   "execution_count": 34,
   "id": "4266edb5",
   "metadata": {},
   "outputs": [
    {
     "name": "stderr",
     "output_type": "stream",
     "text": [
      "C:\\ProgramData\\Anaconda3\\lib\\site-packages\\seaborn\\distributions.py:2557: FutureWarning: `distplot` is a deprecated function and will be removed in a future version. Please adapt your code to use either `displot` (a figure-level function with similar flexibility) or `kdeplot` (an axes-level function for kernel density plots).\n",
      "  warnings.warn(msg, FutureWarning)\n",
      "C:\\ProgramData\\Anaconda3\\lib\\site-packages\\seaborn\\distributions.py:2557: FutureWarning: `distplot` is a deprecated function and will be removed in a future version. Please adapt your code to use either `displot` (a figure-level function with similar flexibility) or `kdeplot` (an axes-level function for kernel density plots).\n",
      "  warnings.warn(msg, FutureWarning)\n"
     ]
    },
    {
     "data": {
      "image/png": "[encoded data removed]",
      "text/plain": [
       "<Figure size 360x504 with 1 Axes>"
      ]
     },
     "metadata": {
      "needs_background": "light"
     },
     "output_type": "display_data"
    }
   ],
   "source": [
    "import seaborn as sns\n",
    "plt.figure(figsize=(5, 7))\n",
    "ax = sns.distplot(y, hist=False, color=\"r\", label=\"Actual Value\")\n",
    "sns.distplot(y_test_pred, hist=False, color=\"b\", label=\"Fitted Values\" , ax=ax)\n",
    "plt.title('Actual vs Fitted Values for Price')\n",
    "plt.show()\n",
    "plt.close()"
   ]
  },
  {
   "cell_type": "markdown",
   "id": "2b07f462",
   "metadata": {},
   "source": [
    "#### NOTE: this may not be the best fitting model. Try different values for parameters 'kernel', 'C', 'gamma', 'degree', etc in SVR() method of sklearn.svm module"
   ]
  },
  {
   "cell_type": "markdown",
   "id": "1c78d3c2",
   "metadata": {},
   "source": [
    "#### finally proceed by training the model with entire dataset"
   ]
  },
  {
   "cell_type": "markdown",
   "id": "d10e355e",
   "metadata": {},
   "source": [
    " "
   ]
  },
  {
   "cell_type": "markdown",
   "id": "13a8fab5",
   "metadata": {},
   "source": [
    "## 2.2 SVM for Classification"
   ]
  },
  {
   "cell_type": "markdown",
   "id": "f3259899",
   "metadata": {},
   "source": [
    " "
   ]
  },
  {
   "cell_type": "markdown",
   "id": "a69248ba",
   "metadata": {},
   "source": [
    "#### import libraries"
   ]
  },
  {
   "cell_type": "code",
   "execution_count": 36,
   "id": "6820f46a",
   "metadata": {},
   "outputs": [],
   "source": [
    "import pandas as pd\n",
    "import numpy as np\n",
    "import matplotlib.pyplot as plt"
   ]
  },
  {
   "cell_type": "markdown",
   "id": "1eca3c43",
   "metadata": {},
   "source": [
    "#### read data"
   ]
  },
  {
   "cell_type": "code",
   "execution_count": 47,
   "id": "be72b4f9",
   "metadata": {},
   "outputs": [
    {
     "data": {
      "text/html": [
       "<div>\n",
       "<style scoped>\n",
       "    .dataframe tbody tr th:only-of-type {\n",
       "        vertical-align: middle;\n",
       "    }\n",
       "\n",
       "    .dataframe tbody tr th {\n",
       "        vertical-align: top;\n",
       "    }\n",
       "\n",
       "    .dataframe thead th {\n",
       "        text-align: right;\n",
       "    }\n",
       "</style>\n",
       "<table border=\"1\" class=\"dataframe\">\n",
       "  <thead>\n",
       "    <tr style=\"text-align: right;\">\n",
       "      <th></th>\n",
       "      <th>mean radius</th>\n",
       "      <th>mean texture</th>\n",
       "      <th>mean perimeter</th>\n",
       "      <th>mean area</th>\n",
       "      <th>mean smoothness</th>\n",
       "      <th>mean compactness</th>\n",
       "      <th>mean concavity</th>\n",
       "      <th>mean concave points</th>\n",
       "      <th>mean symmetry</th>\n",
       "      <th>mean fractal dimension</th>\n",
       "      <th>...</th>\n",
       "      <th>worst texture</th>\n",
       "      <th>worst perimeter</th>\n",
       "      <th>worst area</th>\n",
       "      <th>worst smoothness</th>\n",
       "      <th>worst compactness</th>\n",
       "      <th>worst concavity</th>\n",
       "      <th>worst concave points</th>\n",
       "      <th>worst symmetry</th>\n",
       "      <th>worst fractal dimension</th>\n",
       "      <th>target</th>\n",
       "    </tr>\n",
       "  </thead>\n",
       "  <tbody>\n",
       "    <tr>\n",
       "      <th>0</th>\n",
       "      <td>17.99</td>\n",
       "      <td>10.38</td>\n",
       "      <td>122.80</td>\n",
       "      <td>1001.0</td>\n",
       "      <td>0.11840</td>\n",
       "      <td>0.27760</td>\n",
       "      <td>0.3001</td>\n",
       "      <td>0.14710</td>\n",
       "      <td>0.2419</td>\n",
       "      <td>0.07871</td>\n",
       "      <td>...</td>\n",
       "      <td>17.33</td>\n",
       "      <td>184.60</td>\n",
       "      <td>2019.0</td>\n",
       "      <td>0.1622</td>\n",
       "      <td>0.6656</td>\n",
       "      <td>0.7119</td>\n",
       "      <td>0.2654</td>\n",
       "      <td>0.4601</td>\n",
       "      <td>0.11890</td>\n",
       "      <td>0</td>\n",
       "    </tr>\n",
       "    <tr>\n",
       "      <th>1</th>\n",
       "      <td>20.57</td>\n",
       "      <td>17.77</td>\n",
       "      <td>132.90</td>\n",
       "      <td>1326.0</td>\n",
       "      <td>0.08474</td>\n",
       "      <td>0.07864</td>\n",
       "      <td>0.0869</td>\n",
       "      <td>0.07017</td>\n",
       "      <td>0.1812</td>\n",
       "      <td>0.05667</td>\n",
       "      <td>...</td>\n",
       "      <td>23.41</td>\n",
       "      <td>158.80</td>\n",
       "      <td>1956.0</td>\n",
       "      <td>0.1238</td>\n",
       "      <td>0.1866</td>\n",
       "      <td>0.2416</td>\n",
       "      <td>0.1860</td>\n",
       "      <td>0.2750</td>\n",
       "      <td>0.08902</td>\n",
       "      <td>0</td>\n",
       "    </tr>\n",
       "    <tr>\n",
       "      <th>2</th>\n",
       "      <td>19.69</td>\n",
       "      <td>21.25</td>\n",
       "      <td>130.00</td>\n",
       "      <td>1203.0</td>\n",
       "      <td>0.10960</td>\n",
       "      <td>0.15990</td>\n",
       "      <td>0.1974</td>\n",
       "      <td>0.12790</td>\n",
       "      <td>0.2069</td>\n",
       "      <td>0.05999</td>\n",
       "      <td>...</td>\n",
       "      <td>25.53</td>\n",
       "      <td>152.50</td>\n",
       "      <td>1709.0</td>\n",
       "      <td>0.1444</td>\n",
       "      <td>0.4245</td>\n",
       "      <td>0.4504</td>\n",
       "      <td>0.2430</td>\n",
       "      <td>0.3613</td>\n",
       "      <td>0.08758</td>\n",
       "      <td>0</td>\n",
       "    </tr>\n",
       "    <tr>\n",
       "      <th>3</th>\n",
       "      <td>11.42</td>\n",
       "      <td>20.38</td>\n",
       "      <td>77.58</td>\n",
       "      <td>386.1</td>\n",
       "      <td>0.14250</td>\n",
       "      <td>0.28390</td>\n",
       "      <td>0.2414</td>\n",
       "      <td>0.10520</td>\n",
       "      <td>0.2597</td>\n",
       "      <td>0.09744</td>\n",
       "      <td>...</td>\n",
       "      <td>26.50</td>\n",
       "      <td>98.87</td>\n",
       "      <td>567.7</td>\n",
       "      <td>0.2098</td>\n",
       "      <td>0.8663</td>\n",
       "      <td>0.6869</td>\n",
       "      <td>0.2575</td>\n",
       "      <td>0.6638</td>\n",
       "      <td>0.17300</td>\n",
       "      <td>0</td>\n",
       "    </tr>\n",
       "    <tr>\n",
       "      <th>4</th>\n",
       "      <td>20.29</td>\n",
       "      <td>14.34</td>\n",
       "      <td>135.10</td>\n",
       "      <td>1297.0</td>\n",
       "      <td>0.10030</td>\n",
       "      <td>0.13280</td>\n",
       "      <td>0.1980</td>\n",
       "      <td>0.10430</td>\n",
       "      <td>0.1809</td>\n",
       "      <td>0.05883</td>\n",
       "      <td>...</td>\n",
       "      <td>16.67</td>\n",
       "      <td>152.20</td>\n",
       "      <td>1575.0</td>\n",
       "      <td>0.1374</td>\n",
       "      <td>0.2050</td>\n",
       "      <td>0.4000</td>\n",
       "      <td>0.1625</td>\n",
       "      <td>0.2364</td>\n",
       "      <td>0.07678</td>\n",
       "      <td>0</td>\n",
       "    </tr>\n",
       "  </tbody>\n",
       "</table>\n",
       "<p>5 rows × 31 columns</p>\n",
       "</div>"
      ],
      "text/plain": [
       "   mean radius  mean texture  mean perimeter  mean area  mean smoothness  \\\n",
       "0        17.99         10.38          122.80     1001.0          0.11840   \n",
       "1        20.57         17.77          132.90     1326.0          0.08474   \n",
       "2        19.69         21.25          130.00     1203.0          0.10960   \n",
       "3        11.42         20.38           77.58      386.1          0.14250   \n",
       "4        20.29         14.34          135.10     1297.0          0.10030   \n",
       "\n",
       "   mean compactness  mean concavity  mean concave points  mean symmetry  \\\n",
       "0           0.27760          0.3001              0.14710         0.2419   \n",
       "1           0.07864          0.0869              0.07017         0.1812   \n",
       "2           0.15990          0.1974              0.12790         0.2069   \n",
       "3           0.28390          0.2414              0.10520         0.2597   \n",
       "4           0.13280          0.1980              0.10430         0.1809   \n",
       "\n",
       "   mean fractal dimension  ...  worst texture  worst perimeter  worst area  \\\n",
       "0                 0.07871  ...          17.33           184.60      2019.0   \n",
       "1                 0.05667  ...          23.41           158.80      1956.0   \n",
       "2                 0.05999  ...          25.53           152.50      1709.0   \n",
       "3                 0.09744  ...          26.50            98.87       567.7   \n",
       "4                 0.05883  ...          16.67           152.20      1575.0   \n",
       "\n",
       "   worst smoothness  worst compactness  worst concavity  worst concave points  \\\n",
       "0            0.1622             0.6656           0.7119                0.2654   \n",
       "1            0.1238             0.1866           0.2416                0.1860   \n",
       "2            0.1444             0.4245           0.4504                0.2430   \n",
       "3            0.2098             0.8663           0.6869                0.2575   \n",
       "4            0.1374             0.2050           0.4000                0.1625   \n",
       "\n",
       "   worst symmetry  worst fractal dimension  target  \n",
       "0          0.4601                  0.11890       0  \n",
       "1          0.2750                  0.08902       0  \n",
       "2          0.3613                  0.08758       0  \n",
       "3          0.6638                  0.17300       0  \n",
       "4          0.2364                  0.07678       0  \n",
       "\n",
       "[5 rows x 31 columns]"
      ]
     },
     "execution_count": 47,
     "metadata": {},
     "output_type": "execute_result"
    }
   ],
   "source": [
    "from sklearn.datasets import load_breast_cancer\n",
    "data = load_breast_cancer()\n",
    "# Read the DataFrame, first using the feature data\n",
    "df = pd.DataFrame(data.data, columns=data.feature_names)\n",
    "# Add a target column, and fill it with the target data\n",
    "df['target'] = data.target\n",
    "# Show the first five rows\n",
    "df.head()"
   ]
  },
  {
   "cell_type": "code",
   "execution_count": 49,
   "id": "0f85ed7b",
   "metadata": {},
   "outputs": [],
   "source": [
    "# since this data is imported from sklearn, we know that it is clean and does not require any data cleaning"
   ]
  },
  {
   "cell_type": "markdown",
   "id": "9aacf88a",
   "metadata": {},
   "source": [
    "#### split training and testing data"
   ]
  },
  {
   "cell_type": "code",
   "execution_count": 50,
   "id": "d927cb49",
   "metadata": {},
   "outputs": [],
   "source": [
    "from sklearn.model_selection import train_test_split\n",
    "\n",
    "X_train, X_test, y_train, y_test = train_test_split(X, y)"
   ]
  },
  {
   "cell_type": "markdown",
   "id": "2dc39142",
   "metadata": {},
   "source": [
    "#### using StandardScaler()"
   ]
  },
  {
   "cell_type": "code",
   "execution_count": 51,
   "id": "e5abb1d9",
   "metadata": {},
   "outputs": [],
   "source": [
    "from sklearn.preprocessing import StandardScaler\n",
    "\n",
    "scaler = StandardScaler()\n",
    "X_train = scaler.fit_transform(X_train)\n",
    "X_test = scaler.transform(X_test)"
   ]
  },
  {
   "cell_type": "markdown",
   "id": "f84984a7",
   "metadata": {},
   "source": [
    "#### build SVM Classification model"
   ]
  },
  {
   "cell_type": "code",
   "execution_count": 54,
   "id": "a43d95d9",
   "metadata": {},
   "outputs": [
    {
     "data": {
      "text/plain": [
       "array([8495., 8495., 8495., 8495., 8495., 8495., 8495., 8495., 8495.,\n",
       "       8495., 8495., 8495., 8495., 8495., 8495., 8495., 8495., 8495.,\n",
       "       8495., 8495., 8495., 8495., 8495., 8495., 8495., 8495., 8495.,\n",
       "       8495., 8495., 8495., 8495., 8495., 8495., 8495., 8495., 8495.,\n",
       "       8495., 8495., 8495., 8495., 8495., 8495., 8495., 8495., 8495.,\n",
       "       8495., 8495., 8495., 8495., 8495., 8495.])"
      ]
     },
     "execution_count": 54,
     "metadata": {},
     "output_type": "execute_result"
    }
   ],
   "source": [
    "from sklearn import svm\n",
    "\n",
    "svm1 = svm.SVC(kernel='linear', C = 0.01)\n",
    "svm1.fit(X_test,y_test)\n",
    "\n",
    "y_train_pred = svm1.predict(X_train)\n",
    "y_test_pred = svm1.predict(X_test)\n",
    "\n",
    "y_test_pred"
   ]
  },
  {
   "cell_type": "markdown",
   "id": "3866d761",
   "metadata": {},
   "source": [
    "#### evaluate model performance"
   ]
  },
  {
   "cell_type": "code",
   "execution_count": 56,
   "id": "ba0f1821",
   "metadata": {},
   "outputs": [
    {
     "name": "stdout",
     "output_type": "stream",
     "text": [
      "Accuracy : 0.0392156862745098\n",
      "Confusion Matrix : [[0 0 0 ... 0 0 0]\n",
      " [0 0 0 ... 0 0 0]\n",
      " [0 0 0 ... 0 0 0]\n",
      " ...\n",
      " [0 0 0 ... 0 0 0]\n",
      " [0 0 0 ... 0 0 0]\n",
      " [0 0 0 ... 0 0 0]]\n"
     ]
    }
   ],
   "source": [
    "from sklearn.metrics import accuracy_score, confusion_matrix\n",
    "\n",
    "print('Accuracy :', accuracy_score(y_test, y_test_pred))\n",
    "print('Confusion Matrix :', confusion_matrix(y_test,y_test_pred))"
   ]
  },
  {
   "cell_type": "markdown",
   "id": "ce566017",
   "metadata": {},
   "source": [
    "#### NOTE: this may not be the best fitting model. Try different values for parameters 'kernel', 'C', 'gamma', 'degree', etc in SVC() method of sklearn.svm module"
   ]
  },
  {
   "cell_type": "code",
   "execution_count": 77,
   "id": "5817ece8",
   "metadata": {},
   "outputs": [],
   "source": [
    "#### GridSearch\n",
    "\n",
    "from sklearn.model_selection import GridSearchCV\n",
    "\n",
    "param = {'C':(0,0.01,0.5,0.1,1,2,5,10,50,100,500,1000)}\n",
    "\n",
    "svm1 = svm.SVC(kernel = 'rbf')\n",
    "svm.grid = GridSearchCV(svm1, param, n_jobs=1, cv=2, verbose=1, scoring='accuracy')"
   ]
  },
  {
   "cell_type": "code",
   "execution_count": 78,
   "id": "329d9cc4",
   "metadata": {},
   "outputs": [
    {
     "name": "stdout",
     "output_type": "stream",
     "text": [
      "Fitting 2 folds for each of 12 candidates, totalling 24 fits\n"
     ]
    },
    {
     "name": "stderr",
     "output_type": "stream",
     "text": [
      "C:\\ProgramData\\Anaconda3\\lib\\site-packages\\sklearn\\model_selection\\_split.py:666: UserWarning: The least populated class in y has only 1 members, which is less than n_splits=2.\n",
      "  warnings.warn((\"The least populated class in y has only %d\"\n",
      "C:\\ProgramData\\Anaconda3\\lib\\site-packages\\sklearn\\model_selection\\_validation.py:610: FitFailedWarning: Estimator fit failed. The score on this train-test partition for these parameters will be set to nan. Details: \n",
      "Traceback (most recent call last):\n",
      "  File \"C:\\ProgramData\\Anaconda3\\lib\\site-packages\\sklearn\\model_selection\\_validation.py\", line 593, in _fit_and_score\n",
      "    estimator.fit(X_train, y_train, **fit_params)\n",
      "  File \"C:\\ProgramData\\Anaconda3\\lib\\site-packages\\sklearn\\svm\\_base.py\", line 226, in fit\n",
      "    fit(X, y, sample_weight, solver_type, kernel, random_seed=seed)\n",
      "  File \"C:\\ProgramData\\Anaconda3\\lib\\site-packages\\sklearn\\svm\\_base.py\", line 277, in _dense_fit\n",
      "    self._probB, self.fit_status_ = libsvm.fit(\n",
      "  File \"sklearn\\svm\\_libsvm.pyx\", line 192, in sklearn.svm._libsvm.fit\n",
      "ValueError: C <= 0\n",
      "\n",
      "  warnings.warn(\"Estimator fit failed. The score on this train-test\"\n",
      "C:\\ProgramData\\Anaconda3\\lib\\site-packages\\sklearn\\model_selection\\_validation.py:610: FitFailedWarning: Estimator fit failed. The score on this train-test partition for these parameters will be set to nan. Details: \n",
      "Traceback (most recent call last):\n",
      "  File \"C:\\ProgramData\\Anaconda3\\lib\\site-packages\\sklearn\\model_selection\\_validation.py\", line 593, in _fit_and_score\n",
      "    estimator.fit(X_train, y_train, **fit_params)\n",
      "  File \"C:\\ProgramData\\Anaconda3\\lib\\site-packages\\sklearn\\svm\\_base.py\", line 226, in fit\n",
      "    fit(X, y, sample_weight, solver_type, kernel, random_seed=seed)\n",
      "  File \"C:\\ProgramData\\Anaconda3\\lib\\site-packages\\sklearn\\svm\\_base.py\", line 277, in _dense_fit\n",
      "    self._probB, self.fit_status_ = libsvm.fit(\n",
      "  File \"sklearn\\svm\\_libsvm.pyx\", line 192, in sklearn.svm._libsvm.fit\n",
      "ValueError: C <= 0\n",
      "\n",
      "  warnings.warn(\"Estimator fit failed. The score on this train-test\"\n",
      "C:\\ProgramData\\Anaconda3\\lib\\site-packages\\sklearn\\model_selection\\_search.py:918: UserWarning: One or more of the test scores are non-finite: [       nan 0.04666667 0.04666667 0.04666667 0.04666667 0.04666667\n",
      " 0.04666667 0.04666667 0.04666667 0.04666667 0.04666667 0.04666667]\n",
      "  warnings.warn(\n"
     ]
    },
    {
     "data": {
      "text/plain": [
       "GridSearchCV(cv=2, estimator=SVC(), n_jobs=1,\n",
       "             param_grid={'C': (0, 0.01, 0.5, 0.1, 1, 2, 5, 10, 50, 100, 500,\n",
       "                               1000)},\n",
       "             scoring='accuracy', verbose=1)"
      ]
     },
     "execution_count": 78,
     "metadata": {},
     "output_type": "execute_result"
    }
   ],
   "source": [
    "svm.grid.fit(X_train,y_train)"
   ]
  },
  {
   "cell_type": "code",
   "execution_count": 79,
   "id": "8af300bd",
   "metadata": {
    "scrolled": true
   },
   "outputs": [
    {
     "data": {
      "text/plain": [
       "0.0"
      ]
     },
     "execution_count": 79,
     "metadata": {},
     "output_type": "execute_result"
    }
   ],
   "source": [
    "linsvm_clf = svm.grid.best_estimator_\n",
    "accuracy_score(y_test,linsvm_clf.predict(X_test))"
   ]
  },
  {
   "cell_type": "markdown",
   "id": "995a81b0",
   "metadata": {},
   "source": [
    "#### similarly, use GridSearch to find the best fitting model by comparing performances of multiple models with different values for parameters (kernel, C, etc)"
   ]
  },
  {
   "cell_type": "markdown",
   "id": "ee8ef5f9",
   "metadata": {},
   "source": [
    "#### finally proceed by training the model with entire dataset"
   ]
  },
  {
   "cell_type": "markdown",
   "id": "8099ac27",
   "metadata": {},
   "source": [
    " "
   ]
  },
  {
   "cell_type": "markdown",
   "id": "0816e478",
   "metadata": {},
   "source": [
    "## References\n",
    "\n",
    "- https://www.coursera.org/learn/machine-learning\n",
    "- https://machinelearningmedium.com/2018/04/10/support-vector-machines/\n",
    "- https://towardsdatascience.com/svm-support-vector-machine-for-classification-710a009f6873\n",
    "- https://towardsdatascience.com/https-medium-com-pupalerushikesh-svm-f4b42800e989\n",
    "- https://programmathically.com/what-is-a-kernel-in-machine-learning/"
   ]
  }
 ],
 "metadata": {
  "kernelspec": {
   "display_name": "Python 3",
   "language": "python",
   "name": "python3"
  },
  "language_info": {
   "codemirror_mode": {
    "name": "ipython",
    "version": 3
   },
   "file_extension": ".py",
   "mimetype": "text/x-python",
   "name": "python",
   "nbconvert_exporter": "python",
   "pygments_lexer": "ipython3",
   "version": "3.8.8"
  }
 },
 "nbformat": 4,
 "nbformat_minor": 5
}
