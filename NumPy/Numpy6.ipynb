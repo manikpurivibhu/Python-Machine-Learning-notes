{
 "cells": [
  {
   "cell_type": "markdown",
   "metadata": {},
   "source": [
    "# Stastical Functions in Numpy"
   ]
  },
  {
   "cell_type": "code",
   "execution_count": 1,
   "metadata": {},
   "outputs": [],
   "source": [
    "import numpy as np"
   ]
  },
  {
   "cell_type": "code",
   "execution_count": 2,
   "metadata": {},
   "outputs": [
    {
     "name": "stdout",
     "output_type": "stream",
     "text": [
      "[0 1 2 3 4 5 6 7 8 9]\n"
     ]
    }
   ],
   "source": [
    "a = np.arange(10)\n",
    "print(a)"
   ]
  },
  {
   "cell_type": "code",
   "execution_count": 3,
   "metadata": {},
   "outputs": [
    {
     "name": "stdout",
     "output_type": "stream",
     "text": [
      "4.5\n"
     ]
    }
   ],
   "source": [
    "#Median\n",
    "print(np.median(a))"
   ]
  },
  {
   "cell_type": "code",
   "execution_count": 4,
   "metadata": {},
   "outputs": [
    {
     "name": "stdout",
     "output_type": "stream",
     "text": [
      "4.5\n"
     ]
    }
   ],
   "source": [
    "#Average\n",
    "print(np.average(a))"
   ]
  },
  {
   "cell_type": "code",
   "execution_count": 5,
   "metadata": {},
   "outputs": [
    {
     "name": "stdout",
     "output_type": "stream",
     "text": [
      "4.5\n"
     ]
    }
   ],
   "source": [
    "#Mean\n",
    "print(np.mean(a))"
   ]
  },
  {
   "cell_type": "code",
   "execution_count": 22,
   "metadata": {},
   "outputs": [
    {
     "name": "stdout",
     "output_type": "stream",
     "text": [
      "2.8722813232690143\n"
     ]
    }
   ],
   "source": [
    "#Stabdard Deviation\n",
    "print(np.std(a))"
   ]
  },
  {
   "cell_type": "code",
   "execution_count": 23,
   "metadata": {},
   "outputs": [
    {
     "name": "stdout",
     "output_type": "stream",
     "text": [
      "8.25\n"
     ]
    }
   ],
   "source": [
    "#Variance\n",
    "print(np.var(a))"
   ]
  },
  {
   "cell_type": "code",
   "execution_count": 24,
   "metadata": {},
   "outputs": [],
   "source": [
    "def stats(arg):\n",
    "    a = arg\n",
    "    print(\"Median = \", np.median(a))\n",
    "    print(\"Average =\", np.average(a))\n",
    "    print(\"Mean =\", np.mean(a))\n",
    "    print(\"Variance =\", np.var(a))\n",
    "    print(\"Standard Deviation =\", np.std(a))\n",
    "    return arg\n"
   ]
  },
  {
   "cell_type": "code",
   "execution_count": 25,
   "metadata": {},
   "outputs": [
    {
     "name": "stdout",
     "output_type": "stream",
     "text": [
      "Median =  4.5\n",
      "Average = 4.5\n",
      "Mean = 4.5\n",
      "Variance = 8.25\n",
      "Standard Deviation = 2.8722813232690143\n"
     ]
    },
    {
     "data": {
      "text/plain": [
       "array([0, 1, 2, 3, 4, 5, 6, 7, 8, 9])"
      ]
     },
     "execution_count": 25,
     "metadata": {},
     "output_type": "execute_result"
    }
   ],
   "source": [
    "stats(np.arange(10))"
   ]
  },
  {
   "cell_type": "code",
   "execution_count": 26,
   "metadata": {},
   "outputs": [
    {
     "name": "stdout",
     "output_type": "stream",
     "text": [
      "Median =  2.5\n",
      "Average = 3.2\n",
      "Mean = 3.2\n",
      "Variance = 10.960000000000003\n",
      "Standard Deviation = 3.31058907144937\n"
     ]
    },
    {
     "data": {
      "text/plain": [
       "array([0, 9, 1, 7, 0, 0, 4, 4, 7, 0])"
      ]
     },
     "execution_count": 26,
     "metadata": {},
     "output_type": "execute_result"
    }
   ],
   "source": [
    "stats(np.random.randint(low = 0, high = 10,size =10))"
   ]
  },
  {
   "cell_type": "markdown",
   "metadata": {},
   "source": [
    "Histogram"
   ]
  },
  {
   "cell_type": "code",
   "execution_count": 28,
   "metadata": {},
   "outputs": [
    {
     "name": "stdout",
     "output_type": "stream",
     "text": [
      "[6 8 4 3 7 6 1 3 2 3]\n"
     ]
    }
   ],
   "source": [
    "b = np.random.randint(low=0, high=10,size=10)\n",
    "print(b)"
   ]
  },
  {
   "cell_type": "code",
   "execution_count": 31,
   "metadata": {},
   "outputs": [
    {
     "name": "stdout",
     "output_type": "stream",
     "text": [
      "(array([1, 1, 3, 0, 1, 0, 0, 2, 1, 1], dtype=int64), array([1. , 1.7, 2.4, 3.1, 3.8, 4.5, 5.2, 5.9, 6.6, 7.3, 8. ]))\n"
     ]
    }
   ],
   "source": [
    "print(np.histogram(b))\n",
    "\n",
    "#A histogram is a bar graph-like representation of data that buckets a class interval in 1 axis\n",
    "#and the frequency of occurence of data in that interval in the other\n",
    "#in output the second array represents the range in wh the el.s of the passed arr fall\n",
    "#and the first array represents the frequency of occurence of no.s in each subsequent interval\n"
   ]
  },
  {
   "cell_type": "code",
   "execution_count": 33,
   "metadata": {},
   "outputs": [
    {
     "name": "stdout",
     "output_type": "stream",
     "text": [
      "[[[  2   3   4   5   5]\n",
      "  [ 32  32  54  65   2]]\n",
      "\n",
      " [[ 65 324  56  34  54]\n",
      "  [423  54  67   8   3]]]\n",
      "(2, 2, 5)\n"
     ]
    }
   ],
   "source": [
    "x = np.array([[[2,3,4,5,5],[32,32,54,65,2]],[[65,324,56,34,54],[423,54,67,8,3]]])\n",
    "print(x)\n",
    "print(x.shape)"
   ]
  },
  {
   "cell_type": "code",
   "execution_count": 34,
   "metadata": {},
   "outputs": [
    {
     "name": "stdout",
     "output_type": "stream",
     "text": [
      "Median =  33.0\n",
      "Average = 64.6\n",
      "Mean = 64.6\n",
      "Variance = 11431.239999999998\n",
      "Standard Deviation = 106.91697713646789\n"
     ]
    },
    {
     "data": {
      "text/plain": [
       "array([[[  2,   3,   4,   5,   5],\n",
       "        [ 32,  32,  54,  65,   2]],\n",
       "\n",
       "       [[ 65, 324,  56,  34,  54],\n",
       "        [423,  54,  67,   8,   3]]])"
      ]
     },
     "execution_count": 34,
     "metadata": {},
     "output_type": "execute_result"
    }
   ],
   "source": [
    "stats(x)"
   ]
  }
 ],
 "metadata": {
  "kernelspec": {
   "display_name": "Python 3",
   "language": "python",
   "name": "python3"
  },
  "language_info": {
   "codemirror_mode": {
    "name": "ipython",
    "version": 3
   },
   "file_extension": ".py",
   "mimetype": "text/x-python",
   "name": "python",
   "nbconvert_exporter": "python",
   "pygments_lexer": "ipython3",
   "version": "3.8.2"
  }
 },
 "nbformat": 4,
 "nbformat_minor": 4
}
