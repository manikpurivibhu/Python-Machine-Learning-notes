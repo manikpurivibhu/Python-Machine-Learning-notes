{
 "cells": [
  {
   "cell_type": "markdown",
   "metadata": {},
   "source": [
    "# Routines for Random"
   ]
  },
  {
   "cell_type": "code",
   "execution_count": 85,
   "metadata": {},
   "outputs": [],
   "source": [
    "import numpy as np"
   ]
  },
  {
   "cell_type": "code",
   "execution_count": 86,
   "metadata": {},
   "outputs": [
    {
     "name": "stdout",
     "output_type": "stream",
     "text": [
      "[4 5 2 7 8 2 4 1 3 5]\n"
     ]
    }
   ],
   "source": [
    "#returns 1d ndarray w random el.s between given limit of specified size\n",
    "r1 = np.random.randint(low = 0, high = 9, size =10)\n",
    "print(r1)"
   ]
  },
  {
   "cell_type": "code",
   "execution_count": 87,
   "metadata": {},
   "outputs": [
    {
     "name": "stdout",
     "output_type": "stream",
     "text": [
      "[[[0.82101385 0.34477564 0.97658781]\n",
      "  [0.22893914 0.21614535 0.91621164]]\n",
      "\n",
      " [[0.41219097 0.60294611 0.99849464]\n",
      "  [0.68998049 0.91336457 0.50183334]]\n",
      "\n",
      " [[0.2285121  0.08739968 0.98821161]\n",
      "  [0.90957793 0.17298133 0.53557219]]]\n"
     ]
    }
   ],
   "source": [
    "#returns ndarray of n>1 w random el.s\n",
    "r2 = np.random.rand(3,2,3) \n",
    "print(r2)"
   ]
  },
  {
   "cell_type": "code",
   "execution_count": 88,
   "metadata": {},
   "outputs": [
    {
     "name": "stdout",
     "output_type": "stream",
     "text": [
      "[0.48826501 0.3499867  0.75114053]\n",
      "[[0.55143031 0.62043113 0.63799065 0.7007129 ]\n",
      " [0.98924153 0.48266167 0.17330112 0.03560145]]\n"
     ]
    }
   ],
   "source": [
    "#returns array of float random el.s\n",
    "print(np.random.rand((3)))\n",
    "print(np.random.rand(2,4))"
   ]
  },
  {
   "cell_type": "code",
   "execution_count": 89,
   "metadata": {},
   "outputs": [
    {
     "name": "stdout",
     "output_type": "stream",
     "text": [
      "2\n",
      "[[  76   76 6585    3 3453   34]\n",
      " [  53   53    3 3453 6585    3]]\n"
     ]
    }
   ],
   "source": [
    "#The choice() method takes an array as a parameter \n",
    "#and randomly returns one of the values or an arr of val.s of specified size\n",
    "#random.choice([arr])\n",
    "r3 = np.random.choice([2,3,43,6,4,32,3])\n",
    "print(r3)\n",
    "r4 = np.random.choice([2,3453,645,76,3,6585,34,53], size = (2,6))\n",
    "print(r4)"
   ]
  },
  {
   "cell_type": "code",
   "execution_count": 90,
   "metadata": {},
   "outputs": [
    {
     "name": "stdout",
     "output_type": "stream",
     "text": [
      "[[  1212     32    543    654    324    654    345]\n",
      " [   234    237  65456 786345     56   4345     45]]\n"
     ]
    }
   ],
   "source": [
    "temp = np.array([[1212,32,543,654,324,654,345],[234,237,65456,786345,56,4345,45]])\n",
    "print(temp)"
   ]
  },
  {
   "cell_type": "code",
   "execution_count": 91,
   "metadata": {},
   "outputs": [
    {
     "name": "stderr",
     "output_type": "stream",
     "text": [
      "<ipython-input-91-5b7dbce9741a>:1: DeprecationWarning: This function is deprecated. Please call randint(0, 34 + 1) instead\n",
      "  np.random.random_integers(0,34,20)\n"
     ]
    },
    {
     "data": {
      "text/plain": [
       "array([25, 26, 13, 20, 19, 13, 17,  0, 26, 31, 17, 20,  8, 15,  5,  6,  3,\n",
       "       23, 13, 15])"
      ]
     },
     "execution_count": 91,
     "metadata": {},
     "output_type": "execute_result"
    }
   ],
   "source": [
    "np.random.random_integers(0,34,20)"
   ]
  },
  {
   "cell_type": "code",
   "execution_count": 92,
   "metadata": {},
   "outputs": [
    {
     "data": {
      "text/plain": [
       "array([[[0.0280434 ],\n",
       "        [0.08773201],\n",
       "        [0.40227123]],\n",
       "\n",
       "       [[0.64813781],\n",
       "        [0.61116018],\n",
       "        [0.92701217]]])"
      ]
     },
     "execution_count": 92,
     "metadata": {},
     "output_type": "execute_result"
    }
   ],
   "source": [
    "#np.random.ranf([size]) returns an arr of random floats in interval [0.0,1.0) of given order\n",
    "np.random.ranf([2,3,1])"
   ]
  },
  {
   "cell_type": "code",
   "execution_count": 93,
   "metadata": {},
   "outputs": [
    {
     "data": {
      "text/plain": [
       "array([[0.1517718 , 0.30776292, 0.10793904],\n",
       "       [0.49946736, 0.41572749, 0.30461218],\n",
       "       [0.59512124, 0.8722133 , 0.11229008],\n",
       "       [0.8475309 , 0.30243202, 0.93832729]])"
      ]
     },
     "execution_count": 93,
     "metadata": {},
     "output_type": "execute_result"
    }
   ],
   "source": [
    "#np.random.sample([size]) Return random floats in the half-open interval [0.0, 1.0).\n",
    "np.random.sample([4,3])"
   ]
  },
  {
   "cell_type": "code",
   "execution_count": 94,
   "metadata": {},
   "outputs": [
    {
     "data": {
      "text/plain": [
       "b'\\xc0~\\xe6\\xcdx'"
      ]
     },
     "execution_count": 94,
     "metadata": {},
     "output_type": "execute_result"
    }
   ],
   "source": [
    "#np.random.bytes(length) returns random bytes of given length\n",
    "np.random.bytes(5)"
   ]
  },
  {
   "cell_type": "code",
   "execution_count": null,
   "metadata": {},
   "outputs": [],
   "source": []
  }
 ],
 "metadata": {
  "kernelspec": {
   "display_name": "Python 3",
   "language": "python",
   "name": "python3"
  },
  "language_info": {
   "codemirror_mode": {
    "name": "ipython",
    "version": 3
   },
   "file_extension": ".py",
   "mimetype": "text/x-python",
   "name": "python",
   "nbconvert_exporter": "python",
   "pygments_lexer": "ipython3",
   "version": "3.8.2"
  }
 },
 "nbformat": 4,
 "nbformat_minor": 4
}
