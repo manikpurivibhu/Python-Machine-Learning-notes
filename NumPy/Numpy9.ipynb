{
 "cells": [
  {
   "cell_type": "markdown",
   "metadata": {},
   "source": [
    "## Dot Product"
   ]
  },
  {
   "cell_type": "code",
   "execution_count": 2,
   "metadata": {},
   "outputs": [],
   "source": [
    "import numpy as np"
   ]
  },
  {
   "cell_type": "code",
   "execution_count": null,
   "metadata": {},
   "outputs": [],
   "source": [
    "#np.dot(matr1, matr2)"
   ]
  },
  {
   "cell_type": "code",
   "execution_count": 4,
   "metadata": {},
   "outputs": [
    {
     "name": "stdout",
     "output_type": "stream",
     "text": [
      "50\n"
     ]
    }
   ],
   "source": [
    "print(np.dot(10,5))"
   ]
  },
  {
   "cell_type": "code",
   "execution_count": 7,
   "metadata": {},
   "outputs": [
    {
     "name": "stdout",
     "output_type": "stream",
     "text": [
      "34\n"
     ]
    }
   ],
   "source": [
    "#!-D Matrix or Vectors\n",
    "\n",
    "a1 = np.array([2,4], np.uint8)\n",
    "b1 = np.array([5,6], np.uint8)\n",
    "\n",
    "print(np.dot(a1,b1))"
   ]
  },
  {
   "cell_type": "code",
   "execution_count": 13,
   "metadata": {},
   "outputs": [
    {
     "name": "stdout",
     "output_type": "stream",
     "text": [
      "[[3.96377889 2.45666179 4.64830764 2.34331615]\n",
      " [3.79511794 2.36051504 4.43280709 2.24636708]\n",
      " [2.72961977 1.69703386 3.18986905 1.6154399 ]\n",
      " [1.72674953 1.06862557 2.02827971 1.02030531]\n",
      " [2.20595757 1.37150029 2.57784126 1.30553765]\n",
      " [0.78379014 0.48701167 0.91653678 0.46376977]\n",
      " [3.36919303 2.09397381 3.93873929 1.99372429]\n",
      " [3.94795764 2.45499761 4.61255712 2.33664287]\n",
      " [2.64244065 1.64577538 3.08177672 1.56481401]\n",
      " [1.85573927 1.15388761 2.16831437 1.09831202]]\n"
     ]
    }
   ],
   "source": [
    "#ND Arrays Dot Product\n",
    "#np.linalgmulti_dot([matr1, matr2,matr3,matr4,...])\n",
    "# linalg --> linear algebra, multi --> >2, \n",
    "a3 = np.random.rand(10,5)      #creating random array of m*n order\n",
    "b3 = np.random.rand(5,2)\n",
    "c3 = np.random.rand(2,3)\n",
    "d3 = np.random.rand(3,4)\n",
    "e3 = np.linalg.multi_dot([a3,b3,c3,d3])   #final matr would be of order 10*4\n",
    "\n",
    "\n",
    "print(e3)"
   ]
  },
  {
   "cell_type": "markdown",
   "metadata": {},
   "source": [
    "## Dot product between 2 ND Arrays"
   ]
  },
  {
   "cell_type": "code",
   "execution_count": 17,
   "metadata": {},
   "outputs": [
    {
     "name": "stdout",
     "output_type": "stream",
     "text": [
      "11\n"
     ]
    }
   ],
   "source": [
    "a4 = np.array([1,2])\n",
    "b4 = np.array([3,4])\n",
    "\n",
    "print(np.dot(a4,b4))"
   ]
  },
  {
   "cell_type": "code",
   "execution_count": 22,
   "metadata": {},
   "outputs": [
    {
     "name": "stdout",
     "output_type": "stream",
     "text": [
      "(42-11j)\n"
     ]
    }
   ],
   "source": [
    "#Dot Product of Complex el.s\n",
    "#np.vdot(matr1, matr2)\n",
    "a4 = np.array([1+5j,2+3j])\n",
    "b4 = np.array([3+2j,4+7j])\n",
    "\n",
    "print(np.vdot(a4,b4))"
   ]
  },
  {
   "cell_type": "code",
   "execution_count": 23,
   "metadata": {},
   "outputs": [
    {
     "name": "stdout",
     "output_type": "stream",
     "text": [
      "(42+11j)\n"
     ]
    }
   ],
   "source": [
    "print(np.vdot(b4, a4))"
   ]
  },
  {
   "cell_type": "markdown",
   "metadata": {},
   "source": [
    "Inner product b/w 2 ND Arrays"
   ]
  },
  {
   "cell_type": "code",
   "execution_count": null,
   "metadata": {},
   "outputs": [],
   "source": [
    "#np.inner(matr1, matr2)"
   ]
  },
  {
   "cell_type": "code",
   "execution_count": 28,
   "metadata": {},
   "outputs": [
    {
     "name": "stdout",
     "output_type": "stream",
     "text": [
      "12\n"
     ]
    }
   ],
   "source": [
    "a5 = np.array([1,2,3,4,5,6])\n",
    "b5 = np.array([0,1,0,1,0,1])\n",
    "\n",
    "print(np.inner(a5, b5))"
   ]
  },
  {
   "cell_type": "code",
   "execution_count": null,
   "metadata": {},
   "outputs": [],
   "source": [
    "#Inner product of 2-D Array"
   ]
  },
  {
   "cell_type": "code",
   "execution_count": 31,
   "metadata": {},
   "outputs": [
    {
     "name": "stdout",
     "output_type": "stream",
     "text": [
      "[[ 2  4]\n",
      " [ 5 10]]\n"
     ]
    }
   ],
   "source": [
    "a5 = np.array([[1,2,3],[4,5,6]])\n",
    "b5 = np.array([[0,1,0],[1,0,1]])\n",
    "\n",
    "print(np.inner(a5, b5))\n"
   ]
  },
  {
   "cell_type": "markdown",
   "metadata": {},
   "source": [
    "##QR Decomposition\n"
   ]
  },
  {
   "cell_type": "markdown",
   "metadata": {},
   "source": [
    "#np.dot(matr1, matr2)"
   ]
  },
  {
   "cell_type": "markdown",
   "metadata": {},
   "source": [
    "QR decomposition - Wikipediaen.wikipedia.org:\n",
    "In linear algebra, a QR decomposition, also known as a QR factorization or \n",
    "QU factorization is a decomposition of a matrix A into a product A = QR \n",
    "of an orthogonal matrix Q and an upper triangular matrix R.\n",
    "\n",
    "i.e. represent matr A as A = QR where Q is an orthogonal matrix and \n",
    "     R is an upper triangle matr. Manually this is done using gram schmidt method"
   ]
  },
  {
   "cell_type": "code",
   "execution_count": 71,
   "metadata": {},
   "outputs": [
    {
     "name": "stdout",
     "output_type": "stream",
     "text": [
      "[[0.51993128 0.49378868 0.04215138]\n",
      " [0.28924674 0.17496598 0.49741779]\n",
      " [0.75491929 0.71577788 0.32366212]]\n"
     ]
    }
   ],
   "source": [
    "a6 = np.random.rand(3,3)\n",
    "print(a6)"
   ]
  },
  {
   "cell_type": "code",
   "execution_count": 34,
   "metadata": {},
   "outputs": [],
   "source": [
    "#We are going to obtain the QR decompositio of a6 and then use the dot product of \n",
    "#factorized 'Q' and 'R' to obtain the matr a6 again"
   ]
  },
  {
   "cell_type": "code",
   "execution_count": 72,
   "metadata": {},
   "outputs": [
    {
     "name": "stdout",
     "output_type": "stream",
     "text": [
      "q =  [[-0.54092189  0.17651389 -0.822342  ]\n",
      " [-0.30092418 -0.95362417 -0.00675076]\n",
      " [-0.78539681  0.24381096  0.56895349]] \n",
      "\n",
      "r =  [[-0.96119475 -0.88192227 -0.42668884]\n",
      " [ 0.          0.09482326 -0.38799695]\n",
      " [ 0.          0.          0.14612789]] \n",
      "\n"
     ]
    }
   ],
   "source": [
    "#var1, var2 = np.linalg.qr(matr)\n",
    "q, r = np.linalg.qr(a6)\n",
    "print('q = ', q, '\\n\\nr = ', r, '\\n')"
   ]
  },
  {
   "cell_type": "code",
   "execution_count": 73,
   "metadata": {},
   "outputs": [
    {
     "name": "stdout",
     "output_type": "stream",
     "text": [
      "[[0.51993128 0.49378868 0.04215138]\n",
      " [0.28924674 0.17496598 0.49741779]\n",
      " [0.75491929 0.71577788 0.32366212]]\n"
     ]
    }
   ],
   "source": [
    "dotprod = np.dot(q,r) \n",
    "print(dotprod)"
   ]
  },
  {
   "cell_type": "code",
   "execution_count": 79,
   "metadata": {},
   "outputs": [
    {
     "name": "stdout",
     "output_type": "stream",
     "text": [
      "Comparing matrices:  [[False False False]\n",
      " [False False False]\n",
      " [False False  True]]\n",
      "\n",
      "type(a6): <class 'numpy.ndarray'>\n",
      "\n",
      "type(dotprod): <class 'numpy.ndarray'>\n",
      "\u0007n element of a6: 0.4937886796704949\n",
      "\u0007n element of dotprod: 0.49378867967049467\n",
      "\n",
      "type(elem of a6: <class 'numpy.float64'>\n",
      "\n",
      "type(elem of a6: <class 'numpy.float64'>\n",
      "\n",
      "are matrices equal?: False\n"
     ]
    }
   ],
   "source": [
    "#Doubt : a6 should be equal to dotprod but apparantly it'snot\n",
    "# there is a minor idfference in elements' values even tho dtype is same\n",
    "comparison_arg_var = a6==dotprod \n",
    "equal_arr = comparison_arg_var.all()\n",
    "print('Comparing matrices: ',comparison_arg_var)\n",
    "print('\\ntype(a6):', type(a6))\n",
    "print('\\ntype(dotprod):', type(dotprod))\n",
    "print('\\an element of a6:', a6[0,1])\n",
    "print('\\an element of dotprod:', dotprod[0,1])\n",
    "print('\\ntype(elem of a6:', type(a6[0,1]))\n",
    "print('\\ntype(elem of a6:', type(dotprod[0,1]))\n",
    "print('\\nare matrices equal?:', equal_arr)\n",
    "\n",
    "#    print('verified qr = a')\n",
    "    "
   ]
  },
  {
   "cell_type": "code",
   "execution_count": 92,
   "metadata": {},
   "outputs": [
    {
     "name": "stdout",
     "output_type": "stream",
     "text": [
      "Rounding off matrices a6 and dotprod:\n",
      "\n",
      "a6: [[0.51993128 0.49378868 0.04215138]\n",
      " [0.28924674 0.17496598 0.49741779]\n",
      " [0.75491929 0.71577788 0.32366212]]\n",
      "\n",
      "dotprod: [[0.51993128 0.49378868 0.04215138]\n",
      " [0.28924674 0.17496598 0.49741779]\n",
      " [0.75491929 0.71577788 0.32366212]]\n",
      "\n",
      "elements comparison: [[ True  True  True]\n",
      " [ True  True  True]\n",
      " [ True  True  True]]\n",
      "\n",
      "matrix comparison: True\n"
     ]
    }
   ],
   "source": [
    "print(\"Rounding off matrices a6 and dotprod:\")\n",
    "round_a6 = np.round(a6, 8)\n",
    "print('\\na6:',a6)\n",
    "round_dotprod = np.round(dotprod, 8)\n",
    "print('\\ndotprod:',round_dotprod)\n",
    "comp_var = round_a6==round_dotprod\n",
    "equal_array = comp_var.all()\n",
    "print('\\nelements comparison:',comp_var)\n",
    "print('\\nmatrix comparison:', equal_array)\n",
    "if equal_array is True:\n",
    "    print('\\n A =QR and QR =A verified')"
   ]
  },
  {
   "cell_type": "markdown",
   "metadata": {},
   "source": [
    "## Determinant and Solving Linear Equations"
   ]
  },
  {
   "cell_type": "code",
   "execution_count": 95,
   "metadata": {},
   "outputs": [
    {
     "name": "stdout",
     "output_type": "stream",
     "text": [
      "1.9999999999999971\n"
     ]
    }
   ],
   "source": [
    "#Determinant: np.linalg.det(matr)\n",
    "\n",
    "a7 = np.array([[5,6],[3,4]])\n",
    "print(np.linalg.det(a7))"
   ]
  },
  {
   "cell_type": "code",
   "execution_count": 97,
   "metadata": {},
   "outputs": [
    {
     "name": "stdout",
     "output_type": "stream",
     "text": [
      "[2. 1. 3.]\n"
     ]
    }
   ],
   "source": [
    "#Solving a sys of linear equations: np.linalg.solve(matr1, matr2)\n",
    "\n",
    "a8 = np.array([[2,1,-3],[4,-2,1],[3,5,-2]], np.int16)\n",
    "b8 = np.array([-4,9,5], np.int16)\n",
    "\n",
    "x = np.linalg.solve(a8,b8)\n",
    "print(x)"
   ]
  }
 ],
 "metadata": {
  "kernelspec": {
   "display_name": "Python 3",
   "language": "python",
   "name": "python3"
  },
  "language_info": {
   "codemirror_mode": {
    "name": "ipython",
    "version": 3
   },
   "file_extension": ".py",
   "mimetype": "text/x-python",
   "name": "python",
   "nbconvert_exporter": "python",
   "pygments_lexer": "ipython3",
   "version": "3.8.2"
  }
 },
 "nbformat": 4,
 "nbformat_minor": 4
}
