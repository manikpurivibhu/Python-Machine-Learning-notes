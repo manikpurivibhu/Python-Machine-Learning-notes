{
 "cells": [
  {
   "cell_type": "markdown",
   "id": "fd703018",
   "metadata": {},
   "source": [
    "# Greedy Algorithm\n",
    "\n",
    "A **Greedy Algorithm** is an approach for solving a problem by selecting the best option available at the moment i.e. it keeps selecting the Local optimal solution for the sub-problem hoping it will lead to the global optimal solution for the problem <br>\n",
    "\n",
    "- The algorithm never reverses the earlier decision even if the choice is wrong <br>\n",
    "\n",
    "- It works in a top-down approach <br>\n",
    "\n",
    "- This algorithm may not produce the best result for all the problems as it always goes for the local best choice to produce the global best result"
   ]
  },
  {
   "cell_type": "markdown",
   "id": "c4fe7bbb",
   "metadata": {},
   "source": [
    "### Advantages of Greedy Approach\n",
    "\n",
    "- this algorithm/approach is easier to describe <br>\n",
    "- it performs better given the problem satisfies _Greedy Choice Property_ and _Optimal Substructure_\n",
    "\n",
    "### Disadvantages of Greedy Approach\n",
    "\n",
    "- it may not produce the optimal solution to the problem"
   ]
  },
  {
   "cell_type": "markdown",
   "id": "215bbf4e",
   "metadata": {},
   "source": [
    "#### determine if the algorithm can be used with any problem if the problem has the following properties:\n",
    " \n",
    "1. **Greedy Choice Property** If an optimal solution to the problem can be found by choosing the best choice at each step without reconsidering the previous steps once chosen, the problem can be solved using a greedy approach <br>\n",
    "This property is called greedy choice property\n",
    "\n",
    "2. **Optimal Substructure** If the optimal overall solution to the problem corresponds to the optimal solution to its subproblems, then the problem can be solved using a greedy approach <br>\n",
    "This property is called optimal substructure"
   ]
  },
  {
   "cell_type": "markdown",
   "id": "005a785a",
   "metadata": {},
   "source": [
    "### `Greedy Algorithm`\n",
    "\n",
    "1. initialize an empty solution set <br><br>\n",
    "\n",
    "2. at each step, an item is considered <br><br>\n",
    "\n",
    "3. if the item is feasible i.e. it fits in the specified constraints of the problem, it is included in the solution set<br> otherwise it is discarded and never considered again"
   ]
  },
  {
   "cell_type": "markdown",
   "id": "0c0bccec",
   "metadata": {},
   "source": [
    "##### Example\n",
    "\n",
    "**Problem** : Make a change of an amount using smallest possible number of coins. Available coins are (5, 2, 1), and each coin can be used infinite times<br>\n",
    "**Amount** : 18 <br><br>\n",
    "\n",
    "**solution** : <br><br>\n",
    "\n",
    "1. Create an empty `solution-set = { }`<br>\n",
    "2. initialize sum = 0 <br>\n",
    "3. Always select the coin with the largest value (i.e. 5) until the sum > 18. <br>\n",
    "(When we select the largest value at each step, we hope to reach the destination faster. This concept is called greedy choice property)\n",
    "4. In the first iteration, `solution-set = {5}` and sum = 5<br>\n",
    "5. In the second iteration, `solution-set = {5, 5}` and sum = 10<br>\n",
    "6. In the third iteration, `solution-set = {5, 5, 5}` and sum = 15<br>\n",
    "7. In the fourth iteration, solution-set = {5, 5, 5, 2} and sum = 17. (We cannot select 5 here because if we do so, sum = 20 which is greater than 18. So, we select the 2nd largest item which is 2.)<br>\n",
    "8. Similarly, in the fifth iteration, select 1. Now sum = 18 and `solution-set = {5, 5, 5, 2, 1}`<br>\n",
    "\n"
   ]
  },
  {
   "cell_type": "markdown",
   "id": "c48203a0",
   "metadata": {},
   "source": [
    "#### Different Types of Greedy Algorithm\n",
    "\n",
    "- Selection Sort\n",
    "\n",
    "- Knapsack Problem\n",
    "\n",
    "- Minimum Spanning Tree\n",
    "\n",
    "- Single-Source Shortest Path Problem\n",
    "\n",
    "- Job Scheduling Problem\n",
    "\n",
    "- Prim's Minimal Spanning Tree Algorithm\n",
    "\n",
    "- Kruskal's Minimal Spanning Tree Algorithm\n",
    "\n",
    "- Dijkstra's Minimal Spanning Tree Algorithm\n",
    "\n",
    "- Huffman Coding\n",
    "\n",
    "- Ford-Fulkerson Algorithm"
   ]
  },
  {
   "cell_type": "markdown",
   "id": "68a4e4c7",
   "metadata": {},
   "source": [
    " "
   ]
  },
  {
   "cell_type": "markdown",
   "id": "e5318031",
   "metadata": {},
   "source": [
    "### Reference\n",
    "\n",
    "- https://www.programiz.com/dsa/greedy-algorithm#:~:text=A%20greedy%20algorithm%20is%20an,in%20a%20top%2Ddown%20approach <br>\n",
    "\n",
    "- https://www.youtube.com/watch?v=ARvQcqJ_-NY&list=PLDN4rrl48XKpZkf03iYFl-O29szjTrs_O&index=40"
   ]
  }
 ],
 "metadata": {
  "kernelspec": {
   "display_name": "Python 3",
   "language": "python",
   "name": "python3"
  },
  "language_info": {
   "codemirror_mode": {
    "name": "ipython",
    "version": 3
   },
   "file_extension": ".py",
   "mimetype": "text/x-python",
   "name": "python",
   "nbconvert_exporter": "python",
   "pygments_lexer": "ipython3",
   "version": "3.8.8"
  }
 },
 "nbformat": 4,
 "nbformat_minor": 5
}
