{
 "cells": [
  {
   "cell_type": "markdown",
   "id": "983c7912",
   "metadata": {},
   "source": [
    "# Fractional Knapsack Problem\n",
    "\n",
    "**Problem** : Given weights and values of `n` divisible items, we need to put these items in a knapsack of capacity `W` to get the maximum total value in the knapsack"
   ]
  },
  {
   "cell_type": "markdown",
   "id": "aded204c",
   "metadata": {},
   "source": [
    "```\n",
    "Input: \n",
    "Items as (value, weight) pairs \n",
    "arr[] = {{60, 10}, {100, 20}, {120, 30}} \n",
    "Knapsack Capacity, W = 50; \n",
    "\n",
    "Output: \n",
    "Maximum possible value = 240 \n",
    "by taking items of weight 10 and 20 kg and 2/3 fraction \n",
    "of 30 kg. Hence total price will be 60+100+(2/3)(120) = 240\n",
    "```"
   ]
  },
  {
   "cell_type": "markdown",
   "id": "c52fd89b",
   "metadata": {},
   "source": [
    "### Approach : Greedy\n",
    "\n",
    "The Brute Force Solution is to find all possible results and return the maximum of them all. <br>\n",
    "\n",
    "An efficient solution is to use Greedy approach.<br>\n",
    "The basic idea of the greedy approach is to <br>\n",
    "- calculate the ratio value/weight for each item <br>\n",
    "- sort the item on basis of this ratio<br>\n",
    "- take the item with the highest ratio and add them if capacity >= current sum of weights i.e. until we can’t add the next item as a whole otherwise add the fraction of item<br>"
   ]
  },
  {
   "cell_type": "code",
   "execution_count": 37,
   "id": "e5bc6851",
   "metadata": {},
   "outputs": [],
   "source": [
    "## code for Knapsack problem\n",
    "def knapsack(ip, cap):\n",
    "    helper = []\n",
    "    for val, wt in ip:\n",
    "        helper.append((val/wt, val, wt))\n",
    "\n",
    "    helper.sort(reverse=True)\n",
    "    print(helper)\n",
    "    tot_val = 0\n",
    "    cur_val = 0\n",
    "    cur_wt  = 0\n",
    "    c = cap\n",
    "    for item in helper:\n",
    "        \n",
    "        cur_val  = item[1]\n",
    "        cur_wt  += item[2]\n",
    "        \n",
    "        if cap - cur_wt >= 0:\n",
    "            cap -= cur_wt\n",
    "            tot_val += cur_val\n",
    "        else:\n",
    "            fraction = c / cur_wt\n",
    "            tot_val += fraction*cur_val\n",
    "            cap = int(cap - (cur_wt * fraction))\n",
    "            break\n",
    "    return tot_val"
   ]
  },
  {
   "cell_type": "code",
   "execution_count": 38,
   "id": "a09d50c4",
   "metadata": {},
   "outputs": [
    {
     "name": "stdout",
     "output_type": "stream",
     "text": [
      "[(6.0, 60, 10), (5.0, 100, 20), (4.0, 120, 30), (1.0, 40, 40)]\n",
      "260.0\n"
     ]
    }
   ],
   "source": [
    "ip = [[60,10], [40,40], [100,20], [120,30]]\n",
    "capacity = 50\n",
    "\n",
    "profit = knapsack(ip, capacity)\n",
    "print(profit)"
   ]
  },
  {
   "cell_type": "code",
   "execution_count": 41,
   "id": "262efcd6",
   "metadata": {},
   "outputs": [],
   "source": [
    "class ItemValue:\n",
    "    def __init__(self, wt, val, ind):\n",
    "        self.wt = wt\n",
    "        self.val = val\n",
    "        self.ind = ind\n",
    "        self.cost = val // wt\n",
    "  \n",
    "    def __lt__(self, other):\n",
    "        return self.cost < other.cost\n",
    "    \n",
    "class FractionalKnapSack:\n",
    "  \n",
    "    \"\"\"Time Complexity O(n log n)\"\"\"\n",
    "    @staticmethod\n",
    "    def getMaxValue(wt, val, capacity):\n",
    "        \n",
    "        iVal = []\n",
    "        for i in range(len(wt)):\n",
    "            iVal.append(ItemValue(wt[i], val[i], i))\n",
    "  \n",
    "        # sorting items by value\n",
    "        iVal.sort(reverse=True)\n",
    "  \n",
    "        totalValue = 0\n",
    "        for i in iVal:\n",
    "            curWt = int(i.wt)\n",
    "            curVal = int(i.val)\n",
    "            if capacity - curWt >= 0:\n",
    "                capacity -= curWt\n",
    "                totalValue += curVal\n",
    "            else:\n",
    "                fraction = capacity / curWt\n",
    "                totalValue += curVal * fraction\n",
    "                capacity = int(capacity - (curWt * fraction))\n",
    "                break\n",
    "        return totalValue"
   ]
  },
  {
   "cell_type": "code",
   "execution_count": 42,
   "id": "dcfc607a",
   "metadata": {},
   "outputs": [
    {
     "name": "stdout",
     "output_type": "stream",
     "text": [
      "Maximum value in Knapsack = 240.0\n"
     ]
    }
   ],
   "source": [
    "wt = [10, 40, 20, 30]\n",
    "val = [60, 40, 100, 120]\n",
    "capacity = 50\n",
    "\n",
    "# Function call\n",
    "maxValue = FractionalKnapSack.getMaxValue(wt, val, capacity)\n",
    "print(\"Maximum value in Knapsack =\", maxValue)"
   ]
  },
  {
   "cell_type": "markdown",
   "id": "627ad224",
   "metadata": {},
   "source": [
    "**Time Complexity** : `O(n log n)` as the most expensive operation is sorting"
   ]
  }
 ],
 "metadata": {
  "kernelspec": {
   "display_name": "Python 3",
   "language": "python",
   "name": "python3"
  },
  "language_info": {
   "codemirror_mode": {
    "name": "ipython",
    "version": 3
   },
   "file_extension": ".py",
   "mimetype": "text/x-python",
   "name": "python",
   "nbconvert_exporter": "python",
   "pygments_lexer": "ipython3",
   "version": "3.8.8"
  }
 },
 "nbformat": 4,
 "nbformat_minor": 5
}
