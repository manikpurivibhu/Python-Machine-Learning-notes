{
 "cells": [
  {
   "cell_type": "markdown",
   "id": "47fa20a9",
   "metadata": {},
   "source": [
    "# Huffman Coding\n"
   ]
  },
  {
   "cell_type": "code",
   "execution_count": 1,
   "id": "9e41371a",
   "metadata": {},
   "outputs": [],
   "source": [
    "from heapq import heappush, heapify, heappop\n",
    "from bitarray import bitarray"
   ]
  },
  {
   "cell_type": "code",
   "execution_count": 2,
   "id": "d29a7a73",
   "metadata": {},
   "outputs": [],
   "source": [
    "# create Huffman Tree from input array\n",
    "\n",
    "class Node:\n",
    "    \n",
    "    def __init__(self, data, freq):\n",
    "        self.data = data\n",
    "        self.freq = freq\n",
    "        self.huff = ''\n",
    "        self.left = None\n",
    "        self.right = None\n",
    "\n",
    "    # override heapq comparisonoperator to deal with error 'can't compare type 'node' and 'node'\n",
    "    def __lt__(self, f):\n",
    "        return self.freq < f.freq\n",
    "        \n",
    "        \n",
    "class Huffman:\n",
    "    \n",
    "    def __init__(self):\n",
    "        self.ip = input()\n",
    "        self.d = {}\n",
    "        for i in self.ip:\n",
    "            self.d[i] = 1 + self.d.get(i, 0)\n",
    "        \n",
    "        self.chars = []\n",
    "        self.freq  = []\n",
    "        for key, val in self.d.items():\n",
    "            self.chars.append(key)\n",
    "            self.freq.append(val)\n",
    "    \n",
    "        \n",
    "    def generateTree(self):\n",
    "        \n",
    "        minHeap = []\n",
    "        for i in range(len(self.chars)):\n",
    "            node = Node(self.chars[i], self.freq[i])\n",
    "            minHeap.append((self.freq[i], node))\n",
    "        heapify(minHeap)\n",
    "        \n",
    "        while len(minHeap)>1:\n",
    "            \n",
    "            left  = heappop(minHeap)\n",
    "            right = heappop(minHeap)\n",
    "            node = Node('dummy', left[0]+right[0])\n",
    "            node.left  = left[1]\n",
    "            node.right = right[1]\n",
    "            heappush(minHeap, (node.freq, node))\n",
    "        root = heappop(minHeap)\n",
    "        return root[1]\n",
    "\n",
    "\n",
    "    def generateTable(self, root):\n",
    "        '''\n",
    "        input:  root of Huffman tree\n",
    "        output: Huffman prefix dictionary\n",
    "        '''\n",
    "        \n",
    "        s = ''\n",
    "        tree = {}\n",
    "        \n",
    "        def recursiveHelper(root, s):\n",
    "            \n",
    "            if not root.left and not root.right:\n",
    "                tree[root.data] = s\n",
    "                return\n",
    "            if root.left:\n",
    "                recursiveHelper(root.left, s+'0')\n",
    "            if root.right:\n",
    "                recursiveHelper(root.right, s[:-1]+'1')\n",
    "        \n",
    "        recursiveHelper(root, s)\n",
    "        return tree"
   ]
  },
  {
   "cell_type": "code",
   "execution_count": 3,
   "id": "d21765fc",
   "metadata": {},
   "outputs": [
    {
     "name": "stdout",
     "output_type": "stream",
     "text": [
      "happy hour\n"
     ]
    }
   ],
   "source": [
    "huff = Huffman()"
   ]
  },
  {
   "cell_type": "code",
   "execution_count": 4,
   "id": "912139b3",
   "metadata": {},
   "outputs": [],
   "source": [
    "# generate Huffman tree from input\n",
    "root = huff.generateTree()"
   ]
  },
  {
   "cell_type": "code",
   "execution_count": 5,
   "id": "efe780e6",
   "metadata": {},
   "outputs": [
    {
     "name": "stdout",
     "output_type": "stream",
     "text": [
      "{'a': '000', 'r': '01', 'p': '1', 'u': '100', 'o': '11', 'h': '10', 'y': '10', ' ': '1'} \n",
      "\n",
      "{'a': bitarray('000'), 'r': bitarray('01'), 'p': bitarray('1'), 'u': bitarray('100'), 'o': bitarray('11'), 'h': bitarray('10'), 'y': bitarray('10'), ' ': bitarray('1')}\n"
     ]
    }
   ],
   "source": [
    "# generate Huffman table from root\n",
    "tree = huff.generateTable(root)\n",
    "print(tree,'\\n')\n",
    "\n",
    "# convert Huffman tree to bitarray form for using for encoding\n",
    "tree = {key : bitarray(str(val)) for key, val in tree.items()}\n",
    "print(tree)"
   ]
  },
  {
   "cell_type": "code",
   "execution_count": 6,
   "id": "d810d6c7",
   "metadata": {},
   "outputs": [
    {
     "name": "stdout",
     "output_type": "stream",
     "text": [
      "enter message : happy hour\n"
     ]
    }
   ],
   "source": [
    "# encode message according to generated Huffman Tree\n",
    "text = input('enter message : ')"
   ]
  },
  {
   "cell_type": "code",
   "execution_count": 7,
   "id": "c63308fa",
   "metadata": {},
   "outputs": [
    {
     "name": "stdout",
     "output_type": "stream",
     "text": [
      "bitarray('1000011101101110001')\n"
     ]
    }
   ],
   "source": [
    "# encode input text according to Huffman Code\n",
    "\n",
    "encoded_text = bitarray()\n",
    "encoded_text.encode(tree, text)\n",
    "print(encoded_text)"
   ]
  },
  {
   "cell_type": "code",
   "execution_count": 8,
   "id": "2c99c1b4",
   "metadata": {
    "scrolled": true
   },
   "outputs": [
    {
     "ename": "NameError",
     "evalue": "name 'huffman_dict' is not defined",
     "output_type": "error",
     "traceback": [
      "\u001b[1;31m---------------------------------------------------------------------------\u001b[0m",
      "\u001b[1;31mNameError\u001b[0m                                 Traceback (most recent call last)",
      "\u001b[1;32m<ipython-input-8-c0103a604494>\u001b[0m in \u001b[0;36m<module>\u001b[1;34m\u001b[0m\n\u001b[0;32m      6\u001b[0m     \u001b[0mdecoded_text\u001b[0m\u001b[1;33m.\u001b[0m\u001b[0mfromfile\u001b[0m\u001b[1;33m(\u001b[0m\u001b[0mr\u001b[0m\u001b[1;33m)\u001b[0m\u001b[1;33m\u001b[0m\u001b[1;33m\u001b[0m\u001b[0m\n\u001b[0;32m      7\u001b[0m \u001b[1;33m\u001b[0m\u001b[0m\n\u001b[1;32m----> 8\u001b[1;33m \u001b[0mdecoded_text\u001b[0m \u001b[1;33m=\u001b[0m \u001b[0mdecoded_text\u001b[0m\u001b[1;33m.\u001b[0m\u001b[0mdecode\u001b[0m\u001b[1;33m(\u001b[0m\u001b[0mhuffman_dict\u001b[0m\u001b[1;33m)\u001b[0m\u001b[1;33m\u001b[0m\u001b[1;33m\u001b[0m\u001b[0m\n\u001b[0m\u001b[0;32m      9\u001b[0m \u001b[0mdecoded_text\u001b[0m \u001b[1;33m=\u001b[0m \u001b[1;34m''\u001b[0m\u001b[1;33m.\u001b[0m\u001b[0mjoin\u001b[0m\u001b[1;33m(\u001b[0m\u001b[0mdecoded_text\u001b[0m\u001b[1;33m)\u001b[0m\u001b[1;33m\u001b[0m\u001b[1;33m\u001b[0m\u001b[0m\n\u001b[0;32m     10\u001b[0m \u001b[1;33m\u001b[0m\u001b[0m\n",
      "\u001b[1;31mNameError\u001b[0m: name 'huffman_dict' is not defined"
     ]
    }
   ],
   "source": [
    "# decode input text according to Huffman Code\n",
    "\n",
    "decoded_text = bitarray()\n",
    "\n",
    "with open('compressed_file.bin', 'rb') as r:\n",
    "    decoded_text.fromfile(r)\n",
    "    \n",
    "decoded_text = decoded_text.decode(huffman_dict) \n",
    "decoded_text = ''.join(decoded_text)\n",
    "\n",
    "print(decoded_text)"
   ]
  },
  {
   "cell_type": "markdown",
   "id": "4a023ba8",
   "metadata": {},
   "source": [
    "### References\n",
    "\n",
    "- https://www.youtube.com/watch?v=co4_ahEDCho<br>\n",
    "- https://www.youtube.com/watch?v=HHIc5JZyenI&list=PLDN4rrl48XKpZkf03iYFl-O29szjTrs_O&index=42 <br>\n",
    "- https://www.geeksforgeeks.org/huffman-coding-greedy-algo-3/ <br>\n",
    "- https://github.com/TiongSun/DataCompression/blob/master/Huffman_Coding.ipynb <br>"
   ]
  }
 ],
 "metadata": {
  "kernelspec": {
   "display_name": "Python 3",
   "language": "python",
   "name": "python3"
  },
  "language_info": {
   "codemirror_mode": {
    "name": "ipython",
    "version": 3
   },
   "file_extension": ".py",
   "mimetype": "text/x-python",
   "name": "python",
   "nbconvert_exporter": "python",
   "pygments_lexer": "ipython3",
   "version": "3.8.8"
  }
 },
 "nbformat": 4,
 "nbformat_minor": 5
}
