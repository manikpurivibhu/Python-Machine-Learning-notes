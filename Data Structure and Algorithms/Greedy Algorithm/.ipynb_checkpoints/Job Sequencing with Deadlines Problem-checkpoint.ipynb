{
 "cells": [
  {
   "cell_type": "markdown",
   "id": "cc6e4637",
   "metadata": {},
   "source": [
    "# Job Sequencing with Deadlines Problem"
   ]
  },
  {
   "cell_type": "markdown",
   "id": "05a00387",
   "metadata": {},
   "source": [
    "Given an array of jobs where every job has a deadline and associated profit if the job is finished before the deadline and that every job takes a single unit of time, so the minimum possible deadline for any job is 1, how to maximize the total profit if only one job can be scheduled at a time\n",
    "\n",
    "```\n",
    "Input: Four Jobs with following \n",
    "deadlines and profits\n",
    "JobID  Deadline  Profit\n",
    "  a      4        20   \n",
    "  b      1        10\n",
    "  c      1        40  \n",
    "  d      1        30\n",
    "Output: Following is maximum \n",
    "profit sequence of jobs, \n",
    "and maximum ataainable profit\n",
    "\n",
    "            c, a   \n",
    "        40 + 20 = 60\n",
    "\n",
    "\n",
    "Input:  Five Jobs with following\n",
    "deadlines and profits\n",
    "JobID   Deadline  Profit\n",
    "  a       2        100\n",
    "  b       1        19\n",
    "  c       2        27\n",
    "  d       1        25\n",
    "  e       3        15\n",
    "Output: Following is maximum \n",
    "profit sequence of jobs, \n",
    "and maximum ataainable profit\n",
    "\n",
    "              c, a, e\n",
    "        27 + 100 + 15 = 142\n",
    "\n",
    "```\n",
    "\n",
    "Since this is an optimization problem, it can be solved using Greedy Approach"
   ]
  },
  {
   "cell_type": "markdown",
   "id": "f999edc7",
   "metadata": {},
   "source": [
    "### Brute Force Approach\n",
    "\n",
    "```\n",
    "* generate all subsets of a given set of jobs \n",
    "* check individual subsets for the feasibility of jobs in that subset\n",
    "* keep track of maximum profit among all feasible subsets\n",
    "```\n",
    "The time complexity of this solution is exponential. "
   ]
  },
  {
   "cell_type": "markdown",
   "id": "c0382cc0",
   "metadata": {},
   "source": [
    "### Greedy Approach\n",
    "\n",
    "```\n",
    "* sort the jobs and their associated deadlines and profits in decreasing order\n",
    "* iterate the jobs based on decreasing order of profit\n",
    "* for every job, find a time slot i such that i < deadline and i is greatest\n",
    "  put the job in this slot and mark it as filled\n",
    "* if no such time slot is available for the job, discard it and move onto next job\n",
    "```"
   ]
  },
  {
   "cell_type": "markdown",
   "id": "17c9df8f",
   "metadata": {},
   "source": [
    "### pseudocode\n",
    "\n",
    "` input  : array of deadlines and profits associated with jobs ` <br>\n",
    "` output : maximum profit and sequence of jobs `\n",
    "\n",
    "\n",
    "- sort the input array based on decreasing order of profits\n",
    "- find numJobs - max(deadline)\n",
    "- initialize array seq = [False] * numJobs\n",
    "- initialize variables totalProfit = 0, jobsDone = 0\n",
    "- iterate processed input array. since array is sorted each iteration will give next largest profit\n",
    "- for every iteration, \n",
    "- for deadline associated with the job, find the right most position in seq which is less than deadline\n",
    "- if position is found: insert the job in this deadline, totalProfit+= profit associated with the job, increment jobsDone\n",
    "- if position is not found, move on to next job\n",
    "- if jobsDone is equal to numJobs, return totalProfit and seq\n",
    "\n",
    "**Time Complexity** : `O(N^2)`"
   ]
  },
  {
   "cell_type": "code",
   "execution_count": 44,
   "id": "c3a3c51c",
   "metadata": {},
   "outputs": [],
   "source": [
    "def jobSequencing(array):\n",
    "    array.sort(key=lambda array:array[2], reverse=True)\n",
    "    numJobs = max([array[i][1] for i in range(len(array))])\n",
    "    seq = [None]*numJobs\n",
    "    totalProfit, jobsDone = 0, 0\n",
    "    for job in range(len(array)):\n",
    "        curJob = array[job][0]\n",
    "        deadline, profit = array[job][1], array[job][2]\n",
    "        for j in range(job, -1, -1):\n",
    "            if seq[j] == None:\n",
    "                seq[j] = curJob\n",
    "                totalProfit += profit\n",
    "                jobsDone += 1\n",
    "                break\n",
    "        if jobsDone == numJobs:\n",
    "            break\n",
    "    return seq, totalProfit"
   ]
  },
  {
   "cell_type": "code",
   "execution_count": 45,
   "id": "1c5093a0",
   "metadata": {},
   "outputs": [
    {
     "name": "stdout",
     "output_type": "stream",
     "text": [
      "sequence : ['J1', 'J3', 'J4']\n",
      "maximum profit : 152\n"
     ]
    }
   ],
   "source": [
    "# job id, deadline, profit\n",
    "ip = [['J1', 2, 100], \n",
    "      ['J2', 1, 19], \n",
    "      ['J3', 2, 27], \n",
    "      ['J4', 1, 25], \n",
    "      ['J5', 3, 15]]\n",
    "\n",
    "sequence, maxProfit = jobSequencing(ip)\n",
    "print('sequence :', sequence)\n",
    "print('maximum profit :', maxProfit)"
   ]
  },
  {
   "cell_type": "markdown",
   "id": "b50154e2",
   "metadata": {},
   "source": [
    "The Time Complexity of this approach can be optimized using **Priority Queue (max Heap)**"
   ]
  },
  {
   "cell_type": "markdown",
   "id": "28f839a9",
   "metadata": {},
   "source": [
    "### References\n",
    "\n",
    "- https://www.geeksforgeeks.org/job-sequencing-problem/ <br>\n",
    "- https://www.youtube.com/watch?v=zPtI8q9gvX8&list=PLDN4rrl48XKpZkf03iYFl-O29szjTrs_O&index=41 <br>"
   ]
  }
 ],
 "metadata": {
  "kernelspec": {
   "display_name": "Python 3",
   "language": "python",
   "name": "python3"
  },
  "language_info": {
   "codemirror_mode": {
    "name": "ipython",
    "version": 3
   },
   "file_extension": ".py",
   "mimetype": "text/x-python",
   "name": "python",
   "nbconvert_exporter": "python",
   "pygments_lexer": "ipython3",
   "version": "3.8.8"
  }
 },
 "nbformat": 4,
 "nbformat_minor": 5
}
