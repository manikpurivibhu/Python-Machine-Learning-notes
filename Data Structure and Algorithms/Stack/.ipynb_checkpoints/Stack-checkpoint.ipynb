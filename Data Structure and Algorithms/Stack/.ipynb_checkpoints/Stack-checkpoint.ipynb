{
 "cells": [
  {
   "cell_type": "markdown",
   "id": "cef75a4e",
   "metadata": {},
   "source": [
    "# Stack"
   ]
  },
  {
   "attachments": {
    "stack.png": {
     "image/png": "[encoded data removed]"
    }
   },
   "cell_type": "markdown",
   "id": "0e827c34",
   "metadata": {},
   "source": [
    "A stack is a linear data structure that stores items in a **Last-In/First-Out (LIFO)** or **First-In/Last-Out (FILO)** manner. </br>\n",
    "\n",
    "In stack, a new element is added at one end and an element is removed from that end only. </br>\n",
    "\n",
    "The insert and delete operations are often called push and pop.\n",
    "\n",
    "![stack.png](attachment:stack.png)\n",
    "\n"
   ]
  },
  {
   "cell_type": "markdown",
   "id": "676af6f2",
   "metadata": {},
   "source": [
    "**The functions associated with stack are:**\n",
    "\n",
    "- empty() – Returns whether the stack is empty; Time Complexity: O(1)\n",
    "- size() – Returns the size of the stack; Time Complexity: O(1)\n",
    "- top()/peek() – Returns a reference to the topmost element of the stack; Time Complexity: O(1)\n",
    "- push(a) – Inserts the element ‘a’ at the top of the stack; Time Complexity: O(1)\n",
    "- pop() – Deletes the topmost element of the stack; Time Complexity: O(1)"
   ]
  },
  {
   "cell_type": "markdown",
   "id": "2db0ac25",
   "metadata": {},
   "source": [
    "## Implementation\n",
    "\n",
    "**Python** does not have an in-built Stack Data Structure </br>\n",
    "\n",
    "But there are several ways in which Stack can be implemented in Python:\n",
    "\n",
    "- Python **list**\n",
    "- **Collections.deque** \n",
    "- **queue.LifoQueue**\n",
    "- Singly **Linked List**"
   ]
  },
  {
   "cell_type": "markdown",
   "id": "5abe97aa",
   "metadata": {},
   "source": [
    "### Implementation using Python list\n",
    "\n",
    "Python’s built-in data structure list can be used as a stack. Instead of push(), append() is used to add elements to the top of the stack while pop() removes the element in LIFO order </br>\n",
    "\n",
    "However, using `list` to implement `Stack` has the following shortcomings:\n",
    "\n",
    "- Time Complexity is O(N) as elements are added to the end of list which are stored in Contiguous Memory locations\n",
    "\n",
    "- List is a dynamic data structure. So adding more elements will require more memory allocation if list is full\n",
    "</br></br>\n",
    "\n",
    "Naturally, **`list` is not an efficient way to implement Stack** in python\n"
   ]
  },
  {
   "cell_type": "code",
   "execution_count": 1,
   "id": "3f7e09f0",
   "metadata": {},
   "outputs": [],
   "source": [
    "##Stack implementation using list\n",
    "\n",
    "stack = []\n",
    "\n",
    "stack.append('One')\n",
    "stack.append('Two')\n",
    "stack.append('Three')\n",
    "stack.append('Four')"
   ]
  },
  {
   "cell_type": "code",
   "execution_count": 2,
   "id": "f3696535",
   "metadata": {},
   "outputs": [
    {
     "name": "stdout",
     "output_type": "stream",
     "text": [
      "Stack: ['One', 'Two', 'Three', 'Four']\n"
     ]
    }
   ],
   "source": [
    "print('Stack:', stack)"
   ]
  },
  {
   "cell_type": "code",
   "execution_count": 3,
   "id": "c12fdb3c",
   "metadata": {},
   "outputs": [
    {
     "name": "stdout",
     "output_type": "stream",
     "text": [
      "Four\n",
      "Three\n",
      "Two\n",
      "One\n"
     ]
    },
    {
     "ename": "IndexError",
     "evalue": "pop from empty list",
     "output_type": "error",
     "traceback": [
      "\u001b[1;31m---------------------------------------------------------------------------\u001b[0m",
      "\u001b[1;31mIndexError\u001b[0m                                Traceback (most recent call last)",
      "\u001b[1;32m<ipython-input-3-4ce63fb27182>\u001b[0m in \u001b[0;36m<module>\u001b[1;34m\u001b[0m\n\u001b[0;32m      4\u001b[0m \u001b[0mprint\u001b[0m\u001b[1;33m(\u001b[0m\u001b[0mstack\u001b[0m\u001b[1;33m.\u001b[0m\u001b[0mpop\u001b[0m\u001b[1;33m(\u001b[0m\u001b[1;33m)\u001b[0m\u001b[1;33m)\u001b[0m\u001b[1;33m\u001b[0m\u001b[1;33m\u001b[0m\u001b[0m\n\u001b[0;32m      5\u001b[0m \u001b[0mprint\u001b[0m\u001b[1;33m(\u001b[0m\u001b[0mstack\u001b[0m\u001b[1;33m.\u001b[0m\u001b[0mpop\u001b[0m\u001b[1;33m(\u001b[0m\u001b[1;33m)\u001b[0m\u001b[1;33m)\u001b[0m\u001b[1;33m\u001b[0m\u001b[1;33m\u001b[0m\u001b[0m\n\u001b[1;32m----> 6\u001b[1;33m \u001b[0mprint\u001b[0m\u001b[1;33m(\u001b[0m\u001b[0mstack\u001b[0m\u001b[1;33m.\u001b[0m\u001b[0mpop\u001b[0m\u001b[1;33m(\u001b[0m\u001b[1;33m)\u001b[0m\u001b[1;33m)\u001b[0m\u001b[1;33m\u001b[0m\u001b[1;33m\u001b[0m\u001b[0m\n\u001b[0m",
      "\u001b[1;31mIndexError\u001b[0m: pop from empty list"
     ]
    }
   ],
   "source": [
    "#popping elements from Stack\n",
    "print(stack.pop())\n",
    "print(stack.pop())\n",
    "print(stack.pop())\n",
    "print(stack.pop())\n",
    "#print(stack.pop())  #raises IndexError"
   ]
  },
  {
   "cell_type": "code",
   "execution_count": 4,
   "id": "45f26dbc",
   "metadata": {},
   "outputs": [
    {
     "name": "stdout",
     "output_type": "stream",
     "text": [
      "Stack: []\n"
     ]
    }
   ],
   "source": [
    "print('Stack:', stack)"
   ]
  },
  {
   "cell_type": "markdown",
   "id": "abad1efd",
   "metadata": {},
   "source": [
    " "
   ]
  },
  {
   "cell_type": "markdown",
   "id": "aed0ef6d",
   "metadata": {},
   "source": [
    "### Implementation using `collections.deque` module\n",
    "\n",
    "Python `collections` module implements specialized container datatypes (data structures) providing alternatives to Python’s general purpose built-in containers : dict, list, set, and tuple\n",
    "</br>\n",
    "\n",
    "\n",
    "class `collections.deque([iterable[, maxlen]])` returns a new deque object initialized left-to-right (using append()) with data from iterable. If iterable is not specified, the new deque is empty</br>\n",
    "\n",
    "**Deques** (pronounced “deck”, short for “double-ended queue”) **are a generalization of stacks and queues**.\n",
    "Deques support thread-safe, memory efficient appends and pops from either side of the deque with approximately the same O(1) performance in either direction\n",
    "</br>"
   ]
  },
  {
   "cell_type": "markdown",
   "id": "2cb955e2",
   "metadata": {},
   "source": [
    "Deque objects support the following methods:\n",
    "\n",
    "- append(x): add x to the right side of the deque\n",
    "\n",
    "- appendleft(x): add x to the left side of the deque\n",
    "\n",
    "- pop(): remove and return an element from the right side of the deque\n",
    "\n",
    "- clear(): remove all elements from the deque leaving it with length 0\n",
    "\n",
    "- copy(): create a shallow copy of the deque\n",
    "\n",
    "- count(x): count the number of deque elements equal to x\n",
    "\n",
    "- extend(iterable): extend the right side of the deque by appending elements from the iterable argument\n",
    "\n",
    "- extendleft(iterable): extend the left side of the deque by appending elements from iterable\n",
    "\n",
    "- index(x[, start[, stop]]): return the position of x in the deque (at or after index start and before index stop)\n",
    "\n",
    "- insert(i, x): insert x into the deque at position i\n",
    "\n",
    "- popleft(): remove and return an element from the left side of the deque\n",
    "\n",
    "- remove(value): remove the first occurrence of value. If not found, raises a ValueError\n",
    "\n",
    "- reverse(): reverse the elements of the deque in-place and then return None\n",
    "\n",
    "- rotate(n=1): rotate the deque n steps to the right. If n is negative, rotate to the left\n",
    "\n",
    "Deque objects also provide one read-only attribute:\n",
    "\n",
    "- maxlen: Maximum size of a deque or None if unbounded."
   ]
  },
  {
   "cell_type": "code",
   "execution_count": 5,
   "id": "22823e5a",
   "metadata": {},
   "outputs": [
    {
     "name": "stdout",
     "output_type": "stream",
     "text": [
      "Stack: deque(['One', 'Two', 'Three', 'Four'])\n",
      "Four\n",
      "Three\n",
      "Two\n",
      "One\n"
     ]
    },
    {
     "ename": "IndexError",
     "evalue": "pop from an empty deque",
     "output_type": "error",
     "traceback": [
      "\u001b[1;31m---------------------------------------------------------------------------\u001b[0m",
      "\u001b[1;31mIndexError\u001b[0m                                Traceback (most recent call last)",
      "\u001b[1;32m<ipython-input-5-7a141a90f7eb>\u001b[0m in \u001b[0;36m<module>\u001b[1;34m\u001b[0m\n\u001b[0;32m     17\u001b[0m \u001b[0mprint\u001b[0m\u001b[1;33m(\u001b[0m\u001b[0mstack\u001b[0m\u001b[1;33m.\u001b[0m\u001b[0mpop\u001b[0m\u001b[1;33m(\u001b[0m\u001b[1;33m)\u001b[0m\u001b[1;33m)\u001b[0m\u001b[1;33m\u001b[0m\u001b[1;33m\u001b[0m\u001b[0m\n\u001b[0;32m     18\u001b[0m \u001b[0mprint\u001b[0m\u001b[1;33m(\u001b[0m\u001b[0mstack\u001b[0m\u001b[1;33m.\u001b[0m\u001b[0mpop\u001b[0m\u001b[1;33m(\u001b[0m\u001b[1;33m)\u001b[0m\u001b[1;33m)\u001b[0m\u001b[1;33m\u001b[0m\u001b[1;33m\u001b[0m\u001b[0m\n\u001b[1;32m---> 19\u001b[1;33m \u001b[0mprint\u001b[0m\u001b[1;33m(\u001b[0m\u001b[0mstack\u001b[0m\u001b[1;33m.\u001b[0m\u001b[0mpop\u001b[0m\u001b[1;33m(\u001b[0m\u001b[1;33m)\u001b[0m\u001b[1;33m)\u001b[0m\u001b[1;33m\u001b[0m\u001b[1;33m\u001b[0m\u001b[0m\n\u001b[0m\u001b[0;32m     20\u001b[0m \u001b[1;33m\u001b[0m\u001b[0m\n\u001b[0;32m     21\u001b[0m \u001b[0mprint\u001b[0m\u001b[1;33m(\u001b[0m\u001b[1;34m'Stack:'\u001b[0m\u001b[1;33m,\u001b[0m \u001b[0mstack\u001b[0m\u001b[1;33m)\u001b[0m\u001b[1;33m\u001b[0m\u001b[1;33m\u001b[0m\u001b[0m\n",
      "\u001b[1;31mIndexError\u001b[0m: pop from an empty deque"
     ]
    }
   ],
   "source": [
    "##Stack implementation using collections.deque module\n",
    "\n",
    "from collections import deque\n",
    "\n",
    "stack = deque()\n",
    "\n",
    "stack.append('One')\n",
    "stack.append('Two')\n",
    "stack.append('Three')\n",
    "stack.append('Four')\n",
    "\n",
    "print('Stack:', stack)\n",
    "\n",
    "#popping elements from Stack\n",
    "print(stack.pop())\n",
    "print(stack.pop())\n",
    "print(stack.pop())\n",
    "print(stack.pop())\n",
    "#print(stack.pop())  #raises IndexError\n",
    "\n",
    "print('Stack:', stack)"
   ]
  },
  {
   "cell_type": "code",
   "execution_count": 6,
   "id": "46c463a1",
   "metadata": {},
   "outputs": [],
   "source": [
    "##alternate implementation of Stack using collections.deque\n",
    "\n",
    "from collections import deque\n",
    "\n",
    "class Stack:\n",
    "    '''\n",
    "    create Stack and implement stack operations\n",
    "    '''\n",
    "    \n",
    "    def __init__(self):\n",
    "        self.container = deque()\n",
    "        \n",
    "    def push(self, val):\n",
    "        self.container.append(val)\n",
    "        \n",
    "    def pop(self):\n",
    "        return self.container.pop()\n",
    "    \n",
    "    def peek(self):\n",
    "        return self.container[-1]\n",
    "    \n",
    "    def is_empty(self):\n",
    "        return len(self.container)==0\n",
    "    \n",
    "    def size(self):\n",
    "        return len(self.container)"
   ]
  },
  {
   "cell_type": "code",
   "execution_count": 7,
   "id": "9e6fb9d9",
   "metadata": {},
   "outputs": [
    {
     "name": "stdout",
     "output_type": "stream",
     "text": [
      "Empty?: True\n",
      "Empty?: False\n",
      "Size: False\n",
      "On top of Stack: Four\n",
      "Four\n",
      "Three\n",
      "Two\n",
      "One\n",
      "Empty?: True\n",
      "Size: True\n"
     ]
    }
   ],
   "source": [
    "stack = Stack()\n",
    "\n",
    "print('Empty?:', stack.is_empty())\n",
    "\n",
    "stack.push('One')\n",
    "stack.push('Two')\n",
    "stack.push('Three')\n",
    "stack.push('Four')\n",
    "\n",
    "print('Empty?:', stack.is_empty())\n",
    "\n",
    "print('Size:', stack.is_empty())\n",
    "\n",
    "print('On top of Stack:', stack.peek())\n",
    "\n",
    "#popping elements from Stack\n",
    "print(stack.pop())\n",
    "print(stack.pop())\n",
    "print(stack.pop())\n",
    "print(stack.pop())\n",
    "#print(stack.pop())\n",
    "\n",
    "print('Empty?:', stack.is_empty())\n",
    "\n",
    "print('Size:', stack.is_empty())"
   ]
  },
  {
   "cell_type": "markdown",
   "id": "d67d7af2",
   "metadata": {},
   "source": [
    " "
   ]
  },
  {
   "cell_type": "markdown",
   "id": "3585683f",
   "metadata": {},
   "source": [
    "### Implementation using `queue` module\n",
    "\n",
    "**Queue** module also has a LIFO Queue, which is basically a Stack</br>\n",
    "\n",
    "Data is inserted into Queue using the put() function and get() takes data out from the Queue \n",
    "</br></br>\n",
    "\n",
    "There are various functions available in this module: \n",
    "\n",
    "- maxsize : number of items allowed in the queue\n",
    "- empty() : return True if the queue is empty, False otherwise\n",
    "- full() : Return True if there are maxsize items in the queue. If the queue was initialized with maxsize=0 (the default), then full() never returns True\n",
    "- get() : remove and return an item from the queue\n",
    "- get_nowait() : return an item if one is immediately available, else raise QueueEmpty\n",
    "- put(item) : put an item into the queue. If the queue is full, wait until a free slot is available before adding the item\n",
    "- put_nowait(item) : put an item into the queue without blocking\n",
    "- qsize() – return the number of items in the queue. If no free slot is immediately available, raise QueueFull"
   ]
  },
  {
   "cell_type": "code",
   "execution_count": 9,
   "id": "8fcad2ec",
   "metadata": {},
   "outputs": [
    {
     "name": "stdout",
     "output_type": "stream",
     "text": [
      "Size: 0\n",
      "\n",
      "Full? True\n",
      "\n",
      "Size 3\n",
      "Elemetns popped from Stack:\n",
      "Three\n",
      "Two\n",
      "One\n",
      "\n",
      "Empty? True\n"
     ]
    }
   ],
   "source": [
    "##Stack implementation using queue\n",
    "\n",
    "from queue import LifoQueue\n",
    "\n",
    "stack = LifoQueue(maxsize=3)\n",
    "\n",
    "print('Size:', stack.qsize())\n",
    "\n",
    "#push elements in Stack\n",
    "\n",
    "stack.put('One')\n",
    "stack.put('Two')\n",
    "stack.put('Three')\n",
    "\n",
    "print('\\nFull?', stack.full())\n",
    "print('\\nSize', stack.qsize())\n",
    "\n",
    "#pop elements from Stack\n",
    "\n",
    "print('Elemetns popped from Stack:')\n",
    "print(stack.get())\n",
    "print(stack.get())\n",
    "print(stack.get())\n",
    "\n",
    "print('\\nEmpty?', stack.empty())"
   ]
  },
  {
   "cell_type": "markdown",
   "id": "519c87b4",
   "metadata": {},
   "source": [
    " "
   ]
  },
  {
   "cell_type": "markdown",
   "id": "d1063557",
   "metadata": {},
   "source": [
    "### implementation using Linked List\n",
    "\n",
    "Linked List can be used as a Stack as long as elements are added (pushed) and removed (popped) from one end: head<br>\n",
    "\n",
    "This will ensure that push and pop operations have **O(N)** Time Complexity<br>\n",
    "\n",
    "NOTE: `collections.deque` uses doubly linked list to implement Stack and Queue by adding/removing elements from both ends in O(N)<br>\n",
    "\n",
    "This fundamental understanding of how to use Linked List to implement Stack is enough, we won't acutally be implamenting Stack with Linked List"
   ]
  },
  {
   "cell_type": "markdown",
   "id": "db5cebcc",
   "metadata": {},
   "source": [
    " "
   ]
  },
  {
   "cell_type": "markdown",
   "id": "6e651b83",
   "metadata": {},
   "source": [
    "## References:\n",
    "\n",
    "i.   https://www.geeksforgeeks.org/stack-in-python/#:~:text=A%20stack%20is%20a%20linear,often%20called%20push%20and%20pop.\n",
    "\n",
    "ii.  https://www.youtube.com/watch?v=zwb3GmNAtFk&list=PLeo1K3hjS3uu_n_a__MI_KktGTLYopZ12&index=7\n",
    "\n",
    "iii. https://docs.python.org/3/library/collections.html"
   ]
  }
 ],
 "metadata": {
  "kernelspec": {
   "display_name": "Python 3",
   "language": "python",
   "name": "python3"
  },
  "language_info": {
   "codemirror_mode": {
    "name": "ipython",
    "version": 3
   },
   "file_extension": ".py",
   "mimetype": "text/x-python",
   "name": "python",
   "nbconvert_exporter": "python",
   "pygments_lexer": "ipython3",
   "version": "3.8.8"
  }
 },
 "nbformat": 4,
 "nbformat_minor": 5
}
