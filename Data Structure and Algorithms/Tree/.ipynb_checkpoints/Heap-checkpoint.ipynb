{
 "cells": [
  {
   "cell_type": "markdown",
   "id": "e4ed4a2a",
   "metadata": {},
   "source": [
    "# Heap\n",
    "\n",
    "**Heap** is a special Tree-based data structure in which the tree is a complete Binary Tree. <br>\n",
    "Generally, Heaps can be of two types:\n",
    "\n",
    "- **Max-Heap**: In a Max-Heap the key present at the root node must be greatest among the keys present at all of it’s children. The same property must be recursively true for all sub-trees in that Binary Tree.\n",
    "- **Min-Heap**: In a Min-Heap the key present at the root node must be minimum among the keys present at all of it’s children. The same property must be recursively true for all sub-trees in that Binary Tree.\n",
    "\n",
    "Heap is used to solve special type of problems like Priority Queue, min/max/most frequently occuring characters which require comparing values and keeping track of some minima or maxima within the Data Strcture"
   ]
  },
  {
   "cell_type": "markdown",
   "id": "22868ebc",
   "metadata": {},
   "source": [
    " "
   ]
  },
  {
   "cell_type": "markdown",
   "id": "2be2ca34",
   "metadata": {},
   "source": [
    "### Min-Heap array implementation"
   ]
  },
  {
   "cell_type": "code",
   "execution_count": 138,
   "id": "a5e0738a",
   "metadata": {},
   "outputs": [],
   "source": [
    "class MinHeap:\n",
    "    def __init__(self, capacity):\n",
    "        self.capacity = capacity\n",
    "        self.storage  = [0]*capacity\n",
    "        self.size     = 0\n",
    "        \n",
    "    # helper methods : return index of parent/left/right node of a node\n",
    "    def getParent(self, idx):\n",
    "        return (idx-1)//2\n",
    "    \n",
    "    def getLeft(self, idx):\n",
    "        return idx*2 + 1\n",
    "    \n",
    "    def getRight(self, idx):\n",
    "        return idx*2 + 2\n",
    "    \n",
    "    # helper methods: return bool whether node with passed index has parent/left/right child nodes\n",
    "    def hasParent(self, idx):\n",
    "        return self.getParent(idx) >= 0\n",
    "    \n",
    "    def hasLeft(self, idx):\n",
    "        return self.getLeft(idx) < self.size\n",
    "\n",
    "    def hasRight(self, idx):\n",
    "        return self.getRight(idx) < self.size\n",
    "    \n",
    "    # helper methods: return value of parent/left/right child nodes\n",
    "    def parent(self, idx):\n",
    "        return self.storage[self.getParent(idx)]\n",
    "    \n",
    "    def leftChild(self, idx):\n",
    "        return self.storage[self.getLeft(idx)]\n",
    "    \n",
    "    def rightChild(self, idx):\n",
    "        return self.storage[self.getRight(idx)]\n",
    "    \n",
    "    # helper method: return bool if heap is full\n",
    "    def isFull(self):\n",
    "        return self.size==self.capacity\n",
    "    \n",
    "    # helper method: swap nodes in Heap\n",
    "    def swap(self, idx1, idx2):\n",
    "        temp = self.storage[idx1]\n",
    "        self.storage[idx1] = self.storage[idx2]\n",
    "        self.storage[idx2] = temp\n",
    "        \n",
    "    def insert(self, data):\n",
    "        if self.isFull():\n",
    "            raise Exception('Heap is full')\n",
    "        self.storage[self.size] = data\n",
    "        self.size += 1\n",
    "        self.heapifyUp()\n",
    "        \n",
    "    def heapifyUp(self):\n",
    "        '''\n",
    "        self.parent(idx) < self.storage[idx] for Max-Heap\n",
    "        '''\n",
    "        idx = self.size-1\n",
    "        while self.hasParent(idx) and self.parent(idx) > self.storage[idx]:\n",
    "            self.swap(idx, self.getParent(idx))\n",
    "            idx = self.getParent(idx)\n",
    "    \n",
    "    def removeMin(self):\n",
    "        if self.size==0:\n",
    "            raise Exception('Empty Heap!')\n",
    "        root = self.storage[0]\n",
    "        self.storage[0] = self.storage[self.size-1]\n",
    "        self.size -= 1\n",
    "        self.heapifyDown()\n",
    "        return root\n",
    "    \n",
    "    def heapifyDown(self):\n",
    "        '''\n",
    "        self.rightChild(idx) >self.leftChild(idx)\n",
    "        self.storage[idx] > self.storage[smallChild] for Max-Heap\n",
    "        '''\n",
    "        idx = 0\n",
    "        while self.hasLeft(idx):\n",
    "            smallChild = self.getLeft(idx)\n",
    "            if self.hasRight(idx) and self.rightChild(idx) < self.leftChild(idx):\n",
    "                smallChild = self.getRight(idx)\n",
    "            if self.storage[idx] < self.storage[smallChild]:\n",
    "                break\n",
    "            else:\n",
    "                self.swap(idx, smallChild)\n",
    "            idx = smallChild"
   ]
  },
  {
   "cell_type": "code",
   "execution_count": 139,
   "id": "955b63f8",
   "metadata": {},
   "outputs": [],
   "source": [
    "heap = MinHeap(10)"
   ]
  },
  {
   "cell_type": "code",
   "execution_count": 140,
   "id": "aa8f9c10",
   "metadata": {},
   "outputs": [],
   "source": [
    "import random"
   ]
  },
  {
   "cell_type": "code",
   "execution_count": 141,
   "id": "25b2d910",
   "metadata": {},
   "outputs": [
    {
     "name": "stdout",
     "output_type": "stream",
     "text": [
      "Unsorted : [51, 81, 92, 21, 10, 4, 57, 73, 35, 56]\n"
     ]
    }
   ],
   "source": [
    "arr = []\n",
    "for i in range(10):\n",
    "    r = random.randint(1,100)\n",
    "    arr.append(r)\n",
    "    heap.insert(r)\n",
    "print('Unsorted :', arr)"
   ]
  },
  {
   "cell_type": "code",
   "execution_count": 142,
   "id": "353b0dd1",
   "metadata": {},
   "outputs": [
    {
     "name": "stdout",
     "output_type": "stream",
     "text": [
      "Sorted : [4, 10, 21, 35, 51, 56, 57, 73, 81, 92]\n"
     ]
    }
   ],
   "source": [
    "sorted_ = []\n",
    "for i in range(10):\n",
    "    sorted_.append(heap.removeMin())\n",
    "print('Sorted :', sorted_)"
   ]
  },
  {
   "cell_type": "markdown",
   "id": "1d8b2e8f",
   "metadata": {},
   "source": [
    "### Min Heap implementation using python module `heapq`"
   ]
  },
  {
   "cell_type": "code",
   "execution_count": 143,
   "id": "09cfeb00",
   "metadata": {},
   "outputs": [],
   "source": [
    "import heapq"
   ]
  },
  {
   "cell_type": "code",
   "execution_count": 154,
   "id": "d85d6bcb",
   "metadata": {
    "scrolled": true
   },
   "outputs": [
    {
     "name": "stdout",
     "output_type": "stream",
     "text": [
      "arr : [90, 91, 27, 33, 23, 27, 92, 10, 6, 85]\n",
      "heap : [6, 10, 27, 33, 23, 27, 92, 91, 90, 85]\n",
      "min element : 6\n",
      "heap : [10, 23, 27, 33, 85, 27, 92, 91, 90]\n",
      "heap : [6, 10, 27, 33, 23, 27, 92, 91, 90, 85]\n"
     ]
    }
   ],
   "source": [
    "arr = []\n",
    "for i in range(10):\n",
    "    r = random.randint(1,100)\n",
    "    arr.append(r)\n",
    "print('arr :', arr)    \n",
    "\n",
    "# heapify iterable\n",
    "heapq.heapify(arr)\n",
    "\n",
    "print('heap :', arr)\n",
    "\n",
    "# pop from Min Heap\n",
    "temp = heapq.heappop(arr)\n",
    "print('min element :', temp)\n",
    "print('heap :', arr)\n",
    "\n",
    "# push element in heap\n",
    "heapq.heappush(arr, temp)\n",
    "print('heap :', arr)"
   ]
  },
  {
   "cell_type": "code",
   "execution_count": 158,
   "id": "593b4b45",
   "metadata": {},
   "outputs": [
    {
     "name": "stdout",
     "output_type": "stream",
     "text": [
      "2\n",
      "4\n"
     ]
    }
   ],
   "source": [
    "arr1 = [4,12,14,23,46]\n",
    "arr2 = [4,12,14,23,46]\n",
    "\n",
    "heapq.heapify(arr1)\n",
    "heapq.heapify(arr2)\n",
    "\n",
    "# push new value ino the heap, readjust to maintain heap property \n",
    "# then return whatever smallest value is\n",
    "print(heapq.heappushpop(arr1, 2222))\n",
    "\n",
    "# perform pop operation, followed by push operation with passed value\n",
    "print(heapq.heapreplace(arr2, 2))"
   ]
  },
  {
   "cell_type": "code",
   "execution_count": 160,
   "id": "99531a80",
   "metadata": {
    "scrolled": true
   },
   "outputs": [
    {
     "name": "stdout",
     "output_type": "stream",
     "text": [
      "The 3 largest numbers in list are : [10, 9, 8]\n",
      "The 3 smallest numbers in list are : [1, 3, 4]\n"
     ]
    }
   ],
   "source": [
    "arr3 = [6, 7, 9, 4, 3, 5, 8, 10, 1]\n",
    "heapq.heapify(arr3)\n",
    "  \n",
    "print(\"The 3 largest numbers in list are : \",end=\"\")\n",
    "print(heapq.nlargest(3, arr3))\n",
    "\n",
    "print(\"The 3 smallest numbers in list are : \",end=\"\")\n",
    "print(heapq.nsmallest(3, arr3))"
   ]
  },
  {
   "cell_type": "markdown",
   "id": "1318e29b",
   "metadata": {},
   "source": [
    " "
   ]
  },
  {
   "cell_type": "markdown",
   "id": "b0ba0e57",
   "metadata": {},
   "source": [
    "By default Min Heap is implemented by `heapq` class <br>\n",
    "So, we multiply each value by -1 so that we can use it as **MaxHeap**"
   ]
  },
  {
   "cell_type": "code",
   "execution_count": 12,
   "id": "18d1884a",
   "metadata": {},
   "outputs": [
    {
     "name": "stdout",
     "output_type": "stream",
     "text": [
      "Array : [94, 8, 27, 58, 66, 39, 78, 73, 91, 66] \n",
      "\n",
      "Head value of heap : 94 \n",
      "\n",
      "[66, 73, 78, 91, 94] \n",
      " 5 10 9\n"
     ]
    }
   ],
   "source": [
    "from heapq import heapify, heappop, heappush\n",
    "import random\n",
    "\n",
    "\n",
    "arr = []\n",
    "for i in range(10):\n",
    "    arr.append(random.randint(1, 100))\n",
    "print('Array :', arr, '\\n')\n",
    "heap = []\n",
    "\n",
    "for elem in arr:\n",
    "    heappush(heap, -1*elem)\n",
    "\n",
    "print('Head value of heap :', -1*heap[0], '\\n')\n",
    "\n",
    "heap_sort = []\n",
    "for el in heap:\n",
    "    heap_sort.insert(0, heappop(heap)*-1)\n",
    "print(heap_sort, '\\n', len(heap_sort), len(arr), len(set(arr)))"
   ]
  },
  {
   "cell_type": "markdown",
   "id": "3c3ea291",
   "metadata": {},
   "source": [
    " "
   ]
  },
  {
   "cell_type": "markdown",
   "id": "e121da8a",
   "metadata": {},
   "source": [
    "### Priority Queue example with Heap"
   ]
  },
  {
   "cell_type": "code",
   "execution_count": 21,
   "id": "c27f711c",
   "metadata": {},
   "outputs": [
    {
     "name": "stdout",
     "output_type": "stream",
     "text": [
      "Coldest 3 Tech Stacks :\n",
      "Game Development\n",
      "Web Development\n",
      "Android Development\n"
     ]
    }
   ],
   "source": [
    "import heapq\n",
    "\n",
    "# highest number --> lowest priority\n",
    "queue = [(1, 'Web Development'), (2, 'Android Development'), (-1, 'Game Development'),\n",
    "         (3, 'Data Science'), (4, 'Cloud Computing'), (4, 'Cybesecurity'), (5, 'Bloackchain Development')]\n",
    "\n",
    "heapq.heapify(queue)\n",
    "\n",
    "print('Coldest 3 Tech Stacks :')\n",
    "for i in range(3):\n",
    "    print(heappop(queue)[1])"
   ]
  }
 ],
 "metadata": {
  "kernelspec": {
   "display_name": "Python 3",
   "language": "python",
   "name": "python3"
  },
  "language_info": {
   "codemirror_mode": {
    "name": "ipython",
    "version": 3
   },
   "file_extension": ".py",
   "mimetype": "text/x-python",
   "name": "python",
   "nbconvert_exporter": "python",
   "pygments_lexer": "ipython3",
   "version": "3.8.8"
  }
 },
 "nbformat": 4,
 "nbformat_minor": 5
}
