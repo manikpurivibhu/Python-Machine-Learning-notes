{
 "cells": [
  {
   "cell_type": "markdown",
   "id": "38c55c54",
   "metadata": {},
   "source": [
    "# Binary Tree\n",
    "\n",
    "Binary Tree is a hierarchical Data Structure in which each node has at most 2 child nodes, which are often refered to as `left` and `right` node<br>\n",
    "\n",
    "It is a subset of Tree Data Structure (which itself is a subset of Graph Data Structure) <br>\n",
    "\n",
    "We implement Binary Tree using Linked Representation i.e. **using nodes** which contain **data and 2 pointers** pointing to the left and right child nodes<br>\n",
    "\n",
    "**NOTE :** Binary Tree is a recursive Data Structure<br>\n",
    "\n",
    "n : number of nodes in Binary Tree<br>\n",
    "h : height of Binary Tree"
   ]
  },
  {
   "cell_type": "code",
   "execution_count": 1,
   "id": "ff2caf0b",
   "metadata": {},
   "outputs": [],
   "source": [
    "from collections import deque"
   ]
  },
  {
   "cell_type": "code",
   "execution_count": 2,
   "id": "fbd75954",
   "metadata": {},
   "outputs": [],
   "source": [
    "class BinaryTreeNode:\n",
    "    '''\n",
    "    implement Binary Tree and it's methods\n",
    "    '''\n",
    "    \n",
    "    def __init__(self, data):\n",
    "        '''\n",
    "        initialize node with passsed value\n",
    "        '''\n",
    "        \n",
    "        self.data  = data\n",
    "        self.left  = None\n",
    "        self.right = None\n",
    "        \n",
    "        \n",
    "    def insert(self, val, position=None, key=None):\n",
    "        '''\n",
    "        insert node with passed value at position:\n",
    "        1. 'None'  insert at first vacant position in tree (default)\n",
    "        2. 'left'  insert at left most position in Tree\n",
    "        3. 'right' insert at right most position in Tree\n",
    "        4. 'key'   insert below a specific key in the Tree\n",
    "        5. 'leaf'  insert at first leaf node found in Tree\n",
    "        6. 'root'  insert at root and make root a subtree of it with sime adjustments\n",
    "        return root\n",
    "        Time Complexity : O(h)\n",
    "        '''\n",
    "        \n",
    "        if not self:\n",
    "            return BinaryTreeNode(val)\n",
    "        \n",
    "        if key!=None and position!='key':\n",
    "            # invalid parameters: key can be passed only with position=='key'\n",
    "            # so that new node with data 'val' is inserted below node with data 'key'\n",
    "            return self\n",
    "        \n",
    "        if position == None:\n",
    "            # insert node at first vacant position from left side in tree\n",
    "            # use level order traversal\n",
    "            \n",
    "            queue = deque()\n",
    "            queue.appendleft(self)\n",
    "            cur = self\n",
    "            while len(queue)>0:\n",
    "                node = queue.pop()\n",
    "                if node.left:\n",
    "                    queue.appendleft(node.left)\n",
    "                else:\n",
    "                    node.left = BinaryTreeNode(val)\n",
    "                    return self\n",
    "                if node.right:\n",
    "                    queue.appendleft(node.right)\n",
    "                else:\n",
    "                    node.right = BinaryTreeNode(val)\n",
    "                    return self\n",
    "        \n",
    "        elif position == 'left':\n",
    "            cur = self\n",
    "            while cur.left:\n",
    "                cur = cur.left\n",
    "            cur.left = BinaryTreeNode(val)\n",
    "            return self\n",
    "        \n",
    "        elif position == 'right':\n",
    "            cur = self\n",
    "            while cur.right:\n",
    "                cur = cur.right\n",
    "            cur.right = BinaryTreeNode(val)\n",
    "            return self\n",
    "        \n",
    "        elif position == 'leaf':\n",
    "            # use Level Order Traversal\n",
    "            queue = deque()\n",
    "            queue.appendleft(self)\n",
    "            cur = self\n",
    "            while len(queue)>0:\n",
    "                node = queue.pop()\n",
    "                if node.left==None and node.right==None:\n",
    "                    node.left = BinaryTreeNode(val)\n",
    "                    return self\n",
    "                if node.left:\n",
    "                    queue.appendleft(node.left)\n",
    "                if node.right:\n",
    "                    queue.appendleft(node.right)\n",
    "        \n",
    "        elif position == 'root':\n",
    "            new = BinaryTreeNode(val)\n",
    "            new.left = self.left\n",
    "            self.left = None\n",
    "            new.right = self\n",
    "            return new\n",
    "\n",
    "            \n",
    "        elif position == 'key':\n",
    "            if key:\n",
    "                under = key\n",
    "            else:\n",
    "                #can not insert under key if key is None\n",
    "                return self\n",
    "            # use pre order traversal to traverse to node with data 'key'\n",
    "            # val is not added if key not in Binary Tree\n",
    "            \n",
    "            if self.data==key:\n",
    "                node = BinaryTreeNode(val)\n",
    "                node.left = self.left\n",
    "                self.left = node\n",
    "                return self\n",
    "            \n",
    "            if self.left:\n",
    "                self.left.insert(val, position='key', key=under)\n",
    "            if self.right:\n",
    "                self.right.insert(val, position='key', key=under)\n",
    "            return self   \n",
    "            \n",
    "        else:\n",
    "            # invalid input\n",
    "            return self\n",
    "        \n",
    "        \n",
    "    def delete(self, key):\n",
    "        '''\n",
    "        delete node containing passed key from Binary Tree and return root of Tree\n",
    "        '''\n",
    "        \n",
    "        if not self:\n",
    "            return None\n",
    "        \n",
    "        if self.data==key:\n",
    "            # delete from Tree\n",
    "            pass\n",
    "        \n",
    "        if self.left:\n",
    "            self.left.delete(key)\n",
    "        if self.right:\n",
    "            self.right.delete(key)\n",
    "        return self\n",
    "    \n",
    "    \n",
    "    def recursiveInorder(self):\n",
    "        '''\n",
    "        return a list of elements obtained by In Order Traversal of Binary Tree\n",
    "        implementation is recursive in nature\n",
    "        Time Complexity : O(n)\n",
    "        Space Complexity: O(1) ignoring size of stack for recursive calls, \n",
    "                          O(h) if notignoring size of stack for recursive calls\n",
    "        # inorder traversal: left_child -> parent -> right_child\n",
    "        '''\n",
    "        \n",
    "        if not self:\n",
    "            return \n",
    "        \n",
    "        traversal = []\n",
    "    \n",
    "        if self.left:\n",
    "            traversal += self.left.recursiveInorder()\n",
    "        traversal.append(self.data)\n",
    "        if self.right:\n",
    "            traversal += self.right.recursiveInorder()\n",
    "        return traversal\n",
    "        \n",
    "        \n",
    "    def iterativeInorder(self):\n",
    "        '''\n",
    "        return a list of elements obtained by In Order Traversal of Binary Tree\n",
    "        implementation is iterative in nature (DFS/Stack used)\n",
    "        Time Complexity : O(n)\n",
    "        Space Complexity: O(h)\n",
    "        # inorder traversal: left_child -> parent -> right_child\n",
    "        '''\n",
    "        \n",
    "        if not self:\n",
    "            return None\n",
    "        \n",
    "        traversal = []\n",
    "        stack = deque()\n",
    "        curNode = self\n",
    "        \n",
    "        while curNode!=None or len(stack)>0:\n",
    "            if curNode != None:\n",
    "                stack.append(curNode)\n",
    "                curNode  = curNode.left\n",
    "            else:\n",
    "                curNode = stack.pop()\n",
    "                traversal.append(curNode.data)\n",
    "                curNode = curNode.right\n",
    "        return traversal\n",
    "    \n",
    "    \n",
    "    def recursivePreorder(self):\n",
    "        '''\n",
    "        return a list of elements obtained by Pre Order Traversal of Binary Tree\n",
    "        implementation is recursive in nature\n",
    "        Time Complexity : O(n)\n",
    "        Space Complexity: O(1) ignoring size of stack for recursive calls, \n",
    "                          O(h) if not ignoring size of stack for recursive calls\n",
    "        # preorder traversal: parent -> left_child -> right_child\n",
    "        '''\n",
    "        \n",
    "        if not self:\n",
    "            return\n",
    "        \n",
    "        traversal = []\n",
    "        traversal.append(self.data)\n",
    "        if self.left:\n",
    "            traversal += self.left.recursivePreorder()\n",
    "        if self.right:\n",
    "            traversal += self.right.recursivePreorder()\n",
    "        return traversal\n",
    "    \n",
    "    \n",
    "    def iterativePreorder(self):\n",
    "        '''\n",
    "        return a list of elements obtained by Pre Order Traversal of Binary Tree\n",
    "        implementation is iterative in nature (DFS/Stack used)\n",
    "        Time Complexity : O(n)\n",
    "        Space Complexity: O(h)\n",
    "        # preorder traversal: parent -> left_child -> right_child\n",
    "        '''\n",
    "        \n",
    "        if not self:\n",
    "            return None\n",
    "        \n",
    "        traversal = []\n",
    "        stack = deque()\n",
    "        curNode = self\n",
    "        #stack.append(curNode)\n",
    "        prevNode = None\n",
    "        \n",
    "        while curNode!=None or len(stack)>0:\n",
    "            if curNode != None:\n",
    "                traversal.append(curNode.data)\n",
    "                stack.append(curNode)\n",
    "                curNode = curNode.left\n",
    "            else:\n",
    "                prevNode = stack.pop()\n",
    "                curNode  = prevNode.right()\n",
    "                \n",
    "        return traversal\n",
    "    \n",
    "    \n",
    "    def recursivePostorder(self):\n",
    "        '''\n",
    "        return a list of elements obtained by Post Order Traversal of Binary Tree\n",
    "        implementation is recursive in nature\n",
    "        Time Complexity: O(n)\n",
    "        Space Complexity: O(1) ignoring size of stack for recursive calls, \n",
    "                          O(h) if notignoring size of stack for recursive calls\n",
    "        # postorder traversal: left_child -> right_child -> parent\n",
    "        '''\n",
    "        \n",
    "        if not self:\n",
    "            return None\n",
    "        \n",
    "        traversal = []\n",
    "        \n",
    "        if self.left:\n",
    "            traversal += self.left.recursivePostorder()\n",
    "        if self.right:\n",
    "            traversal += self.right.recursivePostorder()\n",
    "        traversal.append(self.data)\n",
    "        \n",
    "        return traversal\n",
    "    \n",
    "    \n",
    "    def iterativePostorder(self):\n",
    "        '''\n",
    "        return a list of elements obtained by Post Order Traversal of Binary Tree\n",
    "        implementation is iterative in nature (DFS/Stack used)\n",
    "        Time Complexity : O(n)\n",
    "        Space Complexity: O(h)\n",
    "        # postorder traversal: left_child -> right_child -> parent\n",
    "        '''\n",
    "        \n",
    "        if not self:\n",
    "            return None\n",
    "        \n",
    "        traversal = []\n",
    "        curNode = self\n",
    "        mainStack  = deque()\n",
    "        rightChild = deque()\n",
    "        \n",
    "        while curNode or len(mainStack)>0:\n",
    "            if curNode!=None:\n",
    "                mainStack.append(curNode)\n",
    "                if curNode.right:\n",
    "                    rightChild.append(curNode.right)\n",
    "                curNode = curNode.left\n",
    "            else:\n",
    "                curNode = mainStack[-1]\n",
    "                if len(rightChild) > 0 and curNode.right == rightChild[-1]:\n",
    "                    curNode = rightChild.pop()\n",
    "                else:\n",
    "                    traversal.append(curNode.data)\n",
    "                    mainStack.pop()\n",
    "                    curNode = None\n",
    "        return traversal\n",
    "    \n",
    "    \n",
    "    def recursiveLevelorder(self):\n",
    "        '''\n",
    "        return a list of elements obtained by Level Order Traversal of Binary Tree\n",
    "        implementation is recursive in nature\n",
    "        Time Complexity: O(N^2)\n",
    "        Space Complexity: O(N)\n",
    "        '''\n",
    "        \n",
    "        if not self:\n",
    "            return None\n",
    "        \n",
    "        traversal = []\n",
    "        height = self.height()\n",
    "        for level in range(1, height+1):\n",
    "            traversal += self.levelElements(level)\n",
    "        return traversal\n",
    "    \n",
    "    \n",
    "    def levelElements(self, level):\n",
    "        '''\n",
    "        return a list of all elements at specified level in the Binary Tree\n",
    "        '''\n",
    "        \n",
    "        if level<0:\n",
    "            return None\n",
    "        \n",
    "        level_elements = []\n",
    "        \n",
    "        if not self:\n",
    "            return level_elements\n",
    "        \n",
    "        if level==1:\n",
    "            level_elements.append(self.data)\n",
    "            return level_elements\n",
    "        \n",
    "        else:\n",
    "            if self.left:\n",
    "                level_elements += self.left.levelElements(level-1)\n",
    "            if self.right:\n",
    "                level_elements += self.right.levelElements(level-1)\n",
    "        return level_elements\n",
    "    \n",
    "    \n",
    "    def iterativeLevelorder(self):\n",
    "        '''\n",
    "        return a list of elements obtained by Level Order Traversal of Binary Tree\n",
    "        implementation is iterative in nature, implemented using Breadth FIrst Search approach (BFS/Queue)\n",
    "        Time Complexity: O(N)\n",
    "        Space Complexity: O(N)\n",
    "        '''\n",
    "        \n",
    "        if not self:\n",
    "            return None\n",
    "        \n",
    "        traversal = []\n",
    "        queue = deque()\n",
    "        queue.appendleft(self)\n",
    "        cur = self\n",
    "        while len(queue)>0:\n",
    "            node = queue.pop()\n",
    "            traversal.append(node.data)\n",
    "            if node.left:\n",
    "                queue.appendleft(node.left)\n",
    "            if node.right:\n",
    "                queue.appendleft(node.right)\n",
    "        return traversal\n",
    "    \n",
    "    \n",
    "    def height(self):\n",
    "        '''\n",
    "        return height or maximum depth of Binary Tree\n",
    "        '''\n",
    "        \n",
    "        if self.left and self.right:\n",
    "            return 1 + max(self.left.height(), self.right.height())\n",
    "        elif self.left:\n",
    "            return 1 + self.left.height()\n",
    "        elif self.right:\n",
    "            return 1 + self.right.height()\n",
    "        #if not self: return 1\n",
    "        else: \n",
    "            return  1\n",
    "        \n",
    "    \n",
    "    def search(self, key):\n",
    "        '''\n",
    "        return True if a node with data key is in Binary Tree, otherwise False\n",
    "        Time Complexity : O(h)\n",
    "        '''\n",
    "        \n",
    "        if not self:\n",
    "            return False\n",
    "        elements = self.iterativeInorder()\n",
    "        return key in elements\n",
    "        \n",
    "      \n",
    "    def find_min(self):\n",
    "        '''\n",
    "        return smallest value from Binary Tree\n",
    "        '''\n",
    "        \n",
    "        if not self:\n",
    "            return None\n",
    "        \n",
    "        return min(self.iterativeInorder())\n",
    "    \n",
    "\n",
    "    \n",
    "    def find_max(self):\n",
    "        '''\n",
    "        return largest value from Binary Tree\n",
    "        '''\n",
    "        \n",
    "        if not self:\n",
    "            return None\n",
    "        \n",
    "        return max(self.iterativeInorder())\n",
    "\n",
    "    \n",
    "    def sumElements(self):\n",
    "        '''\n",
    "        return smallest value from Binary Tree\n",
    "        '''\n",
    "        \n",
    "        if not self:\n",
    "            return None\n",
    "        \n",
    "        return sum(self.iterativeInorder())\n",
    "\n",
    "    \n",
    "    def count_nodes(self):\n",
    "        '''\n",
    "        return number of nodes in tree\n",
    "        '''\n",
    "        \n",
    "        return len(self.iterativeInorder())\n",
    "  \n",
    "\n",
    "    def count_leaf_nodes(self):\n",
    "        '''\n",
    "        return number of leaf nodes in Binary Tree\n",
    "        '''\n",
    "        \n",
    "        if not self:\n",
    "            return None\n",
    "        \n",
    "        count = 0\n",
    "        stack = deque()\n",
    "        cur = self\n",
    "        while cur or len(stack)>0:\n",
    "            if cur!=None:\n",
    "                stack.append(cur)\n",
    "                cur = cur.left\n",
    "            else:\n",
    "                cur = stack.pop()\n",
    "                if cur.left==None and cur.right==None:\n",
    "                    count += 1\n",
    "                cur = cur.right\n",
    "        return count\n",
    "        \n",
    "        "
   ]
  },
  {
   "cell_type": "code",
   "execution_count": 3,
   "id": "84bb3c90",
   "metadata": {},
   "outputs": [],
   "source": [
    "def iter_to_BST(iterable):\n",
    "    '''\n",
    "    generate a Binary Search Tree from passed iterable\n",
    "    this will generate a new BST, not add the elements to an existing BST\n",
    "    '''\n",
    "\n",
    "    root = BinaryTreeNode(iterable[0])\n",
    "    for i in range(1, len(iterable)):\n",
    "        root.insert(iterable[i])\n",
    "    return root"
   ]
  },
  {
   "cell_type": "code",
   "execution_count": 4,
   "id": "f4ff5179",
   "metadata": {},
   "outputs": [],
   "source": [
    "elements = [34,1,4,5,43,6,34,6,1,88,6,20,65,99]\n",
    "root = iter_to_BST(elements)"
   ]
  },
  {
   "cell_type": "code",
   "execution_count": 5,
   "id": "c76c8ca8",
   "metadata": {
    "scrolled": true
   },
   "outputs": [
    {
     "data": {
      "text/plain": [
       "[6, 5, 1, 1, 88, 43, 6, 34, 20, 6, 65, 4, 99, 34]"
      ]
     },
     "execution_count": 5,
     "metadata": {},
     "output_type": "execute_result"
    }
   ],
   "source": [
    "root.iterativeInorder()"
   ]
  },
  {
   "cell_type": "code",
   "execution_count": 6,
   "id": "3b8a4d6c",
   "metadata": {},
   "outputs": [
    {
     "name": "stdout",
     "output_type": "stream",
     "text": [
      "Pre Order Traversal - Recursive : [34, 1, 5, 6, 1, 43, 88, 6, 4, 6, 20, 65, 34, 99]\n"
     ]
    }
   ],
   "source": [
    "#traversals\n",
    "\n",
    "print('Pre Order Traversal - Recursive :', root.recursivePreorder())\n",
    "#print('Pre Order Traversal - Iterative :', root.iterativePreorder(), '\\n')"
   ]
  },
  {
   "cell_type": "code",
   "execution_count": 7,
   "id": "e1427479",
   "metadata": {
    "scrolled": true
   },
   "outputs": [
    {
     "name": "stdout",
     "output_type": "stream",
     "text": [
      "In Order Traversal - Recursive  : [6, 5, 1, 1, 88, 43, 6, 34, 20, 6, 65, 4, 99, 34]\n",
      "In Order Travexrsal - Iterative  : [6, 5, 1, 1, 88, 43, 6, 34, 20, 6, 65, 4, 99, 34] \n",
      "\n"
     ]
    }
   ],
   "source": [
    "print('In Order Traversal - Recursive  :', root.recursiveInorder())\n",
    "print('In Order Travexrsal - Iterative  :', root.iterativeInorder(), '\\n')"
   ]
  },
  {
   "cell_type": "code",
   "execution_count": 8,
   "id": "2c8b9f44",
   "metadata": {},
   "outputs": [
    {
     "name": "stdout",
     "output_type": "stream",
     "text": [
      "Post Order Traversal - Recursive  : [6, 1, 5, 88, 6, 43, 1, 20, 65, 6, 99, 34, 4, 34]\n",
      "Post Order Traversal - Iterative  : [6, 1, 5, 88, 6, 43, 1, 20, 65, 6, 99, 34, 4, 34] \n",
      "\n"
     ]
    }
   ],
   "source": [
    "print('Post Order Traversal - Recursive  :', root.recursivePostorder())\n",
    "print('Post Order Traversal - Iterative  :', root.iterativePostorder(), '\\n')"
   ]
  },
  {
   "cell_type": "code",
   "execution_count": 9,
   "id": "807056bd",
   "metadata": {},
   "outputs": [
    {
     "name": "stdout",
     "output_type": "stream",
     "text": [
      "Level Order Traversal - Recursive  : [34, 1, 4, 5, 43, 6, 34, 6, 1, 88, 6, 20, 65, 99]\n",
      "Level Order Traversal - Iterative  : [34, 1, 4, 5, 43, 6, 34, 6, 1, 88, 6, 20, 65, 99]\n"
     ]
    }
   ],
   "source": [
    "print('Level Order Traversal - Recursive  :', root.recursiveLevelorder())\n",
    "print('Level Order Traversal - Iterative  :', root.iterativeLevelorder())"
   ]
  },
  {
   "cell_type": "code",
   "execution_count": 10,
   "id": "db6e1d80",
   "metadata": {},
   "outputs": [
    {
     "name": "stdout",
     "output_type": "stream",
     "text": [
      "Level Order Traversal - Iterative  : [34, 1, 4, 5, 43, 6, 34, 6, 1, 88, 6, 20, 65, 99, 100]\n"
     ]
    }
   ],
   "source": [
    "root = root.insert(100, position='left')\n",
    "print('Level Order Traversal - Iterative  :', root.iterativeLevelorder())"
   ]
  },
  {
   "cell_type": "code",
   "execution_count": 11,
   "id": "7e686a9f",
   "metadata": {},
   "outputs": [
    {
     "name": "stdout",
     "output_type": "stream",
     "text": [
      "Level Order Traversal - Iterative  : [34, 1, 4, 5, 43, 6, 34, 6, 1, 88, 6, 20, 65, 99, 101, 100]\n"
     ]
    }
   ],
   "source": [
    "root = root.insert(101, position='right')\n",
    "print('Level Order Traversal - Iterative  :', root.iterativeLevelorder())"
   ]
  },
  {
   "cell_type": "code",
   "execution_count": 12,
   "id": "8c1a711e",
   "metadata": {},
   "outputs": [
    {
     "name": "stdout",
     "output_type": "stream",
     "text": [
      "Level Order Traversal - Iterative  : [34, 1, 4, 5, 43, 6, 34, 6, 1, 88, 6, 20, 65, 99, 101, 100, 102]\n"
     ]
    }
   ],
   "source": [
    "root = root.insert(102, position='leaf')\n",
    "print('Level Order Traversal - Iterative  :', root.iterativeLevelorder())"
   ]
  },
  {
   "cell_type": "code",
   "execution_count": 13,
   "id": "6c38ad7a",
   "metadata": {
    "scrolled": true
   },
   "outputs": [
    {
     "name": "stdout",
     "output_type": "stream",
     "text": [
      "Level Order Traversal - Iterative  : [103, 1, 34, 5, 43, 4, 6, 1, 88, 6, 6, 34, 100, 102, 20, 65, 99, 101]\n"
     ]
    }
   ],
   "source": [
    "root = root.insert(103, position='root')\n",
    "print('Level Order Traversal - Iterative  :', root.iterativeLevelorder())"
   ]
  },
  {
   "cell_type": "code",
   "execution_count": 14,
   "id": "bfd073d4",
   "metadata": {
    "scrolled": true
   },
   "outputs": [
    {
     "name": "stdout",
     "output_type": "stream",
     "text": [
      "Level Order Traversal - Iterative  : [103, 1, 34, 5, 43, 4, 6, 1, 88, 6, 104, 34, 100, 102, 6, 99, 101, 20, 65]\n"
     ]
    }
   ],
   "source": [
    "root = root.insert(104, position='key', key = 4)\n",
    "print('Level Order Traversal - Iterative  :', root.iterativeLevelorder())"
   ]
  },
  {
   "cell_type": "code",
   "execution_count": 15,
   "id": "31f97394",
   "metadata": {},
   "outputs": [
    {
     "name": "stdout",
     "output_type": "stream",
     "text": [
      "True\n",
      "False\n"
     ]
    }
   ],
   "source": [
    "print(root.search(1))\n",
    "print(root.search(-1))"
   ]
  },
  {
   "cell_type": "code",
   "execution_count": 16,
   "id": "447daac9",
   "metadata": {},
   "outputs": [
    {
     "name": "stdout",
     "output_type": "stream",
     "text": [
      "smallest element : 1 \n",
      "\n",
      "largest  element : 104 \n",
      "\n",
      "summation of elements : 922 \n",
      "\n"
     ]
    }
   ],
   "source": [
    "# smallest - largest - sum of all elements\n",
    "\n",
    "print('smallest element :', root.find_min(), '\\n')\n",
    "print('largest  element :', root.find_max(), '\\n')\n",
    "print('summation of elements :', root.sumElements(), '\\n')"
   ]
  },
  {
   "cell_type": "code",
   "execution_count": 17,
   "id": "974d13f9",
   "metadata": {},
   "outputs": [
    {
     "name": "stdout",
     "output_type": "stream",
     "text": [
      "number of nodes : 19\n",
      "number of nodes : 20\n"
     ]
    }
   ],
   "source": [
    "# number of nodes in Tree\n",
    "\n",
    "print('number of nodes :', root.count_nodes())\n",
    "root.insert(99)\n",
    "print('number of nodes :', root.count_nodes())"
   ]
  },
  {
   "cell_type": "code",
   "execution_count": 18,
   "id": "aeb82597",
   "metadata": {},
   "outputs": [
    {
     "name": "stdout",
     "output_type": "stream",
     "text": [
      "number of leaf nodes : 9\n"
     ]
    }
   ],
   "source": [
    "#number of leaf nodes in tree\n",
    "\n",
    "print('number of leaf nodes :', root.count_leaf_nodes())"
   ]
  },
  {
   "cell_type": "markdown",
   "id": "bfd88b41",
   "metadata": {},
   "source": [
    " "
   ]
  },
  {
   "cell_type": "markdown",
   "id": "21718231",
   "metadata": {},
   "source": [
    "### references:\n",
    "\n",
    "- https://www.youtube.com/playlist?list=PLeo1K3hjS3uu_n_a__MI_KktGTLYopZ12\n",
    "- https://www.enjoyalgorithms.com/blog/iterative-binary-tree-traversals-using-stack"
   ]
  }
 ],
 "metadata": {
  "kernelspec": {
   "display_name": "Python 3",
   "language": "python",
   "name": "python3"
  },
  "language_info": {
   "codemirror_mode": {
    "name": "ipython",
    "version": 3
   },
   "file_extension": ".py",
   "mimetype": "text/x-python",
   "name": "python",
   "nbconvert_exporter": "python",
   "pygments_lexer": "ipython3",
   "version": "3.8.8"
  }
 },
 "nbformat": 4,
 "nbformat_minor": 5
}
