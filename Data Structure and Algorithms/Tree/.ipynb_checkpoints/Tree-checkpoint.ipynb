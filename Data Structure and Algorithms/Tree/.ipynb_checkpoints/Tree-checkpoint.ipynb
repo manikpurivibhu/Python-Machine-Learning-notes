{
 "cells": [
  {
   "cell_type": "markdown",
   "id": "485db968",
   "metadata": {},
   "source": [
    "# Tree\n",
    "\n",
    "Tree is a hierarchical Data Strucutre<br>\n",
    "\n",
    "We implement Tree using Linked representation i.e. **using nodes** which contain **data and pointers** pointing to the children of the node<br>\n",
    "\n",
    "**NOTE:** Tree is a Recursive Data Structure"
   ]
  },
  {
   "cell_type": "code",
   "execution_count": 58,
   "id": "0c6f49de",
   "metadata": {},
   "outputs": [],
   "source": [
    "class TreeNode:\n",
    "    '''\n",
    "    implement Tree Data Structure\n",
    "    '''\n",
    "    \n",
    "    def __init__(self, data):\n",
    "        '''\n",
    "        initialize node\n",
    "        '''\n",
    "        self.data = data\n",
    "        self.children = []\n",
    "        self.parent = None\n",
    "    \n",
    "    def add_child(self, child):\n",
    "        '''\n",
    "        add a child to the passed instance\n",
    "        this function is called as instance.add_child(data)\n",
    "        ex : root.add_child(first_child)\n",
    "        '''\n",
    "        \n",
    "        child.parent = self\n",
    "        self.children.append(child)\n",
    "        \n",
    "    def get_level(self):\n",
    "        '''\n",
    "        return the level of the instance by traversing its parents upwards\n",
    "        '''\n",
    "        \n",
    "        level = 0\n",
    "        p = self.parent\n",
    "        while p:\n",
    "            level += 1\n",
    "            p  = p.parent\n",
    "        return level\n",
    "        \n",
    "    def print_tree(self):\n",
    "        '''\n",
    "        print the tree from the passed instance-preorder traversal\n",
    "        '''\n",
    "        spaces = ' ' * self.get_level()*4\n",
    "        prefix = spaces + \"|__\" if self.parent else \"\"\n",
    "        print(prefix + self.data)\n",
    "        if self.children:\n",
    "            for child in self.children:\n",
    "                child.print_tree()"
   ]
  },
  {
   "cell_type": "code",
   "execution_count": 59,
   "id": "ea094183",
   "metadata": {},
   "outputs": [],
   "source": [
    "root = TreeNode('Grand Parents')"
   ]
  },
  {
   "cell_type": "code",
   "execution_count": 60,
   "id": "ee7e15f3",
   "metadata": {},
   "outputs": [],
   "source": [
    "parents = TreeNode('parents')\n",
    "uncle_aunt = TreeNode('uncle and aunt')\n",
    "uncle = TreeNode('uncle')"
   ]
  },
  {
   "cell_type": "code",
   "execution_count": 61,
   "id": "7cd39710",
   "metadata": {},
   "outputs": [],
   "source": [
    "root.add_child(parents)\n",
    "root.add_child(uncle_aunt)\n",
    "root.add_child(uncle)"
   ]
  },
  {
   "cell_type": "code",
   "execution_count": 62,
   "id": "65d580ab",
   "metadata": {},
   "outputs": [],
   "source": [
    "myself = TreeNode('myself')\n",
    "sibling = TreeNode('sibling')\n",
    "parents.add_child(myself)\n",
    "parents.add_child(sibling)"
   ]
  },
  {
   "cell_type": "code",
   "execution_count": 63,
   "id": "23cf3691",
   "metadata": {},
   "outputs": [],
   "source": [
    "cousin = TreeNode('cousin')\n",
    "uncle_aunt.add_child(cousin)"
   ]
  },
  {
   "cell_type": "code",
   "execution_count": 64,
   "id": "727d7160",
   "metadata": {},
   "outputs": [
    {
     "name": "stdout",
     "output_type": "stream",
     "text": [
      "    |__parents\n",
      "        |__myself\n",
      "        |__sibling\n"
     ]
    }
   ],
   "source": [
    "parents.print_tree()"
   ]
  },
  {
   "cell_type": "code",
   "execution_count": 65,
   "id": "d168f2fc",
   "metadata": {},
   "outputs": [
    {
     "name": "stdout",
     "output_type": "stream",
     "text": [
      "Grand Parents\n",
      "    |__parents\n",
      "        |__myself\n",
      "        |__sibling\n",
      "    |__uncle and aunt\n",
      "        |__cousin\n",
      "    |__uncle\n"
     ]
    }
   ],
   "source": [
    "root.print_tree()"
   ]
  },
  {
   "cell_type": "code",
   "execution_count": 49,
   "id": "e3e7c3d0",
   "metadata": {},
   "outputs": [
    {
     "name": "stdout",
     "output_type": "stream",
     "text": [
      "0\n",
      "2\n",
      "1\n"
     ]
    }
   ],
   "source": [
    "print(root.get_level())\n",
    "print(sibling.get_level())\n",
    "print(parents.get_level())"
   ]
  },
  {
   "cell_type": "markdown",
   "id": "d5652382",
   "metadata": {},
   "source": [
    "we realize that **implementing a General Tree in Python is not at all efficient**"
   ]
  }
 ],
 "metadata": {
  "kernelspec": {
   "display_name": "Python 3",
   "language": "python",
   "name": "python3"
  },
  "language_info": {
   "codemirror_mode": {
    "name": "ipython",
    "version": 3
   },
   "file_extension": ".py",
   "mimetype": "text/x-python",
   "name": "python",
   "nbconvert_exporter": "python",
   "pygments_lexer": "ipython3",
   "version": "3.8.8"
  }
 },
 "nbformat": 4,
 "nbformat_minor": 5
}
