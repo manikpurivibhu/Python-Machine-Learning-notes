{
 "cells": [
  {
   "cell_type": "markdown",
   "id": "a03dfd88",
   "metadata": {},
   "source": [
    "# heap\n",
    "\n",
    "<b>Heap</b> is a <b>tree-based Data Structure</b> which is a complete Binary Tree and in which all the nodes of the tree follow a specific order. <br><br>\n",
    "\n",
    "Generally, heaps can be of 2 types:\n",
    "\n",
    "1. <b>Max-Heap</b>: In a Max-Heap the key present at the root node must be greatest among the keys present at all of it’s children. The same property must be recursively true for all sub-trees in that Binary Tree.\n",
    "<br>\n",
    "\n",
    "2. <b>Min-Heap</b>: In a Min-Heap the key present at the root node must be minimum among the keys present at all of it’s children. The same property must be recursively true for all sub-trees in that Binary Tree.\n",
    "\n",
    "Properties of Binary Heap:  <br>\n",
    "\n",
    "* Every parent node, at most, can have only 2 children\n",
    "\n",
    "* The Binary Tree must be complete Tree i.e. it must be filled from left to right and every level must be full, except for the last level which need not be necessarily full. \n",
    "\n",
    "* Min-Heap : Every parent's key must be smaller than all it's children nodes\n",
    "\n",
    "* Max-Heap : Every parent's key must be greater than all it's children nodes"
   ]
  },
  {
   "cell_type": "markdown",
   "id": "bb0a41ff",
   "metadata": {},
   "source": [
    "## Array representtion of Heap\n",
    "\n",
    "<b>Formula</b>\n",
    "\n",
    "* Parent Index = (index-1) //2\n",
    "\n",
    "* Left Child Index = 2 * (index + 1)\n",
    "\n",
    "* Right Child Index = 2 * (index + 2)"
   ]
  },
  {
   "cell_type": "code",
   "execution_count": 13,
   "id": "f4288bff",
   "metadata": {},
   "outputs": [],
   "source": [
    "class MinHeap:\n",
    "    def __init__(self, capacity):\n",
    "        #capacity is the maximum number of nodes the Heap can have\n",
    "        self.storage  = [0] * capacity\n",
    "        self.capacity = capacity\n",
    "        self.size     = 0              #number of nodes currently within our heap\n",
    "        \n",
    "        \n",
    "    def getParentIndex(self, index):\n",
    "        return (index-1)//2\n",
    "\n",
    "    def getLeftChildIndex(self, index):\n",
    "        return 2*(index+1)\n",
    "\n",
    "    def getRightChildIndex(self, index):\n",
    "        return 2*(index+2)\n",
    "\n",
    "    def hasParent(self, index):\n",
    "        return self.getParentIndex(index) >= 0\n",
    "\n",
    "    def hasLeftChild(self, index):\n",
    "        return self.getLeftChildIndex(index) < self.size\n",
    "\n",
    "    def hasRightChild(self, index):\n",
    "        return self.getRightChildIndex(index) < self.size\n",
    "\n",
    "    def parent(self, index):\n",
    "        return self.storage[self.getParentIndex(index)]\n",
    "\n",
    "    def leftChild(self, index):\n",
    "        return self.storage[self.getLeftChildIndex(index)]\n",
    "\n",
    "    def rightChild(self, index):\n",
    "        return self.storage[self.getRightChildIndex(index)]\n",
    "\n",
    "    def isFull(self):\n",
    "        return self.size >= self.capacity\n",
    "\n",
    "    def swap(self, index1, index2):\n",
    "        self.storage[index1], self.storage[index2] = self.storage[index2], self.storage[index1]\n",
    "\n",
    "    #self-reference function\n",
    "    def arrayrepresentation(self):\n",
    "        print(self.storage)\n",
    "\n",
    "        \n",
    "        \n",
    "    def heapifyUp(self, index):\n",
    "        if self.hasParent(index) and self.parent(index) > self.storage[index]:\n",
    "            self.swap(index, self.getParentIndex(index))\n",
    "            self.heapifyUp(self.getParentIndex(index))\n",
    "\n",
    "    def insert(self, data):\n",
    "        '''\n",
    "        method to insert node to heap'''\n",
    "\n",
    "        #raise error if heap is full\n",
    "        if self.isFull():\n",
    "            raise('Heap is full')\n",
    "\n",
    "        #insert node at the last available position\n",
    "        self.storage[self.size] = data\n",
    "        self.size += 1\n",
    "        self.heapifyUp(self.size - 1)\n",
    "\n",
    "\n",
    "    def heapifyDown(self, index):\n",
    "\n",
    "        smallest = index\n",
    "        if self.hasLeftChild(index) and self.storage[smallest] > self.leftChild(index):\n",
    "            smallest = self.getLeftChildIndex(index)\n",
    "\n",
    "        if self.hasRightChild(index) and self.storage[smallest] > self.rightChild(index):\n",
    "            smallest = self.getRightChildIndex(index)\n",
    "\n",
    "        if smallest != index:\n",
    "            self.swap(index, smallest)\n",
    "            self.heapifyDown(smallest)\n",
    "\n",
    "        '''iterative implementation\n",
    "        index = 0 \n",
    "        while self.hasLeftChild(index):\n",
    "\n",
    "            smallerChildIndex = self.getLeftChildIndex(index)\n",
    "\n",
    "            if (self.hasRightChild(index) and self.rightChild(index) < self.leftChild(index)):\n",
    "                smallerChildIndex = self.getRightChildIndex(index)\n",
    "\n",
    "            if self.storage[index] > self.storage[smallerChildIndex]:\n",
    "                self.swap(index, smallerChildIndex)\n",
    "                index = smallerChildIndex\n",
    "\n",
    "            else:   \n",
    "                break\n",
    "        '''\n",
    "\n",
    "\n",
    "    def removeMin(self):\n",
    "        '''\n",
    "        removes and returns the min element (root)'''\n",
    "\n",
    "        #raise error if heap is empty\n",
    "        if self.size == 0:\n",
    "            raise('Heap is empty')\n",
    "        data = self.storage[0]\n",
    "        self.storage[0] = self.storage[self.size - 1]\n",
    "        self.size -= 1\n",
    "        self.heapifyDown(0)\n",
    "        return data"
   ]
  },
  {
   "cell_type": "code",
   "execution_count": 14,
   "id": "fb95257a",
   "metadata": {},
   "outputs": [],
   "source": [
    "h = MinHeap(7)"
   ]
  },
  {
   "cell_type": "code",
   "execution_count": 15,
   "id": "c18e6264",
   "metadata": {},
   "outputs": [],
   "source": [
    "for i in [0,32,123,43,12,0,100]:\n",
    "    h.insert(i)"
   ]
  },
  {
   "cell_type": "code",
   "execution_count": 16,
   "id": "55bfce7a",
   "metadata": {},
   "outputs": [
    {
     "name": "stdout",
     "output_type": "stream",
     "text": [
      "[0, 12, 0, 43, 32, 123, 100]\n"
     ]
    }
   ],
   "source": [
    "h.arrayrepresentation()"
   ]
  },
  {
   "cell_type": "code",
   "execution_count": 17,
   "id": "dba57a2f",
   "metadata": {
    "collapsed": true
   },
   "outputs": [
    {
     "ename": "TypeError",
     "evalue": "exceptions must derive from BaseException",
     "output_type": "error",
     "traceback": [
      "\u001b[1;31m---------------------------------------------------------------------------\u001b[0m",
      "\u001b[1;31mTypeError\u001b[0m                                 Traceback (most recent call last)",
      "\u001b[1;32m<ipython-input-17-838d281609ec>\u001b[0m in \u001b[0;36m<module>\u001b[1;34m\u001b[0m\n\u001b[1;32m----> 1\u001b[1;33m \u001b[0mh\u001b[0m\u001b[1;33m.\u001b[0m\u001b[0minsert\u001b[0m\u001b[1;33m(\u001b[0m\u001b[1;36m99\u001b[0m\u001b[1;33m)\u001b[0m\u001b[1;33m\u001b[0m\u001b[1;33m\u001b[0m\u001b[0m\n\u001b[0m",
      "\u001b[1;32m<ipython-input-13-3390d69c7610>\u001b[0m in \u001b[0;36minsert\u001b[1;34m(self, data)\u001b[0m\n\u001b[0;32m     57\u001b[0m         \u001b[1;31m#raise error if heap is full\u001b[0m\u001b[1;33m\u001b[0m\u001b[1;33m\u001b[0m\u001b[1;33m\u001b[0m\u001b[0m\n\u001b[0;32m     58\u001b[0m         \u001b[1;32mif\u001b[0m \u001b[0mself\u001b[0m\u001b[1;33m.\u001b[0m\u001b[0misFull\u001b[0m\u001b[1;33m(\u001b[0m\u001b[1;33m)\u001b[0m\u001b[1;33m:\u001b[0m\u001b[1;33m\u001b[0m\u001b[1;33m\u001b[0m\u001b[0m\n\u001b[1;32m---> 59\u001b[1;33m             \u001b[1;32mraise\u001b[0m\u001b[1;33m(\u001b[0m\u001b[1;34m'Heap is full'\u001b[0m\u001b[1;33m)\u001b[0m\u001b[1;33m\u001b[0m\u001b[1;33m\u001b[0m\u001b[0m\n\u001b[0m\u001b[0;32m     60\u001b[0m \u001b[1;33m\u001b[0m\u001b[0m\n\u001b[0;32m     61\u001b[0m         \u001b[1;31m#insert node at the last available position\u001b[0m\u001b[1;33m\u001b[0m\u001b[1;33m\u001b[0m\u001b[1;33m\u001b[0m\u001b[0m\n",
      "\u001b[1;31mTypeError\u001b[0m: exceptions must derive from BaseException"
     ]
    }
   ],
   "source": [
    "h.insert(99)\n",
    "#Heap is full so error raised as desired"
   ]
  },
  {
   "cell_type": "code",
   "execution_count": 18,
   "id": "9e0ace02",
   "metadata": {},
   "outputs": [
    {
     "data": {
      "text/plain": [
       "0"
      ]
     },
     "execution_count": 18,
     "metadata": {},
     "output_type": "execute_result"
    }
   ],
   "source": [
    "h.removeMin()"
   ]
  },
  {
   "cell_type": "code",
   "execution_count": 20,
   "id": "eb793892",
   "metadata": {},
   "outputs": [],
   "source": [
    "h.insert(99)"
   ]
  },
  {
   "cell_type": "code",
   "execution_count": 21,
   "id": "e4883de1",
   "metadata": {},
   "outputs": [
    {
     "name": "stdout",
     "output_type": "stream",
     "text": [
      "[0, 12, 99, 43, 32, 123, 100]\n"
     ]
    }
   ],
   "source": [
    "h.arrayrepresentation()"
   ]
  },
  {
   "cell_type": "code",
   "execution_count": 22,
   "id": "eb26a484",
   "metadata": {},
   "outputs": [],
   "source": [
    "for j in range(7):\n",
    "    h.removeMin()"
   ]
  },
  {
   "cell_type": "code",
   "execution_count": 23,
   "id": "5fe956fd",
   "metadata": {
    "scrolled": true
   },
   "outputs": [
    {
     "ename": "TypeError",
     "evalue": "exceptions must derive from BaseException",
     "output_type": "error",
     "traceback": [
      "\u001b[1;31m---------------------------------------------------------------------------\u001b[0m",
      "\u001b[1;31mTypeError\u001b[0m                                 Traceback (most recent call last)",
      "\u001b[1;32m<ipython-input-23-1be2cc3e224b>\u001b[0m in \u001b[0;36m<module>\u001b[1;34m\u001b[0m\n\u001b[1;32m----> 1\u001b[1;33m \u001b[0mh\u001b[0m\u001b[1;33m.\u001b[0m\u001b[0mremoveMin\u001b[0m\u001b[1;33m(\u001b[0m\u001b[1;33m)\u001b[0m\u001b[1;33m\u001b[0m\u001b[1;33m\u001b[0m\u001b[0m\n\u001b[0m",
      "\u001b[1;32m<ipython-input-13-3390d69c7610>\u001b[0m in \u001b[0;36mremoveMin\u001b[1;34m(self)\u001b[0m\n\u001b[0;32m    102\u001b[0m         \u001b[1;31m#raise error if heap is empty\u001b[0m\u001b[1;33m\u001b[0m\u001b[1;33m\u001b[0m\u001b[1;33m\u001b[0m\u001b[0m\n\u001b[0;32m    103\u001b[0m         \u001b[1;32mif\u001b[0m \u001b[0mself\u001b[0m\u001b[1;33m.\u001b[0m\u001b[0msize\u001b[0m \u001b[1;33m==\u001b[0m \u001b[1;36m0\u001b[0m\u001b[1;33m:\u001b[0m\u001b[1;33m\u001b[0m\u001b[1;33m\u001b[0m\u001b[0m\n\u001b[1;32m--> 104\u001b[1;33m             \u001b[1;32mraise\u001b[0m\u001b[1;33m(\u001b[0m\u001b[1;34m'Heap is empty'\u001b[0m\u001b[1;33m)\u001b[0m\u001b[1;33m\u001b[0m\u001b[1;33m\u001b[0m\u001b[0m\n\u001b[0m\u001b[0;32m    105\u001b[0m         \u001b[0mdata\u001b[0m \u001b[1;33m=\u001b[0m \u001b[0mself\u001b[0m\u001b[1;33m.\u001b[0m\u001b[0mstorage\u001b[0m\u001b[1;33m[\u001b[0m\u001b[1;36m0\u001b[0m\u001b[1;33m]\u001b[0m\u001b[1;33m\u001b[0m\u001b[1;33m\u001b[0m\u001b[0m\n\u001b[0;32m    106\u001b[0m         \u001b[0mself\u001b[0m\u001b[1;33m.\u001b[0m\u001b[0mstorage\u001b[0m\u001b[1;33m[\u001b[0m\u001b[1;36m0\u001b[0m\u001b[1;33m]\u001b[0m \u001b[1;33m=\u001b[0m \u001b[0mself\u001b[0m\u001b[1;33m.\u001b[0m\u001b[0mstorage\u001b[0m\u001b[1;33m[\u001b[0m\u001b[0mself\u001b[0m\u001b[1;33m.\u001b[0m\u001b[0msize\u001b[0m \u001b[1;33m-\u001b[0m \u001b[1;36m1\u001b[0m\u001b[1;33m]\u001b[0m\u001b[1;33m\u001b[0m\u001b[1;33m\u001b[0m\u001b[0m\n",
      "\u001b[1;31mTypeError\u001b[0m: exceptions must derive from BaseException"
     ]
    }
   ],
   "source": [
    "h.removeMin()\n",
    "#Heap is empty so error raised as desired"
   ]
  }
 ],
 "metadata": {
  "kernelspec": {
   "display_name": "Python 3",
   "language": "python",
   "name": "python3"
  },
  "language_info": {
   "codemirror_mode": {
    "name": "ipython",
    "version": 3
   },
   "file_extension": ".py",
   "mimetype": "text/x-python",
   "name": "python",
   "nbconvert_exporter": "python",
   "pygments_lexer": "ipython3",
   "version": "3.8.8"
  }
 },
 "nbformat": 4,
 "nbformat_minor": 5
}
