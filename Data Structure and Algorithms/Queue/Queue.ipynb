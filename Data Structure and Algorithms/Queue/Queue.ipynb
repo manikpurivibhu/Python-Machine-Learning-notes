{
 "cells": [
  {
   "attachments": {
    "queue.png": {
     "image/png": "[encoded data removed]"
    }
   },
   "cell_type": "markdown",
   "id": "0f05baf4",
   "metadata": {},
   "source": [
    "# Queue\n",
    "\n",
    "Queue is a linear data structure that stores items in **First In First Out (FIFO)** manner. <br>\n",
    "With a queue the least recently added item is removed first. <br>\n",
    "The insert and delete operations are called **enqueue** and **dequeue**\n",
    "<br><br>\n",
    "\n",
    "A good example of queue is any queue of consumers for a resource where the consumer that came first is served first\n",
    "\n",
    "![queue.png](attachment:queue.png)"
   ]
  },
  {
   "attachments": {},
   "cell_type": "markdown",
   "id": "47042380",
   "metadata": {},
   "source": [
    "**Operations associated with queue are**: \n",
    " \n",
    "\n",
    "- Enqueue: Adds an item to the queue. If the queue is full, then it is said to be an Overflow condition; Time Complexity : O(1)\n",
    "\n",
    "- Dequeue: Removes an item from the queue. The items are popped in the same order in which they are pushed. If the queue is empty, then it is said to be an Underflow condition; Time Complexity : O(1)\n",
    "\n",
    "- Front: Get the front item from queue; Time Complexity : O(1)\n",
    "\n",
    "- Rear: Get the last item from queue; Time Complexity : O(1)"
   ]
  },
  {
   "cell_type": "markdown",
   "id": "5c2d43cc",
   "metadata": {},
   "source": [
    "## Implementation\n",
    "\n",
    "**Python** does not have an in-built Queue Data Structure </br>\n",
    "\n",
    "But there are several ways in which Stack can be implemented in Python:\n",
    "\n",
    "- Python **list**\n",
    "- **Collections.deque** \n",
    "- **queue.Queue**\n",
    "- Singly **Linked List**"
   ]
  },
  {
   "cell_type": "markdown",
   "id": "d29fd8fa",
   "metadata": {},
   "source": [
    "### Implementation using Python list\n",
    "\n",
    "Python’s built-in data structure list can be used as a queue.<br>\n",
    "Instead of enqueue() and dequeue(), append() and pop() are used to add elements and remmove elements to the top in FIFO order </br>\n",
    "\n",
    "However, using `list` to implement `Stack` has the following shortcomings:\n",
    "\n",
    "- Time Complexity for inserting and deleteing obects at the beginning is O(N) as shifting all of the other elements by one is required\n",
    "\n",
    "- List is a dynamic data structure. So adding more elements will require more memory allocation if list is full\n",
    "</br></br>\n",
    "\n",
    "Naturally, **`list` is not an efficient way to implement Queue** in python\n"
   ]
  },
  {
   "cell_type": "code",
   "execution_count": 1,
   "id": "d473031b",
   "metadata": {},
   "outputs": [],
   "source": [
    "##Queue implementation using list\n",
    "\n",
    "queue = []\n",
    "\n",
    "#insert() is used to add element to the beginning of the list\n",
    "queue.insert(0, 'One')\n",
    "queue.insert(0, 'Two')\n",
    "queue.insert(0, 'Three')\n",
    "queue.insert(0, 'Four')"
   ]
  },
  {
   "cell_type": "code",
   "execution_count": 2,
   "id": "0c91bffe",
   "metadata": {},
   "outputs": [
    {
     "name": "stdout",
     "output_type": "stream",
     "text": [
      "Queue: ['Four', 'Three', 'Two', 'One']\n"
     ]
    }
   ],
   "source": [
    "print('Queue:', queue)"
   ]
  },
  {
   "cell_type": "code",
   "execution_count": 3,
   "id": "90d83a85",
   "metadata": {},
   "outputs": [
    {
     "name": "stdout",
     "output_type": "stream",
     "text": [
      "One\n",
      "Two\n",
      "Three\n",
      "Four\n"
     ]
    }
   ],
   "source": [
    "#popping elements from Queue\n",
    "print(queue.pop())\n",
    "print(queue.pop())\n",
    "print(queue.pop())\n",
    "print(queue.pop())\n",
    "#print(queue.pop())  #raises IndexError"
   ]
  },
  {
   "cell_type": "code",
   "execution_count": 4,
   "id": "5fc9102b",
   "metadata": {},
   "outputs": [
    {
     "name": "stdout",
     "output_type": "stream",
     "text": [
      "Queue: []\n"
     ]
    }
   ],
   "source": [
    "print('Queue:', queue)"
   ]
  },
  {
   "cell_type": "markdown",
   "id": "38f1d949",
   "metadata": {},
   "source": [
    " "
   ]
  },
  {
   "cell_type": "markdown",
   "id": "7600890b",
   "metadata": {},
   "source": [
    "### Implementation using `collections.deque` module\n",
    "\n",
    "Python `collections` module implements specialized container datatypes (data structures) providing alternatives to Python’s general purpose built-in containers : dict, list, set, and tuple\n",
    "</br>\n",
    "\n",
    "Queue in Python can be implemented using `collections.deque()` class from the collections module. <br>\n",
    "\n",
    "**Deques** (pronounced “deck”, short for “double-ended queue”) **are a generalization of stacks and queues** is preferred over list in the cases where we need quicker append and pop operations from both the ends of container, as deque provides an O(1) time complexity for append and pop operations as compared to list which provides O(n) time complexity. <br>\n",
    "\n",
    "Instead of enqueue and deque, `append()` and `popleft()` functions are used.\n",
    "\n",
    "</br>"
   ]
  },
  {
   "cell_type": "markdown",
   "id": "0376e873",
   "metadata": {},
   "source": [
    "Deque objects support the following methods:\n",
    "\n",
    "- append(x): add x to the right side of the deque\n",
    "\n",
    "- appendleft(x): add x to the left side of the deque\n",
    "\n",
    "- pop(): remove and return an element from the right side of the deque\n",
    "\n",
    "- clear(): remove all elements from the deque leaving it with length 0\n",
    "\n",
    "- copy(): create a shallow copy of the deque\n",
    "\n",
    "- count(x): count the number of deque elements equal to x\n",
    "\n",
    "- extend(iterable): extend the right side of the deque by appending elements from the iterable argument\n",
    "\n",
    "- extendleft(iterable): extend the left side of the deque by appending elements from iterable\n",
    "\n",
    "- index(x[, start[, stop]]): return the position of x in the deque (at or after index start and before index stop)\n",
    "\n",
    "- insert(i, x): insert x into the deque at position i\n",
    "\n",
    "- popleft(): remove and return an element from the left side of the deque\n",
    "\n",
    "- remove(value): remove the first occurrence of value. If not found, raises a ValueError\n",
    "\n",
    "- reverse(): reverse the elements of the deque in-place and then return None\n",
    "\n",
    "- rotate(n=1): rotate the deque n steps to the right. If n is negative, rotate to the left\n",
    "\n",
    "Deque objects also provide one read-only attribute:\n",
    "\n",
    "- maxlen: Maximum size of a deque or None if unbounded."
   ]
  },
  {
   "cell_type": "markdown",
   "id": "c2c88be2",
   "metadata": {},
   "source": [
    " "
   ]
  },
  {
   "cell_type": "code",
   "execution_count": 5,
   "id": "a51d46aa",
   "metadata": {},
   "outputs": [
    {
     "name": "stdout",
     "output_type": "stream",
     "text": [
      "Queue: deque(['One', 'Two', 'Three', 'Four'])\n",
      "Queue: deque([])\n"
     ]
    }
   ],
   "source": [
    "##Queue implementation using collections.deque module\n",
    "\n",
    "from collections import deque\n",
    "\n",
    "queue = deque()\n",
    "\n",
    "queue.append('One')\n",
    "queue.append('Two')\n",
    "queue.append('Three')\n",
    "queue.append('Four')\n",
    "\n",
    "print('Queue:', queue)\n",
    "\n",
    "#popping elements from Queue using popleft()\n",
    "queue.popleft()\n",
    "queue.popleft()\n",
    "queue.popleft()\n",
    "queue.popleft()\n",
    "#queue.popleft()\n",
    "\n",
    "print('Queue:', queue)"
   ]
  },
  {
   "cell_type": "code",
   "execution_count": 17,
   "id": "9f31a465",
   "metadata": {},
   "outputs": [],
   "source": [
    "##alternate implementation of Queue using collections.deque\n",
    "\n",
    "from collections import deque\n",
    "\n",
    "class Queue:\n",
    "    \n",
    "    def __init__(self):\n",
    "        self.buffer = deque()\n",
    "        \n",
    "    def enqueue(self, data):\n",
    "        self.buffer.appendleft(data)\n",
    "        \n",
    "    def deque(self):\n",
    "        return self.buffer.pop()\n",
    "        \n",
    "    def is_empty(self):\n",
    "        return len(self.buffer)==0\n",
    "    \n",
    "    def size(self):\n",
    "        return len(self.buffer)"
   ]
  },
  {
   "cell_type": "code",
   "execution_count": 21,
   "id": "f7920990",
   "metadata": {},
   "outputs": [
    {
     "name": "stdout",
     "output_type": "stream",
     "text": [
      "True\n",
      "0\n"
     ]
    }
   ],
   "source": [
    "pq = Queue()\n",
    "\n",
    "print(pq.is_empty())\n",
    "print(pq.size())\n",
    "\n",
    "pq.enqueue('One')\n",
    "pq.enqueue('Two')\n",
    "pq.enqueue('Three')"
   ]
  },
  {
   "cell_type": "code",
   "execution_count": 22,
   "id": "2814a116",
   "metadata": {},
   "outputs": [
    {
     "name": "stdout",
     "output_type": "stream",
     "text": [
      "3\n"
     ]
    }
   ],
   "source": [
    "print(pq.size())"
   ]
  },
  {
   "cell_type": "code",
   "execution_count": 23,
   "id": "db0669b1",
   "metadata": {},
   "outputs": [
    {
     "name": "stdout",
     "output_type": "stream",
     "text": [
      "One\n",
      "Two\n",
      "Three\n",
      "True\n",
      "0\n"
     ]
    }
   ],
   "source": [
    "print(pq.deque())\n",
    "print(pq.deque())\n",
    "print(pq.deque())\n",
    "#print(pq.deque())    raise IndexError\n",
    "\n",
    "print(pq.is_empty())\n",
    "print(pq.size())"
   ]
  },
  {
   "cell_type": "markdown",
   "id": "4ddf8657",
   "metadata": {},
   "source": [
    " "
   ]
  },
  {
   "cell_type": "markdown",
   "id": "60dfb544",
   "metadata": {},
   "source": [
    "## Implementation using `queue.Queue`\n",
    "\n",
    "**Queue** is built-in module of Python which is used to implement a queue <br>\n",
    "\n",
    "`queue.Queue(maxsize)` initializes a variable to a maximum size of maxsize.<br> \n",
    "A maxsize of zero ‘0’ means a infinite queue. This Queue follows FIFO rule. <br>\n",
    "\n",
    "\n",
    "There are various functions available in this module:  \n",
    "\n",
    "- maxsize – number of items allowed in the queue\n",
    "\n",
    "- empty() – return True if the queue is empty, False otherwise\n",
    "\n",
    "- full() – return True if there are maxsize items in the queue. If the queue was initialized with maxsize=0 (the default), then full() never returns True\n",
    "\n",
    "- get() – remove and return an item from the queue. If queue is empty, wait until an item is available\n",
    "\n",
    "- get_nowait() – return an item if one is immediately available, else raise QueueEmptyput(item) – Put an item into the queue. If the queue is full, wait until a free slot is available before adding the item\n",
    "\n",
    "- put_nowait(item) – put an item into the queue without blocking. If no free slot is immediately available, raise QueueFull\n",
    "\n",
    "- qsize() – return the number of items in the queue"
   ]
  },
  {
   "cell_type": "code",
   "execution_count": 6,
   "id": "6d791922",
   "metadata": {},
   "outputs": [
    {
     "name": "stdout",
     "output_type": "stream",
     "text": [
      "Size: 0\n",
      "Full? True\n",
      "Elements dequed from the queue\n",
      "One\n",
      "Two\n",
      "Three\n",
      "Empty? True\n",
      "Empty? False\n",
      "Full? False\n"
     ]
    }
   ],
   "source": [
    "##Queue implementation using queue\n",
    "\n",
    "from queue import Queue\n",
    "\n",
    "queue = Queue(maxsize=3)\n",
    "\n",
    "print('Size:', queue.qsize())\n",
    "\n",
    "queue.put('One')\n",
    "queue.put('Two')\n",
    "queue.put('Three')\n",
    "\n",
    "print('Full?', queue.full())\n",
    "\n",
    "print('Elements dequed from the queue')\n",
    "print(queue.get())\n",
    "print(queue.get())\n",
    "print(queue.get())\n",
    "#print(queue.get())\n",
    "\n",
    "print('Empty?', queue.empty())\n",
    "\n",
    "queue.put('One')\n",
    "print('Empty?', queue.empty())\n",
    "print('Full?', queue.full())"
   ]
  },
  {
   "cell_type": "markdown",
   "id": "590b511f",
   "metadata": {},
   "source": [
    " "
   ]
  }
 ],
 "metadata": {
  "kernelspec": {
   "display_name": "Python 3",
   "language": "python",
   "name": "python3"
  },
  "language_info": {
   "codemirror_mode": {
    "name": "ipython",
    "version": 3
   },
   "file_extension": ".py",
   "mimetype": "text/x-python",
   "name": "python",
   "nbconvert_exporter": "python",
   "pygments_lexer": "ipython3",
   "version": "3.8.8"
  }
 },
 "nbformat": 4,
 "nbformat_minor": 5
}
