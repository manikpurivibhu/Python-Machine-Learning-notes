{
 "cells": [
  {
   "cell_type": "markdown",
   "id": "46550442",
   "metadata": {},
   "source": [
    "# Disjoint Sets or Disjoint Sub-sets\n",
    "\n",
    "\n"
   ]
  },
  {
   "cell_type": "markdown",
   "id": "a89168cf",
   "metadata": {},
   "source": [
    "A **disjoint-set data structure** is a data structure that keeps track of a set of elements partitioned into a number of disjoint (non-overlapping) subsets <br>\n",
    "\n",
    "A union-find algorithm is an algorithm that performs two useful operations on such a data structure:\n",
    "\n",
    "1. **Find**: Determine which subset a particular element is in. This can be used for determining if two elements are in the same subset\n",
    "\n",
    "2. **Union**: Join two subsets into a single subset. Here first we have to check if the two subsets belong to same set. If no, then we cannot perform union\n",
    "\n",
    "The application of Disjoint Set Data Structure is to check whether a given graph contains a cycle or not. <br>\n",
    "This method assumes that the graph doesn’t contain any self-loops <br>\n",
    "\n",
    "Disjoint sets uses chaining to define a Set. The chaining is defined by parent-child relationship"
   ]
  },
  {
   "cell_type": "markdown",
   "id": "80cc43ea",
   "metadata": {},
   "source": [
    "### Steps to Implement Disjoint Sets Data Structure:\n",
    "\n",
    "1. **Initialize a parent array** of size (number of elements + 1). Each element of parent array should have value -1<br>\n",
    "\n",
    "A negative value indicates that the value is root of a subset containing itsef and maybe more elements. The value inidicates the number of elements in that subset.<br>\n",
    "ex: -1 indicates only 1 element in subset, -5 indicates 5 elements in the subset, etc <br>\n",
    "\n",
    "2. For each set, **pick a root** from the set. All the other elements of the subset point to the root (order doesn't matter)<br>\n",
    "\n",
    "3. Change the value at the **index of root** element in the parent array **to the negative of total number of elements in the subset** (ex: -2 if subset has 2 elements, -7 if subset has 7 elements, etc) including the root<br>\n",
    "\n",
    "4. Change the value of **all the elements** except the root in the parent array **to the index of root** <br>"
   ]
  },
  {
   "cell_type": "markdown",
   "id": "21956136",
   "metadata": {},
   "source": [
    "#### Steps to implement Find Operation:\n",
    "\n",
    "passed input : x, <br>\n",
    "return : parent of x from the subset/cluster <br>\n",
    "\n",
    "1. let, x = passed val\n",
    "2. check if parent[x] (index starts at 1) is a negative number. <br>\n",
    "If yes, x is root of a subset that has parent[x] elements<br>\n",
    "If no,  x is not root and parent[x] points to the parent of element x in the subset<br>\n",
    "3. if parent[x] <0:  return x, else:  repeat from step 2 with x = parent[x] "
   ]
  },
  {
   "cell_type": "markdown",
   "id": "f19d59be",
   "metadata": {},
   "source": [
    "#### Steps to implement Union Operation\n",
    "\n",
    "passed input : a, b <br>\n",
    "return :if (a, b) belong to different subsets, perform Union operation on their subsets, return True, otherwise return False<br>\n",
    "\n",
    "1. find the roots of a and b, and total number of elements in their subset using Find operation\n",
    "2. if a and b have same roots, do nothing as they are already part of the same subset\n",
    "3. if a and b have different roots, find the subset out of a, b which have more number of elements. This becomes the root of the merges set. \n",
    "4. Change the value in parent array at index root of merged set to total number of roots in subset(a)  + total number of roots in subset(b). \n",
    "5. Change the value in parent array at index root of smaller subset off a, b to the root of merged set (larger root off a, b)\n"
   ]
  },
  {
   "cell_type": "code",
   "execution_count": 1,
   "id": "17c37f91",
   "metadata": {},
   "outputs": [],
   "source": [
    "# find operation\n",
    "\n",
    "def find(graph, node):\n",
    "    if graph[node] < 0:\n",
    "        return node\n",
    "    else:\n",
    "        return find(graph, graph[node])"
   ]
  },
  {
   "cell_type": "code",
   "execution_count": 2,
   "id": "23e8894f",
   "metadata": {},
   "outputs": [],
   "source": [
    "# union operation\n",
    "\n",
    "def union(graph, a, b):\n",
    "    a = find(graph, a)\n",
    "    b = find(graph, b)\n",
    "    \n",
    "    # avoid loop\n",
    "    if a == b:\n",
    "        pass\n",
    "    else:\n",
    "        if graph[a] < graph[b]:\n",
    "            graph[a] = graph[a] + graph[b]\n",
    "            graph[b] = a\n",
    "        else:\n",
    "            graph[b] = graph[b] + graph[a]\n",
    "            graph[a] = b"
   ]
  },
  {
   "cell_type": "code",
   "execution_count": 3,
   "id": "66068ca5",
   "metadata": {},
   "outputs": [
    {
     "name": "stdout",
     "output_type": "stream",
     "text": [
      "[-1, -1, -1, -1, -1, -1, -1]\n"
     ]
    }
   ],
   "source": [
    "n = 7\n",
    "graph = [-1] * n\n",
    "print(graph)"
   ]
  },
  {
   "cell_type": "code",
   "execution_count": 4,
   "id": "8adde3a1",
   "metadata": {},
   "outputs": [
    {
     "name": "stdout",
     "output_type": "stream",
     "text": [
      "[1, -4, 1, 1, 5, -2, -1]\n"
     ]
    }
   ],
   "source": [
    "ip = [[0,1], [1,2], [2,3], [4,5], [1,3]]\n",
    "for u, v in ip:\n",
    "    union(graph, u, v)\n",
    "print(graph)"
   ]
  },
  {
   "cell_type": "markdown",
   "id": "9af38a3e",
   "metadata": {},
   "source": [
    "### References\n",
    "\n",
    "* https://www.geeksforgeeks.org/union-find/ <br>\n",
    "* https://www.youtube.com/watch?v=eTaWFhPXPz4 <br>\n",
    "* https://www.youtube.com/watch?v=WQbbFhPGBN0 <br>"
   ]
  }
 ],
 "metadata": {
  "kernelspec": {
   "display_name": "Python 3",
   "language": "python",
   "name": "python3"
  },
  "language_info": {
   "codemirror_mode": {
    "name": "ipython",
    "version": 3
   },
   "file_extension": ".py",
   "mimetype": "text/x-python",
   "name": "python",
   "nbconvert_exporter": "python",
   "pygments_lexer": "ipython3",
   "version": "3.8.8"
  }
 },
 "nbformat": 4,
 "nbformat_minor": 5
}
