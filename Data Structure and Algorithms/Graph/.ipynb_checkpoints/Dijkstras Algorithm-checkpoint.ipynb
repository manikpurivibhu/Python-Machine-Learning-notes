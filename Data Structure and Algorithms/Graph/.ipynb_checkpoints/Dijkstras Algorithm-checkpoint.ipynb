{
 "cells": [
  {
   "cell_type": "markdown",
   "id": "4a5f9f65",
   "metadata": {},
   "source": [
    "# Dijkstra's Algorithm \n",
    "#### Single Source Shortest Path\n",
    "\n",
    "**Objective** : Given a graph and a source vertex in the graph, find the shortest paths from the source to all vertices in the given graph <br>\n",
    "\n",
    "In Dijkstra's Algorithm, we optimize a local sub-problem with some conditions in hopes of finding optimal solution. So, Dijkstra's Algorithm uses  **Greedy approach** to optimize a problem <br>\n",
    "\n",
    "Dijkstra's Algorithm works in **BFS** style <br>\n",
    "\n",
    "Dijkstra's Algorithm is applicable for both direted and undirected Graphs <br>\n",
    "\n",
    "Dijkstra's Algorithm does not work when Graph has negative weights <br>"
   ]
  },
  {
   "cell_type": "markdown",
   "id": "f18de5ff",
   "metadata": {},
   "source": [
    "### Time Complexity\n",
    "\n",
    "` O (V^2) ` if input is represented using Adjacency List <br>\n",
    "` O (E log V)` if optimized using a min-Heap"
   ]
  },
  {
   "cell_type": "markdown",
   "id": "f2380efc",
   "metadata": {},
   "source": [
    "## Algorithm\n",
    "\n",
    "1. Create a set `included` that keeps track of vertices included in the shortest-path tree, i.e., whose minimum distance from the source is calculated and finalized. Initially, this set is empty <br>\n",
    "\n",
    "2. Assign a distance value to all vertices in the input graph. Initialize all distance values as INFINITE. Assign distance value as 0 for the source vertex so that it is picked first <br>\n",
    "\n",
    "3. While `included` doesn’t include all vertices <br>\n",
    "\n",
    "* pick a vertex `u` which is not there in `included` and has a minimum distance value\n",
    "* include `u` to `included`\n",
    "* update distance value of all adjacent vertices of u <br><br>\n",
    "\n",
    "To update the distance values, iterate through all adjacent vertices. For every adjacent vertex `v`, if the sum of distance value of `u` (from source) and weight of edge u-v, is less than the distance value of `v`, then update the distance value of `v` "
   ]
  },
  {
   "cell_type": "code",
   "execution_count": 1,
   "id": "4f5b0238",
   "metadata": {},
   "outputs": [],
   "source": [
    "class Graph():\n",
    " \n",
    "    def __init__(self, vertices):\n",
    "        self.V = vertices\n",
    "        self.graph = [[0 for column in range(vertices)]\n",
    "                    for row in range(vertices)]\n",
    " \n",
    "    def printSolution(self, dist):\n",
    "        print(\"Vertex \\tDistance from Source\")\n",
    "        for node in range(self.V):\n",
    "            print(node, \"\\t\", dist[node])\n",
    " \n",
    "    # A utility function to find the vertex with\n",
    "    # minimum distance value, from the set of vertices\n",
    "    # not yet included in shortest path tree\n",
    "    def minDistance(self, dist, included):\n",
    " \n",
    "        min = float('inf')\n",
    " \n",
    "        for u in range(self.V):\n",
    "            if dist[u] < min and included[u] == False:\n",
    "                min = dist[u]\n",
    "                min_index = u\n",
    " \n",
    "        return min_index\n",
    " \n",
    "    \n",
    "    def dijkstra(self, src):\n",
    " \n",
    "        dist = [float('inf')] * self.V\n",
    "        dist[src] = 0\n",
    "        included = [False] * self.V\n",
    " \n",
    "        for cout in range(self.V):\n",
    " \n",
    "            x = self.minDistance(dist, included)\n",
    " \n",
    "            included[x] = True\n",
    " \n",
    "            for y in range(self.V):\n",
    "                if self.graph[x][y] > 0 and included[y] == False and \\\n",
    "                dist[y] > dist[x] + self.graph[x][y]:\n",
    "                        dist[y] = dist[x] + self.graph[x][y]\n",
    " \n",
    "        self.printSolution(dist)"
   ]
  },
  {
   "cell_type": "code",
   "execution_count": 2,
   "id": "5c09bb41",
   "metadata": {
    "scrolled": true
   },
   "outputs": [
    {
     "name": "stdout",
     "output_type": "stream",
     "text": [
      "Vertex \tDistance from Source\n",
      "0 \t 0\n",
      "1 \t 4\n",
      "2 \t 12\n",
      "3 \t 19\n",
      "4 \t 21\n",
      "5 \t 11\n",
      "6 \t 9\n",
      "7 \t 8\n",
      "8 \t 14\n"
     ]
    }
   ],
   "source": [
    "g = Graph(9)\n",
    "g.graph = [[0, 4, 0, 0, 0, 0, 0, 8, 0],\n",
    "        [4, 0, 8, 0, 0, 0, 0, 11, 0],\n",
    "        [0, 8, 0, 7, 0, 4, 0, 0, 2],\n",
    "        [0, 0, 7, 0, 9, 14, 0, 0, 0],\n",
    "        [0, 0, 0, 9, 0, 10, 0, 0, 0],\n",
    "        [0, 0, 4, 14, 10, 0, 2, 0, 0],\n",
    "        [0, 0, 0, 0, 0, 2, 0, 1, 6],\n",
    "        [8, 11, 0, 0, 0, 0, 1, 0, 7],\n",
    "        [0, 0, 2, 0, 0, 0, 6, 7, 0]\n",
    "        ]\n",
    " \n",
    "g.dijkstra(0)"
   ]
  },
  {
   "cell_type": "markdown",
   "id": "c711c816",
   "metadata": {},
   "source": [
    " "
   ]
  },
  {
   "cell_type": "markdown",
   "id": "f5f4510e",
   "metadata": {},
   "source": [
    "### Variations:\n",
    "\n",
    "* shortest distance from source node to a specific node\n",
    "\n",
    "* shortest path i.e. all vertices from source node to a specific node\n",
    "\n",
    "* shortest path i.e. all vertices from source node to all nodes"
   ]
  },
  {
   "cell_type": "markdown",
   "id": "e24f065a",
   "metadata": {},
   "source": [
    "### References\n",
    "\n",
    "* https://www.youtube.com/watch?v=XB4MIexjvY0 <br>\n",
    "* https://www.geeksforgeeks.org/dijkstras-shortest-path-algorithm-greedy-algo-7/ <br>\n",
    "* https://www.programiz.com/dsa/dijkstra-algorithm <br>\n",
    "* https://www.youtube.com/watch?v=OrJ004Wid4o <br>"
   ]
  }
 ],
 "metadata": {
  "kernelspec": {
   "display_name": "Python 3",
   "language": "python",
   "name": "python3"
  },
  "language_info": {
   "codemirror_mode": {
    "name": "ipython",
    "version": 3
   },
   "file_extension": ".py",
   "mimetype": "text/x-python",
   "name": "python",
   "nbconvert_exporter": "python",
   "pygments_lexer": "ipython3",
   "version": "3.8.8"
  }
 },
 "nbformat": 4,
 "nbformat_minor": 5
}
