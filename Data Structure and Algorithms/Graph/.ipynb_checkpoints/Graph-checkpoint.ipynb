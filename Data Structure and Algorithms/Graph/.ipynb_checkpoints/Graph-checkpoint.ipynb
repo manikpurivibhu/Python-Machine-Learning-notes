{
 "cells": [
  {
   "cell_type": "markdown",
   "id": "188f39ca",
   "metadata": {},
   "source": [
    "# Graph\n",
    "\n",
    "Graph is a hierarchical Data Structure **(V, E)** that consists of\n",
    "- a collection of vertices **V**\n",
    "- a collection of edges **E**, represented as ordered pair (u, v)"
   ]
  },
  {
   "cell_type": "markdown",
   "id": "c6012c5e",
   "metadata": {},
   "source": [
    " "
   ]
  },
  {
   "cell_type": "code",
   "execution_count": 1,
   "id": "0cedc673",
   "metadata": {},
   "outputs": [],
   "source": [
    "from collections import defaultdict\n",
    "from collections import deque"
   ]
  },
  {
   "cell_type": "code",
   "execution_count": 2,
   "id": "c25a6236",
   "metadata": {},
   "outputs": [],
   "source": [
    "class AdjNode:\n",
    "    \n",
    "    def __init__(self, value):\n",
    "        '''\n",
    "        initialize a node for storing vertex with passed value and pointer to point to the next node\n",
    "        '''\n",
    "        self.vertex = value\n",
    "        self.next = None\n",
    "        \n",
    "\n",
    "class Graph:\n",
    "    \n",
    "    def __init__(self, size):\n",
    "        self.V = size\n",
    "        self.graph = defaultdict(list)\n",
    "        self.adjMatrix = []\n",
    "        for i in range(size):\n",
    "            self.adjMatrix.append([0 for i in range(size)])\n",
    "        self.adjList = [None] * self.V\n",
    "        \n",
    "    \n",
    "    def add_edge(self, v1, v2):\n",
    "        \n",
    "        if v1==v2:\n",
    "            print('Loop at node {}'.format(v1))\n",
    "        \n",
    "        # add edge to Graph\n",
    "        self.graph[v1].append(v2)\n",
    "        \n",
    "        # add edge to Adjacency Matrix\n",
    "        self.adjMatrix[v1][v2] = 1\n",
    "        self.adjMatrix[v2][v1] = 1\n",
    "        \n",
    "        # add egde to Adjacency List\n",
    "        node = AdjNode(v2)\n",
    "        node.next = self.adjList[v1]\n",
    "        self.adjList[v1] = node\n",
    "        \n",
    "        node = AdjNode(v1)\n",
    "        node.next = self.adjList[v2]\n",
    "        self.adjList[v2] = node\n",
    "        \n",
    "\n",
    "    def rem_edge(self, v1, v2):\n",
    "        \n",
    "        # remove from Graph\n",
    "        try:\n",
    "            temp = self.graph[v1].index(v2)\n",
    "            del self.graph[v1][temp]\n",
    "        except:\n",
    "            pass\n",
    "        \n",
    "        # remove from Adjacency Matrix\n",
    "        if self.adjMatrix[v1][v2] == [0]:\n",
    "            print('No edge between %d and %d' % (v1, v2))\n",
    "            return\n",
    "        self.adjMatrix[v1][v2] = 0\n",
    "        self.adjMatrix[v2][v1] = 0\n",
    "        \n",
    "        # remove from Adjacency List\n",
    "        for vert in range(self.V):\n",
    "            if vert == v1:\n",
    "                if self.adjList[vert].vertex==v2:\n",
    "                    self.adjList[vert] = self.adjList[vert].next \n",
    "                else:\n",
    "                    cur = self.adjList[vert]\n",
    "                    while cur.next:\n",
    "                        if cur.vertex==v1:\n",
    "                            pass\n",
    "                        cur = cur.next\n",
    "            if vert == v2:\n",
    "                if self.adjList[vert].vertex==v1:\n",
    "                    self.adjList[vert] = self.adjList[vert].next \n",
    "                else:\n",
    "                    cur = self.adjList[vert]\n",
    "                    while cur.next:\n",
    "                        if cur.vertex==v2:\n",
    "                            pass\n",
    "                        cur = cur.next\n",
    "                    \n",
    "    # return number of vertices in Graph\n",
    "    def __len__(self):\n",
    "        return self.V\n",
    "    \n",
    "    # print the Adjacency Matrix\n",
    "    def print_matrix(self):\n",
    "        for row in self.adjMatrix:\n",
    "            s = ' '\n",
    "            for val in row:\n",
    "                s += '  {}'.format(val)\n",
    "            print(s)\n",
    "    \n",
    "    # print the Adjacency List\n",
    "    def print_list(self):\n",
    "        for i in range(self.V):\n",
    "            print('Vertex ' + str(i) + ' : ', end='')\n",
    "            temp = self.adjList[i]\n",
    "            while temp:\n",
    "                print(' -> {}'.format(temp.vertex), end='')\n",
    "                temp = temp.next\n",
    "            print('\\n')"
   ]
  },
  {
   "cell_type": "code",
   "execution_count": 3,
   "id": "2927f7d0",
   "metadata": {},
   "outputs": [],
   "source": [
    "g = Graph(5)\n",
    "g.add_edge(0, 1)\n",
    "g.add_edge(0, 2)\n",
    "g.add_edge(1, 2)\n",
    "g.add_edge(2, 0)\n",
    "g.add_edge(2, 3)"
   ]
  },
  {
   "cell_type": "code",
   "execution_count": 4,
   "id": "da5af079",
   "metadata": {},
   "outputs": [
    {
     "name": "stdout",
     "output_type": "stream",
     "text": [
      "Lenght : 5\n"
     ]
    }
   ],
   "source": [
    "print('Lenght :', g.__len__())"
   ]
  },
  {
   "cell_type": "code",
   "execution_count": 5,
   "id": "fd182b97",
   "metadata": {},
   "outputs": [
    {
     "name": "stdout",
     "output_type": "stream",
     "text": [
      "Vertex 0 :  -> 2 -> 2 -> 1\n",
      "\n",
      "Vertex 1 :  -> 2 -> 0\n",
      "\n",
      "Vertex 2 :  -> 3 -> 0 -> 1 -> 0\n",
      "\n",
      "Vertex 3 :  -> 2\n",
      "\n",
      "Vertex 4 : \n",
      "\n",
      "None\n",
      "   0  1  1  0  0\n",
      "   1  0  1  0  0\n",
      "   1  1  0  1  0\n",
      "   0  0  1  0  0\n",
      "   0  0  0  0  0\n",
      "None\n"
     ]
    }
   ],
   "source": [
    "print(g.print_list())\n",
    "print(g.print_matrix())"
   ]
  },
  {
   "cell_type": "code",
   "execution_count": 6,
   "id": "0d770810",
   "metadata": {},
   "outputs": [
    {
     "name": "stdout",
     "output_type": "stream",
     "text": [
      "Vertex 0 :  -> 4 -> 2 -> 2 -> 1\n",
      "\n",
      "Vertex 1 :  -> 2 -> 0\n",
      "\n",
      "Vertex 2 :  -> 3 -> 0 -> 1 -> 0\n",
      "\n",
      "Vertex 3 :  -> 2\n",
      "\n",
      "Vertex 4 :  -> 0\n",
      "\n",
      "None\n",
      "   0  1  1  0  1\n",
      "   1  0  1  0  0\n",
      "   1  1  0  1  0\n",
      "   0  0  1  0  0\n",
      "   1  0  0  0  0\n",
      "None\n"
     ]
    }
   ],
   "source": [
    "g.add_edge(0, 4)\n",
    "print(g.print_list())\n",
    "print(g.print_matrix())"
   ]
  },
  {
   "cell_type": "code",
   "execution_count": 7,
   "id": "387f380d",
   "metadata": {},
   "outputs": [
    {
     "name": "stdout",
     "output_type": "stream",
     "text": [
      "Vertex 0 :  -> 2 -> 2 -> 1\n",
      "\n",
      "Vertex 1 :  -> 2 -> 0\n",
      "\n",
      "Vertex 2 :  -> 3 -> 0 -> 1 -> 0\n",
      "\n",
      "Vertex 3 :  -> 2\n",
      "\n",
      "Vertex 4 : \n",
      "\n",
      "None\n",
      "   0  1  1  0  0\n",
      "   1  0  1  0  0\n",
      "   1  1  0  1  0\n",
      "   0  0  1  0  0\n",
      "   0  0  0  0  0\n",
      "None\n"
     ]
    }
   ],
   "source": [
    "g.rem_edge(0, 4)\n",
    "print(g.print_list())\n",
    "print(g.print_matrix())"
   ]
  },
  {
   "cell_type": "code",
   "execution_count": 8,
   "id": "5485e33d",
   "metadata": {},
   "outputs": [
    {
     "name": "stdout",
     "output_type": "stream",
     "text": [
      "Vertex 0 :  -> 2 -> 1\n",
      "\n",
      "Vertex 1 :  -> 2 -> 0\n",
      "\n",
      "Vertex 2 :  -> 3 -> 0 -> 1 -> 0\n",
      "\n",
      "Vertex 3 :  -> 2\n",
      "\n",
      "Vertex 4 : \n",
      "\n",
      "None\n",
      "   0  1  0  0  0\n",
      "   1  0  1  0  0\n",
      "   0  1  0  1  0\n",
      "   0  0  1  0  0\n",
      "   0  0  0  0  0\n",
      "None\n"
     ]
    }
   ],
   "source": [
    "g.rem_edge(0, 2)\n",
    "print(g.print_list())\n",
    "print(g.print_matrix())"
   ]
  },
  {
   "cell_type": "code",
   "execution_count": 9,
   "id": "56ded2f6",
   "metadata": {},
   "outputs": [],
   "source": [
    "graph = Graph(5)"
   ]
  },
  {
   "cell_type": "code",
   "execution_count": 10,
   "id": "2d13517a",
   "metadata": {},
   "outputs": [],
   "source": [
    "graph.add_edge(0,1)\n",
    "graph.add_edge(0,2)\n",
    "graph.add_edge(0,3)\n",
    "graph.add_edge(1,2)\n",
    "graph.add_edge(2,3)\n",
    "graph.add_edge(3,4)\n",
    "graph.add_edge(4,0)"
   ]
  },
  {
   "cell_type": "code",
   "execution_count": 11,
   "id": "2e9da8b5",
   "metadata": {},
   "outputs": [
    {
     "name": "stdout",
     "output_type": "stream",
     "text": [
      "Vertex 0 :  -> 4 -> 3 -> 2 -> 1\n",
      "\n",
      "Vertex 1 :  -> 2 -> 0\n",
      "\n",
      "Vertex 2 :  -> 3 -> 1 -> 0\n",
      "\n",
      "Vertex 3 :  -> 4 -> 2 -> 0\n",
      "\n",
      "Vertex 4 :  -> 0 -> 3\n",
      "\n"
     ]
    }
   ],
   "source": [
    "graph.print_list()"
   ]
  },
  {
   "cell_type": "code",
   "execution_count": 12,
   "id": "5318c1cd",
   "metadata": {},
   "outputs": [
    {
     "name": "stdout",
     "output_type": "stream",
     "text": [
      "   0  1  1  1  1\n",
      "   1  0  1  0  0\n",
      "   1  1  0  1  0\n",
      "   1  0  1  0  1\n",
      "   1  0  0  1  0\n"
     ]
    }
   ],
   "source": [
    "graph.print_matrix()"
   ]
  },
  {
   "cell_type": "markdown",
   "id": "7e09a4de",
   "metadata": {},
   "source": [
    "### Breadth First Traversal\n",
    "\n",
    "Breadth First Traversal or Breadth First Search is a recursive algorithm for searching all the vertices of a graph or tree data structure. <br>\n",
    "\n",
    "A standard BFS implementation puts each vertex of the graph into one of two categories:\n",
    "\n",
    "1. Visited\n",
    "2. Not Visited\n",
    "The purpose of the algorithm is to mark each vertex as visited while avoiding cycles. <br>\n",
    "\n",
    "The algorithm works as follows:\n",
    "\n",
    "- Start by putting any one of the graph's vertices at the back of a queue\n",
    "- Take the front item of the queue and add it to the visited list\n",
    "- Create a list of that vertex's adjacent nodes. Add the ones which aren't in the visited list to the back of the queue\n",
    "- Keep repeating steps 2 and 3 until the queue is empty\n",
    "\n",
    "The graph might have two different disconnected parts so to make sure that we cover every vertex, we can also run the BFS algorithm on every node <br>\n",
    "\n",
    "**BFS Algorithm Complexity**\n",
    "\n",
    "The time complexity of the BFS algorithm is represented in the form of **O(V + E)**, where V is the number of nodes and E is the number of edges.\n",
    "\n",
    "The space complexity of the algorithm is O(V)."
   ]
  },
  {
   "cell_type": "markdown",
   "id": "79affad1",
   "metadata": {},
   "source": [
    "#### BFS pseudocode\n",
    "\n",
    "`\n",
    "create a queue Q \n",
    " mark v as visited and put v into Q \n",
    " while Q is non-empty \n",
    "    remove the head u of Q \n",
    "    mark and enqueue all (unvisited) neighbours of u`"
   ]
  },
  {
   "cell_type": "code",
   "execution_count": 13,
   "id": "b1914dec",
   "metadata": {},
   "outputs": [],
   "source": [
    "# BFS Implementation (simplified code)\n",
    "\n",
    "import collections\n",
    "\n",
    "def bfs(graph, root):\n",
    "    visited, queue = set(), deque([root])\n",
    "    visited.add(root)\n",
    "    traverse = []\n",
    "    \n",
    "    while queue:\n",
    "        \n",
    "        vertex = queue.popleft()\n",
    "        traverse.append(str(vertex))\n",
    "        \n",
    "        for neighbour in graph[vertex]:\n",
    "            if neighbour not in visited:\n",
    "                queue.append(neighbour)\n",
    "                visited.add(neighbour)\n",
    "    return traverse"
   ]
  },
  {
   "cell_type": "code",
   "execution_count": 14,
   "id": "29032035",
   "metadata": {},
   "outputs": [
    {
     "name": "stdout",
     "output_type": "stream",
     "text": [
      "['0', '1', '2', '3', '4']\n",
      "['3', '1', '2', '4', '0']\n",
      "['2', '3', '4', '1', '0']\n"
     ]
    }
   ],
   "source": [
    "if __name__ == '__main__':\n",
    "    graph = {0: [1, 2, 3], 1: [2], 2: [3, 4], 3: [1, 2], 4:[0]}\n",
    "    print(bfs(graph, 0))\n",
    "    print(bfs(graph, 3))\n",
    "    print(bfs(graph, 2))"
   ]
  },
  {
   "cell_type": "markdown",
   "id": "d4a3194e",
   "metadata": {},
   "source": [
    "**Alternate Implementation**"
   ]
  },
  {
   "cell_type": "code",
   "execution_count": 15,
   "id": "8db14fd7",
   "metadata": {},
   "outputs": [],
   "source": [
    "class Vertex:\n",
    "    def __init__(self, n):\n",
    "        self.name = n\n",
    "        self.neighbors = list()\n",
    "\n",
    "        self.distance = 9999\n",
    "        self.color = 'black'\n",
    "\n",
    "    def add_neighbor(self, v):\n",
    "        if v not in self.neighbors:\n",
    "            self.neighbors.append(v)\n",
    "            self.neighbors.sort()"
   ]
  },
  {
   "cell_type": "code",
   "execution_count": 16,
   "id": "ee172ea3",
   "metadata": {},
   "outputs": [],
   "source": [
    "class Graph:\n",
    "    vertices = {}\n",
    "\n",
    "    def add_vertex(self, vertex):\n",
    "        if isinstance(vertex, Vertex) and vertex.name not in self.vertices:\n",
    "            self.vertices[vertex.name] = vertex\n",
    "            return True\n",
    "        else:\n",
    "            return False\n",
    "\n",
    "    def add_edge(self, u, v):\n",
    "        if u in self.vertices and v in self.vertices:\n",
    "            for key, value in self.vertices.items():\n",
    "                if key == u:\n",
    "                    value.add_neighbor(v)\n",
    "                if key == v:\n",
    "                    value.add_neighbor(u)\n",
    "            return True\n",
    "        else:\n",
    "            return False\n",
    "\n",
    "    def print_graph(self):\n",
    "        for key in sorted(list(self.vertices.keys())):\n",
    "            print(key + str(self.vertices[key].neighbors) + \"  \" + str(self.vertices[key].distance))\n",
    "\n",
    "    def bfs(self, vert):\n",
    "        q = list()\n",
    "        vert.distance = 0\n",
    "        vert.color = 'red'\n",
    "        for v in vert.neighbors:\n",
    "            self.vertices[v].distance = vert.distance + 1\n",
    "            q.append(v)\n",
    "\n",
    "        while len(q) > 0:\n",
    "            u = q.pop(0)\n",
    "            node_u = self.vertices[u]\n",
    "            node_u.color = 'red'\n",
    "\n",
    "            for v in node_u.neighbors:\n",
    "                node_v = self.vertices[v]\n",
    "                if node_v.color == 'black':\n",
    "                    q.append(v)\n",
    "                    if node_v.distance > node_u.distance + 1:\n",
    "                        node_v.distance = node_u.distance + 1\n"
   ]
  },
  {
   "cell_type": "code",
   "execution_count": 17,
   "id": "8ac00a2d",
   "metadata": {},
   "outputs": [],
   "source": [
    "g = Graph()\n",
    "a = Vertex('A')\n",
    "g.add_vertex(a)\n",
    "g.add_vertex(Vertex('B'))\n",
    "for i in range(ord('A'), ord('K')):\n",
    "\tg.add_vertex(Vertex(chr(i)))"
   ]
  },
  {
   "cell_type": "code",
   "execution_count": 18,
   "id": "36ec5c3d",
   "metadata": {},
   "outputs": [],
   "source": [
    "edges = ['AB', 'AE', 'BF', 'CG', 'DE', 'DH', 'EH', 'FG', 'FI', 'FJ', 'GJ', 'HI']\n",
    "for edge in edges:\n",
    "\tg.add_edge(edge[:1], edge[1:])"
   ]
  },
  {
   "cell_type": "code",
   "execution_count": 19,
   "id": "0eb7ad9e",
   "metadata": {},
   "outputs": [
    {
     "name": "stdout",
     "output_type": "stream",
     "text": [
      "A['B', 'E']  0\n",
      "B['A', 'F']  1\n",
      "C['G']  4\n",
      "D['E', 'H']  2\n",
      "E['A', 'D', 'H']  1\n",
      "F['B', 'G', 'I', 'J']  2\n",
      "G['C', 'F', 'J']  3\n",
      "H['D', 'E', 'I']  2\n",
      "I['F', 'H']  3\n",
      "J['F', 'G']  3\n"
     ]
    }
   ],
   "source": [
    "g.bfs(a)\n",
    "g.print_graph()"
   ]
  },
  {
   "cell_type": "markdown",
   "id": "18024b29",
   "metadata": {},
   "source": [
    " "
   ]
  },
  {
   "cell_type": "markdown",
   "id": "32b472e3",
   "metadata": {},
   "source": [
    "### Depth First Traversal\n",
    "\n",
    "Depth first Search or Depth first traversal is a recursive algorithm for searching all the vertices of a graph or tree data structure. Traversal means visiting all the nodes of a graph <br>\n",
    "\n",
    "**Depth First Search Algorithm**\n",
    "\n",
    "A standard DFS implementation puts each vertex of the graph into one of two categories:\n",
    "\n",
    "- Visited\n",
    "- Not Visited\n",
    "\n",
    "The purpose of the algorithm is to mark each vertex as visited while avoiding cycles.\n",
    "<br>\n",
    "The DFS algorithm works as follows:\n",
    "\n",
    "- Start by putting any one of the graph's vertices on top of a stack\n",
    "- Take the top item of the stack and add it to the visited list\n",
    "- Create a list of that vertex's adjacent nodes. Add the ones which aren't in the visited list to the top of the stack\n",
    "- Keep repeating steps 2 and 3 until the stack is empty\n",
    "\n",
    "**Complexity of Depth First Search**\n",
    "\n",
    "The time complexity of the DFS algorithm is represented in the form of **O(V + E)**, where V is the number of nodes and E is the number of edges.\n",
    "\n",
    "The space complexity of the algorithm is O(V)"
   ]
  },
  {
   "cell_type": "markdown",
   "id": "2408ae71",
   "metadata": {},
   "source": [
    "#### DFS Pseudocode\n",
    "\n",
    "\n",
    "`\n",
    "DFS(G, u)\n",
    "    u.visited = true\n",
    "    for each v ∈ G.Adj[u]\n",
    "        if v.visited == false\n",
    "            DFS(G,v)\n",
    "init() {\n",
    "    For each u ∈ G\n",
    "        u.visited = false\n",
    "     For each u ∈ G\n",
    "       DFS(G, u)\n",
    "}`"
   ]
  },
  {
   "cell_type": "code",
   "execution_count": 20,
   "id": "f99db78a",
   "metadata": {},
   "outputs": [],
   "source": [
    "# dfs implementation (simplified code)\n",
    "def dfs(graph, start, visited=None):\n",
    "    if visited is None:\n",
    "        visited = set()\n",
    "    visited.add(start)\n",
    "    \n",
    "    print(start, end='  ')\n",
    "    \n",
    "    for next_ in graph[start] - visited:\n",
    "        dfs(graph, next_, visited)\n",
    "    return visited"
   ]
  },
  {
   "cell_type": "code",
   "execution_count": 21,
   "id": "629e6ac4",
   "metadata": {},
   "outputs": [],
   "source": [
    "graph = {'0': set(['1', '2']),\n",
    "         '1': set(['0', '3', '4']),\n",
    "         '2': set(['0']),\n",
    "         '3': set(['1']),\n",
    "         '4': set(['2', '3'])}"
   ]
  },
  {
   "cell_type": "code",
   "execution_count": 22,
   "id": "8417c74f",
   "metadata": {},
   "outputs": [
    {
     "name": "stdout",
     "output_type": "stream",
     "text": [
      "0  1  3  4  2  2  "
     ]
    },
    {
     "data": {
      "text/plain": [
       "{'0', '1', '2', '3', '4'}"
      ]
     },
     "execution_count": 22,
     "metadata": {},
     "output_type": "execute_result"
    }
   ],
   "source": [
    "dfs(graph, '0')"
   ]
  },
  {
   "cell_type": "code",
   "execution_count": 23,
   "id": "00360272",
   "metadata": {},
   "outputs": [
    {
     "name": "stdout",
     "output_type": "stream",
     "text": [
      "1  3  4  2  0  0  {'1', '2', '3', '4', '0'}\n",
      "3  1  4  2  0  0  {'1', '2', '3', '4', '0'}\n",
      "0  1  3  4  2  2  {'1', '2', '3', '4', '0'}\n"
     ]
    }
   ],
   "source": [
    "print(dfs(graph, '1'))\n",
    "print(dfs(graph, '3'))\n",
    "print(dfs(graph, '0'))"
   ]
  },
  {
   "cell_type": "markdown",
   "id": "38805ea6",
   "metadata": {},
   "source": [
    " in DFS we store Traverse time for each operation i.e. information about each node when it is first visited and when it is fully visited"
   ]
  },
  {
   "cell_type": "markdown",
   "id": "24e56e17",
   "metadata": {},
   "source": [
    "#### Alternate Implementaion"
   ]
  },
  {
   "cell_type": "code",
   "execution_count": 24,
   "id": "122e3949",
   "metadata": {},
   "outputs": [],
   "source": [
    "class Vertex:\n",
    "    def __init__(self, n):\n",
    "        self.name = n\n",
    "        self.neighbours = []\n",
    "        \n",
    "        self.discovery = 0\n",
    "        self.finish = 0\n",
    "        self.color  = 'B'\n",
    "        \n",
    "    def add_neighbour(self, v):\n",
    "        if v not in set(self.neighbours):\n",
    "            self.neighbours.append(v)\n",
    "            self.neighbours.sort()\n",
    "            \n",
    "\n",
    "class Graph:\n",
    "    vertices = {}\n",
    "    time = 0\n",
    "    \n",
    "    def add_vertex(self, vertex):\n",
    "        if isinstance(vertex, Vertex) and vertex.name not in self.vertices:\n",
    "            self.vertices[vertex.name] = vertex\n",
    "            return True\n",
    "        else:\n",
    "            return False\n",
    "    \n",
    "    def add_edge(self, u, v):\n",
    "        if u in self.vertices and v in self.vertices:\n",
    "            for key, val in self.vertices.items():\n",
    "                if key==u:\n",
    "                    val.add_neighbour(v)\n",
    "                if key==v:\n",
    "                    val.add_neighbour(u)\n",
    "            return True\n",
    "        else:\n",
    "            return False\n",
    "        \n",
    "    def print_graph(self):\n",
    "        for key in sorted(list(self.vertices.keys())):\n",
    "            print(key + str(self.vertices[key].neighbours) + '  ' + str(self.vertices[key].discovery) + '/' + str(self.vertices[key].finish))\n",
    "        \n",
    "    def _dfs(self, vertex):\n",
    "        global time\n",
    "        vertex.color = 'G'\n",
    "        vertex.discovery = time\n",
    "        time += 1\n",
    "        for v in vertex.neighbours:\n",
    "            if self.vertices[v].color == 'B':\n",
    "                self._dfs(self.vertices[v])\n",
    "        vertex.color = 'W'\n",
    "        vertex.finish = time\n",
    "        time += 1\n",
    "        \n",
    "    def dfs(self, vertex):\n",
    "        global time\n",
    "        time = 1\n",
    "        self._dfs(vertex)\n",
    "        "
   ]
  },
  {
   "cell_type": "code",
   "execution_count": 25,
   "id": "5c5cbc3b",
   "metadata": {},
   "outputs": [],
   "source": [
    "g = Graph()\n",
    "a = Vertex('A')\n",
    "g.add_vertex(a)\n",
    "g.add_vertex(Vertex('B'))\n",
    "for i in range(ord('A'), ord('K')):\n",
    "\tg.add_vertex(Vertex(chr(i)))"
   ]
  },
  {
   "cell_type": "code",
   "execution_count": 26,
   "id": "2c277480",
   "metadata": {},
   "outputs": [],
   "source": [
    "edges = ['AB', 'AE', 'BF', 'CG', 'DE', 'DH', 'EH', 'FG', 'FI', 'FJ', 'GJ', 'HI']\n",
    "for edge in edges:\n",
    "\tg.add_edge(edge[:1], edge[1:])"
   ]
  },
  {
   "cell_type": "code",
   "execution_count": 27,
   "id": "ca753ff6",
   "metadata": {
    "scrolled": true
   },
   "outputs": [
    {
     "name": "stdout",
     "output_type": "stream",
     "text": [
      "A['B', 'E']  1/20\n",
      "B['A', 'F']  2/19\n",
      "C['G']  5/6\n",
      "D['E', 'H']  12/15\n",
      "E['A', 'D', 'H']  13/14\n",
      "F['B', 'G', 'I', 'J']  3/18\n",
      "G['C', 'F', 'J']  4/9\n",
      "H['D', 'E', 'I']  11/16\n",
      "I['F', 'H']  10/17\n",
      "J['F', 'G']  7/8\n"
     ]
    }
   ],
   "source": [
    "g.dfs(a)\n",
    "g.print_graph()"
   ]
  },
  {
   "cell_type": "markdown",
   "id": "7aac5120",
   "metadata": {},
   "source": [
    "### References \n",
    "\n",
    "* https://www.programiz.com/dsa/graph <br>\n",
    "* https://www.geeksforgeeks.org/mathematics-graph-theory-basics-set-1/ <br>\n",
    "* https://www.geeksforgeeks.org/mathematics-graph-theory-basics/ <br>"
   ]
  }
 ],
 "metadata": {
  "kernelspec": {
   "display_name": "Python 3",
   "language": "python",
   "name": "python3"
  },
  "language_info": {
   "codemirror_mode": {
    "name": "ipython",
    "version": 3
   },
   "file_extension": ".py",
   "mimetype": "text/x-python",
   "name": "python",
   "nbconvert_exporter": "python",
   "pygments_lexer": "ipython3",
   "version": "3.8.8"
  }
 },
 "nbformat": 4,
 "nbformat_minor": 5
}
