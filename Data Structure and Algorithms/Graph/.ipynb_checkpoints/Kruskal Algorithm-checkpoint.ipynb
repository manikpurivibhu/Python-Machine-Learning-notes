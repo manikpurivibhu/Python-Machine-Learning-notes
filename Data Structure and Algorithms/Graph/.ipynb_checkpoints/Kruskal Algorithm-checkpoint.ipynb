{
 "cells": [
  {
   "cell_type": "markdown",
   "id": "2bb58275",
   "metadata": {},
   "source": [
    "# Kruksal's Algorithm\n",
    "\n",
    "prerequisites: Disjoint Sets"
   ]
  },
  {
   "cell_type": "markdown",
   "id": "06473dab",
   "metadata": {},
   "source": [
    "Kruksal's algorithm is a **minimum Spanning Tree algorithm** that takes a graph as input and finds the subset of the edges of that graph which\n",
    "\n",
    "- form a tree that includes every vertex\n",
    "- has the minimum sum of weights among all the trees that can be formed from the graph\n",
    "\n",
    "**Kruksal's algorithm** falls under a class of algorithms called **greedy algorithms** that find the local optimum in the hopes of finding a global optimum <br>\n",
    "\n",
    "We start from the edges with the lowest weight and keep adding edges until we reach our goal <br>\n",
    "\n",
    "The steps for implementing Kruksal's algorithm are as follows:\n",
    "\n",
    "1. Sort all the edges from low weight to high\n",
    "2. Take the edge with the lowest weight and add it to the spanning tree. If adding the edge created a cycle, then reject this edge\n",
    "3. Keep adding edges until we reach all vertices"
   ]
  },
  {
   "cell_type": "markdown",
   "id": "8a9fa880",
   "metadata": {},
   "source": [
    "### Kruksal's Algorithm pseudocode\n",
    "\n",
    "Any minimum spanning tree algorithm revolves around checking if adding an edge creates a loop or not <br>\n",
    "\n",
    "The most common way to find this out is an algorithm called **Union Find**<br>\n",
    "The Union-Find algorithm divides the vertices into clusters and allows us to check if two vertices belong to the same cluster or not and hence decide whether adding an edge creates a cycle\n",
    "\n",
    "`\n",
    "KRUSKAL(G):\n",
    "A = ∅\n",
    "For each vertex v ∈ G.V:\n",
    "    MAKE-SET(v)\n",
    "For each edge (u, v) ∈ G.E ordered by increasing order by weight(u, v):\n",
    "    if FIND-SET(u) ≠ FIND-SET(v):       \n",
    "    A = A ∪ {(u, v)}\n",
    "    UNION(u, v)\n",
    "return A\n",
    "`"
   ]
  },
  {
   "cell_type": "markdown",
   "id": "1225c2c7",
   "metadata": {},
   "source": [
    "### Kruskal's Algorithm Complexity\n",
    "The time complexity Of Kruskal's Algorithm is: **O(E log E)**"
   ]
  },
  {
   "cell_type": "code",
   "execution_count": 1,
   "id": "7f268e5c",
   "metadata": {},
   "outputs": [],
   "source": [
    "# Kruskal's algorithm in Python\n",
    "\n",
    "\n",
    "class Graph:\n",
    "    def __init__(self, vertices):\n",
    "        self.V = vertices\n",
    "        self.graph = []\n",
    "\n",
    "    def add_edge(self, u, v, w):\n",
    "        self.graph.append([u, v, w])\n",
    "\n",
    "    # Search function\n",
    "\n",
    "    def find(self, parent, i):\n",
    "        if parent[i] == i:\n",
    "            return i\n",
    "        return self.find(parent, parent[i])\n",
    "\n",
    "    def apply_union(self, parent, rank, x, y):\n",
    "        xroot = self.find(parent, x)\n",
    "        yroot = self.find(parent, y)\n",
    "        if rank[xroot] < rank[yroot]:\n",
    "            parent[xroot] = yroot\n",
    "        elif rank[xroot] > rank[yroot]:\n",
    "            parent[yroot] = xroot\n",
    "        else:\n",
    "            parent[yroot] = xroot\n",
    "            rank[xroot] += 1\n",
    "\n",
    "    #  Applying Kruskal algorithm\n",
    "    def kruskal_algo(self):\n",
    "        result = []\n",
    "        i, e = 0, 0\n",
    "        self.graph = sorted(self.graph, key=lambda item: item[2])\n",
    "        parent = []\n",
    "        rank = []\n",
    "        for node in range(self.V):\n",
    "            parent.append(node)\n",
    "            rank.append(0)\n",
    "        while e < self.V - 1:\n",
    "            u, v, w = self.graph[i]\n",
    "            i = i + 1\n",
    "            x = self.find(parent, u)\n",
    "            y = self.find(parent, v)\n",
    "            if x != y:\n",
    "                e = e + 1\n",
    "                result.append([u, v, w])\n",
    "                self.apply_union(parent, rank, x, y)\n",
    "        for u, v, weight in result:\n",
    "            print(\"%d - %d: %d\" % (u, v, weight))\n"
   ]
  },
  {
   "cell_type": "code",
   "execution_count": 2,
   "id": "1ec19564",
   "metadata": {},
   "outputs": [
    {
     "name": "stdout",
     "output_type": "stream",
     "text": [
      "1 - 2: 2\n",
      "2 - 5: 2\n",
      "2 - 3: 3\n",
      "3 - 4: 3\n",
      "0 - 1: 4\n"
     ]
    }
   ],
   "source": [
    "g = Graph(6)\n",
    "g.add_edge(0, 1, 4)\n",
    "g.add_edge(0, 2, 4)\n",
    "g.add_edge(1, 2, 2)\n",
    "g.add_edge(1, 0, 4)\n",
    "g.add_edge(2, 0, 4)\n",
    "g.add_edge(2, 1, 2)\n",
    "g.add_edge(2, 3, 3)\n",
    "g.add_edge(2, 5, 2)\n",
    "g.add_edge(2, 4, 4)\n",
    "g.add_edge(3, 2, 3)\n",
    "g.add_edge(3, 4, 3)\n",
    "g.add_edge(4, 2, 4)\n",
    "g.add_edge(4, 3, 3)\n",
    "g.add_edge(5, 2, 2)\n",
    "g.add_edge(5, 4, 3)\n",
    "g.kruskal_algo()"
   ]
  },
  {
   "cell_type": "markdown",
   "id": "3d48f744",
   "metadata": {},
   "source": [
    "### alternate implementation\n",
    "more focused on Union and Find operations"
   ]
  },
  {
   "cell_type": "code",
   "execution_count": 3,
   "id": "6cfda1ee",
   "metadata": {},
   "outputs": [],
   "source": [
    "# find operation\n",
    "\n",
    "def find(graph, node):\n",
    "    if graph[node] < 0:\n",
    "        return node\n",
    "    else:\n",
    "        return find(graph, graph[node])"
   ]
  },
  {
   "cell_type": "code",
   "execution_count": 4,
   "id": "128707a1",
   "metadata": {},
   "outputs": [],
   "source": [
    "# union operation\n",
    "\n",
    "def union(graph, a, b, answer):\n",
    "    ta, tb = a, b\n",
    "    a = find(graph, a)\n",
    "    b = find(graph, b) \n",
    "    # avoid loop\n",
    "    if a == b:\n",
    "        pass\n",
    "    else:\n",
    "        answer.append([ta, tb])\n",
    "        if graph[a] < graph[b]:\n",
    "            graph[a] = graph[a] + graph[b]\n",
    "            graph[b] = a\n",
    "        else:\n",
    "            graph[b] = graph[b] + graph[a]\n",
    "            graph[a] = b"
   ]
  },
  {
   "cell_type": "code",
   "execution_count": 5,
   "id": "03370dbd",
   "metadata": {},
   "outputs": [],
   "source": [
    "n  = 7\n",
    "# [source vertex, destination vertex, cost for source to destination]\n",
    "ip = [[1,2,1], [1,3,3], [2,6,4], [3,6,2], [3,4,1], [4,5,5], [6,7,2], [6,5,6], [7,5,7]]"
   ]
  },
  {
   "cell_type": "code",
   "execution_count": 6,
   "id": "a408975c",
   "metadata": {},
   "outputs": [],
   "source": [
    "# sort ip by elements in index 2 for every element\n",
    "ip = sorted(ip, key = lambda ip:ip[2])"
   ]
  },
  {
   "cell_type": "code",
   "execution_count": 7,
   "id": "2ac37d0b",
   "metadata": {},
   "outputs": [],
   "source": [
    "graph  = [-1] * (n+1)\n",
    "answer = []"
   ]
  },
  {
   "cell_type": "code",
   "execution_count": 8,
   "id": "18cac5f4",
   "metadata": {},
   "outputs": [
    {
     "name": "stdout",
     "output_type": "stream",
     "text": [
      "[-1, 2, 4, 4, -7, 4, 4, 4]\n"
     ]
    }
   ],
   "source": [
    "for u,v,d in ip:\n",
    "    union(graph, u, v, answer)\n",
    "print(graph)"
   ]
  },
  {
   "cell_type": "markdown",
   "id": "7c2d850c",
   "metadata": {},
   "source": [
    "### References\n",
    "\n",
    "* https://www.programiz.com/dsa/kruskal-algorithm <br>\n",
    "* https://www.geeksforgeeks.org/kruskals-minimum-spanning-tree-algorithm-greedy-algo-2/ <br>\n",
    "* https://www.youtube.com/watch?v=Ub-fJ-KoBQM <br>\n",
    "* https://www.youtube.com/watch?v=hupbSXllSIc&t=305s <br>"
   ]
  }
 ],
 "metadata": {
  "kernelspec": {
   "display_name": "Python 3",
   "language": "python",
   "name": "python3"
  },
  "language_info": {
   "codemirror_mode": {
    "name": "ipython",
    "version": 3
   },
   "file_extension": ".py",
   "mimetype": "text/x-python",
   "name": "python",
   "nbconvert_exporter": "python",
   "pygments_lexer": "ipython3",
   "version": "3.8.8"
  }
 },
 "nbformat": 4,
 "nbformat_minor": 5
}
