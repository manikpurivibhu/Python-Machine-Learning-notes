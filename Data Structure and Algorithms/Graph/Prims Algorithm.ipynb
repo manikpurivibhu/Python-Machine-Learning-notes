{
 "cells": [
  {
   "cell_type": "markdown",
   "id": "069a4e50",
   "metadata": {},
   "source": [
    "# Prim's Algorithm"
   ]
  },
  {
   "cell_type": "markdown",
   "id": "f2b769ac",
   "metadata": {},
   "source": [
    "Prim's algorithm is a **minimum Spanning Tree algorithm** that takes a graph as input and finds the subset of the edges of that graph which\n",
    "\n",
    "- form a tree that includes every vertex\n",
    "- has the minimum sum of weights among all the trees that can be formed from the graph\n",
    "\n",
    "**Prim's Algorithm** falls under a class of algorithms called **greedy algorithms** that find the local optimum in the hopes of finding a global optimum <br>\n",
    "\n",
    "We start from one vertex and keep adding edges with the lowest weight until we reach our goal <br>\n",
    "\n",
    "The steps for implementing Prim's algorithm are as follows:\n",
    "\n",
    "1. Initialize the minimum spanning tree with a vertex chosen at random\n",
    "2. Find all the edges that connect the tree to new vertices, find the minimum and add it to the tree\n",
    "3. Keep repeating step 2 until we get a minimum spanning tree"
   ]
  },
  {
   "cell_type": "markdown",
   "id": "e6b18f39",
   "metadata": {},
   "source": [
    "### Prim's Algorithm pseudocode\n",
    "\n",
    "The pseudocode for prim's algorithm shows how we create two sets of vertices U and V-U. U contains the list of vertices that have been visited and V-U the list of vertices that haven't.<br>\n",
    "One by one, we move vertices from set V-U to set U by connecting the least weight edge\n",
    "\n",
    "`\n",
    "T = ∅;\n",
    "U = { 1 };\n",
    "while (U ≠ V)\n",
    "    let (u, v) be the lowest cost edge such that u ∈ U and v ∈ V - U;\n",
    "    T = T ∪ {(u, v)}\n",
    "    U = U ∪ {v}\n",
    "`"
   ]
  },
  {
   "cell_type": "markdown",
   "id": "72e8c005",
   "metadata": {},
   "source": [
    "### Prim's Algorithm Complexity\n",
    "The time complexity of Prim's algorithm is `O(E log V)`"
   ]
  },
  {
   "cell_type": "code",
   "execution_count": 1,
   "id": "48ddbf96",
   "metadata": {},
   "outputs": [
    {
     "name": "stdout",
     "output_type": "stream",
     "text": [
      "Edge : Weight\n",
      "\n",
      "0-1:9\n",
      "1-3:19\n",
      "3-4:31\n",
      "3-2:51\n"
     ]
    }
   ],
   "source": [
    "# Although adjacency matrix representation of graphs is used,\n",
    "# this algorithm can also be implemented using Adjacency List to improve its efficiency\n",
    "\n",
    "# Prim's Algorithm in Python\n",
    "\n",
    "\n",
    "INF = 9999999\n",
    "# number of vertices in graph\n",
    "V = 5\n",
    "# create a 2d array of size 5x5\n",
    "# for adjacency matrix to represent graph\n",
    "G = [[0, 9, 75, 0, 0],\n",
    "     [9, 0, 95, 19, 42],\n",
    "     [75, 95, 0, 51, 66],\n",
    "     [0, 19, 51, 0, 31],\n",
    "     [0, 42, 66, 31, 0]]\n",
    "# create a array to track selected vertex\n",
    "# selected will become true otherwise false\n",
    "selected = [0, 0, 0, 0, 0]\n",
    "# set number of edge to 0\n",
    "no_edge = 0\n",
    "# the number of egde in minimum spanning tree will be\n",
    "# always less than(V - 1), where V is number of vertices in\n",
    "# graph\n",
    "# choose 0th vertex and make it true\n",
    "selected[0] = True\n",
    "# print for edge and weight\n",
    "print(\"Edge : Weight\\n\")\n",
    "while (no_edge < V - 1):\n",
    "    # For every vertex in the set S, find the all adjacent vertices\n",
    "    #, calculate the distance from the vertex selected at step 1.\n",
    "    # if the vertex is already in the set S, discard it otherwise\n",
    "    # choose another vertex nearest to selected vertex  at step 1.\n",
    "    minimum = INF\n",
    "    x = 0\n",
    "    y = 0\n",
    "    for i in range(V):\n",
    "        if selected[i]:\n",
    "            for j in range(V):\n",
    "                if ((not selected[j]) and G[i][j]):  \n",
    "                    # not in selected and there is an edge\n",
    "                    if minimum > G[i][j]:\n",
    "                        minimum = G[i][j]\n",
    "                        x = i\n",
    "                        y = j\n",
    "    print(str(x) + \"-\" + str(y) + \":\" + str(G[x][y]))\n",
    "    selected[y] = True\n",
    "    no_edge += 1"
   ]
  },
  {
   "cell_type": "markdown",
   "id": "069be4bf",
   "metadata": {},
   "source": [
    " "
   ]
  },
  {
   "cell_type": "markdown",
   "id": "27c757a6",
   "metadata": {},
   "source": [
    "### Alternate Implementation\n",
    "\n",
    "only for reference, to understand the algorithm better and not to run"
   ]
  },
  {
   "cell_type": "code",
   "execution_count": null,
   "id": "543717dd",
   "metadata": {},
   "outputs": [],
   "source": [
    "AdjList = {node1: [ [cost1, adjacent_node1], [cost2, adjacent_node2], .. [cost_n, adjacent_node_n] ], \n",
    "           node2: [ [cost1, adjacent_node1], [cost2, adjacent_node2], .. [cost_n, adjacent_node_n] ],\n",
    "           .\n",
    "           .\n",
    "           node_n: [ [cost1, adjacent_node1], [cost2, adjacent_node2], .. [cost_n, adjacent_node_n] ]\n",
    "          }\n",
    "\n",
    "final_cost = 0\n",
    "visited = set()\n",
    "minH = [[0, 0]]  #cost, destination point\n",
    "\n",
    "while len(visited) < no_of_nodes:\n",
    "    cost, adj_node = heapq.heappop(minH)\n",
    "    # to avoid loops\n",
    "    if adj_node in visited:\n",
    "        continue\n",
    "    final_cost += cost\n",
    "    visited.add(adj_node)\n",
    "    for neighbour_cost, neighbour in AdjList[adj_node]:\n",
    "        if neighbour not in visited:\n",
    "            heapq.heappush(minH, [neighbour_cost, neighbour])\n",
    "\n",
    "print('Cost :', final_cost)"
   ]
  },
  {
   "cell_type": "markdown",
   "id": "382ac383",
   "metadata": {},
   "source": [
    "### References\n",
    "\n",
    "* https://www.programiz.com/dsa/prim-algorithm <br>\n",
    "* https://www.youtube.com/watch?v=f7JOBJIC-NA&lc=z22eyto4pqvfg35seacdp430mpvvtcfpoun0m3zpfphw03c010c <br>\n",
    "* https://www.youtube.com/watch?v=5ZYBFcPSvvE <br>"
   ]
  }
 ],
 "metadata": {
  "kernelspec": {
   "display_name": "Python 3",
   "language": "python",
   "name": "python3"
  },
  "language_info": {
   "codemirror_mode": {
    "name": "ipython",
    "version": 3
   },
   "file_extension": ".py",
   "mimetype": "text/x-python",
   "name": "python",
   "nbconvert_exporter": "python",
   "pygments_lexer": "ipython3",
   "version": "3.8.8"
  }
 },
 "nbformat": 4,
 "nbformat_minor": 5
}
