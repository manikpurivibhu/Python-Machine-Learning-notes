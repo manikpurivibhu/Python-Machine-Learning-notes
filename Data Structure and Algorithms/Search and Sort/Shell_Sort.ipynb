{
 "cells": [
  {
   "cell_type": "markdown",
   "id": "88e6b08e",
   "metadata": {},
   "source": [
    "# Shell Sort\n",
    "\n",
    "ShellSort is mainly a <b>variation of Insertion Sort</b>. <br>\n",
    "In insertion sort, we move elements only one position ahead. When an element has to be moved far ahead, many movements are involved.<br> \n",
    "The idea of shellSort is to allow exchange of far items. In shellSort, we make the array h-sorted for a large value of h. <br>\n",
    "We keep reducing the value of h until it becomes 1. An array is said to be h-sorted if all sublists of every h’th element is sorted."
   ]
  },
  {
   "cell_type": "code",
   "execution_count": 6,
   "id": "7d0ba17f",
   "metadata": {},
   "outputs": [],
   "source": [
    "def shell_sort(sequence):\n",
    "    size = len(sequence)\n",
    "    gap = size//2\n",
    "\n",
    "    while gap > 0:\n",
    "        for i in range(gap,size):\n",
    "            anchor = sequence[i]\n",
    "            j = i\n",
    "            while j>=gap and sequence[j-gap]>anchor:\n",
    "                sequence[j] = sequence[j-gap]\n",
    "                j -= gap\n",
    "            sequence[j] = anchor\n",
    "        gap = gap // 2"
   ]
  },
  {
   "cell_type": "code",
   "execution_count": 10,
   "id": "7ed8af00",
   "metadata": {},
   "outputs": [
    {
     "name": "stdout",
     "output_type": "stream",
     "text": [
      "Array before sort : [1, 445, 43, 56, 87, 45, 23, 98, 30]\n",
      "Array after sort  : [1, 23, 30, 43, 45, 56, 87, 98, 445]\n"
     ]
    }
   ],
   "source": [
    "##Test\n",
    "\n",
    "sample_array = [1,445,43,56,87,45,23,98,30]\n",
    "\n",
    "print('Array before sort :', sample_array)\n",
    "\n",
    "shell_sort(sample_array)\n",
    "\n",
    "print('Array after sort  :', sample_array)"
   ]
  }
 ],
 "metadata": {
  "kernelspec": {
   "display_name": "Python 3",
   "language": "python",
   "name": "python3"
  },
  "language_info": {
   "codemirror_mode": {
    "name": "ipython",
    "version": 3
   },
   "file_extension": ".py",
   "mimetype": "text/x-python",
   "name": "python",
   "nbconvert_exporter": "python",
   "pygments_lexer": "ipython3",
   "version": "3.8.8"
  }
 },
 "nbformat": 4,
 "nbformat_minor": 5
}
