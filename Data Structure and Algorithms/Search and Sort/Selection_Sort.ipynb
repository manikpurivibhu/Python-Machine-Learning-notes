{
 "cells": [
  {
   "cell_type": "markdown",
   "id": "b31e36a3",
   "metadata": {},
   "source": [
    "# Selection Sort\n",
    "\n",
    "The selection sort algorithm sorts an array by repeatedly finding the minimum element (considering ascending order) from unsorted part and putting it at the beginning. <br>\n",
    "The algorithm maintains two subarrays in a given array.<br>\n",
    "1. The subarray which is already sorted. \n",
    "2. Remaining subarray which is unsorted.\n",
    "\n",
    "In every iteration of selection sort, the minimum element from the unsorted subarray is picked and swapped with the current (iteration) pointer.<br><br>\n",
    "\n",
    "Example:\n",
    "\n",
    "```\n",
    "arr[] = 64 25 12 22 11\n",
    "\n",
    "// Find the minimum element in arr[0...4]\n",
    "// and place it at beginning\n",
    "11 25 12 22 64\n",
    "\n",
    "// Find the minimum element in arr[1...4]\n",
    "// and place it at beginning of arr[1...4]\n",
    "11 12 25 22 64\n",
    "\n",
    "// Find the minimum element in arr[2...4]\n",
    "// and place it at beginning of arr[2...4]\n",
    "11 12 22 25 64\n",
    "\n",
    "// Find the minimum element in arr[3...4]\n",
    "// and place it at beginning of arr[3...4]\n",
    "11 12 22 25 64 \n",
    "```\n",
    "\n",
    "<b>Time Complexity</b>: O(n2) as there are two nested loops.<br>\n",
    "<b>Auxiliary Space</b>: O(1) "
   ]
  },
  {
   "cell_type": "code",
   "execution_count": 8,
   "id": "d9f874be",
   "metadata": {},
   "outputs": [],
   "source": [
    "def selection_sort(sequence):\n",
    "    \n",
    "    size = len(sequence)\n",
    "    \n",
    "    if size>1:\n",
    "        \n",
    "        for i in range(size):\n",
    "            min_index = i\n",
    "            \n",
    "            #find min element in unsorted part of array\n",
    "            for j in range(i+1, size):\n",
    "                if sequence[j]<sequence[min_index]:\n",
    "                    min_index = j\n",
    "                    \n",
    "            #swap current (iteration) pointer with smallest element in unsorted part of sequence\n",
    "            if i != min_index:\n",
    "                sequence[i], sequence[min_index] = sequence[min_index], sequence[i]"
   ]
  },
  {
   "cell_type": "code",
   "execution_count": 9,
   "id": "29df3c64",
   "metadata": {},
   "outputs": [
    {
     "name": "stdout",
     "output_type": "stream",
     "text": [
      "Array before sorting : [32, 343, 52, 13, 54, 576, 4, 32, 12, 0]\n",
      "Array before sorting : [0, 4, 12, 13, 32, 32, 52, 54, 343, 576]\n"
     ]
    }
   ],
   "source": [
    "##Test:\n",
    "\n",
    "sample_array = [32,343,52,13,54,576,4,32,12,0]\n",
    "\n",
    "print('Array before sorting :', sample_array)\n",
    "\n",
    "selection_sort(sample_array)\n",
    "\n",
    "print('Array before sorting :', sample_array)"
   ]
  }
 ],
 "metadata": {
  "kernelspec": {
   "display_name": "Python 3",
   "language": "python",
   "name": "python3"
  },
  "language_info": {
   "codemirror_mode": {
    "name": "ipython",
    "version": 3
   },
   "file_extension": ".py",
   "mimetype": "text/x-python",
   "name": "python",
   "nbconvert_exporter": "python",
   "pygments_lexer": "ipython3",
   "version": "3.8.8"
  }
 },
 "nbformat": 4,
 "nbformat_minor": 5
}
