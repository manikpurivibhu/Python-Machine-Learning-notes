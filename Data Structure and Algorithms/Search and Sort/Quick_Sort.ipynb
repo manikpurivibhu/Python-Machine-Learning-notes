{
 "cells": [
  {
   "cell_type": "markdown",
   "id": "42356eb8",
   "metadata": {},
   "source": [
    "# Quick Sort\n",
    "\n",
    "QuickSort is a <b>Divide and Conquer</b> algorithm.<br>\n",
    "It picks an element as pivot and partitions the given array around the picked pivot.<br>\n",
    "There are many different versions of quickSort that pick pivot in different ways : pick first element/ last element/ random element/ median as pivot<br><br>\n",
    "\n",
    "The key process in quickSort is <b>partition()</b>. <br>\n",
    "Target of partitions is, given an array and an element x of array as pivot, put x at its correct position in sorted array and put all smaller elements (smaller than x) before x, and put all greater elements (greater than x) after x. <br>\n",
    "All this should be done in linear time.\n",
    "<b>Pseudocode for Partition</b>\n",
    "\n",
    "```\n",
    "/* This function takes last element as pivot, places\n",
    "   the pivot element at its correct position in sorted\n",
    "    array, and places all smaller (smaller than pivot)\n",
    "   to left of pivot and all greater elements to right\n",
    "   of pivot */\n",
    "partition (arr[], low, high)\n",
    "{\n",
    "    // pivot (Element to be placed at right position)\n",
    "    pivot = arr[high];  \n",
    " \n",
    "    i = (low - 1)  // Index of smaller element and indicates the \n",
    "                   // right position of pivot found so far\n",
    "\n",
    "    for (j = low; j <= high- 1; j++)\n",
    "    {\n",
    "        // If current element is smaller than the pivot\n",
    "        if (arr[j] < pivot)\n",
    "        {\n",
    "            i++;    // increment index of smaller element\n",
    "            swap arr[i] and arr[j]\n",
    "        }\n",
    "    }\n",
    "    swap arr[i + 1] and arr[high])\n",
    "    return (i + 1)\n",
    "}\n",
    "```\n",
    "<br><br>\n",
    "<b>Time Complexity</b><br><br>\n",
    "\n",
    "<b>Worst Case :</b> O(n^2)\n",
    "\n",
    "<b>Best Case :</b> O(n)\n",
    "\n",
    "<b>Average Case :</b> O(n log n)"
   ]
  },
  {
   "cell_type": "code",
   "execution_count": 11,
   "id": "7543fe87",
   "metadata": {},
   "outputs": [],
   "source": [
    "def partition(sequence, start, end):\n",
    "    '''\n",
    "    This function will put the pivot element inot it's correct poisition in the sequence and \n",
    "    all the elements smaller than and equal to pivot to the left of it and\n",
    "    all the elements greater than pivot to the right side of the pivot.\n",
    "    Here, we choose the first element as the pivot. However, other elements such as the last \n",
    "    element or the median can also be selected.\n",
    "    '''\n",
    "    pivot_index = start\n",
    "    pivot = sequence[pivot_index]\n",
    "    \n",
    "    #this loop will run  until start pointer crosses end pointer\n",
    "    while start<end:\n",
    "        \n",
    "        while start<len(sequence) and sequence[start] <= pivot:\n",
    "            start += 1\n",
    "            \n",
    "        while sequence[end] > pivot:\n",
    "            end -= 1\n",
    "        \n",
    "        #if start pointer does not crosses end pointer\n",
    "        if start<end:\n",
    "            sequence[end], sequence[start] = sequence[start], sequence[end]\n",
    "    \n",
    "    #this puts pivot element into its correct position\n",
    "    sequence[end], sequence[pivot_index] = sequence[pivot_index], sequence[end]\n",
    "    \n",
    "    return end"
   ]
  },
  {
   "cell_type": "code",
   "execution_count": 15,
   "id": "cf633fef",
   "metadata": {},
   "outputs": [],
   "source": [
    "def quick_sort(sequence, start, end):\n",
    "    '''\n",
    "    This is the actual function that implements Quick Sort.\n",
    "    But for this to work, partition() should work too.'''\n",
    "    if start < end:\n",
    "        \n",
    "        pi = partition(sequence, start, end)\n",
    "\n",
    "        quick_sort(sequence, start, pi-1)\n",
    "        quick_sort(sequence, pi+1, end)\n"
   ]
  },
  {
   "cell_type": "code",
   "execution_count": 13,
   "id": "2fd9d505",
   "metadata": {
    "scrolled": true
   },
   "outputs": [
    {
     "name": "stdout",
     "output_type": "stream",
     "text": [
      "Array before sorting : [102, 355, 543, 234, 543, 12, 3123, 5454, 21, 2356, 67, 87, 567]\n",
      "Array after sorting : [12, 21, 67, 87, 102, 234, 355, 543, 543, 567, 2356, 3123, 5454]\n"
     ]
    }
   ],
   "source": [
    "##Test\n",
    "\n",
    "sample_array = [102, 355, 543, 234, 543, 12, 3123, 5454, 21, 2356, 67, 87, 567]\n",
    "\n",
    "print('Array before sorting :',sample_array)\n",
    "\n",
    "quick_sort(sample_array, 0, len(sample_array)-1)\n",
    "\n",
    "print('Array after sorting :',sample_array)"
   ]
  }
 ],
 "metadata": {
  "kernelspec": {
   "display_name": "Python 3",
   "language": "python",
   "name": "python3"
  },
  "language_info": {
   "codemirror_mode": {
    "name": "ipython",
    "version": 3
   },
   "file_extension": ".py",
   "mimetype": "text/x-python",
   "name": "python",
   "nbconvert_exporter": "python",
   "pygments_lexer": "ipython3",
   "version": "3.8.8"
  }
 },
 "nbformat": 4,
 "nbformat_minor": 5
}
