{
 "cells": [
  {
   "cell_type": "markdown",
   "id": "c9d36760",
   "metadata": {},
   "source": [
    "# Insertion Sort\n",
    "\n",
    "Insertion sort is a simple sorting algorithm that works similar to the way you sort playing cards in your hands. <br>\n",
    "The array is virtually split into a sorted and an unsorted part. <br>\n",
    "Values from the unsorted part are picked and placed at the correct position in the sorted part.<br><br>\n",
    "\n",
    "<b>Algorithm </b><br>\n",
    "To sort an array of size n in ascending order:\n",
    "1. Iterate from arr[1] to arr[n] over the array. \n",
    "2. Compare the current element (anchor) to its predecessor. \n",
    "3. If the key element is smaller than its predecessor, compare it to the elements before. Move the greater elements one position up to make space for the swapped element.\n",
    "\n",
    "Example:<br> \n",
    "12, 11, 13, 5, 6<br>\n",
    "Let us loop for i = 1 (second element of the array) to 4 (last element of the array)<br>\n",
    "i = 1. Since 11 is smaller than 12, move 12 and insert 11 before 12 <br>\n",
    "11, 12, 13, 5, 6<br>\n",
    "i = 2. 13 will remain at its position as all elements in A[0..I-1] are smaller than 13 <br>\n",
    "11, 12, 13, 5, 6<br>\n",
    "i = 3. 5 will move to the beginning and all other elements from 11 to 13 will move one position ahead of their current position. <br>\n",
    "5, 11, 12, 13, 6<br>\n",
    "i = 4. 6 will move to position after 5, and elements from 11 to 13 will move one position ahead of their current position. <br>\n",
    "5, 6, 11, 12, 13 <br><br>\n",
    "\n",
    "<b>Time Complexity: O(n^2) </b> <br>\n",
    "<b>Auxiliary Space: O(1)</b> <br>\n",
    "<b>Boundary Cases: </b>Insertion sort takes maximum time to sort if elements are sorted in reverse order. And it takes minimum time (Order of n) when elements are already sorted."
   ]
  },
  {
   "cell_type": "code",
   "execution_count": 7,
   "id": "5c724486",
   "metadata": {},
   "outputs": [],
   "source": [
    "def insertion_sort(elements):\n",
    "    size = len(elements)\n",
    "    \n",
    "    for i in range(1, size):\n",
    "        \n",
    "        #storing each number in elements in variable anchor (no to put in it's correct place in array in current itreration)\n",
    "        anchor = elements[i]\n",
    "        j = i-1\n",
    "        \n",
    "        while j >= 0 and anchor < elements[j]:\n",
    "            #moving each number greater than anchor up by 1 index to make place for putting anchor in sorted part of the array \n",
    "            elements[j+1] = elements[j]\n",
    "            j -= 1\n",
    "        \n",
    "        #putting the anchor in it's right place in the sorted part of the array\n",
    "        elements[j+1] = anchor"
   ]
  },
  {
   "cell_type": "code",
   "execution_count": 9,
   "id": "72b1f384",
   "metadata": {},
   "outputs": [
    {
     "name": "stdout",
     "output_type": "stream",
     "text": [
      "Unsorted Array :  [23, 123, 43, 234, 6, 78, 45, 0, 4, 12, 432, 54345, 23]\n",
      "Sorted Array   :  [0, 4, 6, 12, 23, 23, 43, 45, 78, 123, 234, 432, 54345]\n"
     ]
    }
   ],
   "source": [
    "##Test:\n",
    "\n",
    "sample_array = [23,123,43,234,6,78,45,0,4,12,432,54345,23]\n",
    "print('Unsorted Array : ',sample_array)\n",
    "insertion_sort(sample_array)\n",
    "print('Sorted Array   : ',sample_array)"
   ]
  }
 ],
 "metadata": {
  "kernelspec": {
   "display_name": "Python 3",
   "language": "python",
   "name": "python3"
  },
  "language_info": {
   "codemirror_mode": {
    "name": "ipython",
    "version": 3
   },
   "file_extension": ".py",
   "mimetype": "text/x-python",
   "name": "python",
   "nbconvert_exporter": "python",
   "pygments_lexer": "ipython3",
   "version": "3.8.8"
  }
 },
 "nbformat": 4,
 "nbformat_minor": 5
}
