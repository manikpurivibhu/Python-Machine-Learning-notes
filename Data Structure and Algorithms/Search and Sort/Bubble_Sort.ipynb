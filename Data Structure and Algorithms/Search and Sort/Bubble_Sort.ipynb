{
 "cells": [
  {
   "cell_type": "markdown",
   "id": "1042a976",
   "metadata": {},
   "source": [
    "# Bubble Sort\n",
    "\n",
    "<b>Bubble Sort</b> is the simplest sorting algorithm that works by repeatedly swapping the adjacent elements if they are in wrong order.<br><br>\n",
    "Example: <br>\n",
    "First Pass: <br>\n",
    "( 5 1 4 2 8 ) –> ( 1 5 4 2 8 ), Here, algorithm compares the first two elements, and swaps since 5 > 1. <br>\n",
    "( 1 5 4 2 8 ) –>  ( 1 4 5 2 8 ), Swap since 5 > 4 <br>\n",
    "( 1 4 5 2 8 ) –>  ( 1 4 2 5 8 ), Swap since 5 > 2 <br>\n",
    "( 1 4 2 5 8 ) –> ( 1 4 2 5 8 ), Now, since these elements are already in order (8 > 5), algorithm does not swap them.<br><br>\n",
    "Second Pass: <br>\n",
    "( 1 4 2 5 8 ) –> ( 1 4 2 5 8 ) <br>\n",
    "( 1 4 2 5 8 ) –> ( 1 2 4 5 8 ), Swap since 4 > 2 <br>\n",
    "( 1 2 4 5 8 ) –> ( 1 2 4 5 8 ) <br>\n",
    "( 1 2 4 5 8 ) –>  ( 1 2 4 5 8 ) <br><br>\n",
    "Now, the array is already sorted, but our algorithm does not know if it is completed. The algorithm needs one whole pass without any swap to know it is sorted.<br>\n",
    "Third Pass: <br>\n",
    "( 1 2 4 5 8 ) –> ( 1 2 4 5 8 ) <br>\n",
    "( 1 2 4 5 8 ) –> ( 1 2 4 5 8 ) <br>\n",
    "( 1 2 4 5 8 ) –> ( 1 2 4 5 8 ) <br>\n",
    "( 1 2 4 5 8 ) –> ( 1 2 4 5 8 ) <br>The above function always runs O(n^2) time even if the array is sorted. It can be optimized by stopping the algorithm if inner loop didn’t cause any swap. \n",
    "\n",
    "<b>  Worst Case Time Complexity : O(n^2)<br>\n",
    "     Best Case Time Complexity : O(n)</b> (Array is already sorted)<br>\n",
    "<b>  Space Complexity : O(1)</b><br><br>\n",
    "\n",
    "The above function always runs O(n^2) time even if the array is sorted. It can be optimized by stopping the algorithm if inner loop didn’t cause any swap. \n",
    " "
   ]
  },
  {
   "cell_type": "code",
   "execution_count": 23,
   "id": "7facd894",
   "metadata": {},
   "outputs": [],
   "source": [
    "def bubble_sort(elements):\n",
    "    \n",
    "    size = len(elements)\n",
    "    \n",
    "    for i in range(size-1):\n",
    "        \n",
    "        #swappd --> to optimized by stopping the algorithm if inner loop didn’t cause any swap.\n",
    "        swapped = False\n",
    "        for j in range(size-1-i):\n",
    "            \n",
    "            if elements[j] > elements[j+1]:\n",
    "                elements[j], elements[j+1] = elements[j+1], elements[j]\n",
    "                swapped = True\n",
    "                \n",
    "        if not swapped:\n",
    "            break\n",
    "                "
   ]
  },
  {
   "cell_type": "code",
   "execution_count": 32,
   "id": "fd1d22ec",
   "metadata": {},
   "outputs": [],
   "source": [
    "##Test:\n",
    "\n",
    "sample_array1 = [2,43,123,54,654,127,66,4,8,0,34,121,45]\n",
    "sample_array2 = [0, 12, 23, 34, 45, 56, 67, 78, 89, 100]"
   ]
  },
  {
   "cell_type": "code",
   "execution_count": 35,
   "id": "db063538",
   "metadata": {},
   "outputs": [
    {
     "name": "stdout",
     "output_type": "stream",
     "text": [
      "[0, 2, 4, 8, 34, 43, 45, 54, 66, 121, 123, 127, 654]\n",
      "[0, 12, 23, 34, 45, 56, 67, 78, 89, 100]\n"
     ]
    }
   ],
   "source": [
    "bubble_sort(sample_array1)\n",
    "print(sample_array1)\n",
    "bubble_sort(sample_array2)\n",
    "print(sample_array2)"
   ]
  }
 ],
 "metadata": {
  "kernelspec": {
   "display_name": "Python 3",
   "language": "python",
   "name": "python3"
  },
  "language_info": {
   "codemirror_mode": {
    "name": "ipython",
    "version": 3
   },
   "file_extension": ".py",
   "mimetype": "text/x-python",
   "name": "python",
   "nbconvert_exporter": "python",
   "pygments_lexer": "ipython3",
   "version": "3.8.8"
  }
 },
 "nbformat": 4,
 "nbformat_minor": 5
}
