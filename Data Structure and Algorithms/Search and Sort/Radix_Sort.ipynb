{
 "cells": [
  {
   "cell_type": "markdown",
   "id": "a57eeb8b",
   "metadata": {},
   "source": [
    "# Radix Sort\n",
    "\n",
    "The Radix Sort Algorithm <br><br>\n",
    "\n",
    "Do the following for each digit i where i varies from the least significant digit to the most significant digit. <br>\n",
    "\n",
    "-> Sort input array using counting sort (or any stable sort) according to the i\\’th digit. "
   ]
  },
  {
   "cell_type": "code",
   "execution_count": 1,
   "id": "88125e7a",
   "metadata": {},
   "outputs": [],
   "source": [
    "# get number of digits in largest item\n",
    "def get_num_digits(seq):\n",
    "    m = 0\n",
    "    for item in seq:\n",
    "        m = max(m, item)\n",
    "    return len(str(m))"
   ]
  },
  {
   "cell_type": "code",
   "execution_count": 2,
   "id": "a80c3199",
   "metadata": {},
   "outputs": [],
   "source": [
    "# flatten into a 1D List\n",
    "from functools import reduce\n",
    "def flatten(seq):\n",
    "    return reduce(lambda x, y: x + y, seq)"
   ]
  },
  {
   "cell_type": "code",
   "execution_count": 3,
   "id": "5691282e",
   "metadata": {},
   "outputs": [],
   "source": [
    "def radix_sort(sequence):\n",
    "    num_digits = get_num_digits(sequence)\n",
    "    for digit in range(0, num_digits):\n",
    "        B = [[] for i in range(10)]\n",
    "        for element in sequence:\n",
    "            # num is the bucket number that the item will be put into\n",
    "            num = element // 10 ** (digit) % 10\n",
    "            B[num].append(element)\n",
    "        sequence = flatten(B)\n",
    "    return sequence"
   ]
  },
  {
   "cell_type": "code",
   "execution_count": 4,
   "id": "826c6dff",
   "metadata": {},
   "outputs": [
    {
     "name": "stdout",
     "output_type": "stream",
     "text": [
      "Array before sorting : [32, 1, 34, 565, 34, 1, 436, 564, 213, 6]\n",
      "Array after sorting : [1, 1, 6, 32, 34, 34, 213, 436, 564, 565]\n"
     ]
    }
   ],
   "source": [
    "## Test:\n",
    "\n",
    "sample_array = [32,1,34,565,34,1,436,564,213,6]\n",
    "\n",
    "print('Array before sorting :', sample_array)\n",
    "\n",
    "sample_array = radix_sort(sample_array)\n",
    "\n",
    "print('Array after sorting :', sample_array)"
   ]
  }
 ],
 "metadata": {
  "kernelspec": {
   "display_name": "Python 3",
   "language": "python",
   "name": "python3"
  },
  "language_info": {
   "codemirror_mode": {
    "name": "ipython",
    "version": 3
   },
   "file_extension": ".py",
   "mimetype": "text/x-python",
   "name": "python",
   "nbconvert_exporter": "python",
   "pygments_lexer": "ipython3",
   "version": "3.8.8"
  }
 },
 "nbformat": 4,
 "nbformat_minor": 5
}
