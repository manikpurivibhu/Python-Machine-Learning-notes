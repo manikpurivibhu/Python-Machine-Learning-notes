{
 "cells": [
  {
   "cell_type": "markdown",
   "id": "ed537a19",
   "metadata": {},
   "source": [
    "# Binary Search"
   ]
  },
  {
   "cell_type": "markdown",
   "id": "e43f3dc8",
   "metadata": {},
   "source": [
    "Given a sorted array arr[] of n elements, write a function to search a given element x in arr[].<br><br>\n",
    "A simple approach is to do a <b>linear search</b>.<br> The time complexity of the above algorithm is <b>O(n)</b>.<br><br>\n",
    "Another approach to perform the same task is using Binary Search. <br>\n",
    "<b>Binary Search</b>: Search a sorted array by repeatedly dividing the search interval in half. <br>Begin with an interval covering the whole array. <br>\n",
    "If the value of the search key is less than the item in the middle of the interval, narrow the interval to the lower half. <br>\n",
    "Otherwise, narrow it to the upper half. <br>\n",
    "Repeatedly check until the value is found or the interval is empty.<br>\n",
    "The time complexity of the above algorithm is <b>O(log n)"
   ]
  },
  {
   "cell_type": "markdown",
   "id": "5d1027f6",
   "metadata": {},
   "source": [
    " "
   ]
  },
  {
   "cell_type": "code",
   "execution_count": null,
   "id": "c7c8b2dc",
   "metadata": {},
   "outputs": [],
   "source": [
    "sample_array = [21, 23, 32, 35, 43, 123, 321, 431, 533, 1231, 3434, 4554, 7789]\n",
    "sample_array"
   ]
  },
  {
   "cell_type": "markdown",
   "id": "f66de5df",
   "metadata": {},
   "source": [
    " "
   ]
  },
  {
   "cell_type": "markdown",
   "id": "9ac4bf99",
   "metadata": {},
   "source": [
    "## Iterative Implementation"
   ]
  },
  {
   "cell_type": "code",
   "execution_count": null,
   "id": "3e19fd11",
   "metadata": {},
   "outputs": [],
   "source": [
    "def Linear_Search(numbers_list, num_to_be_searched):\n",
    "    for index, number in enumerate(numbers_list):\n",
    "        if number == num_to_be_searched:\n",
    "            print(num_to_be_searched, 'found in array at index', index)\n",
    "            return index\n",
    "    return -1"
   ]
  },
  {
   "cell_type": "code",
   "execution_count": null,
   "id": "fdc11405",
   "metadata": {},
   "outputs": [],
   "source": [
    "#Test:\n",
    "\n",
    "num_to_be_searched = 1231\n",
    "Linear_Search(sample_array, num_to_be_searched)"
   ]
  },
  {
   "cell_type": "markdown",
   "id": "92c29459",
   "metadata": {},
   "source": [
    " "
   ]
  },
  {
   "cell_type": "markdown",
   "id": "7350d200",
   "metadata": {},
   "source": [
    "## Recursive Implemetation"
   ]
  },
  {
   "cell_type": "code",
   "execution_count": null,
   "id": "2577a747",
   "metadata": {},
   "outputs": [],
   "source": [
    "def Binary_Search(numbers_list, num_to_be_searched):\n",
    "    left_index = 0\n",
    "    right_index = len(numbers_list)-1\n",
    "    mid_index = 0\n",
    "    \n",
    "    while left_index <= right_index:\n",
    "        mid_index = (left_index + right_index) // 2\n",
    "        mid_num = numbers_list[mid_index]\n",
    "        \n",
    "        if mid_num == num_to_be_searched:\n",
    "            return mid_index\n",
    "        \n",
    "        if mid_num > num_to_be_searched:\n",
    "            right_index = mid_index-1\n",
    "            \n",
    "        else:\n",
    "            left_index = mid_index+1\n",
    "            \n",
    "    return -1    \n",
    "    "
   ]
  },
  {
   "cell_type": "code",
   "execution_count": null,
   "id": "0e61b2de",
   "metadata": {},
   "outputs": [],
   "source": [
    "#Test:\n",
    "\n",
    "num_to_be_seached = 23\n",
    "Binary_Search(sample_array, num_to_be_seached)"
   ]
  },
  {
   "cell_type": "markdown",
   "id": "bb4a79ee",
   "metadata": {},
   "source": [
    " "
   ]
  },
  {
   "cell_type": "code",
   "execution_count": null,
   "id": "9b68d504",
   "metadata": {},
   "outputs": [],
   "source": [
    "def Binary_Search_Recursive(numbers_list, num_to_be_searched, left_index, right_index):\n",
    "    \n",
    "    if right_index < left_index:\n",
    "        return -1\n",
    "\n",
    "    mid_index = (left_index + right_index) // 2\n",
    "    if mid_index >= len(numbers_list) or mid_index < 0:\n",
    "        return -1\n",
    "    \n",
    "    mid_num = numbers_list[mid_index]\n",
    "    \n",
    "    if mid_num == num_to_be_searched:\n",
    "        return mid_index\n",
    "    \n",
    "    if mid_num < num_to_be_searched:\n",
    "        left_index = mid_index + 1\n",
    "        \n",
    "    else:\n",
    "        right_index = mid_index - 1\n",
    "        \n",
    "    return Binary_Search_Recursive(numbers_list, num_to_be_searched, left_index, right_index)"
   ]
  },
  {
   "cell_type": "code",
   "execution_count": null,
   "id": "06c8314b",
   "metadata": {},
   "outputs": [],
   "source": [
    "#Test:\n",
    "\n",
    "num_to_be_searched = 1231\n",
    "left_index = 0\n",
    "right_index = len(sample_array)-1\n",
    "Binary_Search_Recursive(sample_array, num_to_be_searched, left_index, right_index)"
   ]
  }
 ],
 "metadata": {
  "kernelspec": {
   "display_name": "Python 3",
   "language": "python",
   "name": "python3"
  },
  "language_info": {
   "codemirror_mode": {
    "name": "ipython",
    "version": 3
   },
   "file_extension": ".py",
   "mimetype": "text/x-python",
   "name": "python",
   "nbconvert_exporter": "python",
   "pygments_lexer": "ipython3",
   "version": "3.8.8"
  }
 },
 "nbformat": 4,
 "nbformat_minor": 5
}
