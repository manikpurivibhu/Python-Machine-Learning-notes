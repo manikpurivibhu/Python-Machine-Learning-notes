{
 "cells": [
  {
   "cell_type": "markdown",
   "metadata": {},
   "source": [
    "# Linked List"
   ]
  },
  {
   "cell_type": "markdown",
   "metadata": {},
   "source": [
    "Doubly Linked List"
   ]
  },
  {
   "cell_type": "markdown",
   "metadata": {},
   "source": [
    "## Node\n",
    "\n",
    "create class to represent <b>Node</b><br>\n",
    "This class has 3 instance variables, 1 for storing the LinkedList element and the others for storing the reference of the next node and the previous node<br>\n",
    "  <br>"
   ]
  },
  {
   "cell_type": "code",
   "execution_count": 37,
   "metadata": {},
   "outputs": [],
   "source": [
    "\"\"\"\n",
    "Object for storing a single node of a Linked List\n",
    "\"\"\"\n",
    "\n",
    "\n",
    "class Node:\n",
    "    \n",
    "    def __init__(self, data):\n",
    "        self.data = data\n",
    "        self.nref = None\n",
    "        self.pref = None\n",
    "        \n",
    "    def __repr__(self):\n",
    "        return \"Node contains data: {}\".format(self.data)"
   ]
  },
  {
   "cell_type": "markdown",
   "metadata": {},
   "source": [
    "\n",
    "\n",
    "## Doubly Linked List\n",
    "\n",
    "Doubly Linked List models a collection of Nodes. <br>\n",
    "The Node objects have refernce for the next as well as the previous node.<br><br>\n",
    "create <b>Doubly Linked List</b> using node obj and connect each node using node attributes for next and previous reference<br>\n"
   ]
  },
  {
   "cell_type": "code",
   "execution_count": 38,
   "metadata": {},
   "outputs": [],
   "source": [
    "class DoublyLinkedList:\n",
    "    \n",
    "    \n",
    "    def __init__(self):\n",
    "        self.head = None\n",
    "     \n",
    "    \n",
    "    def is_empty(self):\n",
    "        '''\n",
    "        prints if Linked List is empty\n",
    "        '''\n",
    "        if self.head == None:  print(\"Linked List is empty\")\n",
    "        else:                  print(\"Linked List is not empty\")\n",
    "        \n",
    "        \n",
    "    def size(self):\n",
    "        '''\n",
    "        returns the number of Nodes In Linked List\n",
    "        takes O(n) time\n",
    "        '''\n",
    "        count = 0\n",
    "        current = self.head\n",
    "        while (current != None):\n",
    "            count += 1\n",
    "            current = current.nref\n",
    "        #print(\"Linked List has {} Nodes\".format(count))\n",
    "        return count\n",
    "    \n",
    "    \n",
    "    def add(self, data):\n",
    "        '''\n",
    "        Adds new Node containg data at head of the list\n",
    "        takes O(1) time\n",
    "        '''\n",
    "        new = Node(data)\n",
    "        if self.head == None:\n",
    "            self.head = new\n",
    "        else:\n",
    "            new.nref       = self.head\n",
    "            self.head.pref = new\n",
    "            self.head = new\n",
    "        #return new.data\n",
    "    \n",
    "    \n",
    "    def view(self, index = None):\n",
    "        \n",
    "        '''\n",
    "        displays the first nodes containing data or list passsed as argument\n",
    "        returns the node if found\n",
    "        \n",
    "        takes O(n^2) time \n",
    "        '''\n",
    "        current = self.head\n",
    "        size = self.size()\n",
    "        \n",
    "        if index != None:\n",
    "            \n",
    "            #if a list of indices is passed\n",
    "            if type(index) == list:\n",
    "                for i in index:\n",
    "                    \n",
    "                    sanity_check = False\n",
    "                    if i < 0:\n",
    "                        return \"index starts at 0\"\n",
    "                    \n",
    "                    count = 0 \n",
    "                    current = self.head\n",
    "                    while current:\n",
    "                        if i == count:\n",
    "                            print(\"Node at Index\", count, \":\", current.data)\n",
    "                            sanity_check = True\n",
    "                            break\n",
    "                        current = current.nref\n",
    "                        count += 1\n",
    "                    \n",
    "                    if sanity_check == False:\n",
    "                        print(\"Node at Index \" + str(i) + \": Linked List has \" + str(size) + \" Nodes. Enter a valid Index for searching\")\n",
    "                    \n",
    "        \n",
    "            #if only an index is passed\n",
    "            else:\n",
    "                count = 0 \n",
    "                \n",
    "                if index <0:\n",
    "                    return \"index starts at 0\"\n",
    "                \n",
    "                current = self.head\n",
    "                while current:\n",
    "                    if index == count:\n",
    "                        print(\"Node at Index\", count, \":\", current.data)\n",
    "                        return current.data\n",
    "                    current = current.nref\n",
    "                    count += 1\n",
    "        \n",
    "\n",
    "    \n",
    "    def insert(self, data, before = None, after = None, index = None):\n",
    "        \n",
    "        \n",
    "        if before != None and after != None:\n",
    "            print(\"Can not enter both the Previous and Next node\")\n",
    "            return\n",
    "            \n",
    "        elif before != None:\n",
    "            \n",
    "            new_node = Node(data)\n",
    "            prev = before\n",
    "            current = self.head\n",
    "            while current:\n",
    "                if current.data == prev:\n",
    "                    prev_node = current.pref\n",
    "                    prev_node.nref = new_node\n",
    "                    new_node.pref = prev_node\n",
    "                    current.pref = new_node\n",
    "                    new_node.nref = current\n",
    "                    \n",
    "                current = current.nref\n",
    "            return\n",
    "        \n",
    "        elif after != None:\n",
    "            \n",
    "            new_node = Node(data)\n",
    "            nxt = after\n",
    "            current = self.head\n",
    "            while current:\n",
    "                if current.data == nxt:\n",
    "                    next_node      = current.nref                           #need to put node between current and next_node\n",
    "                    current.nref   = new_node\n",
    "                    new_node.pref  = current\n",
    "                    next_node.pref = new_node\n",
    "                    new_node.nref  = next_node\n",
    "                    \n",
    "                current = current.nref  \n",
    "            return  \n",
    "                \n",
    "        elif index !=  None:\n",
    "            \n",
    "            if (index < 0):\n",
    "                return 'Index starts at 0'\n",
    "            \n",
    "            count = 0 \n",
    "            current = self.head\n",
    "            new_node = Node(data)\n",
    "            while current:\n",
    "                if count == index:\n",
    "                    prev = current.pref \n",
    "                    prev.nref = new_node\n",
    "                    new_node.pref = prev\n",
    "                    new_node.nref = current\n",
    "                    current.pref  = new_node\n",
    "                    \n",
    "                    return\n",
    "                \n",
    "                current = current.nref\n",
    "                count  += 1\n",
    "            \n",
    "       \n",
    "        else: self.add(data)\n",
    "\n",
    "     \n",
    "    def search(self, data):\n",
    "        \n",
    "        '''\n",
    "        searches for the first nodes containing data or list passsed as argument\n",
    "        returns the index of node if found\n",
    "        \n",
    "        takes O(n^2) time \n",
    "        '''\n",
    "        \n",
    "        if type(data) == list:\n",
    "            lst = data\n",
    "            for i in lst:\n",
    "                current = self.head\n",
    "                count = 0\n",
    "                validation_var = False\n",
    "                \n",
    "                while current: \n",
    "                    count += 1\n",
    "                    if current.data == i:\n",
    "                        print('Data \\''+ str(i)+ '\\' found at index', count)\n",
    "                        validation_var= True\n",
    "                    \n",
    "                    current = current.nref\n",
    "                \n",
    "                if validation_var != True:\n",
    "                    print('Data \\''+ str(i)+ '\\' is not in Linked List')\n",
    "                \n",
    "        \n",
    "        else:\n",
    "            current = self.head\n",
    "            element = data\n",
    "            count = 0\n",
    "            \n",
    "            #while (current.nref != None):\n",
    "            while current: \n",
    "                if current.data == element:\n",
    "                    print('Data \\''+ str(element)+ '\\' found at index', count)\n",
    "                    return count\n",
    "                current = current.nref\n",
    "                count += 1\n",
    "            print(str(element) + \" not in Linked List\")\n",
    "            return\n",
    "    \n",
    "    ##Function to delete nodes:\n",
    "    ##containing passed data\n",
    "    ##in passed index\n",
    "    \n",
    "    def delete(self, data = None, index = None):\n",
    "        '''\n",
    "        deletes 1st node that occurs containing passed value\n",
    "        OR\n",
    "        deletes node at passed index\n",
    "        Takes O(n) time\n",
    "        '''\n",
    "        if(data == None and index == None):\n",
    "            print(\"Need either data to delete it's first occurence or index of node in Linked List\")\n",
    "            return\n",
    "        \n",
    "        \n",
    "        if index != None:                                              #Deleting Node at said index\n",
    "            if index < 0:\n",
    "                print('Index starts at 0')\n",
    "                return\n",
    "            if index > self.size():\n",
    "                print('Index is out of range')\n",
    "                return\n",
    "            current = self.head\n",
    "            count = 0\n",
    "            while current :\n",
    "                if count == index:\n",
    "                    prev = current.pref\n",
    "                    nxt  = current.nref\n",
    "                    prev.nref = nxt\n",
    "                    nxt.pref  = prev\n",
    "                    return\n",
    "                current = current.nref\n",
    "                count  += 1\n",
    "        \n",
    "        \n",
    "        if data != None:\n",
    "            node_data = data\n",
    "            current = self.head\n",
    "            exist = False\n",
    "            while current:\n",
    "                if current.data == node_data:\n",
    "                    \n",
    "                    if current == self.head:\n",
    "                        nxt = current.nref\n",
    "                        nxt.pref = None\n",
    "                        self.head = nxt \n",
    "                        exist = True\n",
    "                        return\n",
    "                    elif current.nref == None:\n",
    "                        prev = current.pref\n",
    "                        prev.nref = None\n",
    "                        exist = True\n",
    "                        return\n",
    "                    else:\n",
    "                        prev = current.pref\n",
    "                        nxt  = current.nref\n",
    "                        prev.nref = nxt\n",
    "                        nxt.pref  = prev\n",
    "                        exist = True\n",
    "                    return\n",
    "                    \n",
    "                current = current.nref\n",
    "\n",
    "            if exist == False:\n",
    "                print(data, 'does not exist in Linked List')\n",
    "        \n",
    "        \n",
    "    def list_to_LL(self, lst, index):\n",
    "        '''\n",
    "        add elements of List as Nodes in Linked List at said index\n",
    "        Takes O(n) time\n",
    "        '''\n",
    "        \n",
    "        current = self.head\n",
    "        if current == None:\n",
    "            for i in lst:\n",
    "                self.add(Node(i))\n",
    "                \n",
    "        else:\n",
    "            count = 0\n",
    "            while current:\n",
    "                \n",
    "                if count == index:\n",
    "                    for el in lst:\n",
    "                        self.insert(el,index = count)\n",
    "                            \n",
    "                current = current.nref\n",
    "                count  += 1\n",
    "   \n",
    "    \n",
    "    def __repr__(self):\n",
    "        '''\n",
    "        return a str representation of the LL\n",
    "        takes O(n) time\n",
    "        '''\n",
    "        nodes = []\n",
    "        current = self.head\n",
    "        \n",
    "        while current:                                   #equiv to while current!= None\n",
    "            if current is self.head:                     #i.e. current is at head\n",
    "                nodes.append(\"[Head: %s]\" % current.data)\n",
    "            elif current.nref is None:                   #i.e. current is at tail\n",
    "                nodes.append(\"[Tail: %s]\" % current.data)\n",
    "            else:                                        #i.e. current is at any node other than head or tail\n",
    "                nodes.append(\"[%s]\" % current.data)\n",
    "                \n",
    "            current = current.nref\n",
    "            \n",
    "        return '->'.join(nodes)\n",
    "    "
   ]
  },
  {
   "cell_type": "code",
   "execution_count": 39,
   "metadata": {},
   "outputs": [
    {
     "name": "stdout",
     "output_type": "stream",
     "text": [
      "[Head: 6]->[5]->[4]->[3]->[2]->[1]->[Tail: 0]\n"
     ]
    }
   ],
   "source": [
    "l = DoublyLinkedList()\n",
    "l2 = DoublyLinkedList()\n",
    "l.add(0)\n",
    "l.add(1)\n",
    "l.add(2)\n",
    "l.add(3)\n",
    "l.add(4)\n",
    "l.add(5)\n",
    "l.add(6)\n",
    "\n",
    "print(l)\n"
   ]
  },
  {
   "cell_type": "code",
   "execution_count": 40,
   "metadata": {},
   "outputs": [
    {
     "data": {
      "text/plain": [
       "'[Head: 6]->[5]->[4]->[3]->[2]->[1]->[Tail: 0]'"
      ]
     },
     "execution_count": 40,
     "metadata": {},
     "output_type": "execute_result"
    }
   ],
   "source": [
    "l.__repr__()"
   ]
  },
  {
   "cell_type": "code",
   "execution_count": 41,
   "metadata": {},
   "outputs": [
    {
     "data": {
      "text/plain": [
       "[Head: 6]->[5]->[4]->[16]->[15]->[14]->[13]->[12]->[11]->[10]->[3]->[2]->[1]->[Tail: 0]"
      ]
     },
     "execution_count": 41,
     "metadata": {},
     "output_type": "execute_result"
    }
   ],
   "source": [
    "s = [10,11,12,13,14,15,16]\n",
    "l.list_to_LL(s, index = 3)\n",
    "l"
   ]
  },
  {
   "cell_type": "markdown",
   "metadata": {},
   "source": [
    " "
   ]
  },
  {
   "cell_type": "markdown",
   "metadata": {},
   "source": [
    "## Alternate Implementation\n",
    "\n",
    "(for practice)<br>\n",
    "for revision/reference, refer above implementation<br>\n",
    "How to reverse a Linked List is mentioned in below implementation"
   ]
  },
  {
   "cell_type": "code",
   "execution_count": 42,
   "metadata": {},
   "outputs": [],
   "source": [
    "class Node:\n",
    "    def __init__(self, data):\n",
    "        self.data = data \n",
    "        self.nref = None\n",
    "        self.pref = None\n",
    "        \n",
    "    def __repr__(self):\n",
    "        return 'Node data: {}'.format(self.data)"
   ]
  },
  {
   "cell_type": "code",
   "execution_count": 43,
   "metadata": {},
   "outputs": [],
   "source": [
    "class DoublyLinkedList:\n",
    "    '''implement Doubly Linked List'''\n",
    "    \n",
    "    def __init__(self):\n",
    "        self.head = None\n",
    "        \n",
    "    \n",
    "    def is_empty(self):\n",
    "        '''return True/False if Doubly Linked List is empty'''\n",
    "        return self.head == None\n",
    "    \n",
    "    \n",
    "    def size(self):\n",
    "        '''return number of elements in Doubly Linked List'''\n",
    "        \n",
    "        current = self.head\n",
    "        #if Doubly Linked List is empty, return 0\n",
    "        if current == None:\n",
    "            return 0\n",
    "        \n",
    "        count = 0\n",
    "        #while current is not None\n",
    "        while current:\n",
    "            count += 1\n",
    "            current = current.nref\n",
    "        return count\n",
    "    \n",
    "    \n",
    "    def display(self, index=None):\n",
    "        '''return element at index if specified, all elements in Doubly Linked List if not'''\n",
    "        \n",
    "        size = self.size()\n",
    "        \n",
    "        #for specified index in Doubly Linked List\n",
    "        if index != None:\n",
    "            if index < 0 or index >= size:\n",
    "                raise Exception('Invalid Index')\n",
    "            elif index == 0:\n",
    "                return self.head.data\n",
    "            else:\n",
    "                idx = 0\n",
    "                current = self.head\n",
    "                while current:\n",
    "                    if idx == index:\n",
    "                        return current.data\n",
    "                    else:\n",
    "                        idx += 1\n",
    "                        current = current.nref\n",
    "        \n",
    "        #all Nodes in Doubly Linked List\n",
    "        else:\n",
    "            s = ''\n",
    "            current = self.head\n",
    "            while current : \n",
    "                s += str(current.data) + '-->'\n",
    "                current = current.nref\n",
    "            return s\n",
    "                \n",
    "                \n",
    "    def search_key(self, key):\n",
    "        '''return key if it exists in Doubly Linked List, -1 otherwise'''\n",
    "        current = self.head\n",
    "        idx = 0\n",
    "        found = False\n",
    "        while current:\n",
    "            if current.data == key and not found:\n",
    "                found = True\n",
    "                return idx\n",
    "            else:\n",
    "                idx += 1\n",
    "                current = current.nref\n",
    "        if not found:\n",
    "            return -1\n",
    "        \n",
    "    \n",
    "    def add(self, data):\n",
    "        '''insert Node at the beginning of Doubly Linked List'''\n",
    "        \n",
    "        node = Node(data)\n",
    "        \n",
    "        #if Doubly Linked List is empty\n",
    "        if self.head == None:\n",
    "            node.nref = self.head\n",
    "            self.head = node\n",
    "            \n",
    "        else:\n",
    "            node.nref = self.head\n",
    "            self.head.pref = node\n",
    "            self.head = node\n",
    "            \n",
    "        \n",
    "    def insert(self, data, index=None):\n",
    "        '''insert Node at index if specified, at the end of Doubly Linked List if not'''\n",
    "        \n",
    "        size = self.size()\n",
    "        \n",
    "        #if index is specified\n",
    "        if index != None:\n",
    "            if index < 0  or index > size:\n",
    "                raise Exception('Invalid Index')\n",
    "                \n",
    "            #if index is 0 i.e. insert at beginning    \n",
    "            elif index == 0:\n",
    "                self.add(data)\n",
    "                \n",
    "            #insert at end\n",
    "            elif index == size:\n",
    "                current = self.head\n",
    "                node = Node(data)\n",
    "                current = self.head\n",
    "                while current.nref:\n",
    "                    current = current.nref\n",
    "                current.nref = node\n",
    "                node.pref    = current\n",
    "                \n",
    "            #insert at specified index which will be between 2 nodes\n",
    "            else:\n",
    "                idx = 0\n",
    "                node = Node(data)\n",
    "                while current:\n",
    "                    if idx == index:\n",
    "                        node.nref = current.nref\n",
    "                        node.pref = current\n",
    "                        current.nref.pref = node\n",
    "                        current.nref = node\n",
    "                        break\n",
    "                    else:\n",
    "                        idx += 1\n",
    "                        current = current.nref\n",
    "        \n",
    "        #if index is not specfied, insert Node at the end of Doubly Linked List\n",
    "        else:\n",
    "            node = Node(data)\n",
    "            current = self.head\n",
    "            while current.nref:\n",
    "                current = current.nref\n",
    "            #current now points to the last element in the Doubly Linked List\n",
    "            current.nref = node\n",
    "            node.pref = current\n",
    "    \n",
    "    \n",
    "    def remove(self, index=None, key=None):\n",
    "        '''remove Node at specified index or containing passed key\n",
    "           either of the arguments need to be not None\n",
    "           only 1 argument can be not None'''\n",
    "        \n",
    "        if self.head == None:\n",
    "            raise Exception('Doubly Linked List already empty')\n",
    "            \n",
    "        if (index!=None and key!=None) or (index==None and key==None):\n",
    "            raise Exception('either key or index need to be not None')\n",
    "        \n",
    "        #remove Node at index from Doubly Linked List\n",
    "        if index != None:\n",
    "            size = self.size()\n",
    "            \n",
    "            if index<0 or index>=size:\n",
    "                raise Exception('Invalid Index')\n",
    "            elif index == 0:\n",
    "                #self.head.nref = 2nd Node\n",
    "                self.head.nref.pref = None\n",
    "                self.head = self.head.nref\n",
    "            \n",
    "            else:\n",
    "                idx = 0\n",
    "                current = self.head\n",
    "                while current.nref:\n",
    "                    if idx == index:\n",
    "                        if index == idx == size-1:\n",
    "                            current.nref = node\n",
    "                            node.pref = current\n",
    "                            break\n",
    "                        else:\n",
    "                            current.pref.nref = current.nref\n",
    "                            current.nref.pref = current.pref\n",
    "                            break\n",
    "                    else:\n",
    "                        idx += 1\n",
    "                        current = current.nref\n",
    "        \n",
    "        #remove first occurenece of key from Doubly Linked List\n",
    "        else:\n",
    "            current = self.head\n",
    "            found = False\n",
    "            while current:\n",
    "                if current.data == key:\n",
    "                    current.pref.nref = current.nref\n",
    "                    #if current is last Node, we do not need to link back current.nref.pref or 'None' to current.pref\n",
    "                    if current.nref != None:\n",
    "                        current.nref.pref = current.pref\n",
    "                    found = True\n",
    "                    break\n",
    "                current = current.nref\n",
    "            if not found:\n",
    "                raise Exception('{} not in Doubly Linked List'.format(str(key)))\n",
    "                    \n",
    "            \n",
    "            \n",
    "    def insert_ref(self, data, before=None, after=None):\n",
    "        '''implement insert_before_key() and insert_after_key()'''\n",
    "        \n",
    "        if (before != None and after != None) or (before == None and after == None):\n",
    "            raise Exception('Invalid Parameters')\n",
    "        \n",
    "        \n",
    "        elif before != None:\n",
    "            key = before\n",
    "            \n",
    "            if self.head.data == key:\n",
    "                node = Node(data)\n",
    "                node.nref = self.head\n",
    "                self.head.pref = node\n",
    "                self.head = node\n",
    "                \n",
    "            else:\n",
    "                current = self.head\n",
    "                found = False\n",
    "                while current:\n",
    "                    if current.data == key:\n",
    "                        node = Node(data)\n",
    "                        node.nref = current\n",
    "                        node.pref = current.pref\n",
    "                        current.pref.nref = node\n",
    "                        current.pref = node\n",
    "                        found = True\n",
    "                        break\n",
    "                    else:\n",
    "                        current = current.nref\n",
    "                if not found:\n",
    "                    return '{} not in Doubly Linked List'.format(str(key))\n",
    "                        \n",
    "                        \n",
    "        else:\n",
    "            key = after\n",
    "            \n",
    "            if not self.head:\n",
    "                node = Node(data)\n",
    "                node.nref = self.head\n",
    "                node.pref = None\n",
    "                self.head = node\n",
    "                \n",
    "            else:\n",
    "                current = self.head\n",
    "                while current:\n",
    "                    if current.data == key:\n",
    "                        node = Node(data)\n",
    "                        #check if current is last node\n",
    "                        if current.nref == None:\n",
    "                            current.nref = node\n",
    "                            current.nref = current\n",
    "                            node.nref = None\n",
    "                        else:\n",
    "                            node.nref = current.nref\n",
    "                            node.perf = current\n",
    "                            current.nref.pref = node\n",
    "                            current.nref = node\n",
    "                        found = True\n",
    "                        break\n",
    "                    else:\n",
    "                        current = current.nref\n",
    "                if not found:\n",
    "                    return '{} not in Doubly Linked List'.format(str(key))\n",
    "                \n",
    "    \n",
    "    def insert_iterable(self, iterable):\n",
    "        '''insert elements of an iterable into Doubly Linked List'''\n",
    "        \n",
    "        for iter_ in iterable:\n",
    "            self.insert(iter_)\n",
    "            \n",
    "            \n",
    "    def backward_traversal(self):\n",
    "        '''backward traverse Doubly Linked List using \\'.pref\\' attribute'''\n",
    "        \n",
    "        current = self.head\n",
    "        while current.nref:\n",
    "            current = current.nref\n",
    "        #now current is at last Node\n",
    "        \n",
    "        s = ''\n",
    "        while current.pref:\n",
    "            s += str(current.data) + '<--'\n",
    "            current = current.pref\n",
    "        \n",
    "        return s\n",
    "       \n",
    "    \n",
    "    def flush_all(self):\n",
    "        '''remove all elements from Doubly Linked List'''\n",
    "        while (self.head != None):\n",
    "            temp = self.head\n",
    "            self.head = self.head.nref\n",
    "            temp = None\n",
    "            \n",
    "            \n",
    "    def reverse(self):\n",
    "        '''\n",
    "        REVERSE LINKED LIST\n",
    "        '''\n",
    "        \n",
    "        temp = None\n",
    "        current = self.head\n",
    "        while current:\n",
    "            temp = current.pref\n",
    "            current.pref = current.nref\n",
    "            current.nref = temp\n",
    "            current = current.pref\n",
    "        \n",
    "        if temp is not None:\n",
    "            self.head = temp.pref"
   ]
  },
  {
   "cell_type": "code",
   "execution_count": 44,
   "metadata": {},
   "outputs": [],
   "source": [
    "dll = DoublyLinkedList()"
   ]
  },
  {
   "cell_type": "code",
   "execution_count": 45,
   "metadata": {},
   "outputs": [
    {
     "data": {
      "text/plain": [
       "True"
      ]
     },
     "execution_count": 45,
     "metadata": {},
     "output_type": "execute_result"
    }
   ],
   "source": [
    "dll.is_empty()"
   ]
  },
  {
   "cell_type": "code",
   "execution_count": 46,
   "metadata": {},
   "outputs": [],
   "source": [
    "dll.add(0)"
   ]
  },
  {
   "cell_type": "code",
   "execution_count": 47,
   "metadata": {},
   "outputs": [
    {
     "data": {
      "text/plain": [
       "'0-->'"
      ]
     },
     "execution_count": 47,
     "metadata": {},
     "output_type": "execute_result"
    }
   ],
   "source": [
    "dll.display()"
   ]
  },
  {
   "cell_type": "code",
   "execution_count": 48,
   "metadata": {},
   "outputs": [],
   "source": [
    "dll.add(1)"
   ]
  },
  {
   "cell_type": "code",
   "execution_count": 49,
   "metadata": {},
   "outputs": [
    {
     "data": {
      "text/plain": [
       "'1-->0-->'"
      ]
     },
     "execution_count": 49,
     "metadata": {},
     "output_type": "execute_result"
    }
   ],
   "source": [
    "dll.display()"
   ]
  },
  {
   "cell_type": "code",
   "execution_count": 50,
   "metadata": {},
   "outputs": [
    {
     "name": "stdout",
     "output_type": "stream",
     "text": [
      "2\n"
     ]
    }
   ],
   "source": [
    "print(dll.size())"
   ]
  },
  {
   "cell_type": "code",
   "execution_count": 51,
   "metadata": {},
   "outputs": [],
   "source": [
    "dll.insert('end_via_index', index=2)"
   ]
  },
  {
   "cell_type": "code",
   "execution_count": 52,
   "metadata": {},
   "outputs": [
    {
     "data": {
      "text/plain": [
       "'1-->0-->end_via_index-->'"
      ]
     },
     "execution_count": 52,
     "metadata": {},
     "output_type": "execute_result"
    }
   ],
   "source": [
    "dll.display()"
   ]
  },
  {
   "cell_type": "code",
   "execution_count": 53,
   "metadata": {},
   "outputs": [
    {
     "data": {
      "text/plain": [
       "'1-->0-->end_via_index-->insert_at_end-->'"
      ]
     },
     "execution_count": 53,
     "metadata": {},
     "output_type": "execute_result"
    }
   ],
   "source": [
    "dll.insert('insert_at_end')\n",
    "dll.display()"
   ]
  },
  {
   "cell_type": "code",
   "execution_count": 54,
   "metadata": {},
   "outputs": [
    {
     "data": {
      "text/plain": [
       "3"
      ]
     },
     "execution_count": 54,
     "metadata": {},
     "output_type": "execute_result"
    }
   ],
   "source": [
    "dll.search_key('insert_at_end')"
   ]
  },
  {
   "cell_type": "code",
   "execution_count": 55,
   "metadata": {},
   "outputs": [],
   "source": [
    "#this will raise Exception\n",
    "#dll.remove()"
   ]
  },
  {
   "cell_type": "code",
   "execution_count": 56,
   "metadata": {},
   "outputs": [],
   "source": [
    "#this will raise Exception\n",
    "#dll.remove(index=10)"
   ]
  },
  {
   "cell_type": "code",
   "execution_count": 57,
   "metadata": {},
   "outputs": [
    {
     "name": "stdout",
     "output_type": "stream",
     "text": [
      "Before removing : 1-->0-->end_via_index-->insert_at_end-->\n",
      "After removing  : 0-->end_via_index-->insert_at_end-->\n"
     ]
    }
   ],
   "source": [
    "print('Before removing :', dll.display())\n",
    "dll.remove(index=0)\n",
    "print('After removing  :', dll.display())"
   ]
  },
  {
   "cell_type": "code",
   "execution_count": 58,
   "metadata": {},
   "outputs": [
    {
     "name": "stdout",
     "output_type": "stream",
     "text": [
      "Before removing : 0-->end_via_index-->insert_at_end-->\n",
      "After removing  : 0-->end_via_index-->\n"
     ]
    }
   ],
   "source": [
    "print('Before removing :', dll.display())\n",
    "dll.remove(key = 'insert_at_end')\n",
    "print('After removing  :', dll.display())"
   ]
  },
  {
   "cell_type": "code",
   "execution_count": 59,
   "metadata": {},
   "outputs": [
    {
     "data": {
      "text/plain": [
       "'0-->end_via_index-->10-->11-->12-->13-->14-->15-->16-->17-->18-->19-->20-->'"
      ]
     },
     "execution_count": 59,
     "metadata": {},
     "output_type": "execute_result"
    }
   ],
   "source": [
    "temp_list = [*range(10, 21)]\n",
    "\n",
    "dll.insert_iterable(temp_list)\n",
    "\n",
    "dll.display()"
   ]
  },
  {
   "cell_type": "code",
   "execution_count": 60,
   "metadata": {},
   "outputs": [
    {
     "data": {
      "text/plain": [
       "'0-->end_via_index-->10-->11-->12-->13-->14-->15-->16-->17-->18-->19-->20-->'"
      ]
     },
     "execution_count": 60,
     "metadata": {},
     "output_type": "execute_result"
    }
   ],
   "source": [
    "dll.display()"
   ]
  },
  {
   "cell_type": "code",
   "execution_count": 61,
   "metadata": {},
   "outputs": [],
   "source": [
    "dll.insert('should_be_at_end')"
   ]
  },
  {
   "cell_type": "code",
   "execution_count": 62,
   "metadata": {},
   "outputs": [
    {
     "data": {
      "text/plain": [
       "'0-->end_via_index-->10-->11-->12-->13-->14-->15-->16-->17-->18-->19-->20-->should_be_at_end-->'"
      ]
     },
     "execution_count": 62,
     "metadata": {},
     "output_type": "execute_result"
    }
   ],
   "source": [
    "dll.display()"
   ]
  },
  {
   "cell_type": "code",
   "execution_count": 63,
   "metadata": {},
   "outputs": [
    {
     "data": {
      "text/plain": [
       "'should_be_at_end<--20<--19<--18<--17<--16<--15<--14<--13<--12<--11<--10<--end_via_index<--'"
      ]
     },
     "execution_count": 63,
     "metadata": {},
     "output_type": "execute_result"
    }
   ],
   "source": [
    "dll.backward_traversal()"
   ]
  },
  {
   "cell_type": "code",
   "execution_count": 64,
   "metadata": {},
   "outputs": [
    {
     "name": "stdout",
     "output_type": "stream",
     "text": [
      "Doubly Linked List elements before flushing: 0-->end_via_index-->10-->11-->12-->13-->14-->15-->16-->17-->18-->19-->20-->should_be_at_end-->\n",
      "Doubly Linked List elements after flushing:  \n"
     ]
    }
   ],
   "source": [
    "print(\"Doubly Linked List elements before flushing:\", dll.display())\n",
    "\n",
    "dll.flush_all()\n",
    "\n",
    "print(\"Doubly Linked List elements after flushing: \", dll.display())"
   ]
  },
  {
   "cell_type": "code",
   "execution_count": 65,
   "metadata": {},
   "outputs": [
    {
     "data": {
      "text/plain": [
       "''"
      ]
     },
     "execution_count": 65,
     "metadata": {},
     "output_type": "execute_result"
    }
   ],
   "source": [
    "dll.display()"
   ]
  },
  {
   "cell_type": "code",
   "execution_count": 66,
   "metadata": {},
   "outputs": [],
   "source": [
    "dll.add(0)"
   ]
  },
  {
   "cell_type": "code",
   "execution_count": 67,
   "metadata": {},
   "outputs": [
    {
     "data": {
      "text/plain": [
       "'0-->10-->11-->12-->13-->14-->15-->16-->17-->18-->19-->20-->'"
      ]
     },
     "execution_count": 67,
     "metadata": {},
     "output_type": "execute_result"
    }
   ],
   "source": [
    "temp_list = [*range(10, 21)]\n",
    "\n",
    "dll.insert_iterable(temp_list)\n",
    "\n",
    "dll.display()"
   ]
  },
  {
   "cell_type": "code",
   "execution_count": 68,
   "metadata": {},
   "outputs": [
    {
     "data": {
      "text/plain": [
       "'0-->insert_before-->10-->11-->12-->13-->14-->15-->16-->17-->18-->19-->20-->'"
      ]
     },
     "execution_count": 68,
     "metadata": {},
     "output_type": "execute_result"
    }
   ],
   "source": [
    "dll.insert_ref('insert_before', before=10)\n",
    "dll.display()"
   ]
  },
  {
   "cell_type": "code",
   "execution_count": 69,
   "metadata": {},
   "outputs": [
    {
     "data": {
      "text/plain": [
       "'0-->insert_before-->10-->11-->12-->13-->14-->15-->16-->17-->insert_after-->18-->19-->20-->'"
      ]
     },
     "execution_count": 69,
     "metadata": {},
     "output_type": "execute_result"
    }
   ],
   "source": [
    "dll.insert_ref('insert_after', after=17)\n",
    "dll.display()"
   ]
  },
  {
   "cell_type": "code",
   "execution_count": 70,
   "metadata": {},
   "outputs": [
    {
     "data": {
      "text/plain": [
       "14"
      ]
     },
     "execution_count": 70,
     "metadata": {},
     "output_type": "execute_result"
    }
   ],
   "source": [
    "dll.size()"
   ]
  },
  {
   "cell_type": "code",
   "execution_count": 71,
   "metadata": {},
   "outputs": [
    {
     "data": {
      "text/plain": [
       "'20-->19-->18-->insert_after-->'"
      ]
     },
     "execution_count": 71,
     "metadata": {},
     "output_type": "execute_result"
    }
   ],
   "source": [
    "dll.reverse()\n",
    "dll.display()"
   ]
  },
  {
   "cell_type": "code",
   "execution_count": 72,
   "metadata": {},
   "outputs": [
    {
     "data": {
      "text/plain": [
       "4"
      ]
     },
     "execution_count": 72,
     "metadata": {},
     "output_type": "execute_result"
    }
   ],
   "source": [
    "dll.size()"
   ]
  },
  {
   "cell_type": "code",
   "execution_count": 73,
   "metadata": {},
   "outputs": [],
   "source": [
    "dll.flush_all()"
   ]
  }
 ],
 "metadata": {
  "kernelspec": {
   "display_name": "Python 3",
   "language": "python",
   "name": "python3"
  },
  "language_info": {
   "codemirror_mode": {
    "name": "ipython",
    "version": 3
   },
   "file_extension": ".py",
   "mimetype": "text/x-python",
   "name": "python",
   "nbconvert_exporter": "python",
   "pygments_lexer": "ipython3",
   "version": "3.8.8"
  }
 },
 "nbformat": 4,
 "nbformat_minor": 4
}
