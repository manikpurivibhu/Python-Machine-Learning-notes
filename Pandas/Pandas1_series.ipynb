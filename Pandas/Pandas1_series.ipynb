{
 "cells": [
  {
   "cell_type": "markdown",
   "metadata": {},
   "source": [
    "# Pandas Series"
   ]
  },
  {
   "cell_type": "markdown",
   "metadata": {},
   "source": [
    "-> 1-D labelled array\n",
    "-> Hold any data type (like col in microsoft excel workbook)\n",
    "-> only 1 obj reqd to address any val in a series \n",
    "-> by default while creating series from list data type, indexing starts from 0\n",
    "-> while creating list from dictionary, the keys become the indices and their subsequent val.s become the data objects\n"
   ]
  },
  {
   "cell_type": "markdown",
   "metadata": {},
   "source": [
    "NOTE: to open documentation from ipynb itself, put type cursor on attribute (ex: s1.sorted) and press shift+tab"
   ]
  },
  {
   "cell_type": "markdown",
   "metadata": {},
   "source": []
  },
  {
   "cell_type": "markdown",
   "metadata": {},
   "source": [
    "# Create Series - I"
   ]
  },
  {
   "cell_type": "code",
   "execution_count": 1,
   "metadata": {},
   "outputs": [],
   "source": [
    "import pandas as pd"
   ]
  },
  {
   "cell_type": "code",
   "execution_count": 2,
   "metadata": {},
   "outputs": [
    {
     "data": {
      "text/plain": [
       "0    2\n",
       "1    1\n",
       "2    4\n",
       "3    3\n",
       "4    6\n",
       "5    5\n",
       "dtype: int64"
      ]
     },
     "execution_count": 2,
     "metadata": {},
     "output_type": "execute_result"
    }
   ],
   "source": [
    "lst = [2,1,4,3,6,5]\n",
    "\n",
    "#pd.Series(para_list)\n",
    "pd.Series(lst)"
   ]
  },
  {
   "cell_type": "code",
   "execution_count": 3,
   "metadata": {},
   "outputs": [
    {
     "data": {
      "text/plain": [
       "0     True\n",
       "1    False\n",
       "2     True\n",
       "3    False\n",
       "dtype: bool"
      ]
     },
     "execution_count": 3,
     "metadata": {},
     "output_type": "execute_result"
    }
   ],
   "source": [
    "lst_bool = [True, False, True, False]\n",
    "pd.Series(lst_bool)\n"
   ]
  },
  {
   "cell_type": "code",
   "execution_count": 9,
   "metadata": {},
   "outputs": [
    {
     "name": "stdout",
     "output_type": "stream",
     "text": [
      "0    String\n",
      "1      True\n",
      "2        69\n",
      "3     69.96\n",
      "dtype: object\n",
      "<class 'pandas.core.series.Series'>\n"
     ]
    }
   ],
   "source": [
    "lst_mix_dtype = ['String', True, 69, 69.96]\n",
    "#creating a series of various dtypes is ossible but not recommended\n",
    "#series are mostly preferred tobe homogeneous in nature \n",
    "#so that you can perform (ex mathematical) functionalities on top of it\n",
    "\n",
    "var = pd.Series(lst_mix_dtype)\n",
    "print(var)\n",
    "print(type(var))"
   ]
  },
  {
   "cell_type": "code",
   "execution_count": 13,
   "metadata": {},
   "outputs": [
    {
     "name": "stdout",
     "output_type": "stream",
     "text": [
      "0    5\n",
      "dtype: int64\n",
      "0    5\n",
      "1    5\n",
      "2    5\n",
      "3    5\n",
      "4    5\n",
      "dtype: int64\n"
     ]
    }
   ],
   "source": [
    "#Constant Series\n",
    "#pd.Series(const_val, index = [indices]) \n",
    "#returns const_val at given/passed indices\n",
    "\n",
    "print(pd.Series(5, index = [0]))   \n",
    "print(pd.Series(5, index = [0,1,2,3,4]))\n"
   ]
  },
  {
   "cell_type": "code",
   "execution_count": 16,
   "metadata": {},
   "outputs": [
    {
     "data": {
      "text/plain": [
       "0     0\n",
       "1    10\n",
       "2    20\n",
       "3    30\n",
       "4    40\n",
       "5    50\n",
       "6    60\n",
       "7    70\n",
       "8    80\n",
       "9    90\n",
       "dtype: int64"
      ]
     },
     "execution_count": 16,
     "metadata": {},
     "output_type": "execute_result"
    }
   ],
   "source": [
    "#Series support List Comprehension\n",
    "\n",
    "pd.Series([num*10 for num in range(10)])"
   ]
  },
  {
   "cell_type": "code",
   "execution_count": 20,
   "metadata": {},
   "outputs": [
    {
     "data": {
      "text/plain": [
       "Bruce    9424151149\n",
       "Clark    7024872912\n",
       "Diana    9691839190\n",
       "dtype: object"
      ]
     },
     "execution_count": 20,
     "metadata": {},
     "output_type": "execute_result"
    }
   ],
   "source": [
    "phonebook = {'Bruce': '9424151149',\n",
    "               'Clark': '7024872912',\n",
    "               'Diana': '9691839190'}\n",
    "\n",
    "pd.Series(phonebook)\n",
    "\n"
   ]
  },
  {
   "cell_type": "code",
   "execution_count": null,
   "metadata": {},
   "outputs": [],
   "source": []
  },
  {
   "cell_type": "markdown",
   "metadata": {},
   "source": [
    "# Create Series II"
   ]
  },
  {
   "cell_type": "markdown",
   "metadata": {},
   "source": [
    "pd.read_csv('filename/file path') to load csv file as DataFrame\n",
    "<br>pd.read_csv('filename/file path', squeeze = True) to load csv fiel in 1 col i.e  as Sers\n",
    "<br>pd.read_csv('filename/file path',header = None/specify, squeeze = True) for choosing on header if csv #file's 1st row is not header\n",
    "<br>pd.read_csv('filename/file path', usecols = ['colname']) for loading data from specified col from multi-ciol csv file"
   ]
  },
  {
   "cell_type": "markdown",
   "metadata": {},
   "source": [
    "pd.read_csv('practice_csv_file_1_col_only.csv')"
   ]
  },
  {
   "cell_type": "code",
   "execution_count": 28,
   "metadata": {},
   "outputs": [
    {
     "data": {
      "text/html": [
       "<div>\n",
       "<style scoped>\n",
       "    .dataframe tbody tr th:only-of-type {\n",
       "        vertical-align: middle;\n",
       "    }\n",
       "\n",
       "    .dataframe tbody tr th {\n",
       "        vertical-align: top;\n",
       "    }\n",
       "\n",
       "    .dataframe thead th {\n",
       "        text-align: right;\n",
       "    }\n",
       "</style>\n",
       "<table border=\"1\" class=\"dataframe\">\n",
       "  <thead>\n",
       "    <tr style=\"text-align: right;\">\n",
       "      <th></th>\n",
       "      <th>0</th>\n",
       "      <th>1</th>\n",
       "    </tr>\n",
       "  </thead>\n",
       "  <tbody>\n",
       "    <tr>\n",
       "      <th>0</th>\n",
       "      <td>header</td>\n",
       "      <td>header</td>\n",
       "    </tr>\n",
       "    <tr>\n",
       "      <th>1</th>\n",
       "      <td>0</td>\n",
       "      <td>zero</td>\n",
       "    </tr>\n",
       "    <tr>\n",
       "      <th>2</th>\n",
       "      <td>1</td>\n",
       "      <td>one</td>\n",
       "    </tr>\n",
       "    <tr>\n",
       "      <th>3</th>\n",
       "      <td>2</td>\n",
       "      <td>two</td>\n",
       "    </tr>\n",
       "    <tr>\n",
       "      <th>4</th>\n",
       "      <td>3</td>\n",
       "      <td>three</td>\n",
       "    </tr>\n",
       "    <tr>\n",
       "      <th>5</th>\n",
       "      <td>4</td>\n",
       "      <td>four</td>\n",
       "    </tr>\n",
       "    <tr>\n",
       "      <th>6</th>\n",
       "      <td>5</td>\n",
       "      <td>five</td>\n",
       "    </tr>\n",
       "    <tr>\n",
       "      <th>7</th>\n",
       "      <td>6</td>\n",
       "      <td>six</td>\n",
       "    </tr>\n",
       "    <tr>\n",
       "      <th>8</th>\n",
       "      <td>7</td>\n",
       "      <td>seven</td>\n",
       "    </tr>\n",
       "    <tr>\n",
       "      <th>9</th>\n",
       "      <td>8</td>\n",
       "      <td>eight</td>\n",
       "    </tr>\n",
       "    <tr>\n",
       "      <th>10</th>\n",
       "      <td>9</td>\n",
       "      <td>nine</td>\n",
       "    </tr>\n",
       "    <tr>\n",
       "      <th>11</th>\n",
       "      <td>10</td>\n",
       "      <td>ten</td>\n",
       "    </tr>\n",
       "  </tbody>\n",
       "</table>\n",
       "</div>"
      ],
      "text/plain": [
       "          0       1\n",
       "0    header  header\n",
       "1         0    zero\n",
       "2         1     one\n",
       "3         2     two\n",
       "4         3   three\n",
       "5         4    four\n",
       "6         5    five\n",
       "7         6     six\n",
       "8         7   seven\n",
       "9         8   eight\n",
       "10        9    nine\n",
       "11       10     ten"
      ]
     },
     "execution_count": 28,
     "metadata": {},
     "output_type": "execute_result"
    }
   ],
   "source": [
    "pd.read_csv('practice_csv_file_1_col_only.csv', header = None)"
   ]
  },
  {
   "cell_type": "code",
   "execution_count": 31,
   "metadata": {},
   "outputs": [
    {
     "data": {
      "text/plain": [
       "pandas.core.frame.DataFrame"
      ]
     },
     "execution_count": 31,
     "metadata": {},
     "output_type": "execute_result"
    }
   ],
   "source": [
    "s = pd.read_csv('sample_csv_file_mult_rows.csv', usecols= ['Industry_code_NZSIOC']).head(10)\n",
    "\n",
    "type(s)\n",
    "#it is a DataFrame bc we didn't squeeze it"
   ]
  },
  {
   "cell_type": "code",
   "execution_count": 33,
   "metadata": {},
   "outputs": [
    {
     "data": {
      "text/plain": [
       "pandas.core.series.Series"
      ]
     },
     "execution_count": 33,
     "metadata": {},
     "output_type": "execute_result"
    }
   ],
   "source": [
    "s = pd.read_csv('sample_csv_file_mult_rows.csv',squeeze = True, usecols= ['Industry_code_NZSIOC']).head(10)\n",
    "\n",
    "type(s)"
   ]
  },
  {
   "cell_type": "code",
   "execution_count": 35,
   "metadata": {},
   "outputs": [
    {
     "data": {
      "text/plain": [
       "0    99999\n",
       "1    99999\n",
       "2    99999\n",
       "3    99999\n",
       "4    99999\n",
       "5    99999\n",
       "6    99999\n",
       "7    99999\n",
       "8    99999\n",
       "9    99999\n",
       "Name: Industry_code_NZSIOC, dtype: object"
      ]
     },
     "execution_count": 35,
     "metadata": {},
     "output_type": "execute_result"
    }
   ],
   "source": [
    "s.head(10)"
   ]
  },
  {
   "cell_type": "markdown",
   "metadata": {},
   "source": [
    "# Series Attributes and Methods"
   ]
  },
  {
   "cell_type": "code",
   "execution_count": 39,
   "metadata": {},
   "outputs": [],
   "source": [
    "s1 = pd.read_csv('titanic_dataset.csv', squeeze =  True, usecols = ['fare']).head(20)"
   ]
  },
  {
   "cell_type": "code",
   "execution_count": 44,
   "metadata": {},
   "outputs": [
    {
     "name": "stdout",
     "output_type": "stream",
     "text": [
      "0      7.2500\n",
      "1     71.2833\n",
      "2      7.9250\n",
      "3     53.1000\n",
      "4      8.0500\n",
      "5      8.4583\n",
      "6     51.8625\n",
      "7     21.0750\n",
      "8     11.1333\n",
      "9     30.0708\n",
      "10    16.7000\n",
      "11    26.5500\n",
      "12     8.0500\n",
      "13    31.2750\n",
      "14     7.8542\n",
      "15    16.0000\n",
      "16    29.1250\n",
      "17    13.0000\n",
      "18    18.0000\n",
      "19     7.2250\n",
      "Name: fare, dtype: float64\n"
     ]
    }
   ],
   "source": [
    "print(s1)\n",
    "#NOTE: s1.anything without(para) is an attribute not a method"
   ]
  },
  {
   "cell_type": "code",
   "execution_count": 51,
   "metadata": {},
   "outputs": [
    {
     "data": {
      "text/plain": [
       "RangeIndex(start=0, stop=20, step=1)"
      ]
     },
     "execution_count": 51,
     "metadata": {},
     "output_type": "execute_result"
    }
   ],
   "source": [
    "#indices\n",
    "s1.index"
   ]
  },
  {
   "cell_type": "code",
   "execution_count": 52,
   "metadata": {},
   "outputs": [
    {
     "data": {
      "text/plain": [
       "array([ 7.25  , 71.2833,  7.925 , 53.1   ,  8.05  ,  8.4583, 51.8625,\n",
       "       21.075 , 11.1333, 30.0708, 16.7   , 26.55  ,  8.05  , 31.275 ,\n",
       "        7.8542, 16.    , 29.125 , 13.    , 18.    ,  7.225 ])"
      ]
     },
     "execution_count": 52,
     "metadata": {},
     "output_type": "execute_result"
    }
   ],
   "source": [
    "#values in series\n",
    "s1.values"
   ]
  },
  {
   "cell_type": "code",
   "execution_count": 53,
   "metadata": {},
   "outputs": [
    {
     "data": {
      "text/plain": [
       "dtype('float64')"
      ]
     },
     "execution_count": 53,
     "metadata": {},
     "output_type": "execute_result"
    }
   ],
   "source": [
    "#dimension f series\n",
    "s1.dtype"
   ]
  },
  {
   "cell_type": "code",
   "execution_count": 54,
   "metadata": {},
   "outputs": [
    {
     "data": {
      "text/plain": [
       "1"
      ]
     },
     "execution_count": 54,
     "metadata": {},
     "output_type": "execute_result"
    }
   ],
   "source": [
    "s1.ndim"
   ]
  },
  {
   "cell_type": "code",
   "execution_count": 55,
   "metadata": {},
   "outputs": [
    {
     "data": {
      "text/plain": [
       "20"
      ]
     },
     "execution_count": 55,
     "metadata": {},
     "output_type": "execute_result"
    }
   ],
   "source": [
    "#size of series\n",
    "s1.size"
   ]
  },
  {
   "cell_type": "code",
   "execution_count": 50,
   "metadata": {},
   "outputs": [
    {
     "data": {
      "text/plain": [
       "False"
      ]
     },
     "execution_count": 50,
     "metadata": {},
     "output_type": "execute_result"
    }
   ],
   "source": [
    "#are all el.s in series unique\n",
    "s1.is_unique"
   ]
  },
  {
   "cell_type": "code",
   "execution_count": 61,
   "metadata": {},
   "outputs": [
    {
     "name": "stdout",
     "output_type": "stream",
     "text": [
      "Cheque_No 0      7.2500\n",
      "Cheque_No 1     71.2833\n",
      "Cheque_No 2      7.9250\n",
      "Cheque_No 3     53.1000\n",
      "Cheque_No 4      8.0500\n",
      "Cheque_No 5      8.4583\n",
      "Cheque_No 6     51.8625\n",
      "Cheque_No 7     21.0750\n",
      "Cheque_No 8     11.1333\n",
      "Cheque_No 9     30.0708\n",
      "Cheque_No 10    16.7000\n",
      "Cheque_No 11    26.5500\n",
      "Cheque_No 12     8.0500\n",
      "Cheque_No 13    31.2750\n",
      "Cheque_No 14     7.8542\n",
      "Cheque_No 15    16.0000\n",
      "Cheque_No 16    29.1250\n",
      "Cheque_No 17    13.0000\n",
      "Cheque_No 18    18.0000\n",
      "Cheque_No 19     7.2250\n",
      "Name: fare, dtype: float64\n",
      "0LA       7.2500\n",
      "1LA      71.2833\n",
      "2LA       7.9250\n",
      "3LA      53.1000\n",
      "4LA       8.0500\n",
      "5LA       8.4583\n",
      "6LA      51.8625\n",
      "7LA      21.0750\n",
      "8LA      11.1333\n",
      "9LA      30.0708\n",
      "10LA     16.7000\n",
      "11LA     26.5500\n",
      "12LA      8.0500\n",
      "13LA     31.2750\n",
      "14LA      7.8542\n",
      "15LA     16.0000\n",
      "16LA     29.1250\n",
      "17LA     13.0000\n",
      "18LA     18.0000\n",
      "19LA      7.2250\n",
      "Name: fare, dtype: float64\n"
     ]
    }
   ],
   "source": [
    "#adding prefix or suffix to indices\n",
    "pre = s1.add_prefix('Cheque_No ')\n",
    "suf = s1.add_suffix('LA ')\n",
    "print(pre)\n",
    "print(suf)"
   ]
  },
  {
   "cell_type": "code",
   "execution_count": 66,
   "metadata": {},
   "outputs": [
    {
     "name": "stdout",
     "output_type": "stream",
     "text": [
      "443.9874\n",
      "1\n",
      "71.2833\n"
     ]
    }
   ],
   "source": [
    "#Mathematical operations on Series objects\n",
    "\n",
    "print(s1.sum())          #sum of all el.s\n",
    "print(s1.idxmax())       #index at which fare(val) is max\n",
    "print(max(s1))           #max val in series\n",
    "print(s1.mean())         #mean\n",
    "print(s1.mean())         #mean of val.s\n",
    "print(s1.std())          #standard deviation"
   ]
  },
  {
   "cell_type": "code",
   "execution_count": 68,
   "metadata": {},
   "outputs": [
    {
     "data": {
      "text/plain": [
       "count    20.000000\n",
       "mean     22.199370\n",
       "std      18.058888\n",
       "min       7.225000\n",
       "25%       8.050000\n",
       "50%      16.350000\n",
       "75%      29.361450\n",
       "max      71.283300\n",
       "Name: fare, dtype: float64"
      ]
     },
     "execution_count": 68,
     "metadata": {},
     "output_type": "execute_result"
    }
   ],
   "source": [
    "s1.describe()            #for float or int dtype this describes most of the standard stastical calc.s "
   ]
  },
  {
   "cell_type": "code",
   "execution_count": null,
   "metadata": {},
   "outputs": [],
   "source": [
    " "
   ]
  },
  {
   "cell_type": "markdown",
   "metadata": {},
   "source": [
    "# Label Indexing"
   ]
  },
  {
   "cell_type": "markdown",
   "metadata": {},
   "source": [
    "Label indexing HERE (in series) means giving index col some fancy labels instead of default int starting from 0\n",
    "<br>i.e. Custom Label Indexing "
   ]
  },
  {
   "cell_type": "code",
   "execution_count": 82,
   "metadata": {},
   "outputs": [],
   "source": [
    "Avg_Temp = [22,24,26,28,30,36,34,33,31,27,24,18]\n",
    "Month = ['Jan', 'Feb', 'March', 'April', 'May', 'June', 'July', 'Aug', 'Sept',\n",
    "       'Oct', 'Nov', 'Dec']"
   ]
  },
  {
   "cell_type": "code",
   "execution_count": 83,
   "metadata": {},
   "outputs": [],
   "source": [
    "avg_temp = pd.Series(Avg_Temp)"
   ]
  },
  {
   "cell_type": "code",
   "execution_count": 84,
   "metadata": {},
   "outputs": [
    {
     "name": "stdout",
     "output_type": "stream",
     "text": [
      "Jan      22\n",
      "Feb      24\n",
      "March    26\n",
      "April    28\n",
      "May      30\n",
      "June     36\n",
      "July     34\n",
      "Aug      33\n",
      "Sept     31\n",
      "Oct      27\n",
      "Nov      24\n",
      "Dec      18\n",
      "dtype: int64\n"
     ]
    }
   ],
   "source": [
    "avg_temp = pd.Series(data = Avg_Temp, index = Month)\n",
    "print(avg_temp)"
   ]
  },
  {
   "cell_type": "code",
   "execution_count": 85,
   "metadata": {},
   "outputs": [
    {
     "name": "stdout",
     "output_type": "stream",
     "text": [
      "Jan      22\n",
      "Feb      24\n",
      "March    26\n",
      "April    28\n",
      "May      30\n",
      "June     36\n",
      "July     34\n",
      "Aug      33\n",
      "Sept     31\n",
      "Oct      27\n",
      "Nov      24\n",
      "Dec      18\n",
      "dtype: int64\n"
     ]
    }
   ],
   "source": [
    "avg_temp = pd.Series(Avg_Temp, index = Month)\n",
    "print(avg_temp)"
   ]
  },
  {
   "cell_type": "code",
   "execution_count": 86,
   "metadata": {},
   "outputs": [
    {
     "data": {
      "text/plain": [
       "Index(['Jan', 'Feb', 'March', 'April', 'May', 'June', 'July', 'Aug', 'Sept',\n",
       "       'Oct', 'Nov', 'Dec'],\n",
       "      dtype='object')"
      ]
     },
     "execution_count": 86,
     "metadata": {},
     "output_type": "execute_result"
    }
   ],
   "source": [
    "avg_temp.index\n",
    "#output shows indices as specified by us"
   ]
  },
  {
   "cell_type": "code",
   "execution_count": null,
   "metadata": {},
   "outputs": [],
   "source": []
  },
  {
   "cell_type": "markdown",
   "metadata": {},
   "source": [
    "# Sorting and Inplace Parameter"
   ]
  },
  {
   "cell_type": "code",
   "execution_count": 87,
   "metadata": {},
   "outputs": [],
   "source": [
    "Avg_Temp = [22,24,26,28,30,36,34,33,31,27,24,18]\n",
    "Month = ['Jan', 'Feb', 'March', 'April', 'May', 'June', 'July', 'Aug', 'Sept',\n",
    "       'Oct', 'Nov', 'Dec']\n",
    "s1 = pd.Series(Avg_Temp, index = Month)"
   ]
  },
  {
   "cell_type": "code",
   "execution_count": 88,
   "metadata": {},
   "outputs": [
    {
     "data": {
      "text/plain": [
       "Jan      22\n",
       "Feb      24\n",
       "March    26\n",
       "April    28\n",
       "May      30\n",
       "June     36\n",
       "July     34\n",
       "Aug      33\n",
       "Sept     31\n",
       "Oct      27\n",
       "Nov      24\n",
       "Dec      18\n",
       "dtype: int64"
      ]
     },
     "execution_count": 88,
     "metadata": {},
     "output_type": "execute_result"
    }
   ],
   "source": [
    "s1"
   ]
  },
  {
   "cell_type": "code",
   "execution_count": 97,
   "metadata": {},
   "outputs": [],
   "source": [
    "#seriesobj.sort_values( )to sort a series)\n",
    "#seriesobj.sort_values( ascending = False) to sort a series in Descending order"
   ]
  },
  {
   "cell_type": "code",
   "execution_count": 89,
   "metadata": {},
   "outputs": [
    {
     "data": {
      "text/plain": [
       "Dec      18\n",
       "Jan      22\n",
       "Feb      24\n",
       "Nov      24\n",
       "March    26\n",
       "Oct      27\n",
       "April    28\n",
       "May      30\n",
       "Sept     31\n",
       "Aug      33\n",
       "July     34\n",
       "June     36\n",
       "dtype: int64"
      ]
     },
     "execution_count": 89,
     "metadata": {},
     "output_type": "execute_result"
    }
   ],
   "source": [
    "s1.sort_values()"
   ]
  },
  {
   "cell_type": "code",
   "execution_count": 90,
   "metadata": {},
   "outputs": [
    {
     "data": {
      "text/plain": [
       "June     36\n",
       "July     34\n",
       "Aug      33\n",
       "Sept     31\n",
       "May      30\n",
       "April    28\n",
       "Oct      27\n",
       "March    26\n",
       "Feb      24\n",
       "Nov      24\n",
       "Jan      22\n",
       "Dec      18\n",
       "dtype: int64"
      ]
     },
     "execution_count": 90,
     "metadata": {},
     "output_type": "execute_result"
    }
   ],
   "source": [
    " s1.sort_values(ascending = False)"
   ]
  },
  {
   "cell_type": "code",
   "execution_count": 91,
   "metadata": {},
   "outputs": [
    {
     "data": {
      "text/plain": [
       "Jan      22\n",
       "Feb      24\n",
       "March    26\n",
       "April    28\n",
       "May      30\n",
       "June     36\n",
       "July     34\n",
       "Aug      33\n",
       "Sept     31\n",
       "Oct      27\n",
       "Nov      24\n",
       "Dec      18\n",
       "dtype: int64"
      ]
     },
     "execution_count": 91,
     "metadata": {},
     "output_type": "execute_result"
    }
   ],
   "source": [
    "s1"
   ]
  },
  {
   "cell_type": "markdown",
   "metadata": {},
   "source": [
    "In Pandas by default inplace value is False\n",
    "<br>i.e. whatever changes are made to anything are not saved to the og Series/Dataframe\n",
    "<br>rather a new Series/DataFrame is returned with the new changes made in them \n",
    "<br>and the og ones are left untouched as seen above\n",
    "<br>\n",
    "<br>to save the changes in og Series/DataFrame, we can do \n",
    "<br>\n",
    "<br>s1 = s1.changes           or       \n",
    "<br>set inplace = True as shown below"
   ]
  },
  {
   "cell_type": "code",
   "execution_count": 95,
   "metadata": {},
   "outputs": [
    {
     "name": "stdout",
     "output_type": "stream",
     "text": [
      "Dec      18\n",
      "Jan      22\n",
      "Feb      24\n",
      "Nov      24\n",
      "March    26\n",
      "Oct      27\n",
      "April    28\n",
      "May      30\n",
      "Sept     31\n",
      "Aug      33\n",
      "July     34\n",
      "June     36\n",
      "dtype: int64\n"
     ]
    }
   ],
   "source": [
    "s1.sort_values(inplace = True)\n",
    "print(s1)"
   ]
  },
  {
   "cell_type": "code",
   "execution_count": 96,
   "metadata": {},
   "outputs": [
    {
     "data": {
      "text/plain": [
       "Index(['Dec', 'Jan', 'Feb', 'Nov', 'March', 'Oct', 'April', 'May', 'Sept',\n",
       "       'Aug', 'July', 'June'],\n",
       "      dtype='object')"
      ]
     },
     "execution_count": 96,
     "metadata": {},
     "output_type": "execute_result"
    }
   ],
   "source": [
    "s1.index"
   ]
  },
  {
   "cell_type": "code",
   "execution_count": null,
   "metadata": {},
   "outputs": [],
   "source": [
    "#seriesobj.sort_index()  to sort Series Index wise"
   ]
  },
  {
   "cell_type": "code",
   "execution_count": 100,
   "metadata": {},
   "outputs": [],
   "source": [
    "s1.sort_index(ascending= False, inplace = True)"
   ]
  },
  {
   "cell_type": "code",
   "execution_count": 101,
   "metadata": {},
   "outputs": [
    {
     "data": {
      "text/plain": [
       "Index(['Sept', 'Oct', 'Nov', 'May', 'March', 'June', 'July', 'Jan', 'Feb',\n",
       "       'Dec', 'Aug', 'April'],\n",
       "      dtype='object')"
      ]
     },
     "execution_count": 101,
     "metadata": {},
     "output_type": "execute_result"
    }
   ],
   "source": [
    "s1.index"
   ]
  },
  {
   "cell_type": "code",
   "execution_count": null,
   "metadata": {},
   "outputs": [],
   "source": []
  },
  {
   "cell_type": "markdown",
   "metadata": {},
   "source": [
    "# Counting values in Series"
   ]
  },
  {
   "cell_type": "code",
   "execution_count": 123,
   "metadata": {},
   "outputs": [],
   "source": [
    "s = pd.Series(['Male','Female','Male','Male','Female','Male','Female','Male','Male','Female','Female','Female','Male','Male','Female','Male','Male','Male','Male','Female',\n",
    "              'Female'])"
   ]
  },
  {
   "cell_type": "code",
   "execution_count": 124,
   "metadata": {},
   "outputs": [
    {
     "data": {
      "text/plain": [
       "0       Male\n",
       "1     Female\n",
       "2       Male\n",
       "3       Male\n",
       "4     Female\n",
       "5       Male\n",
       "6     Female\n",
       "7       Male\n",
       "8       Male\n",
       "9     Female\n",
       "10    Female\n",
       "11    Female\n",
       "12      Male\n",
       "13      Male\n",
       "14    Female\n",
       "15      Male\n",
       "16      Male\n",
       "17      Male\n",
       "18      Male\n",
       "19    Female\n",
       "20    Female\n",
       "dtype: object"
      ]
     },
     "execution_count": 124,
     "metadata": {},
     "output_type": "execute_result"
    }
   ],
   "source": [
    "s"
   ]
  },
  {
   "cell_type": "code",
   "execution_count": 129,
   "metadata": {},
   "outputs": [
    {
     "data": {
      "text/plain": [
       "2"
      ]
     },
     "execution_count": 129,
     "metadata": {},
     "output_type": "execute_result"
    }
   ],
   "source": [
    "s.nunique()                  #seriesobj.nunique() returns no of unique el.s in Series"
   ]
  },
  {
   "cell_type": "code",
   "execution_count": 130,
   "metadata": {},
   "outputs": [
    {
     "data": {
      "text/plain": [
       "Male      12\n",
       "Female     9\n",
       "dtype: int64"
      ]
     },
     "execution_count": 130,
     "metadata": {},
     "output_type": "execute_result"
    }
   ],
   "source": [
    "s.value_counts()            #seriesobj.value_counts() returns no of occurences of each val"
   ]
  },
  {
   "cell_type": "code",
   "execution_count": null,
   "metadata": {},
   "outputs": [],
   "source": []
  },
  {
   "cell_type": "markdown",
   "metadata": {},
   "source": [
    "# Applying Python in-built functionson Series"
   ]
  },
  {
   "cell_type": "code",
   "execution_count": 102,
   "metadata": {},
   "outputs": [],
   "source": [
    "Avg_Temp = [22,24,26,28,30,36,34,33,31,27,24,18]\n",
    "Month = ['Jan', 'Feb', 'March', 'April', 'May', 'June', 'July', 'Aug', 'Sept',\n",
    "       'Oct', 'Nov', 'Dec']\n",
    "s1 = pd.Series(Avg_Temp, index = Month)"
   ]
  },
  {
   "cell_type": "code",
   "execution_count": 104,
   "metadata": {},
   "outputs": [
    {
     "name": "stdout",
     "output_type": "stream",
     "text": [
      "Length: 12\n",
      "Type: <class 'pandas.core.series.Series'>\n",
      "Dictionary: {'Jan': 22, 'Feb': 24, 'March': 26, 'April': 28, 'May': 30, 'June': 36, 'July': 34, 'Aug': 33, 'Sept': 31, 'Oct': 27, 'Nov': 24, 'Dec': 18}\n",
      "Sorted: [18, 22, 24, 24, 26, 27, 28, 30, 31, 33, 34, 36]\n",
      "Max value: 36\n",
      "Min value: 18\n"
     ]
    }
   ],
   "source": [
    "print('Length:',len(s1))\n",
    "print('Type:',type(s1))\n",
    "print('Dictionary:',dict(s1))\n",
    "print('Sorted:',sorted(s1))\n",
    "print('Max value:',max(s1))\n",
    "print('Min value:',min(s1))"
   ]
  },
  {
   "cell_type": "code",
   "execution_count": null,
   "metadata": {},
   "outputs": [],
   "source": []
  },
  {
   "cell_type": "markdown",
   "metadata": {},
   "source": [
    "# Extract value from Series"
   ]
  },
  {
   "cell_type": "markdown",
   "metadata": {},
   "source": [
    "Values from series can be extracted using indices. \n",
    "Indices can be either\n",
    "\n",
    "1.starting from 0 as default seriesobj[13]\n",
    "OR\n",
    "2.label indices seriesobj['customized label']\n",
    "\n",
    "as shown below\n",
    "\n"
   ]
  },
  {
   "cell_type": "code",
   "execution_count": 108,
   "metadata": {},
   "outputs": [],
   "source": [
    "Avg_Temp = [22,24,26,28,30,36,34,33,31,27,24,18]\n",
    "Month = ['Jan', 'Feb', 'March', 'April', 'May', 'June', 'July', 'Aug', 'Sept',\n",
    "       'Oct', 'Nov', 'Dec']\n",
    "s1 = pd.Series(Avg_Temp,Month)"
   ]
  },
  {
   "cell_type": "code",
   "execution_count": 110,
   "metadata": {},
   "outputs": [
    {
     "data": {
      "text/plain": [
       "28"
      ]
     },
     "execution_count": 110,
     "metadata": {},
     "output_type": "execute_result"
    }
   ],
   "source": [
    "s1[3]"
   ]
  },
  {
   "cell_type": "code",
   "execution_count": 111,
   "metadata": {},
   "outputs": [
    {
     "data": {
      "text/plain": [
       "March    26\n",
       "April    28\n",
       "June     36\n",
       "dtype: int64"
      ]
     },
     "execution_count": 111,
     "metadata": {},
     "output_type": "execute_result"
    }
   ],
   "source": [
    "s1[[2,3,5]]"
   ]
  },
  {
   "cell_type": "code",
   "execution_count": 112,
   "metadata": {},
   "outputs": [
    {
     "data": {
      "text/plain": [
       "Jan      22\n",
       "Feb      24\n",
       "March    26\n",
       "April    28\n",
       "May      30\n",
       "June     36\n",
       "dtype: int64"
      ]
     },
     "execution_count": 112,
     "metadata": {},
     "output_type": "execute_result"
    }
   ],
   "source": [
    "s1[0:6]"
   ]
  },
  {
   "cell_type": "code",
   "execution_count": 117,
   "metadata": {},
   "outputs": [
    {
     "data": {
      "text/plain": [
       "Aug     33\n",
       "Sept    31\n",
       "Oct     27\n",
       "dtype: int64"
      ]
     },
     "execution_count": 117,
     "metadata": {},
     "output_type": "execute_result"
    }
   ],
   "source": [
    "s1[-5:-2]"
   ]
  },
  {
   "cell_type": "code",
   "execution_count": 118,
   "metadata": {},
   "outputs": [
    {
     "data": {
      "text/plain": [
       "Jan      22\n",
       "Feb      24\n",
       "March    26\n",
       "April    28\n",
       "May      30\n",
       "June     36\n",
       "July     34\n",
       "Aug      33\n",
       "dtype: int64"
      ]
     },
     "execution_count": 118,
     "metadata": {},
     "output_type": "execute_result"
    }
   ],
   "source": [
    "s1['Jan':'Aug']\n",
    "\n"
   ]
  },
  {
   "cell_type": "code",
   "execution_count": 122,
   "metadata": {},
   "outputs": [
    {
     "data": {
      "text/plain": [
       "Jan    22\n",
       "Aug    33\n",
       "Feb    24\n",
       "Dec    18\n",
       "dtype: int64"
      ]
     },
     "execution_count": 122,
     "metadata": {},
     "output_type": "execute_result"
    }
   ],
   "source": [
    "s1[['Jan', 'Aug', 'Feb', 'Dec']]"
   ]
  },
  {
   "cell_type": "code",
   "execution_count": null,
   "metadata": {},
   "outputs": [],
   "source": []
  },
  {
   "cell_type": "markdown",
   "metadata": {},
   "source": [
    "# .apply() and .map() method"
   ]
  },
  {
   "cell_type": "markdown",
   "metadata": {},
   "source": [
    ".apply() and .map() are used to transform series objects)"
   ]
  },
  {
   "cell_type": "code",
   "execution_count": 131,
   "metadata": {},
   "outputs": [
    {
     "data": {
      "text/plain": [
       "Jan      22\n",
       "Feb      24\n",
       "March    26\n",
       "April    28\n",
       "May      30\n",
       "June     36\n",
       "July     34\n",
       "Aug      33\n",
       "Sept     31\n",
       "Oct      27\n",
       "Nov      24\n",
       "Dec      18\n",
       "dtype: int64"
      ]
     },
     "execution_count": 131,
     "metadata": {},
     "output_type": "execute_result"
    }
   ],
   "source": [
    "s1\n"
   ]
  },
  {
   "cell_type": "code",
   "execution_count": 140,
   "metadata": {},
   "outputs": [],
   "source": [
    "#say we want to convert temp from celsius to fahrenheit\n",
    "def conv(Temp):\n",
    "    return Temp * 1.8 + 32"
   ]
  },
  {
   "cell_type": "code",
   "execution_count": 142,
   "metadata": {},
   "outputs": [
    {
     "name": "stdout",
     "output_type": "stream",
     "text": [
      "Jan      71.6\n",
      "Feb      75.2\n",
      "March    78.8\n",
      "April    82.4\n",
      "May      86.0\n",
      "June     96.8\n",
      "July     93.2\n",
      "Aug      91.4\n",
      "Sept     87.8\n",
      "Oct      80.6\n",
      "Nov      75.2\n",
      "Dec      64.4\n",
      "dtype: float64\n"
     ]
    }
   ],
   "source": [
    "#s1.apply(function) to apply that function to every el in series\n",
    "\n",
    "s2 = s1.apply(conv)\n",
    "print(s2)"
   ]
  },
  {
   "cell_type": "code",
   "execution_count": 144,
   "metadata": {},
   "outputs": [
    {
     "name": "stdout",
     "output_type": "stream",
     "text": [
      "Jan      200.0\n",
      "Feb        NaN\n",
      "March      NaN\n",
      "April      NaN\n",
      "May      432.0\n",
      "June      69.0\n",
      "July       NaN\n",
      "Aug      300.0\n",
      "Sept       NaN\n",
      "Oct        NaN\n",
      "Nov        NaN\n",
      "Dec        NaN\n",
      "dtype: float64\n"
     ]
    }
   ],
   "source": [
    "#s1.map({key:value}) changes all el.s w val.s 'key' in series to 'value'\n",
    "\n",
    "d = { 33: 300, 22: 200, 30: 432, 36: 69}\n",
    "s3 = s1.map(d)\n",
    "print(s3)"
   ]
  },
  {
   "cell_type": "code",
   "execution_count": null,
   "metadata": {},
   "outputs": [],
   "source": []
  }
 ],
 "metadata": {
  "kernelspec": {
   "display_name": "Python 3",
   "language": "python",
   "name": "python3"
  },
  "language_info": {
   "codemirror_mode": {
    "name": "ipython",
    "version": 3
   },
   "file_extension": ".py",
   "mimetype": "text/x-python",
   "name": "python",
   "nbconvert_exporter": "python",
   "pygments_lexer": "ipython3",
   "version": "3.8.2"
  }
 },
 "nbformat": 4,
 "nbformat_minor": 4
}
