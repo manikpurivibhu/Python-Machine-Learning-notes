{
 "cells": [
  {
   "cell_type": "markdown",
   "id": "7bf21346",
   "metadata": {},
   "source": [
    "# Random Forest"
   ]
  },
  {
   "cell_type": "markdown",
   "id": "10248082",
   "metadata": {},
   "source": [
    "Random Forest is the most used Supervised Learning algorithm for Regression and Classification <br>\n",
    "Random Forests are made out of Decision Trees <br> <br>\n",
    "\n",
    "A random forest consists of multiple random decision trees. Two types of randomnesses are built into the trees. First, each tree is built on a random sample from the original data. Second, at each tree node, a subset of features are randomly selected to generate the best split. <br><br>\n",
    "\n",
    "Random Forests use **Ensemble Learning** method in which predictions are based on combined results of various individual models"
   ]
  },
  {
   "cell_type": "markdown",
   "id": "078d94d2",
   "metadata": {},
   "source": [
    "## why Random Forest?\n",
    "\n",
    "Decision Trees are highly interpretable, but due to their simplicity, they have low bias and high variance i.e. Decision Trees tend to overfit the training data"
   ]
  },
  {
   "cell_type": "markdown",
   "id": "409ec267",
   "metadata": {},
   "source": [
    "## Bagging\n",
    "**Bootstrapping** the data and using it's **aggregate** to make a decision is known as **Bagging**. <br>\n",
    "**Bootstrapping** --> **Random sampling with replacement** <br>\n",
    "**Aggregation**   --> **Combining results of multiple models** <br><br>\n",
    "\n",
    "In other words, Bagging is training a bunch of individual models parallely, where each model is trained on a random subset of data with resampling (each subset is of same size) and combining the output or prediction of all these (weak) models via **voting for classification** or **average for regression**"
   ]
  },
  {
   "cell_type": "markdown",
   "id": "03c96a0f",
   "metadata": {},
   "source": [
    "## Boosting\n",
    "**Boosting** is training a bunch of individual models in a **sequential** way. Each individual model learns from mistaked made by previous model."
   ]
  },
  {
   "cell_type": "markdown",
   "id": "e9999fb9",
   "metadata": {},
   "source": [
    "**NOTE:**  Random Forest doesn't work on Boosting. It is based on Bagging"
   ]
  },
  {
   "cell_type": "markdown",
   "id": "28492170",
   "metadata": {},
   "source": [
    "## Advantages and Disadvantages of Random Forest\n",
    "\n",
    "### Advantages of Random Forest\n",
    "- It reduces overfitting in decision trees and helps to improve the accuracy\n",
    "- It is flexible to both classification and regression problems\n",
    "- It works well with both categorical and continuous values\n",
    "- It automates missing values present in the data\n",
    "Normalising of data is not required as it uses a rule-based approach\n",
    "\n",
    "\n",
    "### Disadvantages of Random Forest\n",
    "- It requires much computational power as well as resources as it builds numerous trees to combine their outputs\n",
    "- It also requires much time for training as it combines a lot of decision trees to determine the class\n",
    "- Due to the ensemble of decision trees, it also suffers interpretability and fails to determine the significance of each variable \n",
    "- It naturally makes the model biased towards features with more number of classes. This can be prevented by Feature selection"
   ]
  },
  {
   "cell_type": "markdown",
   "id": "6d3a9861",
   "metadata": {},
   "source": [
    "### inTrees (interpretable trees)\n",
    "\n",
    "Due to ensembling, the partial dependency of each feature i.e. each feature (individually) and their correlation to target variable alongwith each feature's importance score such as Gini Impurity can be misleading to interpret (understand) the model. This is because features may react with each other and then affect the target variable. <br>\n",
    "Neither importance scores nor partial dependency plots tell how multiple features interact with the class.<br>\n",
    "\n",
    "The <b>inTrees</b> framework can be used to gain a clearer picture of what happens inside a random forest. <br><br>\n",
    "The inTrees (interpretable trees) framework extracts, measures, prunes and selects rules from a tree ensemble, and calculates frequent variable interactions. <br>\n",
    "The inTrees framework can be applied to both classification and regression problems, and is applicable to many types of tree ensembles, e.g., random forests, regularized random forests, and boosted trees.<br>\n",
    "Use inTrees packages to build Random Forest learning models."
   ]
  },
  {
   "cell_type": "markdown",
   "id": "3f872161",
   "metadata": {},
   "source": [
    "### Handling redundant features\n",
    "\n",
    "Features that are similar to each other (such as beard and facial hair), the importance scores of these features can be misleading. This may not hurt the accuracy performance but could be misleading in interpretation.<br>\n",
    "One solution would be the <b>regularized random forest (RRF)</b>.<br>\n",
    "In the tree building process, RRF memorizes the features used in previous tree nodes. While building future tree nodes, it evaluates all the features and prefers previously memorized features in splitting future treee nodes, therefore avoiding redundant features in the trees."
   ]
  },
  {
   "attachments": {},
   "cell_type": "markdown",
   "id": "23ab896b",
   "metadata": {},
   "source": [
    "## Creating a Random Forest\n",
    "\n",
    "### Step 1: Create 'n' Bootstrap datasets/random subsets\n",
    "The <u>Bootstrap</u> method is a resampling technique on a population by sampling a dataset with replacement. <br><br>\n",
    "\n",
    "The Bootstrap dataset, which is same size as the original dataset is created by randomly selecting samples from the original dataset. This involves random selection with replacement. <br>\n",
    "Simply put, in each sub-dataset created, not only are data points selected (from the original dataset) at random, but they are also repeated (i.e. occurence of a data point more than once in each sample is allowed). <br><br>\n",
    "\n",
    "This process is repeated to create 'n' subsets of data\n",
    "\n",
    "### Step 2: Training 'n' Decision Trees\n",
    "Here, we make use of the fact that Decision Trees have high bias towards the data they are trained on: they produce different results based on their training data. <br>\n",
    "So, for every Bootsrapped data, we create a Decision Tree <br>\n",
    "While creating each Decision Tree, use a random subset of features at each step  (2 only/3 only/etc). <br>\n",
    "While training different Decision Trees for different subsets, use different number of features (2,3,400, etc) <br>\n",
    "\n",
    "\n",
    "\n",
    "\n",
    "### Step 3: Use Out-of-Bag Dataset for testing\n",
    "Because of random resampling with replacement, some data points (20-30%) from the original dataset will not be used to train any Decision Tree. This data is referred to as **Out-of-Bag data** <br>\n",
    "Since this data is unseen to all the Decision Trees, we use this data to test the performance of Decision Trees and our ensamble model instead of splitting the original dataset into train-test set as we do while using other learning algorithms\n",
    "\n",
    "\n",
    "### Step 4: Aggregating the outputs of all models\n",
    "The outputs of all (weak) models are aggregated to produce a strong model. <br>\n",
    "For **Classification models, voting** is done based on prediction by each model and the class with most votes is the final prediction <br>\n",
    "For **Regression models, average** of all models is the final prediction\n",
    "\n",
    "![randomForest.png](images/randomForest.png)"
   ]
  },
  {
   "cell_type": "markdown",
   "id": "5df8bb15",
   "metadata": {},
   "source": [
    " "
   ]
  },
  {
   "cell_type": "markdown",
   "id": "845e973c",
   "metadata": {},
   "source": [
    "## Random Forest using scikit-learn"
   ]
  },
  {
   "cell_type": "markdown",
   "id": "ab4fde8c",
   "metadata": {},
   "source": [
    "### Random Forest Regressor using scikit-learn"
   ]
  },
  {
   "cell_type": "code",
   "execution_count": 10,
   "id": "48bde3ef",
   "metadata": {},
   "outputs": [],
   "source": [
    "# import libraries \n",
    "\n",
    "import pandas as pd\n",
    "import numpy as np"
   ]
  },
  {
   "cell_type": "code",
   "execution_count": 92,
   "id": "fb2f6248",
   "metadata": {},
   "outputs": [
    {
     "data": {
      "text/html": [
       "<div>\n",
       "<style scoped>\n",
       "    .dataframe tbody tr th:only-of-type {\n",
       "        vertical-align: middle;\n",
       "    }\n",
       "\n",
       "    .dataframe tbody tr th {\n",
       "        vertical-align: top;\n",
       "    }\n",
       "\n",
       "    .dataframe thead th {\n",
       "        text-align: right;\n",
       "    }\n",
       "</style>\n",
       "<table border=\"1\" class=\"dataframe\">\n",
       "  <thead>\n",
       "    <tr style=\"text-align: right;\">\n",
       "      <th></th>\n",
       "      <th>year</th>\n",
       "      <th>month</th>\n",
       "      <th>day</th>\n",
       "      <th>week</th>\n",
       "      <th>temp_2</th>\n",
       "      <th>temp_1</th>\n",
       "      <th>average</th>\n",
       "      <th>actual</th>\n",
       "      <th>forecast_noaa</th>\n",
       "      <th>forecast_acc</th>\n",
       "      <th>forecast_under</th>\n",
       "      <th>friend</th>\n",
       "    </tr>\n",
       "  </thead>\n",
       "  <tbody>\n",
       "    <tr>\n",
       "      <th>163</th>\n",
       "      <td>2016</td>\n",
       "      <td>6</td>\n",
       "      <td>15</td>\n",
       "      <td>Wed</td>\n",
       "      <td>66</td>\n",
       "      <td>60</td>\n",
       "      <td>69.7</td>\n",
       "      <td>67</td>\n",
       "      <td>65</td>\n",
       "      <td>73</td>\n",
       "      <td>71</td>\n",
       "      <td>69</td>\n",
       "    </tr>\n",
       "    <tr>\n",
       "      <th>328</th>\n",
       "      <td>2016</td>\n",
       "      <td>12</td>\n",
       "      <td>12</td>\n",
       "      <td>Mon</td>\n",
       "      <td>44</td>\n",
       "      <td>44</td>\n",
       "      <td>45.6</td>\n",
       "      <td>43</td>\n",
       "      <td>43</td>\n",
       "      <td>50</td>\n",
       "      <td>45</td>\n",
       "      <td>42</td>\n",
       "    </tr>\n",
       "    <tr>\n",
       "      <th>147</th>\n",
       "      <td>2016</td>\n",
       "      <td>5</td>\n",
       "      <td>30</td>\n",
       "      <td>Mon</td>\n",
       "      <td>64</td>\n",
       "      <td>64</td>\n",
       "      <td>67.1</td>\n",
       "      <td>71</td>\n",
       "      <td>64</td>\n",
       "      <td>70</td>\n",
       "      <td>66</td>\n",
       "      <td>69</td>\n",
       "    </tr>\n",
       "    <tr>\n",
       "      <th>347</th>\n",
       "      <td>2016</td>\n",
       "      <td>12</td>\n",
       "      <td>31</td>\n",
       "      <td>Sat</td>\n",
       "      <td>48</td>\n",
       "      <td>57</td>\n",
       "      <td>45.5</td>\n",
       "      <td>40</td>\n",
       "      <td>42</td>\n",
       "      <td>48</td>\n",
       "      <td>47</td>\n",
       "      <td>57</td>\n",
       "    </tr>\n",
       "  </tbody>\n",
       "</table>\n",
       "</div>"
      ],
      "text/plain": [
       "     year  month  day week  temp_2  temp_1  average  actual  forecast_noaa  \\\n",
       "163  2016      6   15  Wed      66      60     69.7      67             65   \n",
       "328  2016     12   12  Mon      44      44     45.6      43             43   \n",
       "147  2016      5   30  Mon      64      64     67.1      71             64   \n",
       "347  2016     12   31  Sat      48      57     45.5      40             42   \n",
       "\n",
       "     forecast_acc  forecast_under  friend  \n",
       "163            73              71      69  \n",
       "328            50              45      42  \n",
       "147            70              66      69  \n",
       "347            48              47      57  "
      ]
     },
     "execution_count": 92,
     "metadata": {},
     "output_type": "execute_result"
    }
   ],
   "source": [
    "# import data\n",
    "\n",
    "df = pd.read_csv(\"weatherData.csv\")\n",
    "\n",
    "df.sample(4)"
   ]
  },
  {
   "cell_type": "code",
   "execution_count": 94,
   "id": "749d40ac",
   "metadata": {},
   "outputs": [
    {
     "name": "stdout",
     "output_type": "stream",
     "text": [
      "Shape : (348, 12)\n"
     ]
    }
   ],
   "source": [
    "# data cleaning\n",
    "\n",
    "print('Shape :', df.shape)"
   ]
  },
  {
   "cell_type": "code",
   "execution_count": 95,
   "id": "06295fbe",
   "metadata": {},
   "outputs": [
    {
     "name": "stdout",
     "output_type": "stream",
     "text": [
      "<class 'pandas.core.frame.DataFrame'>\n",
      "RangeIndex: 348 entries, 0 to 347\n",
      "Data columns (total 12 columns):\n",
      " #   Column          Non-Null Count  Dtype  \n",
      "---  ------          --------------  -----  \n",
      " 0   year            348 non-null    int64  \n",
      " 1   month           348 non-null    int64  \n",
      " 2   day             348 non-null    int64  \n",
      " 3   week            348 non-null    object \n",
      " 4   temp_2          348 non-null    int64  \n",
      " 5   temp_1          348 non-null    int64  \n",
      " 6   average         348 non-null    float64\n",
      " 7   actual          348 non-null    int64  \n",
      " 8   forecast_noaa   348 non-null    int64  \n",
      " 9   forecast_acc    348 non-null    int64  \n",
      " 10  forecast_under  348 non-null    int64  \n",
      " 11  friend          348 non-null    int64  \n",
      "dtypes: float64(1), int64(10), object(1)\n",
      "memory usage: 32.8+ KB\n"
     ]
    }
   ],
   "source": [
    "df.info()"
   ]
  },
  {
   "cell_type": "code",
   "execution_count": 96,
   "id": "02d051d7",
   "metadata": {},
   "outputs": [
    {
     "data": {
      "text/html": [
       "<div>\n",
       "<style scoped>\n",
       "    .dataframe tbody tr th:only-of-type {\n",
       "        vertical-align: middle;\n",
       "    }\n",
       "\n",
       "    .dataframe tbody tr th {\n",
       "        vertical-align: top;\n",
       "    }\n",
       "\n",
       "    .dataframe thead th {\n",
       "        text-align: right;\n",
       "    }\n",
       "</style>\n",
       "<table border=\"1\" class=\"dataframe\">\n",
       "  <thead>\n",
       "    <tr style=\"text-align: right;\">\n",
       "      <th></th>\n",
       "      <th>year</th>\n",
       "      <th>month</th>\n",
       "      <th>day</th>\n",
       "      <th>temp_2</th>\n",
       "      <th>temp_1</th>\n",
       "      <th>average</th>\n",
       "      <th>actual</th>\n",
       "      <th>forecast_noaa</th>\n",
       "      <th>forecast_acc</th>\n",
       "      <th>forecast_under</th>\n",
       "      <th>friend</th>\n",
       "    </tr>\n",
       "  </thead>\n",
       "  <tbody>\n",
       "    <tr>\n",
       "      <th>count</th>\n",
       "      <td>348.0</td>\n",
       "      <td>348.000000</td>\n",
       "      <td>348.000000</td>\n",
       "      <td>348.000000</td>\n",
       "      <td>348.000000</td>\n",
       "      <td>348.000000</td>\n",
       "      <td>348.000000</td>\n",
       "      <td>348.000000</td>\n",
       "      <td>348.000000</td>\n",
       "      <td>348.000000</td>\n",
       "      <td>348.000000</td>\n",
       "    </tr>\n",
       "    <tr>\n",
       "      <th>mean</th>\n",
       "      <td>2016.0</td>\n",
       "      <td>6.477011</td>\n",
       "      <td>15.514368</td>\n",
       "      <td>62.652299</td>\n",
       "      <td>62.701149</td>\n",
       "      <td>59.760632</td>\n",
       "      <td>62.543103</td>\n",
       "      <td>57.238506</td>\n",
       "      <td>62.373563</td>\n",
       "      <td>59.772989</td>\n",
       "      <td>60.034483</td>\n",
       "    </tr>\n",
       "    <tr>\n",
       "      <th>std</th>\n",
       "      <td>0.0</td>\n",
       "      <td>3.498380</td>\n",
       "      <td>8.772982</td>\n",
       "      <td>12.165398</td>\n",
       "      <td>12.120542</td>\n",
       "      <td>10.527306</td>\n",
       "      <td>11.794146</td>\n",
       "      <td>10.605746</td>\n",
       "      <td>10.549381</td>\n",
       "      <td>10.705256</td>\n",
       "      <td>15.626179</td>\n",
       "    </tr>\n",
       "    <tr>\n",
       "      <th>min</th>\n",
       "      <td>2016.0</td>\n",
       "      <td>1.000000</td>\n",
       "      <td>1.000000</td>\n",
       "      <td>35.000000</td>\n",
       "      <td>35.000000</td>\n",
       "      <td>45.100000</td>\n",
       "      <td>35.000000</td>\n",
       "      <td>41.000000</td>\n",
       "      <td>46.000000</td>\n",
       "      <td>44.000000</td>\n",
       "      <td>28.000000</td>\n",
       "    </tr>\n",
       "    <tr>\n",
       "      <th>25%</th>\n",
       "      <td>2016.0</td>\n",
       "      <td>3.000000</td>\n",
       "      <td>8.000000</td>\n",
       "      <td>54.000000</td>\n",
       "      <td>54.000000</td>\n",
       "      <td>49.975000</td>\n",
       "      <td>54.000000</td>\n",
       "      <td>48.000000</td>\n",
       "      <td>53.000000</td>\n",
       "      <td>50.000000</td>\n",
       "      <td>47.750000</td>\n",
       "    </tr>\n",
       "    <tr>\n",
       "      <th>50%</th>\n",
       "      <td>2016.0</td>\n",
       "      <td>6.000000</td>\n",
       "      <td>15.000000</td>\n",
       "      <td>62.500000</td>\n",
       "      <td>62.500000</td>\n",
       "      <td>58.200000</td>\n",
       "      <td>62.500000</td>\n",
       "      <td>56.000000</td>\n",
       "      <td>61.000000</td>\n",
       "      <td>58.000000</td>\n",
       "      <td>60.000000</td>\n",
       "    </tr>\n",
       "    <tr>\n",
       "      <th>75%</th>\n",
       "      <td>2016.0</td>\n",
       "      <td>10.000000</td>\n",
       "      <td>23.000000</td>\n",
       "      <td>71.000000</td>\n",
       "      <td>71.000000</td>\n",
       "      <td>69.025000</td>\n",
       "      <td>71.000000</td>\n",
       "      <td>66.000000</td>\n",
       "      <td>72.000000</td>\n",
       "      <td>69.000000</td>\n",
       "      <td>71.000000</td>\n",
       "    </tr>\n",
       "    <tr>\n",
       "      <th>max</th>\n",
       "      <td>2016.0</td>\n",
       "      <td>12.000000</td>\n",
       "      <td>31.000000</td>\n",
       "      <td>117.000000</td>\n",
       "      <td>117.000000</td>\n",
       "      <td>77.400000</td>\n",
       "      <td>92.000000</td>\n",
       "      <td>77.000000</td>\n",
       "      <td>82.000000</td>\n",
       "      <td>79.000000</td>\n",
       "      <td>95.000000</td>\n",
       "    </tr>\n",
       "  </tbody>\n",
       "</table>\n",
       "</div>"
      ],
      "text/plain": [
       "         year       month         day      temp_2      temp_1     average  \\\n",
       "count   348.0  348.000000  348.000000  348.000000  348.000000  348.000000   \n",
       "mean   2016.0    6.477011   15.514368   62.652299   62.701149   59.760632   \n",
       "std       0.0    3.498380    8.772982   12.165398   12.120542   10.527306   \n",
       "min    2016.0    1.000000    1.000000   35.000000   35.000000   45.100000   \n",
       "25%    2016.0    3.000000    8.000000   54.000000   54.000000   49.975000   \n",
       "50%    2016.0    6.000000   15.000000   62.500000   62.500000   58.200000   \n",
       "75%    2016.0   10.000000   23.000000   71.000000   71.000000   69.025000   \n",
       "max    2016.0   12.000000   31.000000  117.000000  117.000000   77.400000   \n",
       "\n",
       "           actual  forecast_noaa  forecast_acc  forecast_under      friend  \n",
       "count  348.000000     348.000000    348.000000      348.000000  348.000000  \n",
       "mean    62.543103      57.238506     62.373563       59.772989   60.034483  \n",
       "std     11.794146      10.605746     10.549381       10.705256   15.626179  \n",
       "min     35.000000      41.000000     46.000000       44.000000   28.000000  \n",
       "25%     54.000000      48.000000     53.000000       50.000000   47.750000  \n",
       "50%     62.500000      56.000000     61.000000       58.000000   60.000000  \n",
       "75%     71.000000      66.000000     72.000000       69.000000   71.000000  \n",
       "max     92.000000      77.000000     82.000000       79.000000   95.000000  "
      ]
     },
     "execution_count": 96,
     "metadata": {},
     "output_type": "execute_result"
    }
   ],
   "source": [
    "df.describe()"
   ]
  },
  {
   "cell_type": "code",
   "execution_count": 97,
   "id": "59663946",
   "metadata": {},
   "outputs": [
    {
     "data": {
      "text/html": [
       "<div>\n",
       "<style scoped>\n",
       "    .dataframe tbody tr th:only-of-type {\n",
       "        vertical-align: middle;\n",
       "    }\n",
       "\n",
       "    .dataframe tbody tr th {\n",
       "        vertical-align: top;\n",
       "    }\n",
       "\n",
       "    .dataframe thead th {\n",
       "        text-align: right;\n",
       "    }\n",
       "</style>\n",
       "<table border=\"1\" class=\"dataframe\">\n",
       "  <thead>\n",
       "    <tr style=\"text-align: right;\">\n",
       "      <th></th>\n",
       "      <th>average</th>\n",
       "      <th>actual</th>\n",
       "      <th>forecast_noaa</th>\n",
       "      <th>forecast_acc</th>\n",
       "      <th>forecast_under</th>\n",
       "      <th>friend</th>\n",
       "      <th>week_Fri</th>\n",
       "      <th>week_Mon</th>\n",
       "      <th>week_Sat</th>\n",
       "      <th>week_Sun</th>\n",
       "      <th>week_Thurs</th>\n",
       "      <th>week_Tues</th>\n",
       "      <th>week_Wed</th>\n",
       "    </tr>\n",
       "  </thead>\n",
       "  <tbody>\n",
       "    <tr>\n",
       "      <th>0</th>\n",
       "      <td>45.6</td>\n",
       "      <td>45</td>\n",
       "      <td>43</td>\n",
       "      <td>50</td>\n",
       "      <td>44</td>\n",
       "      <td>29</td>\n",
       "      <td>1</td>\n",
       "      <td>0</td>\n",
       "      <td>0</td>\n",
       "      <td>0</td>\n",
       "      <td>0</td>\n",
       "      <td>0</td>\n",
       "      <td>0</td>\n",
       "    </tr>\n",
       "    <tr>\n",
       "      <th>1</th>\n",
       "      <td>45.7</td>\n",
       "      <td>44</td>\n",
       "      <td>41</td>\n",
       "      <td>50</td>\n",
       "      <td>44</td>\n",
       "      <td>61</td>\n",
       "      <td>0</td>\n",
       "      <td>0</td>\n",
       "      <td>1</td>\n",
       "      <td>0</td>\n",
       "      <td>0</td>\n",
       "      <td>0</td>\n",
       "      <td>0</td>\n",
       "    </tr>\n",
       "    <tr>\n",
       "      <th>2</th>\n",
       "      <td>45.8</td>\n",
       "      <td>41</td>\n",
       "      <td>43</td>\n",
       "      <td>46</td>\n",
       "      <td>47</td>\n",
       "      <td>56</td>\n",
       "      <td>0</td>\n",
       "      <td>0</td>\n",
       "      <td>0</td>\n",
       "      <td>1</td>\n",
       "      <td>0</td>\n",
       "      <td>0</td>\n",
       "      <td>0</td>\n",
       "    </tr>\n",
       "    <tr>\n",
       "      <th>3</th>\n",
       "      <td>45.9</td>\n",
       "      <td>40</td>\n",
       "      <td>44</td>\n",
       "      <td>48</td>\n",
       "      <td>46</td>\n",
       "      <td>53</td>\n",
       "      <td>0</td>\n",
       "      <td>1</td>\n",
       "      <td>0</td>\n",
       "      <td>0</td>\n",
       "      <td>0</td>\n",
       "      <td>0</td>\n",
       "      <td>0</td>\n",
       "    </tr>\n",
       "  </tbody>\n",
       "</table>\n",
       "</div>"
      ],
      "text/plain": [
       "   average  actual  forecast_noaa  forecast_acc  forecast_under  friend  \\\n",
       "0     45.6      45             43            50              44      29   \n",
       "1     45.7      44             41            50              44      61   \n",
       "2     45.8      41             43            46              47      56   \n",
       "3     45.9      40             44            48              46      53   \n",
       "\n",
       "   week_Fri  week_Mon  week_Sat  week_Sun  week_Thurs  week_Tues  week_Wed  \n",
       "0         1         0         0         0           0          0         0  \n",
       "1         0         0         1         0           0          0         0  \n",
       "2         0         0         0         1           0          0         0  \n",
       "3         0         1         0         0           0          0         0  "
      ]
     },
     "execution_count": 97,
     "metadata": {},
     "output_type": "execute_result"
    }
   ],
   "source": [
    "# one-hot encoding\n",
    "\n",
    "data = pd.get_dummies(df)\n",
    "\n",
    "data.iloc[:, 5:].head(4)"
   ]
  },
  {
   "cell_type": "code",
   "execution_count": 98,
   "id": "d004c43b",
   "metadata": {},
   "outputs": [],
   "source": [
    "labels = np.array(data['actual'])"
   ]
  },
  {
   "cell_type": "code",
   "execution_count": 99,
   "id": "816e6dbd",
   "metadata": {},
   "outputs": [],
   "source": [
    "data = data.drop('actual', axis = 1)\n",
    "\n",
    "features = list(data.columns)\n",
    "\n",
    "data = np.array(data)"
   ]
  },
  {
   "cell_type": "code",
   "execution_count": 104,
   "id": "6b972a22",
   "metadata": {},
   "outputs": [],
   "source": [
    "# test-train split\n",
    "\n",
    "from sklearn.model_selection import train_test_split\n",
    "\n",
    "train_X, test_X, train_y, test_y = train_test_split(data, labels, test_size=0.25, random_state=42)"
   ]
  },
  {
   "cell_type": "code",
   "execution_count": 105,
   "id": "6a1e4e8d",
   "metadata": {},
   "outputs": [
    {
     "name": "stdout",
     "output_type": "stream",
     "text": [
      "Average baseline error:  5.06\n"
     ]
    }
   ],
   "source": [
    "# setting a baseline for measuring model'sp performance\n",
    "\n",
    "baseline_preds = test_X[:, features.index('average')]\n",
    "\n",
    "baseline_err   = abs(baseline_preds - test_y)\n",
    "\n",
    "print('Average baseline error: ', round(np.mean(baseline_err), 2))"
   ]
  },
  {
   "cell_type": "code",
   "execution_count": 108,
   "id": "275a22d1",
   "metadata": {},
   "outputs": [
    {
     "name": "stdout",
     "output_type": "stream",
     "text": [
      "(261, 17) (261,)\n"
     ]
    }
   ],
   "source": [
    "print(train_X.shape, train_y.shape)"
   ]
  },
  {
   "cell_type": "code",
   "execution_count": 106,
   "id": "0d168bde",
   "metadata": {},
   "outputs": [
    {
     "data": {
      "text/plain": [
       "RandomForestRegressor(n_estimators=1000, random_state=42)"
      ]
     },
     "execution_count": 106,
     "metadata": {},
     "output_type": "execute_result"
    }
   ],
   "source": [
    "# train the model\n",
    "\n",
    "from sklearn.ensemble import RandomForestRegressor\n",
    "\n",
    "rf = RandomForestRegressor(n_estimators=1000, random_state=42)\n",
    "\n",
    "rf.fit(train_X, train_y)"
   ]
  },
  {
   "cell_type": "code",
   "execution_count": 111,
   "id": "cbd4138b",
   "metadata": {},
   "outputs": [],
   "source": [
    "pred = rf.predict(test_X)"
   ]
  },
  {
   "cell_type": "code",
   "execution_count": 112,
   "id": "acd59414",
   "metadata": {},
   "outputs": [
    {
     "name": "stdout",
     "output_type": "stream",
     "text": [
      "Mean Absolute Error : 3.8731954022988506\n",
      "R2 score : 0.7638372120725536\n"
     ]
    }
   ],
   "source": [
    "# evaluate model performance\n",
    "\n",
    "from sklearn.metrics import r2_score, mean_absolute_error\n",
    "\n",
    "print('Mean Absolute Error :', mean_absolute_error(pred, test_y))\n",
    "print('R2 score :', r2_score(pred, test_y))"
   ]
  },
  {
   "cell_type": "code",
   "execution_count": 113,
   "id": "8d056a3b",
   "metadata": {
    "scrolled": true
   },
   "outputs": [
    {
     "name": "stdout",
     "output_type": "stream",
     "text": [
      "OOB score : 0.8232529474711994\n"
     ]
    }
   ],
   "source": [
    "# build a model without train-test-split using Out of Bag Dataset\n",
    "\n",
    "model = RandomForestRegressor(n_estimators=1000, random_state=42, oob_score=True)\n",
    "model.fit(data, labels)\n",
    "print('OOB score :', model.oob_score_)"
   ]
  },
  {
   "cell_type": "markdown",
   "id": "612ef1e7",
   "metadata": {},
   "source": [
    " "
   ]
  },
  {
   "cell_type": "markdown",
   "id": "b552dbfa",
   "metadata": {},
   "source": [
    "### Random Forest Classifier using sklearn"
   ]
  },
  {
   "cell_type": "code",
   "execution_count": 73,
   "id": "b3414608",
   "metadata": {},
   "outputs": [],
   "source": [
    "# import libraries\n",
    "\n",
    "import pandas as pd\n",
    "import numpy as np\n",
    "import matplotlib.pyplot as plt\n",
    "import seaborn as sns\n",
    "%matplotlib inline"
   ]
  },
  {
   "cell_type": "code",
   "execution_count": 34,
   "id": "2684a70e",
   "metadata": {},
   "outputs": [],
   "source": [
    "# import data\n",
    "\n",
    "from sklearn import datasets\n",
    "\n",
    "iris = datasets.load_iris()"
   ]
  },
  {
   "cell_type": "code",
   "execution_count": 35,
   "id": "683caa9e",
   "metadata": {},
   "outputs": [
    {
     "name": "stdout",
     "output_type": "stream",
     "text": [
      "Features : ['sepal length (cm)', 'sepal width (cm)', 'petal length (cm)', 'petal width (cm)']\n",
      "Targets  : ['setosa' 'versicolor' 'virginica']\n"
     ]
    }
   ],
   "source": [
    "print('Features :', iris.feature_names)\n",
    "print('Targets  :', iris.target_names)"
   ]
  },
  {
   "cell_type": "code",
   "execution_count": 42,
   "id": "c95f83e3",
   "metadata": {},
   "outputs": [],
   "source": [
    "data = pd.DataFrame({\n",
    "                     'sepal length':iris.data[:,0],\n",
    "                     'sepal width':iris.data[:,1],\n",
    "                     'petal length':iris.data[:,2],\n",
    "                     'petal width':iris.data[:,3],\n",
    "                     'species':iris.target  })"
   ]
  },
  {
   "cell_type": "code",
   "execution_count": 44,
   "id": "0d16039d",
   "metadata": {},
   "outputs": [
    {
     "data": {
      "text/html": [
       "<div>\n",
       "<style scoped>\n",
       "    .dataframe tbody tr th:only-of-type {\n",
       "        vertical-align: middle;\n",
       "    }\n",
       "\n",
       "    .dataframe tbody tr th {\n",
       "        vertical-align: top;\n",
       "    }\n",
       "\n",
       "    .dataframe thead th {\n",
       "        text-align: right;\n",
       "    }\n",
       "</style>\n",
       "<table border=\"1\" class=\"dataframe\">\n",
       "  <thead>\n",
       "    <tr style=\"text-align: right;\">\n",
       "      <th></th>\n",
       "      <th>sepal length</th>\n",
       "      <th>sepal width</th>\n",
       "      <th>petal length</th>\n",
       "      <th>petal width</th>\n",
       "      <th>species</th>\n",
       "    </tr>\n",
       "  </thead>\n",
       "  <tbody>\n",
       "    <tr>\n",
       "      <th>39</th>\n",
       "      <td>5.1</td>\n",
       "      <td>3.4</td>\n",
       "      <td>1.5</td>\n",
       "      <td>0.2</td>\n",
       "      <td>0</td>\n",
       "    </tr>\n",
       "    <tr>\n",
       "      <th>114</th>\n",
       "      <td>5.8</td>\n",
       "      <td>2.8</td>\n",
       "      <td>5.1</td>\n",
       "      <td>2.4</td>\n",
       "      <td>2</td>\n",
       "    </tr>\n",
       "    <tr>\n",
       "      <th>30</th>\n",
       "      <td>4.8</td>\n",
       "      <td>3.1</td>\n",
       "      <td>1.6</td>\n",
       "      <td>0.2</td>\n",
       "      <td>0</td>\n",
       "    </tr>\n",
       "    <tr>\n",
       "      <th>38</th>\n",
       "      <td>4.4</td>\n",
       "      <td>3.0</td>\n",
       "      <td>1.3</td>\n",
       "      <td>0.2</td>\n",
       "      <td>0</td>\n",
       "    </tr>\n",
       "  </tbody>\n",
       "</table>\n",
       "</div>"
      ],
      "text/plain": [
       "     sepal length  sepal width  petal length  petal width  species\n",
       "39            5.1          3.4           1.5          0.2        0\n",
       "114           5.8          2.8           5.1          2.4        2\n",
       "30            4.8          3.1           1.6          0.2        0\n",
       "38            4.4          3.0           1.3          0.2        0"
      ]
     },
     "execution_count": 44,
     "metadata": {},
     "output_type": "execute_result"
    }
   ],
   "source": [
    "data.sample(4)"
   ]
  },
  {
   "cell_type": "code",
   "execution_count": 45,
   "id": "f1c5b1e8",
   "metadata": {},
   "outputs": [],
   "source": [
    "# since this dataset is known to be already clean, we do not need to perform any data cleanin operations or EDA"
   ]
  },
  {
   "cell_type": "code",
   "execution_count": 55,
   "id": "7c0cb3e9",
   "metadata": {},
   "outputs": [],
   "source": [
    "# train-test split\n",
    "\n",
    "from sklearn.model_selection import train_test_split\n",
    "\n",
    "X, y = data.drop('species', axis=1), data['species']\n",
    "\n",
    "X_train, X_test, y_train, y_test = train_test_split(X, y, test_size=0.25)"
   ]
  },
  {
   "cell_type": "code",
   "execution_count": 56,
   "id": "1f916c06",
   "metadata": {},
   "outputs": [
    {
     "data": {
      "text/plain": [
       "RandomForestClassifier()"
      ]
     },
     "execution_count": 56,
     "metadata": {},
     "output_type": "execute_result"
    }
   ],
   "source": [
    "# model building\n",
    "\n",
    "from sklearn.ensemble import RandomForestClassifier\n",
    "\n",
    "rfc = RandomForestClassifier(n_estimators=100)\n",
    "\n",
    "rfc.fit(X_train, y_train)"
   ]
  },
  {
   "cell_type": "code",
   "execution_count": 62,
   "id": "e05d5e2f",
   "metadata": {},
   "outputs": [],
   "source": [
    "pred = rfc.predict(X_test)"
   ]
  },
  {
   "cell_type": "code",
   "execution_count": 63,
   "id": "ca69a398",
   "metadata": {},
   "outputs": [
    {
     "name": "stdout",
     "output_type": "stream",
     "text": [
      "Accuracy : 1.0\n"
     ]
    }
   ],
   "source": [
    "from sklearn import metrics\n",
    "\n",
    "print(\"Accuracy :\", metrics.accuracy_score(y_test, pred))"
   ]
  },
  {
   "cell_type": "markdown",
   "id": "8a91a43f",
   "metadata": {},
   "source": [
    "### Finding important features in scikit-learn\n",
    "\n",
    "Random forests also offers a good feature selection indicator.<br>\n",
    "Scikit-learn provides an extra variable with the model, which shows the relative importance or contribution of each feature in the prediction.<br>\n",
    "It automatically computes the relevance score of each feature in the training phase. Then it scales the relevance down so that the sum of all scores is 1.\n",
    "\n",
    "- First, you need to create a random forests model\n",
    "- Second, use the feature importance variable to see feature importance scores\n",
    "- Third, visualize these scores using the seaborn library."
   ]
  },
  {
   "cell_type": "code",
   "execution_count": 70,
   "id": "1a3244a1",
   "metadata": {},
   "outputs": [],
   "source": [
    "# using feature_importances_ attribute of Random Forest Classifier object to get importance of each feature\n",
    "\n",
    "feature_imp = pd.Series(rfc.feature_importances_,\n",
    "                        index=iris.feature_names).sort_values(ascending=False)"
   ]
  },
  {
   "cell_type": "code",
   "execution_count": 69,
   "id": "21250554",
   "metadata": {},
   "outputs": [
    {
     "data": {
      "text/plain": [
       "petal length (cm)    0.440752\n",
       "petal width (cm)     0.414443\n",
       "sepal length (cm)    0.099597\n",
       "sepal width (cm)     0.045207\n",
       "dtype: float64"
      ]
     },
     "execution_count": 69,
     "metadata": {},
     "output_type": "execute_result"
    }
   ],
   "source": [
    "feature_imp"
   ]
  },
  {
   "cell_type": "code",
   "execution_count": 75,
   "id": "fa0599ed",
   "metadata": {},
   "outputs": [
    {
     "data": {
      "image/png": "[encoded data removed]",
      "text/plain": [
       "<Figure size 432x288 with 1 Axes>"
      ]
     },
     "metadata": {
      "needs_background": "light"
     },
     "output_type": "display_data"
    }
   ],
   "source": [
    "# visualizing feature importance\n",
    "\n",
    "sns.barplot(x=feature_imp, y=feature_imp.index)\n",
    "plt.xlabel('Feature Importance Score')\n",
    "plt.ylabel('Features')\n",
    "plt.title(\"Visualizing Important Features\")\n",
    "plt.show()"
   ]
  },
  {
   "cell_type": "code",
   "execution_count": 82,
   "id": "41142fb7",
   "metadata": {},
   "outputs": [
    {
     "name": "stdout",
     "output_type": "stream",
     "text": [
      "Accuracy: 0.9523809523809523\n"
     ]
    }
   ],
   "source": [
    "# using this knowledge, generate model using only important features\n",
    "# here, drop 'sepal width' feature\n",
    "\n",
    "X=data[['petal length', 'petal width','sepal length']]  # Removed feature \"sepal length\"\n",
    "y=data['species']                                       \n",
    "\n",
    "X_train, X_test, y_train, y_test = train_test_split(X, y, test_size=0.70, random_state=5) # 70% training and 30% test\n",
    "\n",
    "clf = RandomForestClassifier(n_estimators=100)\n",
    "clf.fit(X_train,y_train)\n",
    "y_pred=clf.predict(X_test)\n",
    "\n",
    "print(\"Accuracy:\",metrics.accuracy_score(y_test, y_pred))"
   ]
  },
  {
   "cell_type": "markdown",
   "id": "3acf1ae4",
   "metadata": {},
   "source": [
    " "
   ]
  },
  {
   "attachments": {},
   "cell_type": "markdown",
   "id": "467f19c2",
   "metadata": {},
   "source": [
    "### Random Forest and Outliers\n",
    "\n",
    "Usually, outliers will have a negligible effect when dealing with Tree based models because the nodes are determined based on the sample proportions in each split region and not on their absolute values. That being said if that dataset is small, it still might have an impact. <br><br>\n",
    "    \n",
    "Random forest handles outliers by essentially binning them. It is also indifferent to non-linear features.<br><br>\n",
    "\n",
    "Random Forest can be used to find Outliers in a dataset by\n",
    "\n",
    "- Create a synthetic dataset of the same size as the original data. This random data set contrasts with the original data by randomly permuting each feature. The two datasets are labeled with two classes (say, “normal” and “random”) and combined\n",
    "- A random forest is built on the dataset. Random Forest classifier can be applied to test data instances\n",
    "- If the predicted class is “random”, then it is identified as an outlier\n",
    "\n",
    "![outlierDetection.png](images/outlierDetection.png)"
   ]
  },
  {
   "attachments": {},
   "cell_type": "markdown",
   "id": "a3b4b812",
   "metadata": {},
   "source": [
    "### Clustering with Random Forest\n",
    "\n",
    "Similar to outlier detection, clustering with random forests saves efforts in feature preprocessing.<br><br>\n",
    "    \n",
    "The procedure is similar to outlier detection. <br>\n",
    "- Create a synthetic dataset of the same size as the original data\n",
    "- Label the original data and synthetic class with two different classes\n",
    "- Build a Random Forest Classifier on combined dataset\n",
    "- From the built random forest, a similarity score between each pair of data instances is extracted. The similarity of two data instances is measured by the percentage of trees where the two data instances appear in the same leaf node\n",
    "- With the similarity scores, clustering algorithms such as hierarchical clustering can then be used for clustering. \n",
    "![clustering.png](images/clustering.png)"
   ]
  },
  {
   "cell_type": "markdown",
   "id": "b517b27d",
   "metadata": {},
   "source": [
    " "
   ]
  }
 ],
 "metadata": {
  "kernelspec": {
   "display_name": "Python 3",
   "language": "python",
   "name": "python3"
  },
  "language_info": {
   "codemirror_mode": {
    "name": "ipython",
    "version": 3
   },
   "file_extension": ".py",
   "mimetype": "text/x-python",
   "name": "python",
   "nbconvert_exporter": "python",
   "pygments_lexer": "ipython3",
   "version": "3.8.8"
  }
 },
 "nbformat": 4,
 "nbformat_minor": 5
}
